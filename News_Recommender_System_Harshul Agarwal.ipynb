{
 "cells": [
  {
   "cell_type": "markdown",
   "metadata": {
    "id": "1qutSAE3o11q"
   },
   "source": [
    "## News  Recommendations System:\n",
    "\n",
    "## Problem Statement:\n",
    "iPrint is an upcoming media house in India that offers media and information services to the people. The company’s business extends across a wide range of media, including news and information services on sports, weather, education, health, research, stocks and healthcare. Over the years, through its online application, iPrint has been efficiently delivering news and information to the common people.  However, with time and technological advancements, several new competitors of iPrint have emerged in the market. Hence, it has decided to begin providing a more personalised experience to its customers.  \n",
    "\n",
    "iPrint wants you as a data scientist to identify and build an appropriate recommendation system .\n",
    "\n",
    "The problem statement can be divided into two parts.\n",
    "- Recommend new top 10 relevant articles to a user when he visits the app at the start of the day\n",
    "- Recommend top 10 similar news articles that match the ones clicked by the user.\n",
    "\n",
    "You have to ensure that the system does not recommend any news article that has been pulled out from the app or has already been seen by the user. In addition, only the articles that are written in the English language must be considered for content-based recommendations. The final generated list must contain the names of the recommended articles, along with their IDs."
   ]
  },
  {
   "cell_type": "markdown",
   "metadata": {
    "id": "wNXWB_Lno111"
   },
   "source": [
    "### Import the required library:"
   ]
  },
  {
   "cell_type": "code",
   "execution_count": 1,
   "metadata": {
    "id": "O8mobg-go113"
   },
   "outputs": [],
   "source": [
    "import numpy as np\n",
    "import pandas as pd\n",
    "import warnings\n",
    "warnings.filterwarnings('ignore')\n",
    "import seaborn as sns\n",
    "import matplotlib.pyplot as plt\n",
    "from nltk.corpus import stopwords\n",
    "from nltk.tokenize import word_tokenize\n",
    "from gensim.corpora.dictionary import Dictionary\n",
    "import string\n",
    "from gensim.models.tfidfmodel import TfidfModel\n",
    "\n",
    "from gensim.similarities import MatrixSimilarity"
   ]
  },
  {
   "cell_type": "markdown",
   "metadata": {
    "id": "WbzeSzXxo116"
   },
   "source": [
    "### Load and Prepare Dataset:"
   ]
  },
  {
   "cell_type": "code",
   "execution_count": 2,
   "metadata": {
    "id": "RcJAWKffo117"
   },
   "outputs": [],
   "source": [
    "consumer_data = pd.read_csv(\"C:\\\\Users\\\\harsh\\\\Downloads\\\\pgdai\\\\capstone\\\\Dataset\\\\data\\\\consumer_transanctions.csv\")\n",
    "content_data= pd.read_csv(\"C:\\\\Users\\\\harsh\\\\Downloads\\\\pgdai\\\\capstone\\\\Dataset\\\\data\\\\platform_content.csv\")"
   ]
  },
  {
   "cell_type": "markdown",
   "metadata": {
    "id": "Z-NykKZQo117"
   },
   "source": [
    "-  [Consumer_transctions.csv]Consumer dataframe is similar to User dataset.\n",
    "\n",
    "---\n",
    "\n",
    "\n",
    "- [platfrom_content.csv ]Content dataframe is similar to item dataset."
   ]
  },
  {
   "cell_type": "markdown",
   "metadata": {
    "id": "gmQKGIXdo118"
   },
   "source": [
    "### Consumer Dataset Exploration :"
   ]
  },
  {
   "cell_type": "code",
   "execution_count": 3,
   "metadata": {
    "colab": {
     "base_uri": "https://localhost:8080/"
    },
    "id": "iZubHksJo119",
    "outputId": "8649dc4e-8ba6-4578-a1ff-1498b1ae58e4"
   },
   "outputs": [
    {
     "data": {
      "text/plain": [
       "Index(['event_timestamp', 'interaction_type', 'item_id', 'consumer_id',\n",
       "       'consumer_session_id', 'consumer_device_info', 'consumer_location',\n",
       "       'country'],\n",
       "      dtype='object')"
      ]
     },
     "execution_count": 3,
     "metadata": {},
     "output_type": "execute_result"
    }
   ],
   "source": [
    "consumer_data.columns # Check columns"
   ]
  },
  {
   "cell_type": "code",
   "execution_count": 4,
   "metadata": {
    "colab": {
     "base_uri": "https://localhost:8080/",
     "height": 206
    },
    "id": "_--wBh-Go11_",
    "outputId": "0224ed7d-28a1-4a6d-dde0-75f33c6808ad",
    "scrolled": true
   },
   "outputs": [
    {
     "data": {
      "text/html": [
       "<div>\n",
       "<style scoped>\n",
       "    .dataframe tbody tr th:only-of-type {\n",
       "        vertical-align: middle;\n",
       "    }\n",
       "\n",
       "    .dataframe tbody tr th {\n",
       "        vertical-align: top;\n",
       "    }\n",
       "\n",
       "    .dataframe thead th {\n",
       "        text-align: right;\n",
       "    }\n",
       "</style>\n",
       "<table border=\"1\" class=\"dataframe\">\n",
       "  <thead>\n",
       "    <tr style=\"text-align: right;\">\n",
       "      <th></th>\n",
       "      <th>event_timestamp</th>\n",
       "      <th>interaction_type</th>\n",
       "      <th>item_id</th>\n",
       "      <th>consumer_id</th>\n",
       "      <th>consumer_session_id</th>\n",
       "      <th>consumer_device_info</th>\n",
       "      <th>consumer_location</th>\n",
       "      <th>country</th>\n",
       "    </tr>\n",
       "  </thead>\n",
       "  <tbody>\n",
       "    <tr>\n",
       "      <th>0</th>\n",
       "      <td>1465413032</td>\n",
       "      <td>content_watched</td>\n",
       "      <td>-3499919498720038879</td>\n",
       "      <td>-8845298781299428018</td>\n",
       "      <td>1264196770339959068</td>\n",
       "      <td>NaN</td>\n",
       "      <td>NaN</td>\n",
       "      <td>NaN</td>\n",
       "    </tr>\n",
       "    <tr>\n",
       "      <th>1</th>\n",
       "      <td>1465412560</td>\n",
       "      <td>content_watched</td>\n",
       "      <td>8890720798209849691</td>\n",
       "      <td>-1032019229384696495</td>\n",
       "      <td>3621737643587579081</td>\n",
       "      <td>Mozilla/5.0 (Macintosh; Intel Mac OS X 10_11_2...</td>\n",
       "      <td>NY</td>\n",
       "      <td>US</td>\n",
       "    </tr>\n",
       "    <tr>\n",
       "      <th>2</th>\n",
       "      <td>1465416190</td>\n",
       "      <td>content_watched</td>\n",
       "      <td>310515487419366995</td>\n",
       "      <td>-1130272294246983140</td>\n",
       "      <td>2631864456530402479</td>\n",
       "      <td>NaN</td>\n",
       "      <td>NaN</td>\n",
       "      <td>NaN</td>\n",
       "    </tr>\n",
       "    <tr>\n",
       "      <th>3</th>\n",
       "      <td>1465413895</td>\n",
       "      <td>content_followed</td>\n",
       "      <td>310515487419366995</td>\n",
       "      <td>344280948527967603</td>\n",
       "      <td>-3167637573980064150</td>\n",
       "      <td>NaN</td>\n",
       "      <td>NaN</td>\n",
       "      <td>NaN</td>\n",
       "    </tr>\n",
       "    <tr>\n",
       "      <th>4</th>\n",
       "      <td>1465412290</td>\n",
       "      <td>content_watched</td>\n",
       "      <td>-7820640624231356730</td>\n",
       "      <td>-445337111692715325</td>\n",
       "      <td>561148 1178424124714</td>\n",
       "      <td>NaN</td>\n",
       "      <td>NaN</td>\n",
       "      <td>NaN</td>\n",
       "    </tr>\n",
       "  </tbody>\n",
       "</table>\n",
       "</div>"
      ],
      "text/plain": [
       "   event_timestamp  interaction_type              item_id  \\\n",
       "0       1465413032   content_watched -3499919498720038879   \n",
       "1       1465412560   content_watched  8890720798209849691   \n",
       "2       1465416190   content_watched   310515487419366995   \n",
       "3       1465413895  content_followed   310515487419366995   \n",
       "4       1465412290   content_watched -7820640624231356730   \n",
       "\n",
       "           consumer_id   consumer_session_id  \\\n",
       "0 -8845298781299428018   1264196770339959068   \n",
       "1 -1032019229384696495   3621737643587579081   \n",
       "2 -1130272294246983140   2631864456530402479   \n",
       "3   344280948527967603  -3167637573980064150   \n",
       "4  -445337111692715325  561148 1178424124714   \n",
       "\n",
       "                                consumer_device_info consumer_location country  \n",
       "0                                                NaN               NaN     NaN  \n",
       "1  Mozilla/5.0 (Macintosh; Intel Mac OS X 10_11_2...                NY      US  \n",
       "2                                                NaN               NaN     NaN  \n",
       "3                                                NaN               NaN     NaN  \n",
       "4                                                NaN               NaN     NaN  "
      ]
     },
     "execution_count": 4,
     "metadata": {},
     "output_type": "execute_result"
    }
   ],
   "source": [
    "consumer_data.head()"
   ]
  },
  {
   "cell_type": "code",
   "execution_count": 5,
   "metadata": {
    "colab": {
     "base_uri": "https://localhost:8080/"
    },
    "id": "9H5Ri3LMo12B",
    "outputId": "dafce5a8-b621-499c-a547-f8b71e5d71be",
    "scrolled": true
   },
   "outputs": [
    {
     "data": {
      "text/plain": [
       "event_timestamp             0\n",
       "interaction_type            0\n",
       "item_id                     0\n",
       "consumer_id                 0\n",
       "consumer_session_id         0\n",
       "consumer_device_info    15394\n",
       "consumer_location       15405\n",
       "country                 15394\n",
       "dtype: int64"
      ]
     },
     "execution_count": 5,
     "metadata": {},
     "output_type": "execute_result"
    }
   ],
   "source": [
    "# Check null values in consumer_data data\n",
    "consumer_data.isnull().sum()"
   ]
  },
  {
   "cell_type": "markdown",
   "metadata": {
    "id": "y6ywCbHno12C"
   },
   "source": [
    "- __Item ID and Consumer ID do not have any null values.__"
   ]
  },
  {
   "cell_type": "code",
   "execution_count": 6,
   "metadata": {
    "colab": {
     "base_uri": "https://localhost:8080/"
    },
    "id": "3W6B-N8ao12C",
    "outputId": "b4a2e0cd-5502-43dc-c465-20ee9337bf3d",
    "scrolled": true
   },
   "outputs": [
    {
     "name": "stdout",
     "output_type": "stream",
     "text": [
      "<class 'pandas.core.frame.DataFrame'>\n",
      "RangeIndex: 72312 entries, 0 to 72311\n",
      "Data columns (total 8 columns):\n",
      " #   Column                Non-Null Count  Dtype \n",
      "---  ------                --------------  ----- \n",
      " 0   event_timestamp       72312 non-null  int64 \n",
      " 1   interaction_type      72312 non-null  object\n",
      " 2   item_id               72312 non-null  int64 \n",
      " 3   consumer_id           72312 non-null  int64 \n",
      " 4   consumer_session_id   72312 non-null  object\n",
      " 5   consumer_device_info  56918 non-null  object\n",
      " 6   consumer_location     56907 non-null  object\n",
      " 7   country               56918 non-null  object\n",
      "dtypes: int64(3), object(5)\n",
      "memory usage: 4.4+ MB\n"
     ]
    }
   ],
   "source": [
    "#Check the metadata consumer transation \n",
    "consumer_data.info()"
   ]
  },
  {
   "cell_type": "code",
   "execution_count": 7,
   "metadata": {
    "id": "QLjMjHY6o12D"
   },
   "outputs": [],
   "source": [
    "#Created Label Encoder for easy interpretation of Consumer ID  and create a new column Consumer Index\n",
    "\n",
    "from sklearn.preprocessing import LabelEncoder\n",
    "le = LabelEncoder()\n",
    "consumer_data[\"consumer_index\"] = le.fit_transform(consumer_data[\"consumer_id\"])"
   ]
  },
  {
   "cell_type": "code",
   "execution_count": 8,
   "metadata": {
    "colab": {
     "base_uri": "https://localhost:8080/",
     "height": 206
    },
    "id": "uiTnNG_Oo12E",
    "outputId": "a75868c1-f2fe-4616-af80-899f5725efc5"
   },
   "outputs": [
    {
     "data": {
      "text/html": [
       "<div>\n",
       "<style scoped>\n",
       "    .dataframe tbody tr th:only-of-type {\n",
       "        vertical-align: middle;\n",
       "    }\n",
       "\n",
       "    .dataframe tbody tr th {\n",
       "        vertical-align: top;\n",
       "    }\n",
       "\n",
       "    .dataframe thead th {\n",
       "        text-align: right;\n",
       "    }\n",
       "</style>\n",
       "<table border=\"1\" class=\"dataframe\">\n",
       "  <thead>\n",
       "    <tr style=\"text-align: right;\">\n",
       "      <th></th>\n",
       "      <th>event_timestamp</th>\n",
       "      <th>interaction_type</th>\n",
       "      <th>item_id</th>\n",
       "      <th>consumer_id</th>\n",
       "      <th>consumer_session_id</th>\n",
       "      <th>consumer_device_info</th>\n",
       "      <th>consumer_location</th>\n",
       "      <th>country</th>\n",
       "      <th>consumer_index</th>\n",
       "    </tr>\n",
       "  </thead>\n",
       "  <tbody>\n",
       "    <tr>\n",
       "      <th>0</th>\n",
       "      <td>1465413032</td>\n",
       "      <td>content_watched</td>\n",
       "      <td>-3499919498720038879</td>\n",
       "      <td>-8845298781299428018</td>\n",
       "      <td>1264196770339959068</td>\n",
       "      <td>NaN</td>\n",
       "      <td>NaN</td>\n",
       "      <td>NaN</td>\n",
       "      <td>33</td>\n",
       "    </tr>\n",
       "    <tr>\n",
       "      <th>1</th>\n",
       "      <td>1465412560</td>\n",
       "      <td>content_watched</td>\n",
       "      <td>8890720798209849691</td>\n",
       "      <td>-1032019229384696495</td>\n",
       "      <td>3621737643587579081</td>\n",
       "      <td>Mozilla/5.0 (Macintosh; Intel Mac OS X 10_11_2...</td>\n",
       "      <td>NY</td>\n",
       "      <td>US</td>\n",
       "      <td>831</td>\n",
       "    </tr>\n",
       "    <tr>\n",
       "      <th>2</th>\n",
       "      <td>1465416190</td>\n",
       "      <td>content_watched</td>\n",
       "      <td>310515487419366995</td>\n",
       "      <td>-1130272294246983140</td>\n",
       "      <td>2631864456530402479</td>\n",
       "      <td>NaN</td>\n",
       "      <td>NaN</td>\n",
       "      <td>NaN</td>\n",
       "      <td>826</td>\n",
       "    </tr>\n",
       "    <tr>\n",
       "      <th>3</th>\n",
       "      <td>1465413895</td>\n",
       "      <td>content_followed</td>\n",
       "      <td>310515487419366995</td>\n",
       "      <td>344280948527967603</td>\n",
       "      <td>-3167637573980064150</td>\n",
       "      <td>NaN</td>\n",
       "      <td>NaN</td>\n",
       "      <td>NaN</td>\n",
       "      <td>974</td>\n",
       "    </tr>\n",
       "    <tr>\n",
       "      <th>4</th>\n",
       "      <td>1465412290</td>\n",
       "      <td>content_watched</td>\n",
       "      <td>-7820640624231356730</td>\n",
       "      <td>-445337111692715325</td>\n",
       "      <td>561148 1178424124714</td>\n",
       "      <td>NaN</td>\n",
       "      <td>NaN</td>\n",
       "      <td>NaN</td>\n",
       "      <td>887</td>\n",
       "    </tr>\n",
       "  </tbody>\n",
       "</table>\n",
       "</div>"
      ],
      "text/plain": [
       "   event_timestamp  interaction_type              item_id  \\\n",
       "0       1465413032   content_watched -3499919498720038879   \n",
       "1       1465412560   content_watched  8890720798209849691   \n",
       "2       1465416190   content_watched   310515487419366995   \n",
       "3       1465413895  content_followed   310515487419366995   \n",
       "4       1465412290   content_watched -7820640624231356730   \n",
       "\n",
       "           consumer_id   consumer_session_id  \\\n",
       "0 -8845298781299428018   1264196770339959068   \n",
       "1 -1032019229384696495   3621737643587579081   \n",
       "2 -1130272294246983140   2631864456530402479   \n",
       "3   344280948527967603  -3167637573980064150   \n",
       "4  -445337111692715325  561148 1178424124714   \n",
       "\n",
       "                                consumer_device_info consumer_location  \\\n",
       "0                                                NaN               NaN   \n",
       "1  Mozilla/5.0 (Macintosh; Intel Mac OS X 10_11_2...                NY   \n",
       "2                                                NaN               NaN   \n",
       "3                                                NaN               NaN   \n",
       "4                                                NaN               NaN   \n",
       "\n",
       "  country  consumer_index  \n",
       "0     NaN              33  \n",
       "1      US             831  \n",
       "2     NaN             826  \n",
       "3     NaN             974  \n",
       "4     NaN             887  "
      ]
     },
     "execution_count": 8,
     "metadata": {},
     "output_type": "execute_result"
    }
   ],
   "source": [
    "consumer_data.head()"
   ]
  },
  {
   "cell_type": "markdown",
   "metadata": {
    "id": "H7mS7lrAo12F"
   },
   "source": [
    "### Rating assignment to column interaction type Catagorical variable \n",
    "- __New column ratings will be created below by imputing interaction_type__."
   ]
  },
  {
   "cell_type": "code",
   "execution_count": 9,
   "metadata": {
    "colab": {
     "base_uri": "https://localhost:8080/"
    },
    "id": "XqaZ4rnMo12G",
    "outputId": "39f04128-56ca-4866-b45c-11ca01703f76"
   },
   "outputs": [
    {
     "data": {
      "text/plain": [
       "array(['content_watched', 'content_followed', 'content_saved',\n",
       "       'content_liked', 'content_commented_on'], dtype=object)"
      ]
     },
     "execution_count": 9,
     "metadata": {},
     "output_type": "execute_result"
    }
   ],
   "source": [
    "#Check no of unique items in interaction type\n",
    "consumer_data[\"interaction_type\"].unique()"
   ]
  },
  {
   "cell_type": "code",
   "execution_count": 10,
   "metadata": {
    "id": "Jz67j8yZo12H"
   },
   "outputs": [],
   "source": [
    "# Map each interacion type to appropriate value as per suggestion\n",
    "\n",
    "rate = {'content_followed':5,\n",
    "        'content_commented_on':4,\n",
    "        'content_saved':3,\n",
    "        'content_liked':2,\n",
    "        'content_watched': 1\n",
    "        }"
   ]
  },
  {
   "cell_type": "code",
   "execution_count": 11,
   "metadata": {
    "id": "o9RSQHnzo12I"
   },
   "outputs": [],
   "source": [
    "# create numeric column ratings from interaction type\n",
    "consumer_data[\"ratings\"] = consumer_data[\"interaction_type\"].map(rate)"
   ]
  },
  {
   "cell_type": "code",
   "execution_count": 12,
   "metadata": {
    "colab": {
     "base_uri": "https://localhost:8080/",
     "height": 206
    },
    "id": "5vc81sZ-o12I",
    "outputId": "060d2142-a536-431a-8ca9-44dfa6423948",
    "scrolled": false
   },
   "outputs": [
    {
     "data": {
      "text/html": [
       "<div>\n",
       "<style scoped>\n",
       "    .dataframe tbody tr th:only-of-type {\n",
       "        vertical-align: middle;\n",
       "    }\n",
       "\n",
       "    .dataframe tbody tr th {\n",
       "        vertical-align: top;\n",
       "    }\n",
       "\n",
       "    .dataframe thead th {\n",
       "        text-align: right;\n",
       "    }\n",
       "</style>\n",
       "<table border=\"1\" class=\"dataframe\">\n",
       "  <thead>\n",
       "    <tr style=\"text-align: right;\">\n",
       "      <th></th>\n",
       "      <th>ratings</th>\n",
       "      <th>interaction_type</th>\n",
       "    </tr>\n",
       "  </thead>\n",
       "  <tbody>\n",
       "    <tr>\n",
       "      <th>0</th>\n",
       "      <td>1</td>\n",
       "      <td>content_watched</td>\n",
       "    </tr>\n",
       "    <tr>\n",
       "      <th>1</th>\n",
       "      <td>1</td>\n",
       "      <td>content_watched</td>\n",
       "    </tr>\n",
       "    <tr>\n",
       "      <th>2</th>\n",
       "      <td>1</td>\n",
       "      <td>content_watched</td>\n",
       "    </tr>\n",
       "    <tr>\n",
       "      <th>3</th>\n",
       "      <td>5</td>\n",
       "      <td>content_followed</td>\n",
       "    </tr>\n",
       "    <tr>\n",
       "      <th>4</th>\n",
       "      <td>1</td>\n",
       "      <td>content_watched</td>\n",
       "    </tr>\n",
       "  </tbody>\n",
       "</table>\n",
       "</div>"
      ],
      "text/plain": [
       "   ratings  interaction_type\n",
       "0        1   content_watched\n",
       "1        1   content_watched\n",
       "2        1   content_watched\n",
       "3        5  content_followed\n",
       "4        1   content_watched"
      ]
     },
     "execution_count": 12,
     "metadata": {},
     "output_type": "execute_result"
    }
   ],
   "source": [
    "# Check the imputed data\n",
    "consumer_data[[\"ratings\",\"interaction_type\"]].head()"
   ]
  },
  {
   "cell_type": "code",
   "execution_count": 13,
   "metadata": {
    "colab": {
     "base_uri": "https://localhost:8080/"
    },
    "id": "yAxRnyJyo12J",
    "outputId": "5308afb4-e89f-41fd-b6aa-5bcc030a7d54"
   },
   "outputs": [
    {
     "data": {
      "text/plain": [
       "content_watched         0.844756\n",
       "content_liked           0.079447\n",
       "content_saved           0.034061\n",
       "content_commented_on    0.022278\n",
       "content_followed        0.019457\n",
       "Name: interaction_type, dtype: float64"
      ]
     },
     "execution_count": 13,
     "metadata": {},
     "output_type": "execute_result"
    }
   ],
   "source": [
    "# Check the percentage distribution of interaction type\n",
    "consumer_data[\"interaction_type\"].value_counts(normalize=True)"
   ]
  },
  {
   "cell_type": "markdown",
   "metadata": {},
   "source": [
    "### EDA"
   ]
  },
  {
   "cell_type": "code",
   "execution_count": 14,
   "metadata": {
    "colab": {
     "base_uri": "https://localhost:8080/",
     "height": 568
    },
    "id": "kbcJv-oco12K",
    "outputId": "71f0078a-1562-4846-eb45-134973d121ed",
    "scrolled": false
   },
   "outputs": [
    {
     "data": {
      "image/png": "[encoded data removed]",
      "text/plain": [
       "<Figure size 576x432 with 1 Axes>"
      ]
     },
     "metadata": {
      "needs_background": "light"
     },
     "output_type": "display_data"
    }
   ],
   "source": [
    "# plot  a BAR grah of the distribution \n",
    "plt.figure(figsize=(8,6))\n",
    "plt.title(\"Consumer interaction type Distributions\",fontsize=18)\n",
    "consumer_data[\"interaction_type\"].value_counts(normalize=True).plot.bar(color=\"green\")\n",
    "plt.tick_params(size=5,labelsize = 15)\n",
    "plt.xticks(rotation = \"vertical\") # xticks are rotated as the visuallization was not clear\n",
    "plt.ylabel(\"Percentages\",fontsize=18)\n",
    "plt.grid(0.3)"
   ]
  },
  {
   "cell_type": "code",
   "execution_count": 15,
   "metadata": {
    "colab": {
     "base_uri": "https://localhost:8080/",
     "height": 395
    },
    "id": "-qaexDQeo12L",
    "outputId": "55b41bae-c7cd-46e9-a50b-a2aa6c8c629b",
    "scrolled": false
   },
   "outputs": [
    {
     "data": {
      "image/png": "[encoded data removed]",
      "text/plain": [
       "<Figure size 576x432 with 1 Axes>"
      ]
     },
     "metadata": {
      "needs_background": "light"
     },
     "output_type": "display_data"
    }
   ],
   "source": [
    "# check ratings data distributions \n",
    "plt.figure(figsize=(8,6))\n",
    "plt.title(\"Consumer interaction type Distributions\",fontsize=18)\n",
    "consumer_data[\"ratings\"].value_counts(normalize=True).plot.bar(color=\"green\")\n",
    "\n",
    "plt.tick_params(size=5,labelsize = 15)\n",
    "plt.xticks(rotation = \"vertical\") # xticks are rotated as the visuallization was not clear\n",
    "plt.ylabel(\"Percentages\",fontsize=18)\n",
    "plt.grid(0.3)"
   ]
  },
  {
   "cell_type": "markdown",
   "metadata": {
    "id": "XHWgWNK-o12M"
   },
   "source": [
    "- __80% of data was rated as 1 --> content watched.__"
   ]
  },
  {
   "cell_type": "code",
   "execution_count": 16,
   "metadata": {
    "colab": {
     "base_uri": "https://localhost:8080/"
    },
    "id": "HbImDPrpo12N",
    "outputId": "0c8893fb-9bd3-4703-e970-30340a0a56c1"
   },
   "outputs": [
    {
     "data": {
      "text/plain": [
       "array([nan, 'NY', 'MG', 'SP', 'RJ', 'GA', 'CA', '?', 'NJ', 'TX', '49',\n",
       "       'MH', 'D', 'PA', 'VA', 'BE', 'AZ', 'IL', 'MI', 'FL', 'ES', 'BW',\n",
       "       'MA', 'PR', 'BC', 'NSW', 'DF', 'C', 'HE', 'ON', 'MS', '13', '11',\n",
       "       'DC', 'NE', 'NC', '33', 'CO', 'LA', 'ENG', 'GO', '14', 'IN', 'CT',\n",
       "       '45', '27', 'WA', 'PE', 'MO', 'MN', 'RS', 'NH', '41', 'SC', 'BA',\n",
       "       'WI', 'RM', 'OK', 'OH', 'CE', 'RI', 'AB', 'R', 'BOL', 'NV', 'OR',\n",
       "       'KS', 'ZH', 'MT', 'QLD', 'PI', 'CL'], dtype=object)"
      ]
     },
     "execution_count": 16,
     "metadata": {},
     "output_type": "execute_result"
    }
   ],
   "source": [
    "#check the location values \n",
    "consumer_data[\"consumer_location\"].unique()"
   ]
  },
  {
   "cell_type": "code",
   "execution_count": 17,
   "metadata": {
    "colab": {
     "base_uri": "https://localhost:8080/"
    },
    "id": "VRQ4O86ao12N",
    "outputId": "07490b36-0f8e-4630-c860-254d6e0726c2"
   },
   "outputs": [
    {
     "data": {
      "text/plain": [
       "SP    0.705783\n",
       "MG    0.179749\n",
       "NY    0.022089\n",
       "TX    0.016219\n",
       "GA    0.015991\n",
       "        ...   \n",
       "R     0.000018\n",
       "CE    0.000018\n",
       "NH    0.000018\n",
       "MN    0.000018\n",
       "CL    0.000018\n",
       "Name: consumer_location, Length: 71, dtype: float64"
      ]
     },
     "execution_count": 17,
     "metadata": {},
     "output_type": "execute_result"
    }
   ],
   "source": [
    "#check the percentage distribution of User Location \n",
    "consumer_data[\"consumer_location\"].value_counts(normalize=True)\n"
   ]
  },
  {
   "cell_type": "code",
   "execution_count": 18,
   "metadata": {
    "colab": {
     "base_uri": "https://localhost:8080/",
     "height": 389
    },
    "id": "yK4hWSz7o12O",
    "outputId": "0c80285f-8fb2-4e1e-ee26-b8b7cfdd7b3c",
    "scrolled": false
   },
   "outputs": [
    {
     "data": {
      "image/png": "[encoded data removed]",
      "text/plain": [
       "<Figure size 1296x360 with 1 Axes>"
      ]
     },
     "metadata": {
      "needs_background": "light"
     },
     "output_type": "display_data"
    }
   ],
   "source": [
    "#Plot the user location with BAR Graph\n",
    "plt.figure(figsize=(18,5))\n",
    "plt.title(\"Consumer Location Distributions\",fontsize=18)\n",
    "consumer_data[\"consumer_location\"].value_counts(normalize=True).plot.bar(color=\"red\")\n",
    "\n",
    "plt.tick_params(size=5,labelsize = 15)\n",
    "plt.xticks(rotation = \"vertical\") # xticks are rotated as the visuallization was not clear\n",
    "plt.ylabel(\"Percentages\",fontsize=18)\n",
    "plt.xlabel(\"Location\",fontsize=18)\n",
    "plt.grid(0.3)"
   ]
  },
  {
   "cell_type": "markdown",
   "metadata": {
    "id": "KvGt91DHo12P"
   },
   "source": [
    "- __SP (sao paulo) has highest percentages of location share.__"
   ]
  },
  {
   "cell_type": "code",
   "execution_count": 19,
   "metadata": {
    "colab": {
     "base_uri": "https://localhost:8080/"
    },
    "id": "oMkYHhuXo12P",
    "outputId": "2d93a02f-662c-4fc9-b73a-a174e504191f",
    "scrolled": false
   },
   "outputs": [
    {
     "data": {
      "text/plain": [
       "BR    0.90\n",
       "US    0.08\n",
       "KR    0.00\n",
       "CA    0.00\n",
       "JP    0.00\n",
       "AU    0.00\n",
       "GB    0.00\n",
       "DE    0.00\n",
       "IE    0.00\n",
       "IS    0.00\n",
       "ZZ    0.00\n",
       "SG    0.00\n",
       "AR    0.00\n",
       "PT    0.00\n",
       "ES    0.00\n",
       "IN    0.00\n",
       "MY    0.00\n",
       "IT    0.00\n",
       "CN    0.00\n",
       "NL    0.00\n",
       "CL    0.00\n",
       "CO    0.00\n",
       "CH    0.00\n",
       "Name: country, dtype: float64"
      ]
     },
     "execution_count": 19,
     "metadata": {},
     "output_type": "execute_result"
    }
   ],
   "source": [
    "# Check the consumer country percentage distributions\n",
    "consumer_data[\"country\"].value_counts(normalize=True).round(2)"
   ]
  },
  {
   "cell_type": "markdown",
   "metadata": {
    "id": "Mlk7Hp2Mo12Q"
   },
   "source": [
    "- __90% of data belongs to country Brazil.__"
   ]
  },
  {
   "cell_type": "code",
   "execution_count": 20,
   "metadata": {
    "colab": {
     "base_uri": "https://localhost:8080/",
     "height": 430
    },
    "id": "6lEM5YUUo12Q",
    "outputId": "5bc86445-8839-418a-cd4d-18d226d32730",
    "scrolled": false
   },
   "outputs": [
    {
     "data": {
      "image/png": "[encoded data removed]",
      "text/plain": [
       "<Figure size 576x432 with 1 Axes>"
      ]
     },
     "metadata": {
      "needs_background": "light"
     },
     "output_type": "display_data"
    }
   ],
   "source": [
    "#plot country percentage distributions\n",
    "plt.figure(figsize=(8,6))\n",
    "plt.title(\"Consumer interaction type Distributions\",fontsize=18) #title\n",
    "consumer_data[\"country\"].value_counts(normalize=True).plot.bar(color=\"red\") \n",
    "plt.tick_params(size=5,labelsize = 15)\n",
    "plt.xticks(rotation = \"vertical\") # xticks are rotated as the visuallization was not clear\n",
    "plt.ylabel(\"Percentages\",fontsize=18)\n",
    "plt.xlabel(\"Country\",fontsize=18)\n",
    "plt.grid(0.3)"
   ]
  },
  {
   "cell_type": "code",
   "execution_count": 21,
   "metadata": {
    "colab": {
     "base_uri": "https://localhost:8080/"
    },
    "id": "fv1YzxG0o12R",
    "outputId": "19b01e6b-34a1-44de-d027-1e12cbda0a9e",
    "scrolled": false
   },
   "outputs": [
    {
     "data": {
      "text/plain": [
       "Android - Native Mobile App                                                                                                                          0.118785\n",
       "Mozilla/5.0 (Windows NT 10.0; WOW64) AppleWebKit/537.36 (KHTML, like Gecko) Chrome/51.0.2704.103 Safari/537.36                                       0.032029\n",
       "Mozilla/5.0 (Windows NT 10.0; WOW64) AppleWebKit/537.36 (KHTML, like Gecko) Chrome/52.0.2743.116 Safari/537.36                                       0.020134\n",
       "Mozilla/5.0 (X11; Linux x86_64) AppleWebKit/537.36 (KHTML, like Gecko) Chrome/52.0.2743.116 Safari/537.36                                            0.018904\n",
       "Mozilla/5.0 (Windows NT 6.1; WOW64) AppleWebKit/537.36 (KHTML, like Gecko) Chrome/51.0.2704.103 Safari/537.36                                        0.018606\n",
       "                                                                                                                                                       ...   \n",
       "Mozilla/5.0 (Windows NT 6.1; WOW64) AppleWebKit/537.36 (KHTML, like Gecko) Chrome/54.0.2832.2 Safari/537.36                                          0.000018\n",
       "Mozilla/5.0 (Macintosh; Intel Mac OS X 10_11_6) AppleWebKit/537.36 (KHTML, like Gecko) Chrome/48.0.2564.48 Safari/537.36                             0.000018\n",
       "Mozilla/5.0 (Macintosh; Intel Mac OS X 10_11_6) AppleWebKit/537.36 (KHTML, like Gecko) Chrome/53.0.2785.46 Safari/537.36                             0.000018\n",
       "Mozilla/5.0 (Windows NT 6.1; Win64; x64) AppleWebKit/537.36 (KHTML, like Gecko) Chrome/53.0.2785.46 Safari/537.36                                    0.000018\n",
       "Mozilla/5.0 (Linux; Android 6.0.1; SAMSUNG-SM-N920A Build/MMB29K) AppleWebKit/537.36 (KHTML, like Gecko) Chrome/55.0.2883.91 Mobile Safari/537.36    0.000018\n",
       "Name: consumer_device_info, Length: 1090, dtype: float64"
      ]
     },
     "execution_count": 21,
     "metadata": {},
     "output_type": "execute_result"
    }
   ],
   "source": [
    "consumer_data[\"consumer_device_info\"].value_counts(normalize=True)"
   ]
  },
  {
   "cell_type": "markdown",
   "metadata": {
    "id": "kXzmnhkao12R"
   },
   "source": [
    " - __12% consumer access the news items via Android native mobile app__."
   ]
  },
  {
   "cell_type": "code",
   "execution_count": 22,
   "metadata": {
    "colab": {
     "base_uri": "https://localhost:8080/"
    },
    "id": "6ynnLoGQo12S",
    "outputId": "d61a9a09-b085-4398-d8a2-d360abec5da1",
    "scrolled": true
   },
   "outputs": [
    {
     "data": {
      "text/plain": [
       "0.6650901648412435"
      ]
     },
     "execution_count": 22,
     "metadata": {},
     "output_type": "execute_result"
    }
   ],
   "source": [
    "# percentange of consumer_data access news via Chrome\n",
    "consumer_data[\"consumer_device_info\"].str.contains(\"Chrome\").sum()/len(consumer_data)"
   ]
  },
  {
   "cell_type": "markdown",
   "metadata": {
    "id": "VtHaGJjKo12S"
   },
   "source": [
    "- __Close to 66% user access new items via Chrome browser.__"
   ]
  },
  {
   "cell_type": "code",
   "execution_count": 23,
   "metadata": {
    "colab": {
     "base_uri": "https://localhost:8080/"
    },
    "id": "iOvb84xco12S",
    "outputId": "47ac5121-b532-4aa5-e5c2-c73941abf755"
   },
   "outputs": [
    {
     "data": {
      "text/plain": [
       "0.6921949330678172"
      ]
     },
     "execution_count": 23,
     "metadata": {},
     "output_type": "execute_result"
    }
   ],
   "source": [
    "consumer_data[\"consumer_device_info\"].str.contains(\"Mozilla\").sum()/len(consumer_data)"
   ]
  },
  {
   "cell_type": "markdown",
   "metadata": {
    "id": "_nXcgY2Zo12T"
   },
   "source": [
    "- __Close to 69% user access new items via Mozilla browser.__"
   ]
  },
  {
   "cell_type": "code",
   "execution_count": 24,
   "metadata": {
    "colab": {
     "base_uri": "https://localhost:8080/"
    },
    "id": "32N9JQzWo12T",
    "outputId": "e70c57a9-df18-4d84-b091-683360ddc4e2"
   },
   "outputs": [
    {
     "data": {
      "text/plain": [
       "0.6770245602389645"
      ]
     },
     "execution_count": 24,
     "metadata": {},
     "output_type": "execute_result"
    }
   ],
   "source": [
    "consumer_data[\"consumer_device_info\"].str.contains(\"AppleWebKit\").sum()/len(consumer_data)"
   ]
  },
  {
   "cell_type": "code",
   "execution_count": 25,
   "metadata": {
    "colab": {
     "base_uri": "https://localhost:8080/"
    },
    "id": "REgfpPsSo12U",
    "outputId": "427f1254-2bf5-4495-96b6-9e7370599d03"
   },
   "outputs": [
    {
     "data": {
      "text/plain": [
       "0.6770245602389645"
      ]
     },
     "execution_count": 25,
     "metadata": {},
     "output_type": "execute_result"
    }
   ],
   "source": [
    "consumer_data[\"consumer_device_info\"].str.contains(\"Safari\").sum()/len(consumer_data)"
   ]
  },
  {
   "cell_type": "markdown",
   "metadata": {
    "id": "oH-uZp5Ro12U"
   },
   "source": [
    "- __From the above analysis, users actually access newitems simultaneouly from different browsers.__\n",
    "- __There is no clear cut interpretation of device info from the data.__ "
   ]
  },
  {
   "cell_type": "markdown",
   "metadata": {
    "id": "Tbv58wF0o12V"
   },
   "source": [
    "## Content Data Exploration:"
   ]
  },
  {
   "cell_type": "code",
   "execution_count": 26,
   "metadata": {
    "colab": {
     "base_uri": "https://localhost:8080/"
    },
    "id": "0iqLjcAno12V",
    "outputId": "e0efcf7b-99f1-42e1-ae2c-1169596f46fd"
   },
   "outputs": [
    {
     "data": {
      "text/plain": [
       "Index(['event_timestamp', 'interaction_type', 'item_id', 'producer_id',\n",
       "       'producer_session_id', 'producer_device_info', 'producer_location',\n",
       "       'producer_country', 'item_type', 'item_url', 'title',\n",
       "       'text_description', 'language'],\n",
       "      dtype='object')"
      ]
     },
     "execution_count": 26,
     "metadata": {},
     "output_type": "execute_result"
    }
   ],
   "source": [
    "content_data.columns #Check content columns"
   ]
  },
  {
   "cell_type": "code",
   "execution_count": 27,
   "metadata": {
    "colab": {
     "base_uri": "https://localhost:8080/",
     "height": 669
    },
    "id": "43EGn74oo12W",
    "outputId": "c6bbac0c-82f9-4d75-aba9-febef83c5a6e",
    "scrolled": false
   },
   "outputs": [
    {
     "data": {
      "text/html": [
       "<div>\n",
       "<style scoped>\n",
       "    .dataframe tbody tr th:only-of-type {\n",
       "        vertical-align: middle;\n",
       "    }\n",
       "\n",
       "    .dataframe tbody tr th {\n",
       "        vertical-align: top;\n",
       "    }\n",
       "\n",
       "    .dataframe thead th {\n",
       "        text-align: right;\n",
       "    }\n",
       "</style>\n",
       "<table border=\"1\" class=\"dataframe\">\n",
       "  <thead>\n",
       "    <tr style=\"text-align: right;\">\n",
       "      <th></th>\n",
       "      <th>event_timestamp</th>\n",
       "      <th>interaction_type</th>\n",
       "      <th>item_id</th>\n",
       "      <th>producer_id</th>\n",
       "      <th>producer_session_id</th>\n",
       "      <th>producer_device_info</th>\n",
       "      <th>producer_location</th>\n",
       "      <th>producer_country</th>\n",
       "      <th>item_type</th>\n",
       "      <th>item_url</th>\n",
       "      <th>title</th>\n",
       "      <th>text_description</th>\n",
       "      <th>language</th>\n",
       "    </tr>\n",
       "  </thead>\n",
       "  <tbody>\n",
       "    <tr>\n",
       "      <th>0</th>\n",
       "      <td>1459192779</td>\n",
       "      <td>content_pulled_out</td>\n",
       "      <td>-6451309518266745024</td>\n",
       "      <td>4340306774493623681</td>\n",
       "      <td>8940341205206233829</td>\n",
       "      <td>NaN</td>\n",
       "      <td>NaN</td>\n",
       "      <td>NaN</td>\n",
       "      <td>HTML</td>\n",
       "      <td>http://www.nytimes.com/2016/03/28/business/dea...</td>\n",
       "      <td>Ethereum, a Virtual Currency, Enables Transact...</td>\n",
       "      <td>All of this work is still very early. The firs...</td>\n",
       "      <td>en</td>\n",
       "    </tr>\n",
       "    <tr>\n",
       "      <th>1</th>\n",
       "      <td>1459193988</td>\n",
       "      <td>content_present</td>\n",
       "      <td>-4110354420726924665</td>\n",
       "      <td>4340306774493623681</td>\n",
       "      <td>8940341205206233829</td>\n",
       "      <td>NaN</td>\n",
       "      <td>NaN</td>\n",
       "      <td>NaN</td>\n",
       "      <td>HTML</td>\n",
       "      <td>http://www.nytimes.com/2016/03/28/business/dea...</td>\n",
       "      <td>Ethereum, a Virtual Currency, Enables Transact...</td>\n",
       "      <td>All of this work is still very early. The firs...</td>\n",
       "      <td>en</td>\n",
       "    </tr>\n",
       "    <tr>\n",
       "      <th>2</th>\n",
       "      <td>1459194146</td>\n",
       "      <td>content_present</td>\n",
       "      <td>-7292285110016212249</td>\n",
       "      <td>4340306774493623681</td>\n",
       "      <td>8940341205206233829</td>\n",
       "      <td>NaN</td>\n",
       "      <td>NaN</td>\n",
       "      <td>NaN</td>\n",
       "      <td>HTML</td>\n",
       "      <td>http://cointelegraph.com/news/bitcoin-future-w...</td>\n",
       "      <td>Bitcoin Future: When GBPcoin of Branson Wins O...</td>\n",
       "      <td>The alarm clock wakes me at 8:00 with stream o...</td>\n",
       "      <td>en</td>\n",
       "    </tr>\n",
       "    <tr>\n",
       "      <th>3</th>\n",
       "      <td>1459194474</td>\n",
       "      <td>content_present</td>\n",
       "      <td>-6151852268067518688</td>\n",
       "      <td>3891637997717104548</td>\n",
       "      <td>-1457532940883382585</td>\n",
       "      <td>NaN</td>\n",
       "      <td>NaN</td>\n",
       "      <td>NaN</td>\n",
       "      <td>HTML</td>\n",
       "      <td>https://cloudplatform.googleblog.com/2016/03/G...</td>\n",
       "      <td>Google Data Center 360° Tour</td>\n",
       "      <td>We're excited to share the Google Data Center ...</td>\n",
       "      <td>en</td>\n",
       "    </tr>\n",
       "    <tr>\n",
       "      <th>4</th>\n",
       "      <td>1459194497</td>\n",
       "      <td>content_present</td>\n",
       "      <td>2448026894306402386</td>\n",
       "      <td>4340306774493623681</td>\n",
       "      <td>8940341205206233829</td>\n",
       "      <td>NaN</td>\n",
       "      <td>NaN</td>\n",
       "      <td>NaN</td>\n",
       "      <td>HTML</td>\n",
       "      <td>https://bitcoinmagazine.com/articles/ibm-wants...</td>\n",
       "      <td>IBM Wants to \"Evolve the Internet\" With Blockc...</td>\n",
       "      <td>The Aite Group projects the blockchain market ...</td>\n",
       "      <td>en</td>\n",
       "    </tr>\n",
       "  </tbody>\n",
       "</table>\n",
       "</div>"
      ],
      "text/plain": [
       "   event_timestamp    interaction_type              item_id  \\\n",
       "0       1459192779  content_pulled_out -6451309518266745024   \n",
       "1       1459193988     content_present -4110354420726924665   \n",
       "2       1459194146     content_present -7292285110016212249   \n",
       "3       1459194474     content_present -6151852268067518688   \n",
       "4       1459194497     content_present  2448026894306402386   \n",
       "\n",
       "           producer_id  producer_session_id producer_device_info  \\\n",
       "0  4340306774493623681  8940341205206233829                  NaN   \n",
       "1  4340306774493623681  8940341205206233829                  NaN   \n",
       "2  4340306774493623681  8940341205206233829                  NaN   \n",
       "3  3891637997717104548 -1457532940883382585                  NaN   \n",
       "4  4340306774493623681  8940341205206233829                  NaN   \n",
       "\n",
       "  producer_location producer_country item_type  \\\n",
       "0               NaN              NaN      HTML   \n",
       "1               NaN              NaN      HTML   \n",
       "2               NaN              NaN      HTML   \n",
       "3               NaN              NaN      HTML   \n",
       "4               NaN              NaN      HTML   \n",
       "\n",
       "                                            item_url  \\\n",
       "0  http://www.nytimes.com/2016/03/28/business/dea...   \n",
       "1  http://www.nytimes.com/2016/03/28/business/dea...   \n",
       "2  http://cointelegraph.com/news/bitcoin-future-w...   \n",
       "3  https://cloudplatform.googleblog.com/2016/03/G...   \n",
       "4  https://bitcoinmagazine.com/articles/ibm-wants...   \n",
       "\n",
       "                                               title  \\\n",
       "0  Ethereum, a Virtual Currency, Enables Transact...   \n",
       "1  Ethereum, a Virtual Currency, Enables Transact...   \n",
       "2  Bitcoin Future: When GBPcoin of Branson Wins O...   \n",
       "3                       Google Data Center 360° Tour   \n",
       "4  IBM Wants to \"Evolve the Internet\" With Blockc...   \n",
       "\n",
       "                                    text_description language  \n",
       "0  All of this work is still very early. The firs...       en  \n",
       "1  All of this work is still very early. The firs...       en  \n",
       "2  The alarm clock wakes me at 8:00 with stream o...       en  \n",
       "3  We're excited to share the Google Data Center ...       en  \n",
       "4  The Aite Group projects the blockchain market ...       en  "
      ]
     },
     "execution_count": 27,
     "metadata": {},
     "output_type": "execute_result"
    }
   ],
   "source": [
    "content_data.head()"
   ]
  },
  {
   "cell_type": "code",
   "execution_count": 28,
   "metadata": {
    "colab": {
     "base_uri": "https://localhost:8080/"
    },
    "id": "ApYR_pP8o12W",
    "outputId": "2206a6c6-4086-405e-ac86-79ba498e6d50",
    "scrolled": true
   },
   "outputs": [
    {
     "data": {
      "text/plain": [
       "event_timestamp            0\n",
       "interaction_type           0\n",
       "item_id                    0\n",
       "producer_id                0\n",
       "producer_session_id        0\n",
       "producer_device_info    2442\n",
       "producer_location       2442\n",
       "producer_country        2442\n",
       "item_type                  0\n",
       "item_url                   0\n",
       "title                      0\n",
       "text_description           0\n",
       "language                   0\n",
       "dtype: int64"
      ]
     },
     "execution_count": 28,
     "metadata": {},
     "output_type": "execute_result"
    }
   ],
   "source": [
    "content_data.isnull().sum() # Check null values"
   ]
  },
  {
   "cell_type": "markdown",
   "metadata": {
    "id": "vdYqBlO6o12X"
   },
   "source": [
    "- __We have null values in producer_device_info, producer_location  and producer_country.__\n",
    "  "
   ]
  },
  {
   "cell_type": "code",
   "execution_count": 29,
   "metadata": {
    "colab": {
     "base_uri": "https://localhost:8080/",
     "height": 35
    },
    "id": "z4y8dB0vo12X",
    "outputId": "db619e36-b893-4f28-cd03-7a25bc0ddcbe"
   },
   "outputs": [
    {
     "data": {
      "text/plain": [
       "'IEEE to Talk Blockchain at Cloud Computing Oxford-Con - CoinDesk'"
      ]
     },
     "execution_count": 29,
     "metadata": {},
     "output_type": "execute_result"
    }
   ],
   "source": [
    "content_data[\"title\"].loc[5] # check  title it looks"
   ]
  },
  {
   "cell_type": "code",
   "execution_count": 30,
   "metadata": {
    "colab": {
     "base_uri": "https://localhost:8080/"
    },
    "id": "Z7N-ts04o12Y",
    "outputId": "f809cad5-3fbc-4935-ec34-2f2ae051eb97"
   },
   "outputs": [
    {
     "name": "stdout",
     "output_type": "stream",
     "text": [
      "<class 'pandas.core.frame.DataFrame'>\n",
      "RangeIndex: 3122 entries, 0 to 3121\n",
      "Data columns (total 13 columns):\n",
      " #   Column                Non-Null Count  Dtype \n",
      "---  ------                --------------  ----- \n",
      " 0   event_timestamp       3122 non-null   int64 \n",
      " 1   interaction_type      3122 non-null   object\n",
      " 2   item_id               3122 non-null   int64 \n",
      " 3   producer_id           3122 non-null   int64 \n",
      " 4   producer_session_id   3122 non-null   int64 \n",
      " 5   producer_device_info  680 non-null    object\n",
      " 6   producer_location     680 non-null    object\n",
      " 7   producer_country      680 non-null    object\n",
      " 8   item_type             3122 non-null   object\n",
      " 9   item_url              3122 non-null   object\n",
      " 10  title                 3122 non-null   object\n",
      " 11  text_description      3122 non-null   object\n",
      " 12  language              3122 non-null   object\n",
      "dtypes: int64(4), object(9)\n",
      "memory usage: 317.2+ KB\n"
     ]
    }
   ],
   "source": [
    "content_data.info() # Metadata Check"
   ]
  },
  {
   "cell_type": "code",
   "execution_count": 31,
   "metadata": {
    "colab": {
     "base_uri": "https://localhost:8080/"
    },
    "id": "3flhr7PDo12Z",
    "outputId": "12216cc5-05ba-4db1-a3ab-78e95b826a24"
   },
   "outputs": [
    {
     "data": {
      "text/plain": [
       "array(['content_pulled_out', 'content_present'], dtype=object)"
      ]
     },
     "execution_count": 31,
     "metadata": {},
     "output_type": "execute_result"
    }
   ],
   "source": [
    "content_data.interaction_type.unique() # Check the interaction type column in content_data dataset"
   ]
  },
  {
   "cell_type": "code",
   "execution_count": 32,
   "metadata": {
    "colab": {
     "base_uri": "https://localhost:8080/"
    },
    "id": "59WcYWG6o12Z",
    "outputId": "d229add7-0744-4cc7-ce31-526cfe209846"
   },
   "outputs": [
    {
     "data": {
      "text/plain": [
       "3122"
      ]
     },
     "execution_count": 32,
     "metadata": {},
     "output_type": "execute_result"
    }
   ],
   "source": [
    "len(content_data) # no of entries in content_data column"
   ]
  },
  {
   "cell_type": "code",
   "execution_count": 33,
   "metadata": {
    "colab": {
     "base_uri": "https://localhost:8080/",
     "height": 426
    },
    "id": "P785G2SGo12a",
    "outputId": "960fd366-703d-4231-9b74-aac6266848e6",
    "scrolled": false
   },
   "outputs": [
    {
     "data": {
      "image/png": "[encoded data removed]",
      "text/plain": [
       "<Figure size 576x432 with 1 Axes>"
      ]
     },
     "metadata": {
      "needs_background": "light"
     },
     "output_type": "display_data"
    }
   ],
   "source": [
    "## Check the language distributions in news content_data\n",
    "\n",
    "plt.figure(figsize=(8,6))\n",
    "plt.title(\"Content Language type Distributions\",fontsize=18)\n",
    "content_data[\"language\"].value_counts(normalize=True).plot.bar()\n",
    "plt.tick_params(size=5,labelsize = 15)\n",
    "plt.xticks(rotation = \"vertical\") # xticks are rotated as the visuallization was not clear\n",
    "plt.ylabel(\"Percentages\",fontsize=18)\n",
    "plt.xlabel(\"Language\",fontsize=18)\n",
    "plt.grid(0.3)"
   ]
  },
  {
   "cell_type": "markdown",
   "metadata": {
    "id": "kl2Dfzo-o12a"
   },
   "source": [
    " - __72% data belongs to english contents.__"
   ]
  },
  {
   "cell_type": "code",
   "execution_count": 34,
   "metadata": {
    "colab": {
     "base_uri": "https://localhost:8080/",
     "height": 265
    },
    "id": "MyLrGhDxo12b",
    "outputId": "fc7f3a7f-017f-4ea2-e4ea-6e7e457f57c9"
   },
   "outputs": [
    {
     "data": {
      "text/plain": [
       "<AxesSubplot:ylabel='language'>"
      ]
     },
     "execution_count": 34,
     "metadata": {},
     "output_type": "execute_result"
    },
    {
     "data": {
      "image/png": "[encoded data removed]",
      "text/plain": [
       "<Figure size 432x288 with 1 Axes>"
      ]
     },
     "metadata": {},
     "output_type": "display_data"
    }
   ],
   "source": [
    "content_data[\"language\"].value_counts(normalize=True).plot.pie() # language percentages distributions"
   ]
  },
  {
   "cell_type": "markdown",
   "metadata": {
    "id": "8mOwjSG1o12c"
   },
   "source": [
    "### Filtered the English News Contents"
   ]
  },
  {
   "cell_type": "code",
   "execution_count": 35,
   "metadata": {
    "id": "9jMH86wfo12c"
   },
   "outputs": [],
   "source": [
    "english_content = content_data[content_data[\"language\"]==\"en\"]"
   ]
  },
  {
   "cell_type": "code",
   "execution_count": 36,
   "metadata": {
    "colab": {
     "base_uri": "https://localhost:8080/"
    },
    "id": "vjuHJbbQo12d",
    "outputId": "db1e5d3e-78b9-4e75-904c-5d372305470a",
    "scrolled": true
   },
   "outputs": [
    {
     "data": {
      "text/plain": [
       "2264"
      ]
     },
     "execution_count": 36,
     "metadata": {},
     "output_type": "execute_result"
    }
   ],
   "source": [
    "len(english_content)"
   ]
  },
  {
   "cell_type": "code",
   "execution_count": 37,
   "metadata": {
    "id": "DlfnKAb4o12d"
   },
   "outputs": [],
   "source": [
    "# Label Encoding of Item ID in english content and Consumer content.\n",
    "\n",
    "le_item = LabelEncoder()\n",
    "english_content[\"item_index\"] = le_item.fit_transform(english_content[\"item_id\"])\n",
    "\n",
    "consumer_data[\"item_index\"] = le_item.fit_transform(consumer_data[\"item_id\"])\n",
    "\n"
   ]
  },
  {
   "cell_type": "code",
   "execution_count": 38,
   "metadata": {
    "colab": {
     "base_uri": "https://localhost:8080/",
     "height": 206
    },
    "id": "_wHvPx1Jo12e",
    "outputId": "8f8f50e3-db31-4e31-b440-93376000ba00"
   },
   "outputs": [
    {
     "data": {
      "text/html": [
       "<div>\n",
       "<style scoped>\n",
       "    .dataframe tbody tr th:only-of-type {\n",
       "        vertical-align: middle;\n",
       "    }\n",
       "\n",
       "    .dataframe tbody tr th {\n",
       "        vertical-align: top;\n",
       "    }\n",
       "\n",
       "    .dataframe thead th {\n",
       "        text-align: right;\n",
       "    }\n",
       "</style>\n",
       "<table border=\"1\" class=\"dataframe\">\n",
       "  <thead>\n",
       "    <tr style=\"text-align: right;\">\n",
       "      <th></th>\n",
       "      <th>event_timestamp</th>\n",
       "      <th>interaction_type</th>\n",
       "      <th>item_id</th>\n",
       "      <th>consumer_id</th>\n",
       "      <th>consumer_session_id</th>\n",
       "      <th>consumer_device_info</th>\n",
       "      <th>consumer_location</th>\n",
       "      <th>country</th>\n",
       "      <th>consumer_index</th>\n",
       "      <th>ratings</th>\n",
       "      <th>item_index</th>\n",
       "    </tr>\n",
       "  </thead>\n",
       "  <tbody>\n",
       "    <tr>\n",
       "      <th>0</th>\n",
       "      <td>1465413032</td>\n",
       "      <td>content_watched</td>\n",
       "      <td>-3499919498720038879</td>\n",
       "      <td>-8845298781299428018</td>\n",
       "      <td>1264196770339959068</td>\n",
       "      <td>NaN</td>\n",
       "      <td>NaN</td>\n",
       "      <td>NaN</td>\n",
       "      <td>33</td>\n",
       "      <td>1</td>\n",
       "      <td>933</td>\n",
       "    </tr>\n",
       "    <tr>\n",
       "      <th>1</th>\n",
       "      <td>1465412560</td>\n",
       "      <td>content_watched</td>\n",
       "      <td>8890720798209849691</td>\n",
       "      <td>-1032019229384696495</td>\n",
       "      <td>3621737643587579081</td>\n",
       "      <td>Mozilla/5.0 (Macintosh; Intel Mac OS X 10_11_2...</td>\n",
       "      <td>NY</td>\n",
       "      <td>US</td>\n",
       "      <td>831</td>\n",
       "      <td>1</td>\n",
       "      <td>2933</td>\n",
       "    </tr>\n",
       "    <tr>\n",
       "      <th>2</th>\n",
       "      <td>1465416190</td>\n",
       "      <td>content_watched</td>\n",
       "      <td>310515487419366995</td>\n",
       "      <td>-1130272294246983140</td>\n",
       "      <td>2631864456530402479</td>\n",
       "      <td>NaN</td>\n",
       "      <td>NaN</td>\n",
       "      <td>NaN</td>\n",
       "      <td>826</td>\n",
       "      <td>1</td>\n",
       "      <td>1537</td>\n",
       "    </tr>\n",
       "    <tr>\n",
       "      <th>3</th>\n",
       "      <td>1465413895</td>\n",
       "      <td>content_followed</td>\n",
       "      <td>310515487419366995</td>\n",
       "      <td>344280948527967603</td>\n",
       "      <td>-3167637573980064150</td>\n",
       "      <td>NaN</td>\n",
       "      <td>NaN</td>\n",
       "      <td>NaN</td>\n",
       "      <td>974</td>\n",
       "      <td>5</td>\n",
       "      <td>1537</td>\n",
       "    </tr>\n",
       "    <tr>\n",
       "      <th>4</th>\n",
       "      <td>1465412290</td>\n",
       "      <td>content_watched</td>\n",
       "      <td>-7820640624231356730</td>\n",
       "      <td>-445337111692715325</td>\n",
       "      <td>561148 1178424124714</td>\n",
       "      <td>NaN</td>\n",
       "      <td>NaN</td>\n",
       "      <td>NaN</td>\n",
       "      <td>887</td>\n",
       "      <td>1</td>\n",
       "      <td>246</td>\n",
       "    </tr>\n",
       "  </tbody>\n",
       "</table>\n",
       "</div>"
      ],
      "text/plain": [
       "   event_timestamp  interaction_type              item_id  \\\n",
       "0       1465413032   content_watched -3499919498720038879   \n",
       "1       1465412560   content_watched  8890720798209849691   \n",
       "2       1465416190   content_watched   310515487419366995   \n",
       "3       1465413895  content_followed   310515487419366995   \n",
       "4       1465412290   content_watched -7820640624231356730   \n",
       "\n",
       "           consumer_id   consumer_session_id  \\\n",
       "0 -8845298781299428018   1264196770339959068   \n",
       "1 -1032019229384696495   3621737643587579081   \n",
       "2 -1130272294246983140   2631864456530402479   \n",
       "3   344280948527967603  -3167637573980064150   \n",
       "4  -445337111692715325  561148 1178424124714   \n",
       "\n",
       "                                consumer_device_info consumer_location  \\\n",
       "0                                                NaN               NaN   \n",
       "1  Mozilla/5.0 (Macintosh; Intel Mac OS X 10_11_2...                NY   \n",
       "2                                                NaN               NaN   \n",
       "3                                                NaN               NaN   \n",
       "4                                                NaN               NaN   \n",
       "\n",
       "  country  consumer_index  ratings  item_index  \n",
       "0     NaN              33        1         933  \n",
       "1      US             831        1        2933  \n",
       "2     NaN             826        1        1537  \n",
       "3     NaN             974        5        1537  \n",
       "4     NaN             887        1         246  "
      ]
     },
     "execution_count": 38,
     "metadata": {},
     "output_type": "execute_result"
    }
   ],
   "source": [
    "consumer_data.head()"
   ]
  },
  {
   "cell_type": "code",
   "execution_count": 39,
   "metadata": {
    "colab": {
     "base_uri": "https://localhost:8080/"
    },
    "id": "z8IGwFj2o12e",
    "outputId": "08223965-79fe-45c2-d144-e05466dfda12"
   },
   "outputs": [
    {
     "data": {
      "text/plain": [
       "2218"
      ]
     },
     "execution_count": 39,
     "metadata": {},
     "output_type": "execute_result"
    }
   ],
   "source": [
    "#Verify if label encoding encoded correctly by comparing item id and item index\n",
    "english_content[\"item_id\"].nunique()\n"
   ]
  },
  {
   "cell_type": "code",
   "execution_count": 40,
   "metadata": {
    "colab": {
     "base_uri": "https://localhost:8080/"
    },
    "id": "yFsIvWbWo12f",
    "outputId": "22032f50-823d-4091-a0f7-d09b64723bfb"
   },
   "outputs": [
    {
     "data": {
      "text/plain": [
       "2218"
      ]
     },
     "execution_count": 40,
     "metadata": {},
     "output_type": "execute_result"
    }
   ],
   "source": [
    "english_content[\"item_index\"].nunique()"
   ]
  },
  {
   "cell_type": "code",
   "execution_count": 41,
   "metadata": {
    "colab": {
     "base_uri": "https://localhost:8080/"
    },
    "id": "A9WSikDxo12g",
    "outputId": "90984c66-734a-490b-c4f5-ab9fde5e006c"
   },
   "outputs": [
    {
     "data": {
      "text/plain": [
       "2987"
      ]
     },
     "execution_count": 41,
     "metadata": {},
     "output_type": "execute_result"
    }
   ],
   "source": [
    "# Similarly check consumer item id and consumer item index\n",
    "consumer_data[\"item_id\"].nunique()"
   ]
  },
  {
   "cell_type": "code",
   "execution_count": 42,
   "metadata": {
    "colab": {
     "base_uri": "https://localhost:8080/"
    },
    "id": "MxLhzo9-o12g",
    "outputId": "76d55ed5-9afc-4351-ced5-646f37e93cf9",
    "scrolled": false
   },
   "outputs": [
    {
     "data": {
      "text/plain": [
       "2987"
      ]
     },
     "execution_count": 42,
     "metadata": {},
     "output_type": "execute_result"
    }
   ],
   "source": [
    "consumer_data[\"item_index\"].nunique()"
   ]
  },
  {
   "cell_type": "code",
   "execution_count": 43,
   "metadata": {
    "colab": {
     "base_uri": "https://localhost:8080/"
    },
    "id": "acfGmj9Uo12h",
    "outputId": "70f374c5-e962-4a3b-eb83-fc66660c2d37"
   },
   "outputs": [
    {
     "data": {
      "text/plain": [
       "1895"
      ]
     },
     "execution_count": 43,
     "metadata": {},
     "output_type": "execute_result"
    }
   ],
   "source": [
    "consumer_data[\"consumer_id\"].nunique()"
   ]
  },
  {
   "cell_type": "markdown",
   "metadata": {
    "id": "35FwjVX7o12i"
   },
   "source": [
    "- __Consumer dataset has 2987 unique items.__ \n",
    "- __English Content dataset has 2218 unique items.__ \n",
    "- __Consumer dataset has 1895 unique users.__ "
   ]
  },
  {
   "cell_type": "markdown",
   "metadata": {
    "id": "EPMWhVpyo12i"
   },
   "source": [
    "### Verify if  index is correct   in consumer and content data:"
   ]
  },
  {
   "cell_type": "code",
   "execution_count": 44,
   "metadata": {
    "id": "bIPumsyko12j"
   },
   "outputs": [],
   "source": [
    "set_consumer = set(consumer_data.item_id.unique())"
   ]
  },
  {
   "cell_type": "code",
   "execution_count": 45,
   "metadata": {
    "id": "XPIRh6Vco12j"
   },
   "outputs": [],
   "source": [
    "set_content = set(english_content.item_id.unique())"
   ]
  },
  {
   "cell_type": "code",
   "execution_count": 46,
   "metadata": {
    "colab": {
     "base_uri": "https://localhost:8080/"
    },
    "id": "vLElgbjuo12k",
    "outputId": "00a85978-77b8-4371-8800-129872fd9f65"
   },
   "outputs": [
    {
     "data": {
      "text/plain": [
       "2154"
      ]
     },
     "execution_count": 46,
     "metadata": {},
     "output_type": "execute_result"
    }
   ],
   "source": [
    "len(set_consumer & set_content)"
   ]
  },
  {
   "cell_type": "code",
   "execution_count": 47,
   "metadata": {
    "colab": {
     "base_uri": "https://localhost:8080/"
    },
    "id": "nj4NWtG1o12k",
    "outputId": "5618b1ee-7e1c-4861-da5e-c0b45f495f78"
   },
   "outputs": [
    {
     "data": {
      "text/plain": [
       "833"
      ]
     },
     "execution_count": 47,
     "metadata": {},
     "output_type": "execute_result"
    }
   ],
   "source": [
    "len(set_consumer.difference(set_content))"
   ]
  },
  {
   "cell_type": "code",
   "execution_count": 48,
   "metadata": {
    "colab": {
     "base_uri": "https://localhost:8080/"
    },
    "id": "Y6wt29nUo12l",
    "outputId": "8962bc1e-d168-4525-fba5-752a83cad6fb"
   },
   "outputs": [
    {
     "data": {
      "text/plain": [
       "769"
      ]
     },
     "execution_count": 48,
     "metadata": {},
     "output_type": "execute_result"
    }
   ],
   "source": [
    "2987-2218"
   ]
  },
  {
   "cell_type": "code",
   "execution_count": 49,
   "metadata": {
    "colab": {
     "base_uri": "https://localhost:8080/"
    },
    "id": "MCuMXzNho12l",
    "outputId": "137fedb9-9a7d-4e82-bc7b-88f00b3ec07d"
   },
   "outputs": [
    {
     "data": {
      "text/plain": [
       "64"
      ]
     },
     "execution_count": 49,
     "metadata": {},
     "output_type": "execute_result"
    }
   ],
   "source": [
    "len(set_content.difference(set_consumer))"
   ]
  },
  {
   "cell_type": "markdown",
   "metadata": {
    "id": "Btn2MA-Co12m"
   },
   "source": [
    "- __769 items are not available in english content data.__"
   ]
  },
  {
   "cell_type": "markdown",
   "metadata": {
    "id": "6jYWWv0Mo12n"
   },
   "source": [
    "### Explore English Content:"
   ]
  },
  {
   "cell_type": "code",
   "execution_count": 50,
   "metadata": {
    "colab": {
     "base_uri": "https://localhost:8080/"
    },
    "id": "f-sMyuvzo12n",
    "outputId": "22e3bef8-5913-40a5-a819-b1172c0ed7bb",
    "scrolled": true
   },
   "outputs": [
    {
     "data": {
      "text/plain": [
       "HTML     0.994700\n",
       "VIDEO    0.003092\n",
       "RICH     0.002208\n",
       "Name: item_type, dtype: float64"
      ]
     },
     "execution_count": 50,
     "metadata": {},
     "output_type": "execute_result"
    }
   ],
   "source": [
    "english_content[\"item_type\"].value_counts(normalize=True) #check percentage distributions of item type"
   ]
  },
  {
   "cell_type": "markdown",
   "metadata": {
    "id": "dDSVAkxgo12o"
   },
   "source": [
    "- __all most all of the contents are html type.__"
   ]
  },
  {
   "cell_type": "code",
   "execution_count": 51,
   "metadata": {
    "colab": {
     "base_uri": "https://localhost:8080/",
     "height": 455
    },
    "id": "j_DrLlvlo12p",
    "outputId": "1c661298-40ac-4c16-c8b9-5f75ff55653d"
   },
   "outputs": [
    {
     "data": {
      "image/png": "[encoded data removed]",
      "text/plain": [
       "<Figure size 576x432 with 1 Axes>"
      ]
     },
     "metadata": {
      "needs_background": "light"
     },
     "output_type": "display_data"
    }
   ],
   "source": [
    "plt.figure(figsize=(8,6))\n",
    "plt.title(\"Item Type\",fontsize=18)\n",
    "english_content[\"item_type\"].value_counts(normalize=True).plot.bar()\n",
    "plt.tick_params(size=5,labelsize = 15)\n",
    "plt.xticks(rotation = \"vertical\") # xticks are rotated as the visuallization was not clear\n",
    "plt.ylabel(\"Percentages\",fontsize=18)\n",
    "plt.xlabel(\"Item Type\",fontsize=18)\n",
    "plt.grid(0.3)"
   ]
  },
  {
   "cell_type": "code",
   "execution_count": 52,
   "metadata": {
    "colab": {
     "base_uri": "https://localhost:8080/"
    },
    "id": "6Aqt-trIo12q",
    "outputId": "2b80a52b-86fe-4455-9c64-5c8057878c02"
   },
   "outputs": [
    {
     "data": {
      "text/plain": [
       "BR    0.90\n",
       "US    0.09\n",
       "CA    0.01\n",
       "AU    0.00\n",
       "PT    0.00\n",
       "Name: producer_country, dtype: float64"
      ]
     },
     "execution_count": 52,
     "metadata": {},
     "output_type": "execute_result"
    }
   ],
   "source": [
    "# Country wise percentages of news content\n",
    "content_data[\"producer_country\"].value_counts(normalize=True).round(2)\n",
    "\n"
   ]
  },
  {
   "cell_type": "code",
   "execution_count": 53,
   "metadata": {
    "colab": {
     "base_uri": "https://localhost:8080/",
     "height": 429
    },
    "id": "7ICSOmUYo12q",
    "outputId": "4c15b93e-66bf-4288-ba9c-4a1b697e455d",
    "scrolled": false
   },
   "outputs": [
    {
     "data": {
      "image/png": "[encoded data removed]",
      "text/plain": [
       "<Figure size 576x432 with 1 Axes>"
      ]
     },
     "metadata": {
      "needs_background": "light"
     },
     "output_type": "display_data"
    }
   ],
   "source": [
    "#Country wise percentages of news content with bar plot\n",
    "# content[\"producer_country\"].value_counts(normalize=True).round(2).plot.bar()\n",
    "plt.figure(figsize=(8,6))\n",
    "plt.title(\"Producer Country Distributions\",fontsize=18)\n",
    "content_data[\"producer_country\"].value_counts(normalize=True).round(2).plot.bar()\n",
    "plt.tick_params(size=5,labelsize = 15)\n",
    "plt.xticks(rotation = \"vertical\") # xticks are rotated as the visuallization was not clear\n",
    "plt.ylabel(\"Percentages\",fontsize=18)\n",
    "plt.xlabel(\"Producer Country\",fontsize=18)\n",
    "plt.grid(0.3)"
   ]
  },
  {
   "cell_type": "markdown",
   "metadata": {
    "id": "yQZwOtiMo12r"
   },
   "source": [
    "- __90% contents are generated from country Brazil.__"
   ]
  },
  {
   "cell_type": "code",
   "execution_count": 54,
   "metadata": {
    "colab": {
     "base_uri": "https://localhost:8080/"
    },
    "id": "uj0Arm33o12r",
    "outputId": "99dab4a4-2a67-4f5b-fc79-34154e15805c"
   },
   "outputs": [
    {
     "data": {
      "text/plain": [
       "SP     0.783824\n",
       "MG     0.110294\n",
       "NY     0.029412\n",
       "NJ     0.023529\n",
       "GA     0.010294\n",
       "IL     0.008824\n",
       "ON     0.005882\n",
       "RJ     0.005882\n",
       "NSW    0.002941\n",
       "TX     0.002941\n",
       "?      0.002941\n",
       "SC     0.002941\n",
       "RI     0.001471\n",
       "AB     0.001471\n",
       "FL     0.001471\n",
       "13     0.001471\n",
       "WA     0.001471\n",
       "CA     0.001471\n",
       "MS     0.001471\n",
       "Name: producer_location, dtype: float64"
      ]
     },
     "execution_count": 54,
     "metadata": {},
     "output_type": "execute_result"
    }
   ],
   "source": [
    "# location wise  percentages of news content\n",
    "content_data[\"producer_location\"].value_counts(normalize=True)"
   ]
  },
  {
   "cell_type": "code",
   "execution_count": 55,
   "metadata": {
    "colab": {
     "base_uri": "https://localhost:8080/",
     "height": 443
    },
    "id": "snsAEgxTo12s",
    "outputId": "c4dacf3e-db1c-457e-888b-587080a7a6ae",
    "scrolled": false
   },
   "outputs": [
    {
     "data": {
      "image/png": "[encoded data removed]",
      "text/plain": [
       "<Figure size 576x432 with 1 Axes>"
      ]
     },
     "metadata": {
      "needs_background": "light"
     },
     "output_type": "display_data"
    }
   ],
   "source": [
    "# location wise  percentages of news content with BAR graph\n",
    "# content[\"producer_location\"].value_counts(normalize=True).round(2).plot.bar()\n",
    "\n",
    "\n",
    "plt.figure(figsize=(8,6))\n",
    "plt.title(\"Producer Location Distributions\",fontsize=18)\n",
    "content_data[\"producer_location\"].value_counts(normalize=True).round(2).plot.bar()\n",
    "plt.tick_params(size=5,labelsize = 15)\n",
    "plt.xticks(rotation = \"vertical\") # xticks are rotated as the visuallization was not clear\n",
    "plt.ylabel(\"Percentages\",fontsize=18)\n",
    "plt.xlabel(\"Producer Location\",fontsize=18)\n",
    "plt.grid(0.3)"
   ]
  },
  {
   "cell_type": "markdown",
   "metadata": {
    "id": "ZkGjGLfko12s"
   },
   "source": [
    "- __78% content are produced in SP( SAO PAULO) in Brazil.__"
   ]
  },
  {
   "cell_type": "code",
   "execution_count": 56,
   "metadata": {
    "colab": {
     "base_uri": "https://localhost:8080/"
    },
    "id": "-FTTeJJ-o12t",
    "outputId": "db154859-0733-4d7b-a871-cc31dda7e728",
    "scrolled": false
   },
   "outputs": [
    {
     "data": {
      "text/plain": [
       "array([nan,\n",
       "       'Mozilla/5.0 (Windows NT 10.0; WOW64) AppleWebKit/537.36 (KHTML, like Gecko) Chrome/53.0.2785.101 Safari/537.36',\n",
       "       'Mozilla/5.0 (Windows NT 10.0; WOW64) AppleWebKit/537.36 (KHTML, like Gecko) Chrome/53.0.2785.116 Safari/537.36',\n",
       "       'Mozilla/5.0 (Macintosh; Intel Mac OS X 10_11_6) AppleWebKit/602.1.50 (KHTML, like Gecko) Version/10.0 Safari/602.1.50',\n",
       "       'Mozilla/5.0 (X11; Linux x86_64) AppleWebKit/537.36 (KHTML, like Gecko) Chrome/50.0.2661.75 Safari/537.36',\n",
       "       'Android - Native Mobile App',\n",
       "       'Mozilla/5.0 (Macintosh; Intel Mac OS X 10_12_1) AppleWebKit/602.2.11 (KHTML, like Gecko) Version/10.0.1 Safari/602.2.11',\n",
       "       'Mozilla/5.0 (X11; Linux x86_64) AppleWebKit/537.36 (KHTML, like Gecko) Chrome/52.0.2743.82 Safari/537.36',\n",
       "       'Mozilla/5.0 (Macintosh; Intel Mac OS X 10_11_1) AppleWebKit/537.36 (KHTML, like Gecko) Chrome/53.0.2785.116 Safari/537.36',\n",
       "       'Mozilla/5.0 (Macintosh; Intel Mac OS X 10_11_4) AppleWebKit/537.36 (KHTML, like Gecko) Chrome/53.0.2785.116 Safari/537.36',\n",
       "       'Mozilla/5.0 (Windows NT 10.0; Win64; x64) AppleWebKit/537.36 (KHTML, like Gecko) Chrome/53.0.2785.116 Safari/537.36',\n",
       "       'Mozilla/5.0 (Macintosh; Intel Mac OS X 10_11_6) AppleWebKit/537.36 (KHTML, like Gecko) Chrome/53.0.2785.116 Safari/537.36',\n",
       "       'Mozilla/5.0 (X11; Linux x86_64) AppleWebKit/537.36 (KHTML, like Gecko) Chrome/53.0.2785.116 Safari/537.36',\n",
       "       'Mozilla/5.0 (Macintosh; Intel Mac OS X 10_11_2) AppleWebKit/537.36 (KHTML, like Gecko) Chrome/54.0.2840.34 Safari/537.36',\n",
       "       'Mozilla/5.0 (Macintosh; Intel Mac OS X 10_11_2) AppleWebKit/537.36 (KHTML, like Gecko) Chrome/54.0.2840.41 Safari/537.36',\n",
       "       'Mozilla/5.0 (Macintosh; Intel Mac OS X 10_10_5) AppleWebKit/537.36 (KHTML, like Gecko) Chrome/53.0.2785.116 Safari/537.36',\n",
       "       'Mozilla/5.0 (Macintosh; Intel Mac OS X 10_12) AppleWebKit/602.1.50 (KHTML, like Gecko) Version/10.0 Safari/602.1.50',\n",
       "       'Mozilla/5.0 (Macintosh; Intel Mac OS X 10_12_1) AppleWebKit/602.2.14 (KHTML, like Gecko) Version/10.0.1 Safari/602.2.14',\n",
       "       'Mozilla/5.0 (X11; Linux x86_64) AppleWebKit/537.36 (KHTML, like Gecko) Chrome/53.0.2785.143 Safari/537.36',\n",
       "       'Mozilla/5.0 (Macintosh; Intel Mac OS X 10_12_0) AppleWebKit/537.36 (KHTML, like Gecko) Chrome/53.0.2785.143 Safari/537.36',\n",
       "       'Mozilla/5.0 (Macintosh; Intel Mac OS X 10_11_2) AppleWebKit/537.36 (KHTML, like Gecko) Chrome/54.0.2840.50 Safari/537.36',\n",
       "       'Mozilla/5.0 (Macintosh; Intel Mac OS X 10_11_6) AppleWebKit/537.36 (KHTML, like Gecko) Chrome/53.0.2785.143 Safari/537.36',\n",
       "       'Mozilla/5.0 (X11; Ubuntu; Linux x86_64; rv:49.0) Gecko/20100101 Firefox/49.0',\n",
       "       'Mozilla/5.0 (Windows NT 10.0; WOW64) AppleWebKit/537.36 (KHTML, like Gecko) Chrome/53.0.2785.143 Safari/537.36',\n",
       "       'Mozilla/5.0 (Macintosh; Intel Mac OS X 10_10_5) AppleWebKit/537.36 (KHTML, like Gecko) Chrome/53.0.2785.143 Safari/537.36',\n",
       "       'Mozilla/5.0 (Windows NT 10.0; WOW64; rv:49.0) Gecko/20100101 Firefox/49.0',\n",
       "       'Mozilla/5.0 (Windows NT 6.1; WOW64) AppleWebKit/537.36 (KHTML, like Gecko) Chrome/53.0.2785.143 Safari/537.36',\n",
       "       'Mozilla/5.0 (Macintosh; Intel Mac OS X 10_11_1) AppleWebKit/537.36 (KHTML, like Gecko) Chrome/53.0.2785.143 Safari/537.36',\n",
       "       'Mozilla/5.0 (Macintosh; Intel Mac OS X 10_9_5) AppleWebKit/537.36 (KHTML, like Gecko) Chrome/53.0.2785.143 Safari/537.36',\n",
       "       'Mozilla/5.0 (Windows NT 10.0; Win64; x64) AppleWebKit/537.36 (KHTML, like Gecko) Chrome/53.0.2785.143 Safari/537.36',\n",
       "       'Mozilla/5.0 (X11; Linux x86_64) AppleWebKit/537.36 (KHTML, like Gecko) Chrome/54.0.2840.59 Safari/537.36',\n",
       "       'Mozilla/5.0 (Macintosh; Intel Mac OS X 10_12_0) AppleWebKit/537.36 (KHTML, like Gecko) Chrome/54.0.2840.59 Safari/537.36',\n",
       "       'Mozilla/5.0 (Windows NT 10.0; WOW64) AppleWebKit/537.36 (KHTML, like Gecko) Chrome/49.0.2623.110 Safari/537.36',\n",
       "       'Mozilla/5.0 (Windows NT 6.1; WOW64) AppleWebKit/537.36 (KHTML, like Gecko) Chrome/51.0.2704.106 Safari/537.36',\n",
       "       'Mozilla/5.0 (Macintosh; Intel Mac OS X 10_11_4) AppleWebKit/537.36 (KHTML, like Gecko) Chrome/54.0.2840.59 Safari/537.36',\n",
       "       'Mozilla/5.0 (Macintosh; Intel Mac OS X 10_12_1) AppleWebKit/537.36 (KHTML, like Gecko) Chrome/54.0.2840.71 Safari/537.36',\n",
       "       'Mozilla/5.0 (Windows NT 6.1; Win64; x64) AppleWebKit/537.36 (KHTML, like Gecko) Chrome/53.0.2785.143 Safari/537.36',\n",
       "       'Mozilla/5.0 (Macintosh; Intel Mac OS X 10_12_1) AppleWebKit/537.36 (KHTML, like Gecko) Chrome/55.0.2883.21 Safari/537.36',\n",
       "       'Mozilla/5.0 (X11; Linux x86_64) AppleWebKit/537.36 (KHTML, like Gecko) Chrome/53.0.2785.101 Safari/537.36',\n",
       "       'Mozilla/5.0 (Macintosh; Intel Mac OS X 10_11_4) AppleWebKit/537.36 (KHTML, like Gecko) Chrome/53.0.2785.143 Safari/537.36',\n",
       "       'Mozilla/5.0 (X11; Linux x86_64) AppleWebKit/537.36 (KHTML, like Gecko) Chrome/54.0.2840.71 Safari/537.36',\n",
       "       'Mozilla/5.0 (Windows NT 10.0; Win64; x64) AppleWebKit/537.36 (KHTML, like Gecko) Chrome/54.0.2840.71 Safari/537.36',\n",
       "       'Mozilla/5.0 (Macintosh; Intel Mac OS X 10_12_1) AppleWebKit/537.36 (KHTML, like Gecko) Chrome/55.0.2883.28 Safari/537.36',\n",
       "       'Mozilla/5.0 (Macintosh; Intel Mac OS X 10_11_6) AppleWebKit/537.36 (KHTML, like Gecko) Chrome/54.0.2840.71 Safari/537.36',\n",
       "       'Mozilla/5.0 (Windows NT 10.0; WOW64) AppleWebKit/537.36 (KHTML, like Gecko) Chrome/54.0.2840.71 Safari/537.36',\n",
       "       'Mozilla/5.0 (X11; Linux x86_64) AppleWebKit/537.36 (KHTML, like Gecko) Chrome/54.0.2840.90 Safari/537.36',\n",
       "       'Mozilla/5.0 (Macintosh; Intel Mac OS X 10_11_6) AppleWebKit/537.36 (KHTML, like Gecko) Chrome/55.0.2883.35 Safari/537.36',\n",
       "       'Mozilla/5.0 (Macintosh; Intel Mac OS X 10_12_1) AppleWebKit/537.36 (KHTML, like Gecko) Chrome/55.0.2883.44 Safari/537.36',\n",
       "       'Mozilla/5.0 (Macintosh; Intel Mac OS X 10_12_0) AppleWebKit/537.36 (KHTML, like Gecko) Chrome/54.0.2840.71 Safari/537.36',\n",
       "       'Mozilla/5.0 (Macintosh; Intel Mac OS X 10_10_5) AppleWebKit/537.36 (KHTML, like Gecko) Chrome/54.0.2840.71 Safari/537.36',\n",
       "       'Mozilla/5.0 (Windows NT 10.0; WOW64) AppleWebKit/537.36 (KHTML, like Gecko) Chrome/54.0.2840.99 Safari/537.36',\n",
       "       'Mozilla/5.0 (Macintosh; Intel Mac OS X 10_12_1) AppleWebKit/537.36 (KHTML, like Gecko) Chrome/54.0.2840.98 Safari/537.36',\n",
       "       'Mozilla/5.0 (Windows NT 10.0; Win64; x64) AppleWebKit/537.36 (KHTML, like Gecko) Chrome/54.0.2840.99 Safari/537.36',\n",
       "       'Mozilla/5.0 (Macintosh; Intel Mac OS X 10_11_6) AppleWebKit/537.36 (KHTML, like Gecko) Chrome/54.0.2840.98 Safari/537.36',\n",
       "       'Mozilla/5.0 (X11; Linux x86_64) AppleWebKit/537.36 (KHTML, like Gecko) Chrome/54.0.2840.100 Safari/537.36',\n",
       "       'Mozilla/5.0 (Windows NT 10.0; Win64; x64) AppleWebKit/537.36 (KHTML, like Gecko) Chrome/55.0.2883.59 Safari/537.36',\n",
       "       'Mozilla/5.0 (Macintosh; Intel Mac OS X 10_12_1) AppleWebKit/537.36 (KHTML, like Gecko) Chrome/55.0.2883.59 Safari/537.36',\n",
       "       'Mozilla/5.0 (Windows NT 6.3; Win64; x64) AppleWebKit/537.36 (KHTML, like Gecko) Chrome/54.0.2840.99 Safari/537.36',\n",
       "       'Mozilla/5.0 (Macintosh; Intel Mac OS X 10_12_1) AppleWebKit/537.36 (KHTML, like Gecko) Chrome/55.0.2883.75 Safari/537.36',\n",
       "       'Mozilla/5.0 (X11; Linux x86_64) AppleWebKit/537.36 (KHTML, like Gecko) Chrome/55.0.2883.75 Safari/537.36',\n",
       "       'Mozilla/5.0 (Macintosh; Intel Mac OS X 10_10_5) AppleWebKit/537.36 (KHTML, like Gecko) Chrome/54.0.2840.98 Safari/537.36',\n",
       "       'Mozilla/5.0 (X11; Linux x86_64) AppleWebKit/537.36 (KHTML, like Gecko) Chrome/55.0.2883.87 Safari/537.36',\n",
       "       'Mozilla/5.0 (Macintosh; Intel Mac OS X 10_12_0) AppleWebKit/537.36 (KHTML, like Gecko) Chrome/54.0.2840.98 Safari/537.36',\n",
       "       'Mozilla/5.0 (Windows NT 10.0; WOW64) AppleWebKit/537.36 (KHTML, like Gecko) Chrome/55.0.2883.87 Safari/537.36',\n",
       "       'Mozilla/5.0 (Windows NT 10.0; Win64; x64) AppleWebKit/537.36 (KHTML, like Gecko) Chrome/55.0.2883.87 Safari/537.36',\n",
       "       'Mozilla/5.0 (X11; CrOS x86_64 8743.85.0) AppleWebKit/537.36 (KHTML, like Gecko) Chrome/54.0.2840.101 Safari/537.36',\n",
       "       'Mozilla/5.0 (Macintosh; Intel Mac OS X 10_11_6) AppleWebKit/537.36 (KHTML, like Gecko) Chrome/55.0.2883.87 Safari/537.36',\n",
       "       'Mozilla/5.0 (Macintosh; Intel Mac OS X 10_11_6) AppleWebKit/537.36 (KHTML, like Gecko) Chrome/55.0.2883.95 Safari/537.36',\n",
       "       'Mozilla/5.0 (Macintosh; Intel Mac OS X 10_12_2) AppleWebKit/537.36 (KHTML, like Gecko) Chrome/55.0.2883.95 Safari/537.36',\n",
       "       'Mozilla/5.0 (Macintosh; Intel Mac OS X 10_10_4) AppleWebKit/537.36 (KHTML, like Gecko) Chrome/55.0.2883.95 Safari/537.36',\n",
       "       'Mozilla/5.0 (Macintosh; Intel Mac OS X 10_11_2) AppleWebKit/537.36 (KHTML, like Gecko) Chrome/56.0.2924.28 Safari/537.36',\n",
       "       'Mozilla/5.0 (Macintosh; Intel Mac OS X 10_12_2) AppleWebKit/537.36 (KHTML, like Gecko) SmartCanvas/0.1.0 Chrome/49.0.2623.75 Electron/0.37.2 Safari/537.36',\n",
       "       'Mozilla/5.0 (Macintosh; Intel Mac OS X 10_12_1) AppleWebKit/537.36 (KHTML, like Gecko) Chrome/56.0.2924.28 Safari/537.36',\n",
       "       'Mozilla/5.0 (X11; Ubuntu; Linux x86_64; rv:50.0) Gecko/20100101 Firefox/50.0',\n",
       "       'Mozilla/5.0 (Macintosh; Intel Mac OS X 10_12_1) AppleWebKit/537.36 (KHTML, like Gecko) Chrome/55.0.2883.95 Safari/537.36',\n",
       "       'Mozilla/5.0 (Macintosh; Intel Mac OS X 10_12_2) AppleWebKit/537.36 (KHTML, like Gecko) Chrome/56.0.2924.51 Safari/537.36',\n",
       "       'Mozilla/5.0 (Windows NT 10.0; Win64; x64) AppleWebKit/537.36 (KHTML, like Gecko) Chrome/57.0.2978.4 Safari/537.36',\n",
       "       'Mozilla/5.0 (Windows NT 10.0; WOW64; rv:50.0) Gecko/20100101 Firefox/50.0',\n",
       "       'Mozilla/5.0 (Windows NT 10.0; Win64; x64) AppleWebKit/537.36 (KHTML, like Gecko) Chrome/57.0.2982.0 Safari/537.36',\n",
       "       'Mozilla/5.0 (Macintosh; Intel Mac OS X 10_12_2) AppleWebKit/602.3.12 (KHTML, like Gecko) Version/10.0.2 Safari/602.3.12',\n",
       "       'Mozilla/5.0 (Macintosh; Intel Mac OS X 10_12_2) AppleWebKit/537.36 (KHTML, like Gecko) Chrome/56.0.2924.67 Safari/537.36',\n",
       "       'Mozilla/5.0 (Macintosh; Intel Mac OS X 10_11_3) AppleWebKit/537.36 (KHTML, like Gecko) Chrome/55.0.2883.95 Safari/537.36',\n",
       "       'Mozilla/5.0 (Macintosh; Intel Mac OS X 10_12_0) AppleWebKit/537.36 (KHTML, like Gecko) Chrome/55.0.2883.95 Safari/537.36',\n",
       "       'Mozilla/5.0 (X11; Ubuntu; Linux x86_64; rv:51.0) Gecko/20100101 Firefox/51.0',\n",
       "       'Mozilla/5.0 (X11; Linux x86_64) AppleWebKit/537.36 (KHTML, like Gecko) Chrome/56.0.2924.67 Safari/537.36',\n",
       "       'Mozilla/5.0 (Macintosh; Intel Mac OS X 10_12_3) AppleWebKit/537.36 (KHTML, like Gecko) Chrome/55.0.2883.95 Safari/537.36',\n",
       "       'Mozilla/5.0 (X11; Linux x86_64) AppleWebKit/537.36 (KHTML, like Gecko) Chrome/56.0.2924.76 Safari/537.36',\n",
       "       'Mozilla/5.0 (Windows NT 6.1; WOW64) AppleWebKit/537.36 (KHTML, like Gecko) Chrome/55.0.2883.87 Safari/537.36',\n",
       "       'Mozilla/5.0 (X11; Linux x86_64) AppleWebKit/537.36 (KHTML, like Gecko) Chrome/56.0.2924.87 Safari/537.36',\n",
       "       'Mozilla/5.0 (Macintosh; Intel Mac OS X 10_12_3) AppleWebKit/537.36 (KHTML, like Gecko) Chrome/56.0.2924.67 Safari/537.36',\n",
       "       'Mozilla/5.0 (Macintosh; Intel Mac OS X 10_12_3) AppleWebKit/537.36 (KHTML, like Gecko) Chrome/56.0.2924.87 Safari/537.36',\n",
       "       'Mozilla/5.0 (Windows NT 10.0; WOW64; rv:51.0) Gecko/20100101 Firefox/51.0',\n",
       "       'Mozilla/5.0 (Windows NT 10.0; WOW64) AppleWebKit/537.36 (KHTML, like Gecko) Chrome/56.0.2924.87 Safari/537.36',\n",
       "       'Mozilla/5.0 (Macintosh; Intel Mac OS X 10_12_3) AppleWebKit/537.36 (KHTML, like Gecko) Chrome/57.0.2987.37 Safari/537.36',\n",
       "       'Mozilla/5.0 (Windows NT 10.0; Win64; x64) AppleWebKit/537.36 (KHTML, like Gecko) Chrome/57.0.2987.37 Safari/537.36',\n",
       "       'Mozilla/5.0 (Windows NT 10.0; Win64; x64) AppleWebKit/537.36 (KHTML, like Gecko) Chrome/56.0.2924.87 Safari/537.36',\n",
       "       'Mozilla/5.0 (Macintosh; Intel Mac OS X 10_12_0) AppleWebKit/537.36 (KHTML, like Gecko) Chrome/57.0.2987.74 Safari/537.36'],\n",
       "      dtype=object)"
      ]
     },
     "execution_count": 56,
     "metadata": {},
     "output_type": "execute_result"
    }
   ],
   "source": [
    "english_content[\"producer_device_info\"].unique()"
   ]
  },
  {
   "cell_type": "markdown",
   "metadata": {
    "id": "67VokmEMo12t"
   },
   "source": [
    " - __Common browsers are mozilla,applewebkit,chrome.__"
   ]
  },
  {
   "cell_type": "markdown",
   "metadata": {
    "id": "NzdNy1mDo12t"
   },
   "source": [
    "### Content Based Recommendtion :"
   ]
  },
  {
   "cell_type": "markdown",
   "metadata": {
    "id": "F0k1KXveo12u"
   },
   "source": [
    "-  __Content based method helps in extracting similar items from the global list of items available in the dataset.__\n",
    "\n",
    "- Use text processing to analyse the ‘keywords’ feature in the data set.\n",
    "- Recommend similar items based on the TF-IDF scores."
   ]
  },
  {
   "cell_type": "code",
   "execution_count": 57,
   "metadata": {
    "colab": {
     "base_uri": "https://localhost:8080/"
    },
    "id": "TmN0p_N5o12u",
    "outputId": "598f16f1-cbf8-49c0-aa4c-ffc7cfd4db9c",
    "scrolled": false
   },
   "outputs": [
    {
     "data": {
      "text/plain": [
       "Index(['event_timestamp', 'interaction_type', 'item_id', 'producer_id',\n",
       "       'producer_session_id', 'producer_device_info', 'producer_location',\n",
       "       'producer_country', 'item_type', 'item_url', 'title',\n",
       "       'text_description', 'language', 'item_index'],\n",
       "      dtype='object')"
      ]
     },
     "execution_count": 57,
     "metadata": {},
     "output_type": "execute_result"
    }
   ],
   "source": [
    "english_content.columns"
   ]
  },
  {
   "cell_type": "code",
   "execution_count": 58,
   "metadata": {
    "id": "hYeE_YQao12u"
   },
   "outputs": [],
   "source": [
    "# Remove unwanted columns , take only Item Index,Title and Text Decsription column\n",
    "clean_english_content = english_content.iloc[:,[13,10,11]]"
   ]
  },
  {
   "cell_type": "code",
   "execution_count": 59,
   "metadata": {
    "colab": {
     "base_uri": "https://localhost:8080/",
     "height": 206
    },
    "id": "cWXaeaJ9o12v",
    "outputId": "67dc2bde-4fe4-455a-9bda-425a7264904b"
   },
   "outputs": [
    {
     "data": {
      "text/html": [
       "<div>\n",
       "<style scoped>\n",
       "    .dataframe tbody tr th:only-of-type {\n",
       "        vertical-align: middle;\n",
       "    }\n",
       "\n",
       "    .dataframe tbody tr th {\n",
       "        vertical-align: top;\n",
       "    }\n",
       "\n",
       "    .dataframe thead th {\n",
       "        text-align: right;\n",
       "    }\n",
       "</style>\n",
       "<table border=\"1\" class=\"dataframe\">\n",
       "  <thead>\n",
       "    <tr style=\"text-align: right;\">\n",
       "      <th></th>\n",
       "      <th>item_index</th>\n",
       "      <th>title</th>\n",
       "      <th>text_description</th>\n",
       "    </tr>\n",
       "  </thead>\n",
       "  <tbody>\n",
       "    <tr>\n",
       "      <th>0</th>\n",
       "      <td>338</td>\n",
       "      <td>Ethereum, a Virtual Currency, Enables Transact...</td>\n",
       "      <td>All of this work is still very early. The firs...</td>\n",
       "    </tr>\n",
       "    <tr>\n",
       "      <th>1</th>\n",
       "      <td>624</td>\n",
       "      <td>Ethereum, a Virtual Currency, Enables Transact...</td>\n",
       "      <td>All of this work is still very early. The firs...</td>\n",
       "    </tr>\n",
       "    <tr>\n",
       "      <th>2</th>\n",
       "      <td>238</td>\n",
       "      <td>Bitcoin Future: When GBPcoin of Branson Wins O...</td>\n",
       "      <td>The alarm clock wakes me at 8:00 with stream o...</td>\n",
       "    </tr>\n",
       "    <tr>\n",
       "      <th>3</th>\n",
       "      <td>369</td>\n",
       "      <td>Google Data Center 360° Tour</td>\n",
       "      <td>We're excited to share the Google Data Center ...</td>\n",
       "    </tr>\n",
       "    <tr>\n",
       "      <th>4</th>\n",
       "      <td>1359</td>\n",
       "      <td>IBM Wants to \"Evolve the Internet\" With Blockc...</td>\n",
       "      <td>The Aite Group projects the blockchain market ...</td>\n",
       "    </tr>\n",
       "  </tbody>\n",
       "</table>\n",
       "</div>"
      ],
      "text/plain": [
       "   item_index                                              title  \\\n",
       "0         338  Ethereum, a Virtual Currency, Enables Transact...   \n",
       "1         624  Ethereum, a Virtual Currency, Enables Transact...   \n",
       "2         238  Bitcoin Future: When GBPcoin of Branson Wins O...   \n",
       "3         369                       Google Data Center 360° Tour   \n",
       "4        1359  IBM Wants to \"Evolve the Internet\" With Blockc...   \n",
       "\n",
       "                                    text_description  \n",
       "0  All of this work is still very early. The firs...  \n",
       "1  All of this work is still very early. The firs...  \n",
       "2  The alarm clock wakes me at 8:00 with stream o...  \n",
       "3  We're excited to share the Google Data Center ...  \n",
       "4  The Aite Group projects the blockchain market ...  "
      ]
     },
     "execution_count": 59,
     "metadata": {},
     "output_type": "execute_result"
    }
   ],
   "source": [
    "clean_english_content.head()"
   ]
  },
  {
   "cell_type": "code",
   "execution_count": 60,
   "metadata": {
    "colab": {
     "base_uri": "https://localhost:8080/",
     "height": 105
    },
    "id": "XwXdwM0mo12v",
    "outputId": "889a3ab3-3015-484c-bd25-6a8a9b101178"
   },
   "outputs": [
    {
     "data": {
      "text/plain": [
       "'All of this work is still very early. The first full public version of the Ethereum software was recently released, and the system could face some of the same technical and legal problems that have tarnished Bitcoin. Many Bitcoin advocates say Ethereum will face more security problems than Bitcoin because of the greater complexity of the software. Thus far, Ethereum has faced much less testing, and many fewer attacks, than Bitcoin. The novel design of Ethereum may also invite intense scrutiny by authorities given that potentially fraudulent contracts, like the Ponzi schemes, can be written directly into the Ethereum system. But the sophisticated capabilities of the system have made it fascinating to some executives in corporate America. IBM said last year that it was experimenting with Ethereum as a way to control real world objects in the so-called Internet of things. Microsoft has been working on several projects that make it easier to use Ethereum on its computing cloud, Azure. \"Ethereum is a general platform where you can solve problems in many industries using a fairly elegant solution - the most elegant solution we have seen to date,\" said Marley Gray, a director of business development and strategy at Microsoft. Mr. Gray is responsible for Microsoft\\'s work with blockchains, the database concept that Bitcoin introduced. Blockchains are designed to store transactions and data without requiring any central authority or repository. Blockchain ledgers are generally maintained and updated by networks of computers working together - somewhat similar to the way that Wikipedia is updated and maintained by all its users. Many corporations, though, have created their own Ethereum networks with private blockchains, independent of the public system, and that could ultimately detract from the value of the individual unit in the Ethereum system - known as an Ether - that people have recently been buying. The interest in Ethereum is one sign of the corporate fascination with blockchains. Most major banks have expressed an interest in using them to make trading and money transfer faster and more efficient. On Tuesday, executives from the largest banks will gather for a conference, \"Blockchain: Tapping I nto the Real Potential , Cutting Through the Hype.\" Many of these banks have recently been looking at how some version of Ethereum might be put to use. JPMorgan, for instance, has created a specific tool, Masala, that allows some of its internal databases to interact with an Ethereum blockchain. Michael Novogratz, a former top executive at the private equity firm Fortress Investing Group, who helped lead Fortress\\'s investment in Bitcoin, has been looking at Ethereum since he left Fortress last fall. Mr. Novogratz said that he made a \"significant\" purchase of Ether in January. He has also heard how the financial industry\\'s chatter about the virtual currency has evolved. \"A lot of the more established players were thinking, \\'It\\'s still an experiment,\\' \" he said. \"It feels like in the last two to three months that experiment is at least getting a lot more validation.\" Since the beginning of the year, the value of an individual unit of Ether has soared as high as $12 from around $1. That has brought the value of all existing Ether to over $1 billion at times, significantly more than any virtual currency other than Bitcoin, which had over $6 billion in value outstanding last week. Since Bitcoin was invented, there have been many so-called alt-coins that have tried to improve on Bitcoin, but none have won the following of Ethereum. Unlike Bitcoin, which was released in 2009 by a mysterious creator known as Satoshi Nakamoto, Ethereum was created in a more transparent fashion by a 21-year-old Russian-Canadian, Vitalik Buterin, after he dropped out of Waterloo University in Ontario. The most basic aim of Ethereum was to make it possible to program binding agreements into the blockchain - the smart contract concept. Two people, for instance, could program a bet on a sports game directly into the Ethereum blockchain. Once the final score came in from a mutually agreed upon source - say, The Associated Press - the money would be automatically transferred to the winning party. Ether can be used as a currency in this system, but Ether are also necessary to pay for the network power needed to process the bet. The Ethereum system has sometimes been described as a single shared computer that is run by the network of users and on which resources are parceled out and paid for by Ether. A team of seven co-founders helped Mr. Buterin write up the software after he released the initial description of the system. Mr. Buterin\\'s team raised $18 million in 2014 through a presale of Ether, which helped fund the Ethereum Foundation, which supports the software\\'s development. Like Bitcoin, Ethereum has succeeded by attracting a dedicated network of followers who have helped support the software, partly in the hope that their Ether will increase in value if the system succeeds. Last week, there were 5,800 computers - or nodes - helping support the network around the world. The Bitcoin network had about 7,400 nodes. One of Mr. Buterin\\'s co-founders, Joseph Lubin, has set up ConsenSys, a company based in Brooklyn that has hired over 50 developers to build applications on the Ethereum system, including one that enables music distribution and another that allows for a new kind of financial auditing. The ConsenSys offices are in an old industrial building in the Bushwick section of Brooklyn. The office is essentially one large room, with all the messy trademarks of a start-up operation, including white boards on the walls and computer parts lying around. Mr. Lubin said he had thrown himself into Ethereum after starting to think that it delivered on some of the failed promise of Bitcoin, especially when it came to allowing new kinds of online contracts and markets. \"Bitcoin presented the broad strokes vision, and Ethereum presented the crystallization of how to deliver that vision,\" he said. Joseph Bonneau, a computer science researcher at Stanford who studies so-called crypto-currencies, said Ethereum was the first system that had really caught his interest since Bitcoin. It is far from a sure thing, he cautioned. \"Bitcoin is still probably the safest bet, but Ethereum is certainly No. 2, and some folks will say it is more likely to be around in 10 years,\" Mr. Bonneau said. \"It will depend if any real markets develop around it. If there is some actual application.\"'"
      ]
     },
     "execution_count": 60,
     "metadata": {},
     "output_type": "execute_result"
    }
   ],
   "source": [
    "clean_english_content[\"text_description\"][0] # check text description column how it looks"
   ]
  },
  {
   "cell_type": "code",
   "execution_count": 61,
   "metadata": {
    "colab": {
     "base_uri": "https://localhost:8080/"
    },
    "id": "DogrSni_o12v",
    "outputId": "2f8440fb-0619-48b7-8994-1237cf7a4e83"
   },
   "outputs": [
    {
     "data": {
      "text/plain": [
       "0        6543\n",
       "1        6543\n",
       "2        1993\n",
       "3        1520\n",
       "4        8093\n",
       "        ...  \n",
       "3116     1006\n",
       "3118     1703\n",
       "3119    16970\n",
       "3120     6530\n",
       "3121      346\n",
       "Name: text_description, Length: 2264, dtype: int64"
      ]
     },
     "execution_count": 61,
     "metadata": {},
     "output_type": "execute_result"
    }
   ],
   "source": [
    "# check text description string length\n",
    "clean_english_content[\"text_description\"].str.len()"
   ]
  },
  {
   "cell_type": "code",
   "execution_count": 62,
   "metadata": {
    "colab": {
     "base_uri": "https://localhost:8080/"
    },
    "id": "atPEY7Gfo12w",
    "outputId": "07ce572a-090e-4630-92b8-d8b6c5fe03ad"
   },
   "outputs": [
    {
     "data": {
      "text/plain": [
       "6071.933745583039"
      ]
     },
     "execution_count": 62,
     "metadata": {},
     "output_type": "execute_result"
    }
   ],
   "source": [
    "# # check mean text description string length\n",
    "np.mean(clean_english_content[\"text_description\"].str.len())"
   ]
  },
  {
   "cell_type": "code",
   "execution_count": 63,
   "metadata": {
    "id": "PaRZLJhBo12w"
   },
   "outputs": [],
   "source": [
    "### Calculate no of key wrods in all rows by splitting words at space\n",
    "number_of_keywords = []\n",
    "for keywords in clean_english_content[\"text_description\"]:\n",
    "    n_keywords = len(keywords.split())\n",
    "    number_of_keywords.append(n_keywords)\n",
    "# number_of_keywords"
   ]
  },
  {
   "cell_type": "code",
   "execution_count": 64,
   "metadata": {
    "colab": {
     "base_uri": "https://localhost:8080/"
    },
    "id": "zY-mVCy-o12x",
    "outputId": "9d9281fa-9dd3-411b-ea1f-86f2bab1adbe"
   },
   "outputs": [
    {
     "data": {
      "text/plain": [
       "2277726"
      ]
     },
     "execution_count": 64,
     "metadata": {},
     "output_type": "execute_result"
    }
   ],
   "source": [
    "sum(number_of_keywords) # Total no of words in the corpus"
   ]
  },
  {
   "cell_type": "code",
   "execution_count": 65,
   "metadata": {
    "colab": {
     "base_uri": "https://localhost:8080/",
     "height": 279
    },
    "id": "dO9ioDGIo12x",
    "outputId": "d2ccc558-58c3-4bb2-ad09-ece02ce9b9b2"
   },
   "outputs": [
    {
     "data": {
      "image/png": "[encoded data removed]",
      "text/plain": [
       "<Figure size 432x288 with 1 Axes>"
      ]
     },
     "metadata": {
      "needs_background": "light"
     },
     "output_type": "display_data"
    }
   ],
   "source": [
    "# No of words in each news descriptions or row\n",
    "plt.hist(number_of_keywords)\n",
    "plt.xlabel('distribution of number of words in News Text Description column')\n",
    "plt.ylabel('number of No of words')\n",
    "plt.show()"
   ]
  },
  {
   "cell_type": "code",
   "execution_count": 66,
   "metadata": {
    "id": "au6lCDy8o12x"
   },
   "outputs": [],
   "source": [
    "# convert to numpy array so that further processing will be easy.\n",
    "\n",
    "keywords_array = clean_english_content['text_description'].to_numpy()"
   ]
  },
  {
   "cell_type": "code",
   "execution_count": 67,
   "metadata": {
    "colab": {
     "base_uri": "https://localhost:8080/"
    },
    "id": "uCGqylPBo12y",
    "outputId": "92b5b3ed-c1f5-4447-f68b-5bbf12e1b35c"
   },
   "outputs": [
    {
     "name": "stderr",
     "output_type": "stream",
     "text": [
      "[nltk_data] Downloading package stopwords to\n",
      "[nltk_data]     C:\\Users\\harsh\\AppData\\Roaming\\nltk_data...\n",
      "[nltk_data]   Package stopwords is already up-to-date!\n"
     ]
    }
   ],
   "source": [
    "# Get the stopwords from NLTK library and punctuation from string \n",
    "# stopwords and punctuation will be removed from the text description so that it\n",
    "#gives  how the important words are distributed in corpus\n",
    "import nltk\n",
    "nltk.download('stopwords') \n",
    "stops = stopwords.words(\"english\")\n",
    "punc = string.punctuation"
   ]
  },
  {
   "cell_type": "code",
   "execution_count": 68,
   "metadata": {
    "id": "wMfoQre6o12y"
   },
   "outputs": [],
   "source": [
    "# create a function to remove the stopwords and punctuation\n",
    "# 1. convert sentence to lower case\n",
    "# 2. split the sentnece to words at Space\n",
    "# 3.remove the stop words and punctuation\n",
    "# 4.append the words to wordlist and it returns the wordlist\n",
    "\n",
    "\n",
    "\n",
    "def preprocess(keywords_array):\n",
    "    words_list = []\n",
    "    for keyword in keywords_array:\n",
    "        splitted_words = keyword.lower().split()\n",
    "        splitted_words = [word for word in splitted_words if word not in stops and word not in string.punctuation  ]\n",
    "        words_list.append(splitted_words)\n",
    "    return words_list"
   ]
  },
  {
   "cell_type": "code",
   "execution_count": 69,
   "metadata": {
    "id": "Gq7G29-ro12z"
   },
   "outputs": [],
   "source": [
    "words_list = preprocess(keywords_array) # perform the function call with all the keywords array"
   ]
  },
  {
   "cell_type": "code",
   "execution_count": 70,
   "metadata": {
    "colab": {
     "base_uri": "https://localhost:8080/"
    },
    "id": "i7moBAgKo12z",
    "outputId": "2435ff3a-3e82-4dd8-86eb-03b5d5db5fbe",
    "scrolled": false
   },
   "outputs": [
    {
     "data": {
      "text/plain": [
       "2264"
      ]
     },
     "execution_count": 70,
     "metadata": {},
     "output_type": "execute_result"
    }
   ],
   "source": [
    "len(words_list) # no of rows in wordlist"
   ]
  },
  {
   "cell_type": "code",
   "execution_count": 71,
   "metadata": {
    "colab": {
     "base_uri": "https://localhost:8080/"
    },
    "id": "iKpDdu0bo12z",
    "outputId": "c53679f4-cd2f-491f-bc2f-1fd28378508f"
   },
   "outputs": [
    {
     "data": {
      "text/plain": [
       "['work',\n",
       " 'still',\n",
       " 'early.',\n",
       " 'first',\n",
       " 'full',\n",
       " 'public',\n",
       " 'version',\n",
       " 'ethereum',\n",
       " 'software',\n",
       " 'recently',\n",
       " 'released,',\n",
       " 'system',\n",
       " 'could',\n",
       " 'face',\n",
       " 'technical',\n",
       " 'legal',\n",
       " 'problems',\n",
       " 'tarnished',\n",
       " 'bitcoin.',\n",
       " 'many',\n",
       " 'bitcoin',\n",
       " 'advocates',\n",
       " 'say',\n",
       " 'ethereum',\n",
       " 'face',\n",
       " 'security',\n",
       " 'problems',\n",
       " 'bitcoin',\n",
       " 'greater',\n",
       " 'complexity',\n",
       " 'software.',\n",
       " 'thus',\n",
       " 'far,',\n",
       " 'ethereum',\n",
       " 'faced',\n",
       " 'much',\n",
       " 'less',\n",
       " 'testing,',\n",
       " 'many',\n",
       " 'fewer',\n",
       " 'attacks,',\n",
       " 'bitcoin.',\n",
       " 'novel',\n",
       " 'design',\n",
       " 'ethereum',\n",
       " 'may',\n",
       " 'also',\n",
       " 'invite',\n",
       " 'intense',\n",
       " 'scrutiny',\n",
       " 'authorities',\n",
       " 'given',\n",
       " 'potentially',\n",
       " 'fraudulent',\n",
       " 'contracts,',\n",
       " 'like',\n",
       " 'ponzi',\n",
       " 'schemes,',\n",
       " 'written',\n",
       " 'directly',\n",
       " 'ethereum',\n",
       " 'system.',\n",
       " 'sophisticated',\n",
       " 'capabilities',\n",
       " 'system',\n",
       " 'made',\n",
       " 'fascinating',\n",
       " 'executives',\n",
       " 'corporate',\n",
       " 'america.',\n",
       " 'ibm',\n",
       " 'said',\n",
       " 'last',\n",
       " 'year',\n",
       " 'experimenting',\n",
       " 'ethereum',\n",
       " 'way',\n",
       " 'control',\n",
       " 'real',\n",
       " 'world',\n",
       " 'objects',\n",
       " 'so-called',\n",
       " 'internet',\n",
       " 'things.',\n",
       " 'microsoft',\n",
       " 'working',\n",
       " 'several',\n",
       " 'projects',\n",
       " 'make',\n",
       " 'easier',\n",
       " 'use',\n",
       " 'ethereum',\n",
       " 'computing',\n",
       " 'cloud,',\n",
       " 'azure.',\n",
       " '\"ethereum',\n",
       " 'general',\n",
       " 'platform',\n",
       " 'solve',\n",
       " 'problems',\n",
       " 'many',\n",
       " 'industries',\n",
       " 'using',\n",
       " 'fairly',\n",
       " 'elegant',\n",
       " 'solution',\n",
       " 'elegant',\n",
       " 'solution',\n",
       " 'seen',\n",
       " 'date,\"',\n",
       " 'said',\n",
       " 'marley',\n",
       " 'gray,',\n",
       " 'director',\n",
       " 'business',\n",
       " 'development',\n",
       " 'strategy',\n",
       " 'microsoft.',\n",
       " 'mr.',\n",
       " 'gray',\n",
       " 'responsible',\n",
       " \"microsoft's\",\n",
       " 'work',\n",
       " 'blockchains,',\n",
       " 'database',\n",
       " 'concept',\n",
       " 'bitcoin',\n",
       " 'introduced.',\n",
       " 'blockchains',\n",
       " 'designed',\n",
       " 'store',\n",
       " 'transactions',\n",
       " 'data',\n",
       " 'without',\n",
       " 'requiring',\n",
       " 'central',\n",
       " 'authority',\n",
       " 'repository.',\n",
       " 'blockchain',\n",
       " 'ledgers',\n",
       " 'generally',\n",
       " 'maintained',\n",
       " 'updated',\n",
       " 'networks',\n",
       " 'computers',\n",
       " 'working',\n",
       " 'together',\n",
       " 'somewhat',\n",
       " 'similar',\n",
       " 'way',\n",
       " 'wikipedia',\n",
       " 'updated',\n",
       " 'maintained',\n",
       " 'users.',\n",
       " 'many',\n",
       " 'corporations,',\n",
       " 'though,',\n",
       " 'created',\n",
       " 'ethereum',\n",
       " 'networks',\n",
       " 'private',\n",
       " 'blockchains,',\n",
       " 'independent',\n",
       " 'public',\n",
       " 'system,',\n",
       " 'could',\n",
       " 'ultimately',\n",
       " 'detract',\n",
       " 'value',\n",
       " 'individual',\n",
       " 'unit',\n",
       " 'ethereum',\n",
       " 'system',\n",
       " 'known',\n",
       " 'ether',\n",
       " 'people',\n",
       " 'recently',\n",
       " 'buying.',\n",
       " 'interest',\n",
       " 'ethereum',\n",
       " 'one',\n",
       " 'sign',\n",
       " 'corporate',\n",
       " 'fascination',\n",
       " 'blockchains.',\n",
       " 'major',\n",
       " 'banks',\n",
       " 'expressed',\n",
       " 'interest',\n",
       " 'using',\n",
       " 'make',\n",
       " 'trading',\n",
       " 'money',\n",
       " 'transfer',\n",
       " 'faster',\n",
       " 'efficient.',\n",
       " 'tuesday,',\n",
       " 'executives',\n",
       " 'largest',\n",
       " 'banks',\n",
       " 'gather',\n",
       " 'conference,',\n",
       " '\"blockchain:',\n",
       " 'tapping',\n",
       " 'nto',\n",
       " 'real',\n",
       " 'potential',\n",
       " 'cutting',\n",
       " 'hype.\"',\n",
       " 'many',\n",
       " 'banks',\n",
       " 'recently',\n",
       " 'looking',\n",
       " 'version',\n",
       " 'ethereum',\n",
       " 'might',\n",
       " 'put',\n",
       " 'use.',\n",
       " 'jpmorgan,',\n",
       " 'instance,',\n",
       " 'created',\n",
       " 'specific',\n",
       " 'tool,',\n",
       " 'masala,',\n",
       " 'allows',\n",
       " 'internal',\n",
       " 'databases',\n",
       " 'interact',\n",
       " 'ethereum',\n",
       " 'blockchain.',\n",
       " 'michael',\n",
       " 'novogratz,',\n",
       " 'former',\n",
       " 'top',\n",
       " 'executive',\n",
       " 'private',\n",
       " 'equity',\n",
       " 'firm',\n",
       " 'fortress',\n",
       " 'investing',\n",
       " 'group,',\n",
       " 'helped',\n",
       " 'lead',\n",
       " \"fortress's\",\n",
       " 'investment',\n",
       " 'bitcoin,',\n",
       " 'looking',\n",
       " 'ethereum',\n",
       " 'since',\n",
       " 'left',\n",
       " 'fortress',\n",
       " 'last',\n",
       " 'fall.',\n",
       " 'mr.',\n",
       " 'novogratz',\n",
       " 'said',\n",
       " 'made',\n",
       " '\"significant\"',\n",
       " 'purchase',\n",
       " 'ether',\n",
       " 'january.',\n",
       " 'also',\n",
       " 'heard',\n",
       " 'financial',\n",
       " \"industry's\",\n",
       " 'chatter',\n",
       " 'virtual',\n",
       " 'currency',\n",
       " 'evolved.',\n",
       " '\"a',\n",
       " 'lot',\n",
       " 'established',\n",
       " 'players',\n",
       " 'thinking,',\n",
       " \"'it's\",\n",
       " 'still',\n",
       " \"experiment,'\",\n",
       " 'said.',\n",
       " '\"it',\n",
       " 'feels',\n",
       " 'like',\n",
       " 'last',\n",
       " 'two',\n",
       " 'three',\n",
       " 'months',\n",
       " 'experiment',\n",
       " 'least',\n",
       " 'getting',\n",
       " 'lot',\n",
       " 'validation.\"',\n",
       " 'since',\n",
       " 'beginning',\n",
       " 'year,',\n",
       " 'value',\n",
       " 'individual',\n",
       " 'unit',\n",
       " 'ether',\n",
       " 'soared',\n",
       " 'high',\n",
       " '$12',\n",
       " 'around',\n",
       " '$1.',\n",
       " 'brought',\n",
       " 'value',\n",
       " 'existing',\n",
       " 'ether',\n",
       " '$1',\n",
       " 'billion',\n",
       " 'times,',\n",
       " 'significantly',\n",
       " 'virtual',\n",
       " 'currency',\n",
       " 'bitcoin,',\n",
       " '$6',\n",
       " 'billion',\n",
       " 'value',\n",
       " 'outstanding',\n",
       " 'last',\n",
       " 'week.',\n",
       " 'since',\n",
       " 'bitcoin',\n",
       " 'invented,',\n",
       " 'many',\n",
       " 'so-called',\n",
       " 'alt-coins',\n",
       " 'tried',\n",
       " 'improve',\n",
       " 'bitcoin,',\n",
       " 'none',\n",
       " 'following',\n",
       " 'ethereum.',\n",
       " 'unlike',\n",
       " 'bitcoin,',\n",
       " 'released',\n",
       " '2009',\n",
       " 'mysterious',\n",
       " 'creator',\n",
       " 'known',\n",
       " 'satoshi',\n",
       " 'nakamoto,',\n",
       " 'ethereum',\n",
       " 'created',\n",
       " 'transparent',\n",
       " 'fashion',\n",
       " '21-year-old',\n",
       " 'russian-canadian,',\n",
       " 'vitalik',\n",
       " 'buterin,',\n",
       " 'dropped',\n",
       " 'waterloo',\n",
       " 'university',\n",
       " 'ontario.',\n",
       " 'basic',\n",
       " 'aim',\n",
       " 'ethereum',\n",
       " 'make',\n",
       " 'possible',\n",
       " 'program',\n",
       " 'binding',\n",
       " 'agreements',\n",
       " 'blockchain',\n",
       " 'smart',\n",
       " 'contract',\n",
       " 'concept.',\n",
       " 'two',\n",
       " 'people,',\n",
       " 'instance,',\n",
       " 'could',\n",
       " 'program',\n",
       " 'bet',\n",
       " 'sports',\n",
       " 'game',\n",
       " 'directly',\n",
       " 'ethereum',\n",
       " 'blockchain.',\n",
       " 'final',\n",
       " 'score',\n",
       " 'came',\n",
       " 'mutually',\n",
       " 'agreed',\n",
       " 'upon',\n",
       " 'source',\n",
       " 'say,',\n",
       " 'associated',\n",
       " 'press',\n",
       " 'money',\n",
       " 'would',\n",
       " 'automatically',\n",
       " 'transferred',\n",
       " 'winning',\n",
       " 'party.',\n",
       " 'ether',\n",
       " 'used',\n",
       " 'currency',\n",
       " 'system,',\n",
       " 'ether',\n",
       " 'also',\n",
       " 'necessary',\n",
       " 'pay',\n",
       " 'network',\n",
       " 'power',\n",
       " 'needed',\n",
       " 'process',\n",
       " 'bet.',\n",
       " 'ethereum',\n",
       " 'system',\n",
       " 'sometimes',\n",
       " 'described',\n",
       " 'single',\n",
       " 'shared',\n",
       " 'computer',\n",
       " 'run',\n",
       " 'network',\n",
       " 'users',\n",
       " 'resources',\n",
       " 'parceled',\n",
       " 'paid',\n",
       " 'ether.',\n",
       " 'team',\n",
       " 'seven',\n",
       " 'co-founders',\n",
       " 'helped',\n",
       " 'mr.',\n",
       " 'buterin',\n",
       " 'write',\n",
       " 'software',\n",
       " 'released',\n",
       " 'initial',\n",
       " 'description',\n",
       " 'system.',\n",
       " 'mr.',\n",
       " \"buterin's\",\n",
       " 'team',\n",
       " 'raised',\n",
       " '$18',\n",
       " 'million',\n",
       " '2014',\n",
       " 'presale',\n",
       " 'ether,',\n",
       " 'helped',\n",
       " 'fund',\n",
       " 'ethereum',\n",
       " 'foundation,',\n",
       " 'supports',\n",
       " \"software's\",\n",
       " 'development.',\n",
       " 'like',\n",
       " 'bitcoin,',\n",
       " 'ethereum',\n",
       " 'succeeded',\n",
       " 'attracting',\n",
       " 'dedicated',\n",
       " 'network',\n",
       " 'followers',\n",
       " 'helped',\n",
       " 'support',\n",
       " 'software,',\n",
       " 'partly',\n",
       " 'hope',\n",
       " 'ether',\n",
       " 'increase',\n",
       " 'value',\n",
       " 'system',\n",
       " 'succeeds.',\n",
       " 'last',\n",
       " 'week,',\n",
       " '5,800',\n",
       " 'computers',\n",
       " 'nodes',\n",
       " 'helping',\n",
       " 'support',\n",
       " 'network',\n",
       " 'around',\n",
       " 'world.',\n",
       " 'bitcoin',\n",
       " 'network',\n",
       " '7,400',\n",
       " 'nodes.',\n",
       " 'one',\n",
       " 'mr.',\n",
       " \"buterin's\",\n",
       " 'co-founders,',\n",
       " 'joseph',\n",
       " 'lubin,',\n",
       " 'set',\n",
       " 'consensys,',\n",
       " 'company',\n",
       " 'based',\n",
       " 'brooklyn',\n",
       " 'hired',\n",
       " '50',\n",
       " 'developers',\n",
       " 'build',\n",
       " 'applications',\n",
       " 'ethereum',\n",
       " 'system,',\n",
       " 'including',\n",
       " 'one',\n",
       " 'enables',\n",
       " 'music',\n",
       " 'distribution',\n",
       " 'another',\n",
       " 'allows',\n",
       " 'new',\n",
       " 'kind',\n",
       " 'financial',\n",
       " 'auditing.',\n",
       " 'consensys',\n",
       " 'offices',\n",
       " 'old',\n",
       " 'industrial',\n",
       " 'building',\n",
       " 'bushwick',\n",
       " 'section',\n",
       " 'brooklyn.',\n",
       " 'office',\n",
       " 'essentially',\n",
       " 'one',\n",
       " 'large',\n",
       " 'room,',\n",
       " 'messy',\n",
       " 'trademarks',\n",
       " 'start-up',\n",
       " 'operation,',\n",
       " 'including',\n",
       " 'white',\n",
       " 'boards',\n",
       " 'walls',\n",
       " 'computer',\n",
       " 'parts',\n",
       " 'lying',\n",
       " 'around.',\n",
       " 'mr.',\n",
       " 'lubin',\n",
       " 'said',\n",
       " 'thrown',\n",
       " 'ethereum',\n",
       " 'starting',\n",
       " 'think',\n",
       " 'delivered',\n",
       " 'failed',\n",
       " 'promise',\n",
       " 'bitcoin,',\n",
       " 'especially',\n",
       " 'came',\n",
       " 'allowing',\n",
       " 'new',\n",
       " 'kinds',\n",
       " 'online',\n",
       " 'contracts',\n",
       " 'markets.',\n",
       " '\"bitcoin',\n",
       " 'presented',\n",
       " 'broad',\n",
       " 'strokes',\n",
       " 'vision,',\n",
       " 'ethereum',\n",
       " 'presented',\n",
       " 'crystallization',\n",
       " 'deliver',\n",
       " 'vision,\"',\n",
       " 'said.',\n",
       " 'joseph',\n",
       " 'bonneau,',\n",
       " 'computer',\n",
       " 'science',\n",
       " 'researcher',\n",
       " 'stanford',\n",
       " 'studies',\n",
       " 'so-called',\n",
       " 'crypto-currencies,',\n",
       " 'said',\n",
       " 'ethereum',\n",
       " 'first',\n",
       " 'system',\n",
       " 'really',\n",
       " 'caught',\n",
       " 'interest',\n",
       " 'since',\n",
       " 'bitcoin.',\n",
       " 'far',\n",
       " 'sure',\n",
       " 'thing,',\n",
       " 'cautioned.',\n",
       " '\"bitcoin',\n",
       " 'still',\n",
       " 'probably',\n",
       " 'safest',\n",
       " 'bet,',\n",
       " 'ethereum',\n",
       " 'certainly',\n",
       " 'no.',\n",
       " '2,',\n",
       " 'folks',\n",
       " 'say',\n",
       " 'likely',\n",
       " 'around',\n",
       " '10',\n",
       " 'years,\"',\n",
       " 'mr.',\n",
       " 'bonneau',\n",
       " 'said.',\n",
       " '\"it',\n",
       " 'depend',\n",
       " 'real',\n",
       " 'markets',\n",
       " 'develop',\n",
       " 'around',\n",
       " 'it.',\n",
       " 'actual',\n",
       " 'application.\"']"
      ]
     },
     "execution_count": 71,
     "metadata": {},
     "output_type": "execute_result"
    }
   ],
   "source": [
    "words_list[0] # Check individual words how it appeares"
   ]
  },
  {
   "cell_type": "code",
   "execution_count": 72,
   "metadata": {
    "id": "QW7INAglo120"
   },
   "outputs": [],
   "source": [
    "# Crete a Gensim Dictionary of wordlist\n",
    "# It assigns each tokens to ID\n",
    "dictionary = Dictionary(words_list) "
   ]
  },
  {
   "cell_type": "code",
   "execution_count": 73,
   "metadata": {
    "colab": {
     "base_uri": "https://localhost:8080/"
    },
    "id": "DcuBdu06o120",
    "outputId": "3b7e5480-0d2e-4a59-de58-1f151023d21b"
   },
   "outputs": [
    {
     "data": {
      "text/plain": [
       "112985"
      ]
     },
     "execution_count": 73,
     "metadata": {},
     "output_type": "execute_result"
    }
   ],
   "source": [
    "len(dictionary) # No of Unique tokens"
   ]
  },
  {
   "cell_type": "code",
   "execution_count": 74,
   "metadata": {
    "id": "q4qUlET2o120"
   },
   "outputs": [],
   "source": [
    "# Check Total no of words in entir corpus\n",
    "number_words = 0\n",
    "for word in words_list:\n",
    "    number_words = number_words + len(word)"
   ]
  },
  {
   "cell_type": "code",
   "execution_count": 75,
   "metadata": {
    "colab": {
     "base_uri": "https://localhost:8080/"
    },
    "id": "d17HcBNVo121",
    "outputId": "7e61de39-536a-45c7-a025-de3e03373105"
   },
   "outputs": [
    {
     "data": {
      "text/plain": [
       "1308443"
      ]
     },
     "execution_count": 75,
     "metadata": {},
     "output_type": "execute_result"
    }
   ],
   "source": [
    "number_words "
   ]
  },
  {
   "cell_type": "code",
   "execution_count": 76,
   "metadata": {
    "colab": {
     "base_uri": "https://localhost:8080/",
     "height": 35
    },
    "id": "wMm2J4_8o121",
    "outputId": "f77205a6-5840-4f46-9018-fc280872290e"
   },
   "outputs": [
    {
     "data": {
      "text/plain": [
       "'project.'"
      ]
     },
     "execution_count": 76,
     "metadata": {},
     "output_type": "execute_result"
    }
   ],
   "source": [
    "dictionary.get(1000) # check random ID corresponding to a token in dictionary"
   ]
  },
  {
   "cell_type": "code",
   "execution_count": 77,
   "metadata": {
    "id": "CeiNIRAfo122"
   },
   "outputs": [],
   "source": [
    "# Convert each word to Bag of Word model \n",
    "\n",
    "corpus = [dictionary.doc2bow(doc) for doc in words_list] "
   ]
  },
  {
   "cell_type": "code",
   "execution_count": 78,
   "metadata": {
    "id": "iZf5y4lZo122"
   },
   "outputs": [],
   "source": [
    "## Convert the above output to TF IDF Model\n",
    "\n",
    "tfidf = TfidfModel(corpus)"
   ]
  },
  {
   "cell_type": "code",
   "execution_count": 79,
   "metadata": {
    "id": "a-FfkcmMo122",
    "scrolled": false
   },
   "outputs": [],
   "source": [
    "# tfidf[corpus[0]]"
   ]
  },
  {
   "cell_type": "code",
   "execution_count": 80,
   "metadata": {
    "id": "nPh1l0buo123"
   },
   "outputs": [],
   "source": [
    "# Create a similarity matrix\n",
    "# Cosine similarity is one of the ways to measure the similarity of two vectors\n",
    "# Genim uses it as default\n",
    "\n",
    "sims = MatrixSimilarity(tfidf[corpus], num_features=len(dictionary))"
   ]
  },
  {
   "cell_type": "code",
   "execution_count": 81,
   "metadata": {
    "colab": {
     "base_uri": "https://localhost:8080/"
    },
    "id": "YoiXuV_Ko123",
    "outputId": "e2da863b-825b-47aa-dec8-be14c2f55c80",
    "scrolled": true
   },
   "outputs": [
    {
     "name": "stdout",
     "output_type": "stream",
     "text": [
      "MatrixSimilarity<2264 docs, 112985 features>\n"
     ]
    }
   ],
   "source": [
    "print(sims)"
   ]
  },
  {
   "cell_type": "markdown",
   "metadata": {
    "id": "HNs2JbkKo123"
   },
   "source": [
    "- __The similarity matrix has 2264 no of rows and 112985 no of features.__"
   ]
  },
  {
   "cell_type": "code",
   "execution_count": 82,
   "metadata": {
    "colab": {
     "base_uri": "https://localhost:8080/"
    },
    "id": "LAsl8BSoo124",
    "outputId": "1884ad98-52c8-4238-8782-5776db7bab1a"
   },
   "outputs": [
    {
     "data": {
      "text/plain": [
       "array([0.        , 0.        , 0.        , ..., 0.21479188, 0.24243058,\n",
       "       0.66375315], dtype=float32)"
      ]
     },
     "execution_count": 82,
     "metadata": {},
     "output_type": "execute_result"
    }
   ],
   "source": [
    "np.sort(sims.index[0])"
   ]
  },
  {
   "cell_type": "code",
   "execution_count": 83,
   "metadata": {
    "colab": {
     "base_uri": "https://localhost:8080/",
     "height": 105
    },
    "id": "_-lOan6vo124",
    "outputId": "ca81c3e2-d04a-46ad-dd88-3fedb72f193d"
   },
   "outputs": [
    {
     "data": {
      "text/plain": [
       "\"Industrial adoption of IoT dubbed as Industrial Internet of Things (IIoT) is on ascend. Yet, near-term adoption of IIoT remains limited to achieving operational efficiency as most companies are unable to leverage IIoT for predictive capabilities that create new business opportunity. This article sheds light on the probable future of IIoT adoption and the imperative for businesses to form IIoT investment strategies. During Digital India Week in July, Prime Minister Modi announced the creation of a Centre of Excellence for Internet of Things. This is a timely intervention, as the Internet of Things, or IoT, will is set to transform technological and economic landscape over the next decade. The IoT will directly alter the Indian economy's industrial sectors, including manufacturing, energy, agriculture and transportation Together, these sectors account for close to half of India's GDP. It will also affect India's consumers, as their everyday devices connect to the Internet through tiny embedded sensors and computing power. The total potential payoff is enormous. The most conservative independent estimates place spending on the IoT worldwide at $500 billion by 2020. More optimistic forecasts peg the market as high as $15 trillion of global GDP by 2030. The Government of India estimates India's share to be between five and six percent of the worldwide IoT market through 2020. While consumer adoption of connected technology will be gradual in the short term, it will increase rapidly over the next decade. However, many industrial companies are already embracing what has been dubbed the Industrial Internet of Things, or IIoT. For example, the number of sensors shipped globally has increased more than five-fold from 4.2 billion units in 2012 to 23.6 billion units in 2014. Operational efficiency is one of the key attractions of the IIoT. Companies are seeking productivity gains that could reach 30 percent. For example, a big area for operational gains is in predictive maintenance of assets. This use of the IIoT could help reduce breakdowns by 70 percent, overall maintenance costs by 30 per cent, and repair costs by 12 per cent, according to estimates. However, there is more to the story. The IIoT can also be an important driver of breakthrough innovation and new growth opportunities. The key is to combine use of big data analytics with IIoT capabilities and technologies. For example, a major automobile manufacturer is pursuing a unique approach to increase value for customers: a flexible, convenient pay-per-use model for city dwellers needing cars. Customers can use an app to find the car that is parked nearest to them. They open the door with a membership card, drive to their destination, and simply park the car on the street and lock it up. This service competes with conventional taxis and hourly car rental services. Customers can choose to pay by the mile, the hour or the day. The rates are lower than for taxis, and there is no need to reserve, return or order a car; the cars can be parked and found anywhere use location sensors. Chart: Business benefits for driving near-term adoption of IIoT Source : Industrial Internet of Things: Unleashing the Potential of Connected Products and Services, WEF, January 2015 But are most companies up for the challenge? Survey results indicate that only 40 per cent can predict outcomes based on existing data, and fewer still (36 percent) can optimize operations from that data. Understandably, initial investments are focused on improving the ability to react and repair and move toward zero unplanned downtime. However, when asked about future plans, respondents stated their priorities in more ambitious plans for IIoT: increasing profitability (60 per cent), gaining a competitive advantage (57 per cent) and improving environmental safety and emissions (55 per cent) represent more pervasive, cross-functional and sophisticated uses of it. At Accenture, we believe that the transition from efficiency to value-enhanced growth is likely to follow four distinct phases. (See Figure) Phases one and two will represent immediate opportunities that drive the near-term adoption, starting with operational efficiency. Phases three and four will include long-term structural changes that are roughly three years away from mainstream adoption. These last two phases will lead to disruptive changes in businesses and industries. They will manifest themselves in the form of the outcome economy and an integrated human-machine workforce. Figure: The adoption and impact path of IIoT Source : Industrial Internet of Things: Unleashing the Potential of Connected Products and Services, WEF, January 2015 The outcome economy will be built on the automated quantification capabilities of the Industrial Internet. The large-scale shift from selling products or services to selling measurable outcomes is a significant change that will redefine the base of competition and industry structures. As the Industrial Internet becomes more ingrained in every industry, it will ultimately lead to a pull-based economy characterized by real-time demand sensing and highly automated, flexible production and fulfilment networks. This development will call for a pervasive use of automation and intelligent machines to complement human labour (machine augmentation). As a result, the face of the future workforce will change dramatically, along with the skill sets required to succeed in a much more automated economy. Yet, it is still early. Numerous technology challenges and important hurdles remain to be overcome. Not all products can or need to be connected. But amid the new, an old truth remains: business customers need products and services that create more value for them than those on offer today. The time to push is now. (Anindya Basu is Country Managing Director for Accenture in India & Prabhjit Didyala, Managing Director, Strategy for Accenture in India)\""
      ]
     },
     "execution_count": 83,
     "metadata": {},
     "output_type": "execute_result"
    }
   ],
   "source": [
    "clean_english_content[\"text_description\"].loc[15]"
   ]
  },
  {
   "cell_type": "code",
   "execution_count": 84,
   "metadata": {
    "id": "NMjwZaz2o125"
   },
   "outputs": [],
   "source": [
    "# All  above steps are combined to a function \n",
    "# 1. get the line from input item id\\\n",
    "# 2. preproces the text\n",
    "# 3. convert text to Bag Of Word Model\n",
    "# 4. convert the regular bag of words model to a tf-idf model\n",
    "# 5. get the array of similarity values between item id and all other items in the dataset\n",
    "# 6. Convert the similairty matrix to a Series and sort it.\n",
    "# 7. returns the sorted similarity output.\n",
    "\n",
    "def news_recommendation(item_id):\n",
    "    news = clean_english_content.loc[english_content.item_index==item_id][\"text_description\"] # get the news row\n",
    "    #preprocessing of text description\n",
    "    keywords = preprocess(news) #get the words as a Series \n",
    "   \n",
    "    query_doc = keywords #set the query_doc to the list of keywords\n",
    "    \n",
    "    query_doc_bow = [dictionary.doc2bow(doc) for doc in query_doc] # get a bag of words from the query_doc\n",
    "    query_doc_tfidf = tfidf[query_doc_bow] #convert the regular bag of words model to a tf-idf model \n",
    "    #where we have tuples of words and it's tf-idf value for the news descriptions\n",
    "\n",
    "    similarity_array = sims[query_doc_tfidf] # get the array of similarity values \n",
    "    #between one News item Text with other News item Text. \n",
    "   \n",
    "\n",
    "    similarity_series = pd.Series(similarity_array.tolist()[0],index=clean_english_content.item_index.values)\n",
    "    similarity_output = similarity_series.sort_values(ascending=False) #Sort the similarity values\n",
    "    return similarity_output \n"
   ]
  },
  {
   "cell_type": "code",
   "execution_count": 85,
   "metadata": {
    "colab": {
     "base_uri": "https://localhost:8080/"
    },
    "id": "eD1Ers_Ro126",
    "outputId": "dc52c3cc-3fff-4e3b-a992-47b1f1054bff",
    "scrolled": false
   },
   "outputs": [
    {
     "data": {
      "text/plain": [
       "1892    1.000000\n",
       "2155    0.070225\n",
       "250     0.069551\n",
       "1717    0.068327\n",
       "593     0.062894\n",
       "1158    0.062251\n",
       "1895    0.061489\n",
       "2055    0.061079\n",
       "1544    0.057910\n",
       "1701    0.057560\n",
       "1313    0.055796\n",
       "dtype: float64"
      ]
     },
     "execution_count": 85,
     "metadata": {},
     "output_type": "execute_result"
    }
   ],
   "source": [
    "#Recommended 10 news items for item index 1892\n",
    "item = 1892\n",
    "content_output_news = news_recommendation(item)\n",
    "content_output_news[:11]"
   ]
  },
  {
   "cell_type": "code",
   "execution_count": 86,
   "metadata": {
    "colab": {
     "base_uri": "https://localhost:8080/"
    },
    "id": "GQhGYRjzo126",
    "outputId": "6a569783-681c-4f02-ce26-734e17c035fb"
   },
   "outputs": [
    {
     "data": {
      "text/plain": [
       "(2264,)"
      ]
     },
     "execution_count": 86,
     "metadata": {},
     "output_type": "execute_result"
    }
   ],
   "source": [
    "content_output_news.shape"
   ]
  },
  {
   "cell_type": "code",
   "execution_count": 87,
   "metadata": {
    "colab": {
     "base_uri": "https://localhost:8080/",
     "height": 394
    },
    "id": "aQ9lfdHdo127",
    "outputId": "c7e02407-e62a-454f-c12a-89974ff2da29",
    "scrolled": true
   },
   "outputs": [
    {
     "data": {
      "text/html": [
       "<div>\n",
       "<style scoped>\n",
       "    .dataframe tbody tr th:only-of-type {\n",
       "        vertical-align: middle;\n",
       "    }\n",
       "\n",
       "    .dataframe tbody tr th {\n",
       "        vertical-align: top;\n",
       "    }\n",
       "\n",
       "    .dataframe thead th {\n",
       "        text-align: right;\n",
       "    }\n",
       "</style>\n",
       "<table border=\"1\" class=\"dataframe\">\n",
       "  <thead>\n",
       "    <tr style=\"text-align: right;\">\n",
       "      <th></th>\n",
       "      <th>item_index</th>\n",
       "      <th>score</th>\n",
       "    </tr>\n",
       "  </thead>\n",
       "  <tbody>\n",
       "    <tr>\n",
       "      <th>0</th>\n",
       "      <td>1892</td>\n",
       "      <td>1.000000</td>\n",
       "    </tr>\n",
       "    <tr>\n",
       "      <th>1</th>\n",
       "      <td>2155</td>\n",
       "      <td>0.070225</td>\n",
       "    </tr>\n",
       "    <tr>\n",
       "      <th>2</th>\n",
       "      <td>250</td>\n",
       "      <td>0.069551</td>\n",
       "    </tr>\n",
       "    <tr>\n",
       "      <th>3</th>\n",
       "      <td>1717</td>\n",
       "      <td>0.068327</td>\n",
       "    </tr>\n",
       "    <tr>\n",
       "      <th>4</th>\n",
       "      <td>593</td>\n",
       "      <td>0.062894</td>\n",
       "    </tr>\n",
       "    <tr>\n",
       "      <th>5</th>\n",
       "      <td>1158</td>\n",
       "      <td>0.062251</td>\n",
       "    </tr>\n",
       "    <tr>\n",
       "      <th>6</th>\n",
       "      <td>1895</td>\n",
       "      <td>0.061489</td>\n",
       "    </tr>\n",
       "    <tr>\n",
       "      <th>7</th>\n",
       "      <td>2055</td>\n",
       "      <td>0.061079</td>\n",
       "    </tr>\n",
       "    <tr>\n",
       "      <th>8</th>\n",
       "      <td>1544</td>\n",
       "      <td>0.057910</td>\n",
       "    </tr>\n",
       "    <tr>\n",
       "      <th>9</th>\n",
       "      <td>1701</td>\n",
       "      <td>0.057560</td>\n",
       "    </tr>\n",
       "    <tr>\n",
       "      <th>10</th>\n",
       "      <td>1313</td>\n",
       "      <td>0.055796</td>\n",
       "    </tr>\n",
       "  </tbody>\n",
       "</table>\n",
       "</div>"
      ],
      "text/plain": [
       "    item_index     score\n",
       "0         1892  1.000000\n",
       "1         2155  0.070225\n",
       "2          250  0.069551\n",
       "3         1717  0.068327\n",
       "4          593  0.062894\n",
       "5         1158  0.062251\n",
       "6         1895  0.061489\n",
       "7         2055  0.061079\n",
       "8         1544  0.057910\n",
       "9         1701  0.057560\n",
       "10        1313  0.055796"
      ]
     },
     "execution_count": 87,
     "metadata": {},
     "output_type": "execute_result"
    }
   ],
   "source": [
    "# Create a DataFrame of the Output\n",
    "news_content_df = pd.DataFrame(content_output_news[:11]).reset_index()\n",
    "news_content_df.columns= [\"item_index\",\"score\"]\n",
    "news_content_df"
   ]
  },
  {
   "cell_type": "markdown",
   "metadata": {
    "id": "iWL2iQ08o128"
   },
   "source": [
    "### Top 10 prediction on Content Based Filtering:"
   ]
  },
  {
   "cell_type": "code",
   "execution_count": 88,
   "metadata": {
    "colab": {
     "base_uri": "https://localhost:8080/",
     "height": 394
    },
    "id": "1twJGyDmo128",
    "outputId": "e2b96a28-da22-4be5-849e-7d2563c330b4"
   },
   "outputs": [
    {
     "data": {
      "text/html": [
       "<div>\n",
       "<style scoped>\n",
       "    .dataframe tbody tr th:only-of-type {\n",
       "        vertical-align: middle;\n",
       "    }\n",
       "\n",
       "    .dataframe tbody tr th {\n",
       "        vertical-align: top;\n",
       "    }\n",
       "\n",
       "    .dataframe thead th {\n",
       "        text-align: right;\n",
       "    }\n",
       "</style>\n",
       "<table border=\"1\" class=\"dataframe\">\n",
       "  <thead>\n",
       "    <tr style=\"text-align: right;\">\n",
       "      <th></th>\n",
       "      <th>item_index</th>\n",
       "      <th>score</th>\n",
       "      <th>title</th>\n",
       "      <th>text_description</th>\n",
       "    </tr>\n",
       "  </thead>\n",
       "  <tbody>\n",
       "    <tr>\n",
       "      <th>0</th>\n",
       "      <td>1892</td>\n",
       "      <td>1.000000</td>\n",
       "      <td>Former NASA chief unveils $100 million neural ...</td>\n",
       "      <td>It's not all that easy to call KnuEdge a start...</td>\n",
       "    </tr>\n",
       "    <tr>\n",
       "      <th>1</th>\n",
       "      <td>2155</td>\n",
       "      <td>0.070225</td>\n",
       "      <td>Voice Search Could Become Mainstream Within th...</td>\n",
       "      <td>Even though people are pretty accustomed by no...</td>\n",
       "    </tr>\n",
       "    <tr>\n",
       "      <th>2</th>\n",
       "      <td>250</td>\n",
       "      <td>0.069551</td>\n",
       "      <td>How Google is Remaking Itself as a \"Machine Le...</td>\n",
       "      <td>If you want to build artificial intelligence i...</td>\n",
       "    </tr>\n",
       "    <tr>\n",
       "      <th>3</th>\n",
       "      <td>1717</td>\n",
       "      <td>0.068327</td>\n",
       "      <td>How Google is Remaking Itself as a \"Machine Le...</td>\n",
       "      <td>If you want to build artificial intelligence i...</td>\n",
       "    </tr>\n",
       "    <tr>\n",
       "      <th>4</th>\n",
       "      <td>593</td>\n",
       "      <td>0.062894</td>\n",
       "      <td>The Man Selling Shovels in the Machine-Learnin...</td>\n",
       "      <td>The Man Selling Shovels in the Machine-Learnin...</td>\n",
       "    </tr>\n",
       "    <tr>\n",
       "      <th>5</th>\n",
       "      <td>1158</td>\n",
       "      <td>0.062251</td>\n",
       "      <td>Machine Learning for Designers</td>\n",
       "      <td>Les machines de l'île (source: By Traaf on Fli...</td>\n",
       "    </tr>\n",
       "    <tr>\n",
       "      <th>6</th>\n",
       "      <td>1895</td>\n",
       "      <td>0.061489</td>\n",
       "      <td>Why Deep Learning Is Suddenly Changing Your Life</td>\n",
       "      <td>Illustration by Justin Metz Decades-old discov...</td>\n",
       "    </tr>\n",
       "    <tr>\n",
       "      <th>7</th>\n",
       "      <td>2055</td>\n",
       "      <td>0.061079</td>\n",
       "      <td>Johnson &amp; Johnson Targets 85% of Apps in Cloud...</td>\n",
       "      <td>Johnson &amp; Johnson is moving aggressively to th...</td>\n",
       "    </tr>\n",
       "    <tr>\n",
       "      <th>8</th>\n",
       "      <td>1544</td>\n",
       "      <td>0.057910</td>\n",
       "      <td>As Artificial Intelligence Evolves, So Does It...</td>\n",
       "      <td>Imagine receiving a phone call from your aging...</td>\n",
       "    </tr>\n",
       "    <tr>\n",
       "      <th>9</th>\n",
       "      <td>1701</td>\n",
       "      <td>0.057560</td>\n",
       "      <td>Google Showcases Its Cloud Efforts, Determined...</td>\n",
       "      <td>In the cloud computing business, Google's tech...</td>\n",
       "    </tr>\n",
       "    <tr>\n",
       "      <th>10</th>\n",
       "      <td>1313</td>\n",
       "      <td>0.055796</td>\n",
       "      <td>Chip Pro sequel to crowdsourced $9 computer se...</td>\n",
       "      <td>Last year, the $9 Chip computer made waves on ...</td>\n",
       "    </tr>\n",
       "  </tbody>\n",
       "</table>\n",
       "</div>"
      ],
      "text/plain": [
       "    item_index     score                                              title  \\\n",
       "0         1892  1.000000  Former NASA chief unveils $100 million neural ...   \n",
       "1         2155  0.070225  Voice Search Could Become Mainstream Within th...   \n",
       "2          250  0.069551  How Google is Remaking Itself as a \"Machine Le...   \n",
       "3         1717  0.068327  How Google is Remaking Itself as a \"Machine Le...   \n",
       "4          593  0.062894  The Man Selling Shovels in the Machine-Learnin...   \n",
       "5         1158  0.062251                     Machine Learning for Designers   \n",
       "6         1895  0.061489   Why Deep Learning Is Suddenly Changing Your Life   \n",
       "7         2055  0.061079  Johnson & Johnson Targets 85% of Apps in Cloud...   \n",
       "8         1544  0.057910  As Artificial Intelligence Evolves, So Does It...   \n",
       "9         1701  0.057560  Google Showcases Its Cloud Efforts, Determined...   \n",
       "10        1313  0.055796  Chip Pro sequel to crowdsourced $9 computer se...   \n",
       "\n",
       "                                     text_description  \n",
       "0   It's not all that easy to call KnuEdge a start...  \n",
       "1   Even though people are pretty accustomed by no...  \n",
       "2   If you want to build artificial intelligence i...  \n",
       "3   If you want to build artificial intelligence i...  \n",
       "4   The Man Selling Shovels in the Machine-Learnin...  \n",
       "5   Les machines de l'île (source: By Traaf on Fli...  \n",
       "6   Illustration by Justin Metz Decades-old discov...  \n",
       "7   Johnson & Johnson is moving aggressively to th...  \n",
       "8   Imagine receiving a phone call from your aging...  \n",
       "9   In the cloud computing business, Google's tech...  \n",
       "10  Last year, the $9 Chip computer made waves on ...  "
      ]
     },
     "execution_count": 88,
     "metadata": {},
     "output_type": "execute_result"
    }
   ],
   "source": [
    "# Merge the output dataframe with news content dataset to get the title\n",
    "pd.merge(news_content_df,clean_english_content,on=\"item_index\",how=\"left\")"
   ]
  },
  {
   "cell_type": "markdown",
   "metadata": {
    "id": "u5-U6812o129"
   },
   "source": [
    "- __The 1st column is the item index of 10 similar news items when compared to item index 1892.__ \n",
    "- __The 2nd column is the similarity score with news item index 1892.__\n"
   ]
  },
  {
   "cell_type": "markdown",
   "metadata": {
    "id": "HyghXQMBo129"
   },
   "source": [
    "## Collaboratve Filtering :\n",
    "- Works by searching a large group of people and finding a smaller set of users with tastes similar to a particular user.\n",
    "- It looks at the items they like and combines them to create a ranked list of suggestions.\n",
    "- Collaborative filtering mostly categorize into -\n",
    "  - Memory based CF.\n",
    "  - Model Based CF.\n",
    "- Memory based is again divided into -\n",
    "    - User based CF.\n",
    "    - Item based CF."
   ]
  },
  {
   "cell_type": "markdown",
   "metadata": {
    "id": "_GB64sMho12-"
   },
   "source": [
    "### User Based Recommendation :\n",
    "- This is based on the simple premise that what a user is more likely to prefer,\n",
    " is highly correlated to what the other users similar to him/her have liked in the past.\n",
    "\n",
    "-  __In User based recommendation, we will be working on Consumer dataset__"
   ]
  },
  {
   "cell_type": "code",
   "execution_count": 89,
   "metadata": {
    "colab": {
     "base_uri": "https://localhost:8080/",
     "height": 206
    },
    "id": "4kisY6pno12_",
    "outputId": "0127c24b-1ef2-4966-d3a2-1f8fcca63fb9"
   },
   "outputs": [
    {
     "data": {
      "text/html": [
       "<div>\n",
       "<style scoped>\n",
       "    .dataframe tbody tr th:only-of-type {\n",
       "        vertical-align: middle;\n",
       "    }\n",
       "\n",
       "    .dataframe tbody tr th {\n",
       "        vertical-align: top;\n",
       "    }\n",
       "\n",
       "    .dataframe thead th {\n",
       "        text-align: right;\n",
       "    }\n",
       "</style>\n",
       "<table border=\"1\" class=\"dataframe\">\n",
       "  <thead>\n",
       "    <tr style=\"text-align: right;\">\n",
       "      <th></th>\n",
       "      <th>event_timestamp</th>\n",
       "      <th>interaction_type</th>\n",
       "      <th>item_id</th>\n",
       "      <th>consumer_id</th>\n",
       "      <th>consumer_session_id</th>\n",
       "      <th>consumer_device_info</th>\n",
       "      <th>consumer_location</th>\n",
       "      <th>country</th>\n",
       "      <th>consumer_index</th>\n",
       "      <th>ratings</th>\n",
       "      <th>item_index</th>\n",
       "    </tr>\n",
       "  </thead>\n",
       "  <tbody>\n",
       "    <tr>\n",
       "      <th>0</th>\n",
       "      <td>1465413032</td>\n",
       "      <td>content_watched</td>\n",
       "      <td>-3499919498720038879</td>\n",
       "      <td>-8845298781299428018</td>\n",
       "      <td>1264196770339959068</td>\n",
       "      <td>NaN</td>\n",
       "      <td>NaN</td>\n",
       "      <td>NaN</td>\n",
       "      <td>33</td>\n",
       "      <td>1</td>\n",
       "      <td>933</td>\n",
       "    </tr>\n",
       "    <tr>\n",
       "      <th>1</th>\n",
       "      <td>1465412560</td>\n",
       "      <td>content_watched</td>\n",
       "      <td>8890720798209849691</td>\n",
       "      <td>-1032019229384696495</td>\n",
       "      <td>3621737643587579081</td>\n",
       "      <td>Mozilla/5.0 (Macintosh; Intel Mac OS X 10_11_2...</td>\n",
       "      <td>NY</td>\n",
       "      <td>US</td>\n",
       "      <td>831</td>\n",
       "      <td>1</td>\n",
       "      <td>2933</td>\n",
       "    </tr>\n",
       "    <tr>\n",
       "      <th>2</th>\n",
       "      <td>1465416190</td>\n",
       "      <td>content_watched</td>\n",
       "      <td>310515487419366995</td>\n",
       "      <td>-1130272294246983140</td>\n",
       "      <td>2631864456530402479</td>\n",
       "      <td>NaN</td>\n",
       "      <td>NaN</td>\n",
       "      <td>NaN</td>\n",
       "      <td>826</td>\n",
       "      <td>1</td>\n",
       "      <td>1537</td>\n",
       "    </tr>\n",
       "    <tr>\n",
       "      <th>3</th>\n",
       "      <td>1465413895</td>\n",
       "      <td>content_followed</td>\n",
       "      <td>310515487419366995</td>\n",
       "      <td>344280948527967603</td>\n",
       "      <td>-3167637573980064150</td>\n",
       "      <td>NaN</td>\n",
       "      <td>NaN</td>\n",
       "      <td>NaN</td>\n",
       "      <td>974</td>\n",
       "      <td>5</td>\n",
       "      <td>1537</td>\n",
       "    </tr>\n",
       "    <tr>\n",
       "      <th>4</th>\n",
       "      <td>1465412290</td>\n",
       "      <td>content_watched</td>\n",
       "      <td>-7820640624231356730</td>\n",
       "      <td>-445337111692715325</td>\n",
       "      <td>561148 1178424124714</td>\n",
       "      <td>NaN</td>\n",
       "      <td>NaN</td>\n",
       "      <td>NaN</td>\n",
       "      <td>887</td>\n",
       "      <td>1</td>\n",
       "      <td>246</td>\n",
       "    </tr>\n",
       "  </tbody>\n",
       "</table>\n",
       "</div>"
      ],
      "text/plain": [
       "   event_timestamp  interaction_type              item_id  \\\n",
       "0       1465413032   content_watched -3499919498720038879   \n",
       "1       1465412560   content_watched  8890720798209849691   \n",
       "2       1465416190   content_watched   310515487419366995   \n",
       "3       1465413895  content_followed   310515487419366995   \n",
       "4       1465412290   content_watched -7820640624231356730   \n",
       "\n",
       "           consumer_id   consumer_session_id  \\\n",
       "0 -8845298781299428018   1264196770339959068   \n",
       "1 -1032019229384696495   3621737643587579081   \n",
       "2 -1130272294246983140   2631864456530402479   \n",
       "3   344280948527967603  -3167637573980064150   \n",
       "4  -445337111692715325  561148 1178424124714   \n",
       "\n",
       "                                consumer_device_info consumer_location  \\\n",
       "0                                                NaN               NaN   \n",
       "1  Mozilla/5.0 (Macintosh; Intel Mac OS X 10_11_2...                NY   \n",
       "2                                                NaN               NaN   \n",
       "3                                                NaN               NaN   \n",
       "4                                                NaN               NaN   \n",
       "\n",
       "  country  consumer_index  ratings  item_index  \n",
       "0     NaN              33        1         933  \n",
       "1      US             831        1        2933  \n",
       "2     NaN             826        1        1537  \n",
       "3     NaN             974        5        1537  \n",
       "4     NaN             887        1         246  "
      ]
     },
     "execution_count": 89,
     "metadata": {},
     "output_type": "execute_result"
    }
   ],
   "source": [
    "\n",
    "consumer_data.head()"
   ]
  },
  {
   "cell_type": "code",
   "execution_count": 90,
   "metadata": {
    "id": "kV4mpjoWo12_"
   },
   "outputs": [],
   "source": [
    "# remove the unwanted column and create a new dataframe with Consumer index,item index and ratings\n",
    "clean_consumer = consumer_data.iloc[:,[8,10,9]]"
   ]
  },
  {
   "cell_type": "code",
   "execution_count": 91,
   "metadata": {
    "colab": {
     "base_uri": "https://localhost:8080/",
     "height": 206
    },
    "id": "l6y4EWpgo13A",
    "outputId": "8d8516db-2c03-4ff4-e2c0-48a5829cada1"
   },
   "outputs": [
    {
     "data": {
      "text/html": [
       "<div>\n",
       "<style scoped>\n",
       "    .dataframe tbody tr th:only-of-type {\n",
       "        vertical-align: middle;\n",
       "    }\n",
       "\n",
       "    .dataframe tbody tr th {\n",
       "        vertical-align: top;\n",
       "    }\n",
       "\n",
       "    .dataframe thead th {\n",
       "        text-align: right;\n",
       "    }\n",
       "</style>\n",
       "<table border=\"1\" class=\"dataframe\">\n",
       "  <thead>\n",
       "    <tr style=\"text-align: right;\">\n",
       "      <th></th>\n",
       "      <th>consumer_index</th>\n",
       "      <th>item_index</th>\n",
       "      <th>ratings</th>\n",
       "    </tr>\n",
       "  </thead>\n",
       "  <tbody>\n",
       "    <tr>\n",
       "      <th>0</th>\n",
       "      <td>33</td>\n",
       "      <td>933</td>\n",
       "      <td>1</td>\n",
       "    </tr>\n",
       "    <tr>\n",
       "      <th>1</th>\n",
       "      <td>831</td>\n",
       "      <td>2933</td>\n",
       "      <td>1</td>\n",
       "    </tr>\n",
       "    <tr>\n",
       "      <th>2</th>\n",
       "      <td>826</td>\n",
       "      <td>1537</td>\n",
       "      <td>1</td>\n",
       "    </tr>\n",
       "    <tr>\n",
       "      <th>3</th>\n",
       "      <td>974</td>\n",
       "      <td>1537</td>\n",
       "      <td>5</td>\n",
       "    </tr>\n",
       "    <tr>\n",
       "      <th>4</th>\n",
       "      <td>887</td>\n",
       "      <td>246</td>\n",
       "      <td>1</td>\n",
       "    </tr>\n",
       "  </tbody>\n",
       "</table>\n",
       "</div>"
      ],
      "text/plain": [
       "   consumer_index  item_index  ratings\n",
       "0              33         933        1\n",
       "1             831        2933        1\n",
       "2             826        1537        1\n",
       "3             974        1537        5\n",
       "4             887         246        1"
      ]
     },
     "execution_count": 91,
     "metadata": {},
     "output_type": "execute_result"
    }
   ],
   "source": [
    "clean_consumer.head()"
   ]
  },
  {
   "cell_type": "code",
   "execution_count": 92,
   "metadata": {
    "colab": {
     "base_uri": "https://localhost:8080/"
    },
    "id": "PWkRLoJYo13A",
    "outputId": "fb01cf04-7a94-47da-a099-4922b168e880"
   },
   "outputs": [
    {
     "data": {
      "text/plain": [
       "(72312, 3)"
      ]
     },
     "execution_count": 92,
     "metadata": {},
     "output_type": "execute_result"
    }
   ],
   "source": [
    "# check the shape\n",
    "clean_consumer.shape"
   ]
  },
  {
   "cell_type": "code",
   "execution_count": 93,
   "metadata": {
    "colab": {
     "base_uri": "https://localhost:8080/"
    },
    "id": "H0C4_mKeo13B",
    "outputId": "17dbfd0d-3c97-42f9-b7e4-b5ea7355e502"
   },
   "outputs": [
    {
     "name": "stdout",
     "output_type": "stream",
     "text": [
      "No of  unique Items: 2987\n",
      "No of  unique Users: 1895\n"
     ]
    }
   ],
   "source": [
    "# check the no of unique items\n",
    "n_items = clean_consumer.item_index.nunique()\n",
    "\n",
    "# check the no of unique consusmers\n",
    "n_users = clean_consumer.consumer_index.nunique()\n",
    "print(f\"No of  unique Items: {n_items}\" )\n",
    "print(f\"No of  unique Users: {n_users}\")"
   ]
  },
  {
   "cell_type": "markdown",
   "metadata": {
    "id": "jwNQ57xio13C"
   },
   "source": [
    "### Train Test Split:"
   ]
  },
  {
   "cell_type": "code",
   "execution_count": 94,
   "metadata": {
    "id": "XTdJNH00o13C"
   },
   "outputs": [],
   "source": [
    "# Split the complete datset to Train and test data\n",
    "from sklearn.model_selection import train_test_split\n",
    "train, test = train_test_split(clean_consumer, test_size=0.30, random_state=42)"
   ]
  },
  {
   "cell_type": "markdown",
   "metadata": {
    "id": "pzWKv5bpo13D"
   },
   "source": [
    "### Create Empty data matrix  with User and News Item"
   ]
  },
  {
   "cell_type": "code",
   "execution_count": 95,
   "metadata": {
    "id": "TOTtf0Mio13E"
   },
   "outputs": [],
   "source": [
    "# create training empty matrix and later fill the matrix with user, items, and ratings\n",
    "# each row represents a user, whereas the columns correspond to different items.\n",
    "\n",
    "data_matrix_train = np.zeros((n_users, n_items))"
   ]
  },
  {
   "cell_type": "code",
   "execution_count": 96,
   "metadata": {
    "colab": {
     "base_uri": "https://localhost:8080/"
    },
    "id": "69Vkw8rno13E",
    "outputId": "a62c8708-559a-4ef0-8745-0e85ebac0e0b"
   },
   "outputs": [
    {
     "data": {
      "text/plain": [
       "array([[0., 0., 0., ..., 0., 0., 0.],\n",
       "       [0., 0., 0., ..., 0., 0., 0.],\n",
       "       [0., 0., 0., ..., 0., 0., 0.],\n",
       "       ...,\n",
       "       [0., 0., 0., ..., 0., 0., 0.],\n",
       "       [0., 0., 0., ..., 0., 0., 0.],\n",
       "       [0., 0., 0., ..., 0., 0., 0.]])"
      ]
     },
     "execution_count": 96,
     "metadata": {},
     "output_type": "execute_result"
    }
   ],
   "source": [
    "data_matrix_train"
   ]
  },
  {
   "cell_type": "code",
   "execution_count": 97,
   "metadata": {
    "colab": {
     "base_uri": "https://localhost:8080/"
    },
    "id": "8SHvnTf7o13F",
    "outputId": "d8af27a4-57c9-4ca5-a85f-8be4c9b3bd28",
    "scrolled": true
   },
   "outputs": [
    {
     "data": {
      "text/plain": [
       "(1895, 2987)"
      ]
     },
     "execution_count": 97,
     "metadata": {},
     "output_type": "execute_result"
    }
   ],
   "source": [
    "data_matrix_train.shape #check matrix shape"
   ]
  },
  {
   "cell_type": "code",
   "execution_count": 98,
   "metadata": {
    "colab": {
     "base_uri": "https://localhost:8080/"
    },
    "id": "XVY_Saryo13G",
    "outputId": "0507ae87-f899-4ae1-c56c-cacfed8ef279"
   },
   "outputs": [
    {
     "data": {
      "text/plain": [
       "(50618, 3)"
      ]
     },
     "execution_count": 98,
     "metadata": {},
     "output_type": "execute_result"
    }
   ],
   "source": [
    "train.shape"
   ]
  },
  {
   "cell_type": "code",
   "execution_count": 99,
   "metadata": {
    "id": "pB2qKT6ho13G"
   },
   "outputs": [],
   "source": [
    "#fill the matrix with training data\n",
    "#each row index represent user and and column index represent items and values represent ratings\n",
    "for line in train.itertuples():\n",
    "#     print(line[1]-1,line[2]-1,line[3])\n",
    "#     break\n",
    "    data_matrix_train[line[1]-1, line[2]-1] = line[3]"
   ]
  },
  {
   "cell_type": "code",
   "execution_count": 100,
   "metadata": {
    "colab": {
     "base_uri": "https://localhost:8080/"
    },
    "id": "4jRmqoGjo13H",
    "outputId": "423d33df-69eb-4b58-9aec-ec73de49c31d"
   },
   "outputs": [
    {
     "data": {
      "text/plain": [
       "(1895, 2987)"
      ]
     },
     "execution_count": 100,
     "metadata": {},
     "output_type": "execute_result"
    }
   ],
   "source": [
    "data_matrix_train.shape"
   ]
  },
  {
   "cell_type": "code",
   "execution_count": 101,
   "metadata": {
    "colab": {
     "base_uri": "https://localhost:8080/"
    },
    "id": "Uq9EOc4Co13H",
    "outputId": "60c55a77-2a20-4c36-ba68-38e877508d8e",
    "scrolled": false
   },
   "outputs": [
    {
     "data": {
      "text/plain": [
       "(array([   0,    0,    0, ..., 1894, 1894, 1894], dtype=int64),\n",
       " array([1153, 1321, 1765, ..., 2834, 2835, 2945], dtype=int64))"
      ]
     },
     "execution_count": 101,
     "metadata": {},
     "output_type": "execute_result"
    }
   ],
   "source": [
    "data_matrix_train.nonzero()"
   ]
  },
  {
   "cell_type": "code",
   "execution_count": 102,
   "metadata": {
    "id": "FZl9vRkSo13I"
   },
   "outputs": [],
   "source": [
    "data_matrix_test = np.zeros((n_users, n_items))"
   ]
  },
  {
   "cell_type": "code",
   "execution_count": 103,
   "metadata": {
    "id": "R6gPTxOEo13J"
   },
   "outputs": [],
   "source": [
    "#fill the matrix with test data\n",
    "#each row index represent user and and column index represent items and values represent ratings\n",
    "for line in test.itertuples():\n",
    "#     print(line[1]-1,line[2]-1,line[3])\n",
    "#     break\n",
    "    data_matrix_test[line[1]-1, line[2]-1] = line[3]"
   ]
  },
  {
   "cell_type": "code",
   "execution_count": 104,
   "metadata": {
    "colab": {
     "base_uri": "https://localhost:8080/"
    },
    "id": "_nsLKkggo13J",
    "outputId": "653e4a57-e0db-458b-b1e5-471b4968ea28"
   },
   "outputs": [
    {
     "data": {
      "text/plain": [
       "(1895, 2987)"
      ]
     },
     "execution_count": 104,
     "metadata": {},
     "output_type": "execute_result"
    }
   ],
   "source": [
    "data_matrix_test.shape"
   ]
  },
  {
   "cell_type": "code",
   "execution_count": 105,
   "metadata": {
    "colab": {
     "base_uri": "https://localhost:8080/"
    },
    "id": "AktSOT-io13K",
    "outputId": "0d50de2a-4e4c-44b2-f99f-b686bfc27389"
   },
   "outputs": [
    {
     "data": {
      "text/plain": [
       "array([[0., 0., 0., ..., 0., 0., 0.],\n",
       "       [1., 0., 0., ..., 0., 0., 0.],\n",
       "       [0., 0., 0., ..., 0., 0., 0.],\n",
       "       ...,\n",
       "       [0., 0., 0., ..., 0., 0., 0.],\n",
       "       [0., 0., 0., ..., 0., 0., 0.],\n",
       "       [0., 0., 0., ..., 0., 0., 0.]])"
      ]
     },
     "execution_count": 105,
     "metadata": {},
     "output_type": "execute_result"
    }
   ],
   "source": [
    "data_matrix_test"
   ]
  },
  {
   "cell_type": "code",
   "execution_count": 106,
   "metadata": {
    "id": "fIR1FmLDo13K"
   },
   "outputs": [],
   "source": [
    "data_matrix_full = np.zeros((n_users, n_items))"
   ]
  },
  {
   "cell_type": "code",
   "execution_count": 107,
   "metadata": {
    "id": "o5cRRVYxo13L"
   },
   "outputs": [],
   "source": [
    "#fill the matrix with all consumer data\n",
    "#each row index represent user and and column index represent items and values represent ratings\n",
    "\n",
    "for line in clean_consumer.itertuples():\n",
    "    data_matrix_full[line[1]-1, line[2]-1] = line[3]"
   ]
  },
  {
   "cell_type": "code",
   "execution_count": 108,
   "metadata": {
    "colab": {
     "base_uri": "https://localhost:8080/"
    },
    "id": "Y9aGEuJqo13L",
    "outputId": "3ecec98e-2c0a-4df6-f9a0-bf3064ffee57"
   },
   "outputs": [
    {
     "data": {
      "text/plain": [
       "array([[0., 0., 0., ..., 0., 0., 0.],\n",
       "       [1., 0., 0., ..., 0., 0., 0.],\n",
       "       [0., 0., 0., ..., 0., 0., 0.],\n",
       "       ...,\n",
       "       [0., 0., 0., ..., 0., 0., 0.],\n",
       "       [0., 0., 0., ..., 0., 0., 0.],\n",
       "       [0., 0., 0., ..., 0., 0., 0.]])"
      ]
     },
     "execution_count": 108,
     "metadata": {},
     "output_type": "execute_result"
    }
   ],
   "source": [
    "data_matrix_full"
   ]
  },
  {
   "cell_type": "code",
   "execution_count": 109,
   "metadata": {
    "id": "JtRXQ_e4o13M"
   },
   "outputs": [],
   "source": [
    " #data_matrix_all = pd.pivot_table(clean_consumer,index=\"consumer_index\",columns=\"item_index\",values=\"ratings\").fillna(0)"
   ]
  },
  {
   "cell_type": "markdown",
   "metadata": {
    "id": "JbrNSk91o13M"
   },
   "source": [
    "### User Based collaborative filtering:"
   ]
  },
  {
   "cell_type": "markdown",
   "metadata": {
    "id": "X0Yyhe6fo13N"
   },
   "source": [
    "#### Get User Similarity by calculating pairwise distances."
   ]
  },
  {
   "cell_type": "code",
   "execution_count": 110,
   "metadata": {
    "id": "BHGFwtvko13N"
   },
   "outputs": [],
   "source": [
    "# Calculate user similarity with cosine distance \n",
    "from sklearn.metrics.pairwise import pairwise_distances\n",
    "\n",
    "user_similarity = 1- pairwise_distances(data_matrix_train, metric='cosine')"
   ]
  },
  {
   "cell_type": "code",
   "execution_count": 111,
   "metadata": {
    "colab": {
     "base_uri": "https://localhost:8080/"
    },
    "id": "cUvBBDxpo13O",
    "outputId": "3905b38c-a41c-4903-8dab-46f6514617a8"
   },
   "outputs": [
    {
     "data": {
      "text/plain": [
       "array([0.10910895, 0.02065041, 0.07968191, ..., 0.04688072, 0.04688072,\n",
       "       0.02999813])"
      ]
     },
     "execution_count": 111,
     "metadata": {},
     "output_type": "execute_result"
    }
   ],
   "source": [
    "user_similarity[(user_similarity<1) & (user_similarity!=0)]"
   ]
  },
  {
   "cell_type": "code",
   "execution_count": 112,
   "metadata": {
    "colab": {
     "base_uri": "https://localhost:8080/"
    },
    "id": "euum7eJbo13O",
    "outputId": "7d0e21d7-a76b-4792-c193-3c7b70d73831"
   },
   "outputs": [
    {
     "data": {
      "text/plain": [
       "(1895, 1895)"
      ]
     },
     "execution_count": 112,
     "metadata": {},
     "output_type": "execute_result"
    }
   ],
   "source": [
    "user_similarity.shape # No of users are 1895"
   ]
  },
  {
   "cell_type": "code",
   "execution_count": 113,
   "metadata": {
    "colab": {
     "base_uri": "https://localhost:8080/"
    },
    "id": "yNbb7uhwo13P",
    "outputId": "b1560494-0f21-4584-eb6c-543113a27047"
   },
   "outputs": [
    {
     "data": {
      "text/plain": [
       "array([[1.        , 0.        , 0.        , ..., 0.        , 0.        ,\n",
       "        0.        ],\n",
       "       [0.        , 1.        , 0.        , ..., 0.15384615, 0.        ,\n",
       "        0.        ],\n",
       "       [0.        , 0.        , 1.        , ..., 0.        , 0.        ,\n",
       "        0.1069045 ],\n",
       "       ...,\n",
       "       [0.        , 0.15384615, 0.        , ..., 1.        , 0.        ,\n",
       "        0.04688072],\n",
       "       [0.        , 0.        , 0.        , ..., 0.        , 1.        ,\n",
       "        0.02999813],\n",
       "       [0.        , 0.        , 0.1069045 , ..., 0.04688072, 0.02999813,\n",
       "        1.        ]])"
      ]
     },
     "execution_count": 113,
     "metadata": {},
     "output_type": "execute_result"
    }
   ],
   "source": [
    "user_similarity"
   ]
  },
  {
   "cell_type": "markdown",
   "metadata": {
    "id": "i5B7dpFHo13Q"
   },
   "source": [
    "### Item based Collaborative Filtering :"
   ]
  },
  {
   "cell_type": "markdown",
   "metadata": {
    "id": "0gUa3Mdbo13Q"
   },
   "source": [
    "#### Get Item Similarity by calculating pairwise distances:"
   ]
  },
  {
   "cell_type": "code",
   "execution_count": 114,
   "metadata": {
    "colab": {
     "base_uri": "https://localhost:8080/"
    },
    "id": "NKHuiPOFo13R",
    "outputId": "374ea0ee-0665-4e6d-adb1-023fb3d7cde7"
   },
   "outputs": [
    {
     "data": {
      "text/plain": [
       "array([[1.        , 0.        , 0.        , ..., 0.        , 0.        ,\n",
       "        0.        ],\n",
       "       [0.        , 1.        , 0.06163336, ..., 0.08399211, 0.        ,\n",
       "        0.        ],\n",
       "       [0.        , 0.06163336, 1.        , ..., 0.17471414, 0.        ,\n",
       "        0.05661385],\n",
       "       ...,\n",
       "       [0.        , 0.08399211, 0.17471414, ..., 1.        , 0.        ,\n",
       "        0.        ],\n",
       "       [0.        , 0.        , 0.        , ..., 0.        , 1.        ,\n",
       "        0.        ],\n",
       "       [0.        , 0.        , 0.05661385, ..., 0.        , 0.        ,\n",
       "        1.        ]])"
      ]
     },
     "execution_count": 114,
     "metadata": {},
     "output_type": "execute_result"
    }
   ],
   "source": [
    "# Calculate the cosine item similarity by taking transpose of data matrix train \n",
    "item_similarity = 1-pairwise_distances(data_matrix_train.T, metric='cosine')\n",
    "item_similarity"
   ]
  },
  {
   "cell_type": "code",
   "execution_count": 115,
   "metadata": {
    "colab": {
     "base_uri": "https://localhost:8080/"
    },
    "id": "Hqx0B6Lko13R",
    "outputId": "3f6dbfd2-6db7-4ba0-d01f-5393ac1dac47",
    "scrolled": true
   },
   "outputs": [
    {
     "data": {
      "text/plain": [
       "(2987, 2987)"
      ]
     },
     "execution_count": 115,
     "metadata": {},
     "output_type": "execute_result"
    }
   ],
   "source": [
    "item_similarity.shape # No of items are 2987"
   ]
  },
  {
   "cell_type": "code",
   "execution_count": 116,
   "metadata": {
    "colab": {
     "base_uri": "https://localhost:8080/"
    },
    "id": "TFdbEUMro13S",
    "outputId": "605c62ee-4196-4872-daa1-94d782e52e1e"
   },
   "outputs": [
    {
     "data": {
      "text/plain": [
       "(1895, 1895)"
      ]
     },
     "execution_count": 116,
     "metadata": {},
     "output_type": "execute_result"
    }
   ],
   "source": [
    "user_similarity.shape"
   ]
  },
  {
   "cell_type": "markdown",
   "metadata": {
    "id": "4d75Goqvo13T"
   },
   "source": [
    "### Dot product of Data Matrix with similarity matrix\n",
    "\n",
    "- We have calculated users and nw items pairwise by using similarity distance based on the cosine similarity measure.\n",
    "- The dot product of the data matrix with this similarity matrix gave all the predicted ratings for the news items.\n",
    "- Finally,we have used these predictions to recommend the top ten new items for consumer index 76."
   ]
  },
  {
   "cell_type": "code",
   "execution_count": 117,
   "metadata": {
    "id": "Gvf0nbsro13T"
   },
   "outputs": [],
   "source": [
    "# Get the item prediction taking dot product of user similarity and test data matrix\n",
    "item_prediction = np.dot(user_similarity,data_matrix_test)"
   ]
  },
  {
   "cell_type": "code",
   "execution_count": 118,
   "metadata": {
    "colab": {
     "base_uri": "https://localhost:8080/"
    },
    "id": "6LDWsmIBo13U",
    "outputId": "4fc7d29a-e311-41d0-c0a1-12b9963be5f6"
   },
   "outputs": [
    {
     "data": {
      "text/plain": [
       "array([[0.62057454, 0.07112096, 0.30950479, ..., 0.24053081, 0.        ,\n",
       "        0.11399657],\n",
       "       [3.29056256, 0.08054275, 0.42022854, ..., 0.06052275, 0.        ,\n",
       "        0.0410889 ],\n",
       "       [0.048795  , 0.10724958, 0.07948031, ..., 0.04323377, 0.        ,\n",
       "        0.34754887],\n",
       "       ...,\n",
       "       [0.35685561, 0.35476435, 0.6354166 , ..., 0.24827113, 0.        ,\n",
       "        0.14633119],\n",
       "       [0.15160347, 0.56426279, 0.80650212, ..., 0.39841756, 0.00800102,\n",
       "        0.11168594],\n",
       "       [0.24468843, 0.39819056, 0.82855359, ..., 0.58208307, 0.09144599,\n",
       "        0.83597831]])"
      ]
     },
     "execution_count": 118,
     "metadata": {},
     "output_type": "execute_result"
    }
   ],
   "source": [
    "item_prediction"
   ]
  },
  {
   "cell_type": "code",
   "execution_count": 119,
   "metadata": {
    "colab": {
     "base_uri": "https://localhost:8080/"
    },
    "id": "yxFVM4j7o13U",
    "outputId": "e3e10d19-ebd2-41fd-f469-1fce29f3649f"
   },
   "outputs": [
    {
     "data": {
      "text/plain": [
       "(1895, 2987)"
      ]
     },
     "execution_count": 119,
     "metadata": {},
     "output_type": "execute_result"
    }
   ],
   "source": [
    "item_prediction.shape  # check the item prediction shape"
   ]
  },
  {
   "cell_type": "code",
   "execution_count": 120,
   "metadata": {
    "colab": {
     "base_uri": "https://localhost:8080/"
    },
    "id": "kQAxmfPQo13V",
    "outputId": "15beff46-f296-4f09-e138-e9f1468eb836"
   },
   "outputs": [
    {
     "data": {
      "text/plain": [
       "(1895, 1895)"
      ]
     },
     "execution_count": 120,
     "metadata": {},
     "output_type": "execute_result"
    }
   ],
   "source": [
    "user_similarity.shape"
   ]
  },
  {
   "cell_type": "code",
   "execution_count": 121,
   "metadata": {
    "id": "pjvjhxqzo13V"
   },
   "outputs": [],
   "source": [
    "# Create  a Item prediction dataframe for ease of interpretations\n",
    "prediction_df = pd.DataFrame(item_prediction) "
   ]
  },
  {
   "cell_type": "code",
   "execution_count": 122,
   "metadata": {
    "colab": {
     "base_uri": "https://localhost:8080/",
     "height": 300
    },
    "id": "9kZBe-0ro13W",
    "outputId": "1bcf9088-40cb-43a7-a89d-6377d41d6227",
    "scrolled": true
   },
   "outputs": [
    {
     "data": {
      "text/html": [
       "<div>\n",
       "<style scoped>\n",
       "    .dataframe tbody tr th:only-of-type {\n",
       "        vertical-align: middle;\n",
       "    }\n",
       "\n",
       "    .dataframe tbody tr th {\n",
       "        vertical-align: top;\n",
       "    }\n",
       "\n",
       "    .dataframe thead th {\n",
       "        text-align: right;\n",
       "    }\n",
       "</style>\n",
       "<table border=\"1\" class=\"dataframe\">\n",
       "  <thead>\n",
       "    <tr style=\"text-align: right;\">\n",
       "      <th></th>\n",
       "      <th>0</th>\n",
       "      <th>1</th>\n",
       "      <th>2</th>\n",
       "      <th>3</th>\n",
       "      <th>4</th>\n",
       "      <th>5</th>\n",
       "      <th>6</th>\n",
       "      <th>7</th>\n",
       "      <th>8</th>\n",
       "      <th>9</th>\n",
       "      <th>...</th>\n",
       "      <th>2977</th>\n",
       "      <th>2978</th>\n",
       "      <th>2979</th>\n",
       "      <th>2980</th>\n",
       "      <th>2981</th>\n",
       "      <th>2982</th>\n",
       "      <th>2983</th>\n",
       "      <th>2984</th>\n",
       "      <th>2985</th>\n",
       "      <th>2986</th>\n",
       "    </tr>\n",
       "  </thead>\n",
       "  <tbody>\n",
       "    <tr>\n",
       "      <th>0</th>\n",
       "      <td>0.620575</td>\n",
       "      <td>0.071121</td>\n",
       "      <td>0.309505</td>\n",
       "      <td>0.0</td>\n",
       "      <td>0.133500</td>\n",
       "      <td>0.0</td>\n",
       "      <td>0.066026</td>\n",
       "      <td>0.119523</td>\n",
       "      <td>0.000000</td>\n",
       "      <td>0.153990</td>\n",
       "      <td>...</td>\n",
       "      <td>0.102276</td>\n",
       "      <td>0.037526</td>\n",
       "      <td>0.028499</td>\n",
       "      <td>0.058398</td>\n",
       "      <td>0.012218</td>\n",
       "      <td>0.067035</td>\n",
       "      <td>0.127418</td>\n",
       "      <td>0.240531</td>\n",
       "      <td>0.000000</td>\n",
       "      <td>0.113997</td>\n",
       "    </tr>\n",
       "    <tr>\n",
       "      <th>1</th>\n",
       "      <td>3.290563</td>\n",
       "      <td>0.080543</td>\n",
       "      <td>0.420229</td>\n",
       "      <td>0.0</td>\n",
       "      <td>0.140258</td>\n",
       "      <td>0.0</td>\n",
       "      <td>0.223216</td>\n",
       "      <td>0.000000</td>\n",
       "      <td>0.090515</td>\n",
       "      <td>0.054656</td>\n",
       "      <td>...</td>\n",
       "      <td>0.053201</td>\n",
       "      <td>0.000000</td>\n",
       "      <td>0.020544</td>\n",
       "      <td>0.028569</td>\n",
       "      <td>0.017931</td>\n",
       "      <td>0.135295</td>\n",
       "      <td>0.000000</td>\n",
       "      <td>0.060523</td>\n",
       "      <td>0.000000</td>\n",
       "      <td>0.041089</td>\n",
       "    </tr>\n",
       "    <tr>\n",
       "      <th>2</th>\n",
       "      <td>0.048795</td>\n",
       "      <td>0.107250</td>\n",
       "      <td>0.079480</td>\n",
       "      <td>0.0</td>\n",
       "      <td>0.000000</td>\n",
       "      <td>0.0</td>\n",
       "      <td>0.082545</td>\n",
       "      <td>0.000000</td>\n",
       "      <td>0.051602</td>\n",
       "      <td>0.000000</td>\n",
       "      <td>...</td>\n",
       "      <td>0.073723</td>\n",
       "      <td>0.079277</td>\n",
       "      <td>0.146343</td>\n",
       "      <td>0.000000</td>\n",
       "      <td>0.030667</td>\n",
       "      <td>0.092915</td>\n",
       "      <td>0.239766</td>\n",
       "      <td>0.043234</td>\n",
       "      <td>0.000000</td>\n",
       "      <td>0.347549</td>\n",
       "    </tr>\n",
       "    <tr>\n",
       "      <th>3</th>\n",
       "      <td>0.000000</td>\n",
       "      <td>0.444556</td>\n",
       "      <td>0.161440</td>\n",
       "      <td>0.0</td>\n",
       "      <td>0.176895</td>\n",
       "      <td>0.0</td>\n",
       "      <td>0.000000</td>\n",
       "      <td>0.023570</td>\n",
       "      <td>0.000000</td>\n",
       "      <td>0.084744</td>\n",
       "      <td>...</td>\n",
       "      <td>0.000000</td>\n",
       "      <td>0.000000</td>\n",
       "      <td>0.034816</td>\n",
       "      <td>0.000000</td>\n",
       "      <td>0.014456</td>\n",
       "      <td>0.034100</td>\n",
       "      <td>0.015881</td>\n",
       "      <td>0.061142</td>\n",
       "      <td>0.040324</td>\n",
       "      <td>0.034816</td>\n",
       "    </tr>\n",
       "    <tr>\n",
       "      <th>4</th>\n",
       "      <td>0.158114</td>\n",
       "      <td>0.106075</td>\n",
       "      <td>0.297068</td>\n",
       "      <td>0.0</td>\n",
       "      <td>0.115453</td>\n",
       "      <td>0.0</td>\n",
       "      <td>0.008886</td>\n",
       "      <td>0.018634</td>\n",
       "      <td>0.000000</td>\n",
       "      <td>0.018634</td>\n",
       "      <td>...</td>\n",
       "      <td>0.038072</td>\n",
       "      <td>0.048925</td>\n",
       "      <td>0.008886</td>\n",
       "      <td>0.036418</td>\n",
       "      <td>0.070354</td>\n",
       "      <td>0.132026</td>\n",
       "      <td>0.127301</td>\n",
       "      <td>0.370559</td>\n",
       "      <td>0.000000</td>\n",
       "      <td>0.035545</td>\n",
       "    </tr>\n",
       "  </tbody>\n",
       "</table>\n",
       "<p>5 rows × 2987 columns</p>\n",
       "</div>"
      ],
      "text/plain": [
       "       0         1         2     3         4     5         6         7     \\\n",
       "0  0.620575  0.071121  0.309505   0.0  0.133500   0.0  0.066026  0.119523   \n",
       "1  3.290563  0.080543  0.420229   0.0  0.140258   0.0  0.223216  0.000000   \n",
       "2  0.048795  0.107250  0.079480   0.0  0.000000   0.0  0.082545  0.000000   \n",
       "3  0.000000  0.444556  0.161440   0.0  0.176895   0.0  0.000000  0.023570   \n",
       "4  0.158114  0.106075  0.297068   0.0  0.115453   0.0  0.008886  0.018634   \n",
       "\n",
       "       8         9     ...      2977      2978      2979      2980      2981  \\\n",
       "0  0.000000  0.153990  ...  0.102276  0.037526  0.028499  0.058398  0.012218   \n",
       "1  0.090515  0.054656  ...  0.053201  0.000000  0.020544  0.028569  0.017931   \n",
       "2  0.051602  0.000000  ...  0.073723  0.079277  0.146343  0.000000  0.030667   \n",
       "3  0.000000  0.084744  ...  0.000000  0.000000  0.034816  0.000000  0.014456   \n",
       "4  0.000000  0.018634  ...  0.038072  0.048925  0.008886  0.036418  0.070354   \n",
       "\n",
       "       2982      2983      2984      2985      2986  \n",
       "0  0.067035  0.127418  0.240531  0.000000  0.113997  \n",
       "1  0.135295  0.000000  0.060523  0.000000  0.041089  \n",
       "2  0.092915  0.239766  0.043234  0.000000  0.347549  \n",
       "3  0.034100  0.015881  0.061142  0.040324  0.034816  \n",
       "4  0.132026  0.127301  0.370559  0.000000  0.035545  \n",
       "\n",
       "[5 rows x 2987 columns]"
      ]
     },
     "execution_count": 122,
     "metadata": {},
     "output_type": "execute_result"
    }
   ],
   "source": [
    "prediction_df.head()"
   ]
  },
  {
   "cell_type": "markdown",
   "metadata": {
    "id": "xkA9ibQGo13W"
   },
   "source": [
    "### Get recommended News item for consumer index 1891"
   ]
  },
  {
   "cell_type": "code",
   "execution_count": 123,
   "metadata": {
    "colab": {
     "base_uri": "https://localhost:8080/"
    },
    "id": "4IZgmkLFo13X",
    "outputId": "d5ac37f6-dfd4-48be-e2aa-9cfe2c643e86",
    "scrolled": false
   },
   "outputs": [
    {
     "data": {
      "text/plain": [
       "0       0.113676\n",
       "1       0.205769\n",
       "2       0.343541\n",
       "3       0.000000\n",
       "4       0.081508\n",
       "          ...   \n",
       "2982    0.183867\n",
       "2983    0.101340\n",
       "2984    0.173432\n",
       "2985    0.017040\n",
       "2986    0.096716\n",
       "Name: 1891, Length: 2987, dtype: float64"
      ]
     },
     "execution_count": 123,
     "metadata": {},
     "output_type": "execute_result"
    }
   ],
   "source": [
    "prediction_df.iloc[1891]"
   ]
  },
  {
   "cell_type": "markdown",
   "metadata": {
    "id": "auooKUdso13Y"
   },
   "source": [
    "### Get top 10 Prediction of Consumer Index 1891"
   ]
  },
  {
   "cell_type": "code",
   "execution_count": 124,
   "metadata": {
    "colab": {
     "base_uri": "https://localhost:8080/"
    },
    "id": "nlo9wBWVo13Y",
    "outputId": "23a6bf86-63f2-47a9-d500-0deaed2ddcde",
    "scrolled": true
   },
   "outputs": [
    {
     "data": {
      "text/plain": [
       "1095    11.757130\n",
       "405      6.026547\n",
       "846      5.788066\n",
       "1452     4.190029\n",
       "2356     3.149685\n",
       "2574     2.938451\n",
       "393      2.938265\n",
       "1714     2.892826\n",
       "1886     2.880690\n",
       "2820     2.878154\n",
       "Name: 1891, dtype: float64"
      ]
     },
     "execution_count": 124,
     "metadata": {},
     "output_type": "execute_result"
    }
   ],
   "source": [
    "prediction_df.iloc[1891].sort_values(ascending=False)[:10]"
   ]
  },
  {
   "cell_type": "code",
   "execution_count": 125,
   "metadata": {
    "id": "nEty6WFMo13Z"
   },
   "outputs": [],
   "source": [
    "l1 = prediction_df.iloc[1891].sort_values(ascending=False)[:10]"
   ]
  },
  {
   "cell_type": "code",
   "execution_count": 126,
   "metadata": {
    "id": "TCWK1exDo13a"
   },
   "outputs": [],
   "source": [
    "# Create an DataFrame of prediction content\n",
    "recommended_news_df = pd.DataFrame(prediction_df.iloc[1891].sort_values(ascending=False))"
   ]
  },
  {
   "cell_type": "code",
   "execution_count": 127,
   "metadata": {
    "colab": {
     "base_uri": "https://localhost:8080/",
     "height": 424
    },
    "id": "gpn0HrzDo13a",
    "outputId": "2db22d58-e821-48a7-ad79-ec30322251c9"
   },
   "outputs": [
    {
     "data": {
      "text/html": [
       "<div>\n",
       "<style scoped>\n",
       "    .dataframe tbody tr th:only-of-type {\n",
       "        vertical-align: middle;\n",
       "    }\n",
       "\n",
       "    .dataframe tbody tr th {\n",
       "        vertical-align: top;\n",
       "    }\n",
       "\n",
       "    .dataframe thead th {\n",
       "        text-align: right;\n",
       "    }\n",
       "</style>\n",
       "<table border=\"1\" class=\"dataframe\">\n",
       "  <thead>\n",
       "    <tr style=\"text-align: right;\">\n",
       "      <th></th>\n",
       "      <th>1891</th>\n",
       "    </tr>\n",
       "  </thead>\n",
       "  <tbody>\n",
       "    <tr>\n",
       "      <th>1095</th>\n",
       "      <td>11.757130</td>\n",
       "    </tr>\n",
       "    <tr>\n",
       "      <th>405</th>\n",
       "      <td>6.026547</td>\n",
       "    </tr>\n",
       "    <tr>\n",
       "      <th>846</th>\n",
       "      <td>5.788066</td>\n",
       "    </tr>\n",
       "    <tr>\n",
       "      <th>1452</th>\n",
       "      <td>4.190029</td>\n",
       "    </tr>\n",
       "    <tr>\n",
       "      <th>2356</th>\n",
       "      <td>3.149685</td>\n",
       "    </tr>\n",
       "    <tr>\n",
       "      <th>...</th>\n",
       "      <td>...</td>\n",
       "    </tr>\n",
       "    <tr>\n",
       "      <th>2073</th>\n",
       "      <td>0.000000</td>\n",
       "    </tr>\n",
       "    <tr>\n",
       "      <th>2076</th>\n",
       "      <td>0.000000</td>\n",
       "    </tr>\n",
       "    <tr>\n",
       "      <th>2078</th>\n",
       "      <td>0.000000</td>\n",
       "    </tr>\n",
       "    <tr>\n",
       "      <th>2083</th>\n",
       "      <td>0.000000</td>\n",
       "    </tr>\n",
       "    <tr>\n",
       "      <th>1493</th>\n",
       "      <td>0.000000</td>\n",
       "    </tr>\n",
       "  </tbody>\n",
       "</table>\n",
       "<p>2987 rows × 1 columns</p>\n",
       "</div>"
      ],
      "text/plain": [
       "           1891\n",
       "1095  11.757130\n",
       "405    6.026547\n",
       "846    5.788066\n",
       "1452   4.190029\n",
       "2356   3.149685\n",
       "...         ...\n",
       "2073   0.000000\n",
       "2076   0.000000\n",
       "2078   0.000000\n",
       "2083   0.000000\n",
       "1493   0.000000\n",
       "\n",
       "[2987 rows x 1 columns]"
      ]
     },
     "execution_count": 127,
     "metadata": {},
     "output_type": "execute_result"
    }
   ],
   "source": [
    "recommended_news_df"
   ]
  },
  {
   "cell_type": "code",
   "execution_count": 128,
   "metadata": {
    "id": "zX6B160_o13b"
   },
   "outputs": [],
   "source": [
    "# reset the index so that the index should appear uniformly.\n",
    "recommended_news_df.reset_index(inplace=True)"
   ]
  },
  {
   "cell_type": "code",
   "execution_count": 129,
   "metadata": {
    "colab": {
     "base_uri": "https://localhost:8080/",
     "height": 206
    },
    "id": "AJOKmVYoo13b",
    "outputId": "f7256df7-c472-43b6-e49a-149cd864f60b",
    "scrolled": true
   },
   "outputs": [
    {
     "data": {
      "text/html": [
       "<div>\n",
       "<style scoped>\n",
       "    .dataframe tbody tr th:only-of-type {\n",
       "        vertical-align: middle;\n",
       "    }\n",
       "\n",
       "    .dataframe tbody tr th {\n",
       "        vertical-align: top;\n",
       "    }\n",
       "\n",
       "    .dataframe thead th {\n",
       "        text-align: right;\n",
       "    }\n",
       "</style>\n",
       "<table border=\"1\" class=\"dataframe\">\n",
       "  <thead>\n",
       "    <tr style=\"text-align: right;\">\n",
       "      <th></th>\n",
       "      <th>index</th>\n",
       "      <th>1891</th>\n",
       "    </tr>\n",
       "  </thead>\n",
       "  <tbody>\n",
       "    <tr>\n",
       "      <th>0</th>\n",
       "      <td>1095</td>\n",
       "      <td>11.757130</td>\n",
       "    </tr>\n",
       "    <tr>\n",
       "      <th>1</th>\n",
       "      <td>405</td>\n",
       "      <td>6.026547</td>\n",
       "    </tr>\n",
       "    <tr>\n",
       "      <th>2</th>\n",
       "      <td>846</td>\n",
       "      <td>5.788066</td>\n",
       "    </tr>\n",
       "    <tr>\n",
       "      <th>3</th>\n",
       "      <td>1452</td>\n",
       "      <td>4.190029</td>\n",
       "    </tr>\n",
       "    <tr>\n",
       "      <th>4</th>\n",
       "      <td>2356</td>\n",
       "      <td>3.149685</td>\n",
       "    </tr>\n",
       "  </tbody>\n",
       "</table>\n",
       "</div>"
      ],
      "text/plain": [
       "   index       1891\n",
       "0   1095  11.757130\n",
       "1    405   6.026547\n",
       "2    846   5.788066\n",
       "3   1452   4.190029\n",
       "4   2356   3.149685"
      ]
     },
     "execution_count": 129,
     "metadata": {},
     "output_type": "execute_result"
    }
   ],
   "source": [
    "recommended_news_df.head()"
   ]
  },
  {
   "cell_type": "code",
   "execution_count": 130,
   "metadata": {
    "id": "8w2HvBHYo13c"
   },
   "outputs": [],
   "source": [
    "# assign the columns names\n",
    "recommended_news_df.columns = [\"item_index\",\"score\"] "
   ]
  },
  {
   "cell_type": "code",
   "execution_count": 131,
   "metadata": {
    "colab": {
     "base_uri": "https://localhost:8080/",
     "height": 206
    },
    "id": "-9egActzo13d",
    "outputId": "3983b891-10bb-4745-947c-45186cbda01c"
   },
   "outputs": [
    {
     "data": {
      "text/html": [
       "<div>\n",
       "<style scoped>\n",
       "    .dataframe tbody tr th:only-of-type {\n",
       "        vertical-align: middle;\n",
       "    }\n",
       "\n",
       "    .dataframe tbody tr th {\n",
       "        vertical-align: top;\n",
       "    }\n",
       "\n",
       "    .dataframe thead th {\n",
       "        text-align: right;\n",
       "    }\n",
       "</style>\n",
       "<table border=\"1\" class=\"dataframe\">\n",
       "  <thead>\n",
       "    <tr style=\"text-align: right;\">\n",
       "      <th></th>\n",
       "      <th>item_index</th>\n",
       "      <th>score</th>\n",
       "    </tr>\n",
       "  </thead>\n",
       "  <tbody>\n",
       "    <tr>\n",
       "      <th>0</th>\n",
       "      <td>1095</td>\n",
       "      <td>11.757130</td>\n",
       "    </tr>\n",
       "    <tr>\n",
       "      <th>1</th>\n",
       "      <td>405</td>\n",
       "      <td>6.026547</td>\n",
       "    </tr>\n",
       "    <tr>\n",
       "      <th>2</th>\n",
       "      <td>846</td>\n",
       "      <td>5.788066</td>\n",
       "    </tr>\n",
       "    <tr>\n",
       "      <th>3</th>\n",
       "      <td>1452</td>\n",
       "      <td>4.190029</td>\n",
       "    </tr>\n",
       "    <tr>\n",
       "      <th>4</th>\n",
       "      <td>2356</td>\n",
       "      <td>3.149685</td>\n",
       "    </tr>\n",
       "  </tbody>\n",
       "</table>\n",
       "</div>"
      ],
      "text/plain": [
       "   item_index      score\n",
       "0        1095  11.757130\n",
       "1         405   6.026547\n",
       "2         846   5.788066\n",
       "3        1452   4.190029\n",
       "4        2356   3.149685"
      ]
     },
     "execution_count": 131,
     "metadata": {},
     "output_type": "execute_result"
    }
   ],
   "source": [
    "recommended_news_df.head()"
   ]
  },
  {
   "cell_type": "markdown",
   "metadata": {
    "id": "Txv8Gau4o13d"
   },
   "source": [
    "###  Get the prediction with News title:"
   ]
  },
  {
   "cell_type": "code",
   "execution_count": 132,
   "metadata": {
    "id": "fnRSVJt4o13e"
   },
   "outputs": [],
   "source": [
    "# merge with content data\n",
    "\n",
    "merged_user_based = pd.merge(recommended_news_df,clean_english_content,on=\"item_index\",how=\"left\")"
   ]
  },
  {
   "cell_type": "code",
   "execution_count": 133,
   "metadata": {
    "colab": {
     "base_uri": "https://localhost:8080/",
     "height": 424
    },
    "id": "oWd8B5h6o13e",
    "outputId": "3377d0e1-258c-46d7-bb2b-7af2712bab9e"
   },
   "outputs": [
    {
     "data": {
      "text/html": [
       "<div>\n",
       "<style scoped>\n",
       "    .dataframe tbody tr th:only-of-type {\n",
       "        vertical-align: middle;\n",
       "    }\n",
       "\n",
       "    .dataframe tbody tr th {\n",
       "        vertical-align: top;\n",
       "    }\n",
       "\n",
       "    .dataframe thead th {\n",
       "        text-align: right;\n",
       "    }\n",
       "</style>\n",
       "<table border=\"1\" class=\"dataframe\">\n",
       "  <thead>\n",
       "    <tr style=\"text-align: right;\">\n",
       "      <th></th>\n",
       "      <th>item_index</th>\n",
       "      <th>score</th>\n",
       "      <th>title</th>\n",
       "      <th>text_description</th>\n",
       "    </tr>\n",
       "  </thead>\n",
       "  <tbody>\n",
       "    <tr>\n",
       "      <th>0</th>\n",
       "      <td>1095</td>\n",
       "      <td>11.757130</td>\n",
       "      <td>Aggregations</td>\n",
       "      <td>Aggregations grew out of the facets module and...</td>\n",
       "    </tr>\n",
       "    <tr>\n",
       "      <th>1</th>\n",
       "      <td>405</td>\n",
       "      <td>6.026547</td>\n",
       "      <td>\"We only hire the best\" - Signal v. Noise</td>\n",
       "      <td>\"We only hire the best\" How many times have yo...</td>\n",
       "    </tr>\n",
       "    <tr>\n",
       "      <th>2</th>\n",
       "      <td>846</td>\n",
       "      <td>5.788066</td>\n",
       "      <td>The 24 best restaurants in New York City</td>\n",
       "      <td>Yelp/Daniel With so many restaurants to choose...</td>\n",
       "    </tr>\n",
       "    <tr>\n",
       "      <th>3</th>\n",
       "      <td>1452</td>\n",
       "      <td>4.190029</td>\n",
       "      <td>This is the scientific reason we're addicted t...</td>\n",
       "      <td>Whether you're working in your office, walking...</td>\n",
       "    </tr>\n",
       "    <tr>\n",
       "      <th>6</th>\n",
       "      <td>393</td>\n",
       "      <td>2.938265</td>\n",
       "      <td>Five questions boards should ask about IT in a...</td>\n",
       "      <td>CIOs, business executives, and board directors...</td>\n",
       "    </tr>\n",
       "    <tr>\n",
       "      <th>...</th>\n",
       "      <td>...</td>\n",
       "      <td>...</td>\n",
       "      <td>...</td>\n",
       "      <td>...</td>\n",
       "    </tr>\n",
       "    <tr>\n",
       "      <th>3028</th>\n",
       "      <td>2076</td>\n",
       "      <td>0.000000</td>\n",
       "      <td>Email Isn't The Thing You're Bad At</td>\n",
       "      <td>I've been using the Internet for a good 25 yea...</td>\n",
       "    </tr>\n",
       "    <tr>\n",
       "      <th>3029</th>\n",
       "      <td>2078</td>\n",
       "      <td>0.000000</td>\n",
       "      <td>Introducing Cloud Spanner: a global database s...</td>\n",
       "      <td>Today, we're excited to announce the public be...</td>\n",
       "    </tr>\n",
       "    <tr>\n",
       "      <th>3030</th>\n",
       "      <td>2083</td>\n",
       "      <td>0.000000</td>\n",
       "      <td>Cartography Comparison: Google Maps &amp; Apple Maps</td>\n",
       "      <td>Google Maps and Apple Maps . Both are the defa...</td>\n",
       "    </tr>\n",
       "    <tr>\n",
       "      <th>3031</th>\n",
       "      <td>2083</td>\n",
       "      <td>0.000000</td>\n",
       "      <td>Cartography Comparison: Google Maps &amp; Apple Maps</td>\n",
       "      <td>Google Maps and Apple Maps . Both are the defa...</td>\n",
       "    </tr>\n",
       "    <tr>\n",
       "      <th>3032</th>\n",
       "      <td>1493</td>\n",
       "      <td>0.000000</td>\n",
       "      <td>Graphene-based Antenna Still Looking for Path ...</td>\n",
       "      <td>Photo: Graphene Flagship Graphene is a pure co...</td>\n",
       "    </tr>\n",
       "  </tbody>\n",
       "</table>\n",
       "<p>2264 rows × 4 columns</p>\n",
       "</div>"
      ],
      "text/plain": [
       "      item_index      score  \\\n",
       "0           1095  11.757130   \n",
       "1            405   6.026547   \n",
       "2            846   5.788066   \n",
       "3           1452   4.190029   \n",
       "6            393   2.938265   \n",
       "...          ...        ...   \n",
       "3028        2076   0.000000   \n",
       "3029        2078   0.000000   \n",
       "3030        2083   0.000000   \n",
       "3031        2083   0.000000   \n",
       "3032        1493   0.000000   \n",
       "\n",
       "                                                  title  \\\n",
       "0                                          Aggregations   \n",
       "1             \"We only hire the best\" - Signal v. Noise   \n",
       "2              The 24 best restaurants in New York City   \n",
       "3     This is the scientific reason we're addicted t...   \n",
       "6     Five questions boards should ask about IT in a...   \n",
       "...                                                 ...   \n",
       "3028                Email Isn't The Thing You're Bad At   \n",
       "3029  Introducing Cloud Spanner: a global database s...   \n",
       "3030   Cartography Comparison: Google Maps & Apple Maps   \n",
       "3031   Cartography Comparison: Google Maps & Apple Maps   \n",
       "3032  Graphene-based Antenna Still Looking for Path ...   \n",
       "\n",
       "                                       text_description  \n",
       "0     Aggregations grew out of the facets module and...  \n",
       "1     \"We only hire the best\" How many times have yo...  \n",
       "2     Yelp/Daniel With so many restaurants to choose...  \n",
       "3     Whether you're working in your office, walking...  \n",
       "6     CIOs, business executives, and board directors...  \n",
       "...                                                 ...  \n",
       "3028  I've been using the Internet for a good 25 yea...  \n",
       "3029  Today, we're excited to announce the public be...  \n",
       "3030  Google Maps and Apple Maps . Both are the defa...  \n",
       "3031  Google Maps and Apple Maps . Both are the defa...  \n",
       "3032  Photo: Graphene Flagship Graphene is a pure co...  \n",
       "\n",
       "[2264 rows x 4 columns]"
      ]
     },
     "execution_count": 133,
     "metadata": {},
     "output_type": "execute_result"
    }
   ],
   "source": [
    "# few of the item index in consumer data is not available in content data.\n",
    "# Hence we get NaN after merge and dropped those NaN \n",
    "\n",
    "merged_user_based.dropna(inplace=True)\n",
    "merged_user_based"
   ]
  },
  {
   "cell_type": "markdown",
   "metadata": {
    "id": "T-6AEbepo13f"
   },
   "source": [
    "### Top 10 prediction on User Based CF"
   ]
  },
  {
   "cell_type": "code",
   "execution_count": 134,
   "metadata": {
    "colab": {
     "base_uri": "https://localhost:8080/",
     "height": 363
    },
    "id": "gGyyINuJo13g",
    "outputId": "5776e884-f869-420f-a271-2ab086193d95",
    "scrolled": false
   },
   "outputs": [
    {
     "data": {
      "text/html": [
       "<div>\n",
       "<style scoped>\n",
       "    .dataframe tbody tr th:only-of-type {\n",
       "        vertical-align: middle;\n",
       "    }\n",
       "\n",
       "    .dataframe tbody tr th {\n",
       "        vertical-align: top;\n",
       "    }\n",
       "\n",
       "    .dataframe thead th {\n",
       "        text-align: right;\n",
       "    }\n",
       "</style>\n",
       "<table border=\"1\" class=\"dataframe\">\n",
       "  <thead>\n",
       "    <tr style=\"text-align: right;\">\n",
       "      <th></th>\n",
       "      <th>item_index</th>\n",
       "      <th>score</th>\n",
       "      <th>title</th>\n",
       "      <th>text_description</th>\n",
       "    </tr>\n",
       "  </thead>\n",
       "  <tbody>\n",
       "    <tr>\n",
       "      <th>0</th>\n",
       "      <td>1095</td>\n",
       "      <td>11.757130</td>\n",
       "      <td>Aggregations</td>\n",
       "      <td>Aggregations grew out of the facets module and...</td>\n",
       "    </tr>\n",
       "    <tr>\n",
       "      <th>1</th>\n",
       "      <td>405</td>\n",
       "      <td>6.026547</td>\n",
       "      <td>\"We only hire the best\" - Signal v. Noise</td>\n",
       "      <td>\"We only hire the best\" How many times have yo...</td>\n",
       "    </tr>\n",
       "    <tr>\n",
       "      <th>2</th>\n",
       "      <td>846</td>\n",
       "      <td>5.788066</td>\n",
       "      <td>The 24 best restaurants in New York City</td>\n",
       "      <td>Yelp/Daniel With so many restaurants to choose...</td>\n",
       "    </tr>\n",
       "    <tr>\n",
       "      <th>3</th>\n",
       "      <td>1452</td>\n",
       "      <td>4.190029</td>\n",
       "      <td>This is the scientific reason we're addicted t...</td>\n",
       "      <td>Whether you're working in your office, walking...</td>\n",
       "    </tr>\n",
       "    <tr>\n",
       "      <th>6</th>\n",
       "      <td>393</td>\n",
       "      <td>2.938265</td>\n",
       "      <td>Five questions boards should ask about IT in a...</td>\n",
       "      <td>CIOs, business executives, and board directors...</td>\n",
       "    </tr>\n",
       "    <tr>\n",
       "      <th>7</th>\n",
       "      <td>1714</td>\n",
       "      <td>2.892826</td>\n",
       "      <td>Meet Parsey's Cousins: Syntax for 40 languages...</td>\n",
       "      <td>Just in time for ACL 2016 , we are pleased to ...</td>\n",
       "    </tr>\n",
       "    <tr>\n",
       "      <th>8</th>\n",
       "      <td>1886</td>\n",
       "      <td>2.880690</td>\n",
       "      <td>Creating Compound Views on Android</td>\n",
       "      <td>When building complex applications, you'll oft...</td>\n",
       "    </tr>\n",
       "    <tr>\n",
       "      <th>10</th>\n",
       "      <td>2132</td>\n",
       "      <td>2.866764</td>\n",
       "      <td>IBM Watson is Working to Bring AI to the Block...</td>\n",
       "      <td>IBM is currently attempting to merge artificia...</td>\n",
       "    </tr>\n",
       "    <tr>\n",
       "      <th>11</th>\n",
       "      <td>625</td>\n",
       "      <td>2.862685</td>\n",
       "      <td>Acquia's Dev Desktop - a Drupal server for beg...</td>\n",
       "      <td>Web development can be complicated. When it co...</td>\n",
       "    </tr>\n",
       "    <tr>\n",
       "      <th>12</th>\n",
       "      <td>97</td>\n",
       "      <td>2.507853</td>\n",
       "      <td>How a Chatbot Helped This Vinyl Records Startu...</td>\n",
       "      <td>Chatbots already have a little bit of a bad na...</td>\n",
       "    </tr>\n",
       "  </tbody>\n",
       "</table>\n",
       "</div>"
      ],
      "text/plain": [
       "    item_index      score                                              title  \\\n",
       "0         1095  11.757130                                       Aggregations   \n",
       "1          405   6.026547          \"We only hire the best\" - Signal v. Noise   \n",
       "2          846   5.788066           The 24 best restaurants in New York City   \n",
       "3         1452   4.190029  This is the scientific reason we're addicted t...   \n",
       "6          393   2.938265  Five questions boards should ask about IT in a...   \n",
       "7         1714   2.892826  Meet Parsey's Cousins: Syntax for 40 languages...   \n",
       "8         1886   2.880690                 Creating Compound Views on Android   \n",
       "10        2132   2.866764  IBM Watson is Working to Bring AI to the Block...   \n",
       "11         625   2.862685  Acquia's Dev Desktop - a Drupal server for beg...   \n",
       "12          97   2.507853  How a Chatbot Helped This Vinyl Records Startu...   \n",
       "\n",
       "                                     text_description  \n",
       "0   Aggregations grew out of the facets module and...  \n",
       "1   \"We only hire the best\" How many times have yo...  \n",
       "2   Yelp/Daniel With so many restaurants to choose...  \n",
       "3   Whether you're working in your office, walking...  \n",
       "6   CIOs, business executives, and board directors...  \n",
       "7   Just in time for ACL 2016 , we are pleased to ...  \n",
       "8   When building complex applications, you'll oft...  \n",
       "10  IBM is currently attempting to merge artificia...  \n",
       "11  Web development can be complicated. When it co...  \n",
       "12  Chatbots already have a little bit of a bad na...  "
      ]
     },
     "execution_count": 134,
     "metadata": {},
     "output_type": "execute_result"
    }
   ],
   "source": [
    "# Top 10 prediction on User Bases CF\n",
    "merged_user_based.head(10)"
   ]
  },
  {
   "cell_type": "markdown",
   "metadata": {
    "id": "PqJl9lBQo13g"
   },
   "source": [
    "### Normalized the Score:"
   ]
  },
  {
   "cell_type": "code",
   "execution_count": 135,
   "metadata": {
    "id": "G2LOxwiro13h"
   },
   "outputs": [],
   "source": [
    "# pefrom min max normalization\n",
    "merged_user_based[\"normalized_score\"] = (merged_user_based[\"score\"] - merged_user_based[\"score\"].min())/(merged_user_based[\"score\"].max()- merged_user_based[\"score\"].min())"
   ]
  },
  {
   "cell_type": "code",
   "execution_count": 136,
   "metadata": {
    "colab": {
     "base_uri": "https://localhost:8080/",
     "height": 363
    },
    "id": "HpZl6BnZo13i",
    "outputId": "ed4056e3-99ae-4889-e1dc-60442deee05a",
    "scrolled": false
   },
   "outputs": [
    {
     "data": {
      "text/html": [
       "<div>\n",
       "<style scoped>\n",
       "    .dataframe tbody tr th:only-of-type {\n",
       "        vertical-align: middle;\n",
       "    }\n",
       "\n",
       "    .dataframe tbody tr th {\n",
       "        vertical-align: top;\n",
       "    }\n",
       "\n",
       "    .dataframe thead th {\n",
       "        text-align: right;\n",
       "    }\n",
       "</style>\n",
       "<table border=\"1\" class=\"dataframe\">\n",
       "  <thead>\n",
       "    <tr style=\"text-align: right;\">\n",
       "      <th></th>\n",
       "      <th>item_index</th>\n",
       "      <th>score</th>\n",
       "      <th>title</th>\n",
       "      <th>text_description</th>\n",
       "      <th>normalized_score</th>\n",
       "    </tr>\n",
       "  </thead>\n",
       "  <tbody>\n",
       "    <tr>\n",
       "      <th>0</th>\n",
       "      <td>1095</td>\n",
       "      <td>11.757130</td>\n",
       "      <td>Aggregations</td>\n",
       "      <td>Aggregations grew out of the facets module and...</td>\n",
       "      <td>1.000000</td>\n",
       "    </tr>\n",
       "    <tr>\n",
       "      <th>1</th>\n",
       "      <td>405</td>\n",
       "      <td>6.026547</td>\n",
       "      <td>\"We only hire the best\" - Signal v. Noise</td>\n",
       "      <td>\"We only hire the best\" How many times have yo...</td>\n",
       "      <td>0.512587</td>\n",
       "    </tr>\n",
       "    <tr>\n",
       "      <th>2</th>\n",
       "      <td>846</td>\n",
       "      <td>5.788066</td>\n",
       "      <td>The 24 best restaurants in New York City</td>\n",
       "      <td>Yelp/Daniel With so many restaurants to choose...</td>\n",
       "      <td>0.492303</td>\n",
       "    </tr>\n",
       "    <tr>\n",
       "      <th>3</th>\n",
       "      <td>1452</td>\n",
       "      <td>4.190029</td>\n",
       "      <td>This is the scientific reason we're addicted t...</td>\n",
       "      <td>Whether you're working in your office, walking...</td>\n",
       "      <td>0.356382</td>\n",
       "    </tr>\n",
       "    <tr>\n",
       "      <th>6</th>\n",
       "      <td>393</td>\n",
       "      <td>2.938265</td>\n",
       "      <td>Five questions boards should ask about IT in a...</td>\n",
       "      <td>CIOs, business executives, and board directors...</td>\n",
       "      <td>0.249913</td>\n",
       "    </tr>\n",
       "    <tr>\n",
       "      <th>7</th>\n",
       "      <td>1714</td>\n",
       "      <td>2.892826</td>\n",
       "      <td>Meet Parsey's Cousins: Syntax for 40 languages...</td>\n",
       "      <td>Just in time for ACL 2016 , we are pleased to ...</td>\n",
       "      <td>0.246049</td>\n",
       "    </tr>\n",
       "    <tr>\n",
       "      <th>8</th>\n",
       "      <td>1886</td>\n",
       "      <td>2.880690</td>\n",
       "      <td>Creating Compound Views on Android</td>\n",
       "      <td>When building complex applications, you'll oft...</td>\n",
       "      <td>0.245016</td>\n",
       "    </tr>\n",
       "    <tr>\n",
       "      <th>10</th>\n",
       "      <td>2132</td>\n",
       "      <td>2.866764</td>\n",
       "      <td>IBM Watson is Working to Bring AI to the Block...</td>\n",
       "      <td>IBM is currently attempting to merge artificia...</td>\n",
       "      <td>0.243832</td>\n",
       "    </tr>\n",
       "    <tr>\n",
       "      <th>11</th>\n",
       "      <td>625</td>\n",
       "      <td>2.862685</td>\n",
       "      <td>Acquia's Dev Desktop - a Drupal server for beg...</td>\n",
       "      <td>Web development can be complicated. When it co...</td>\n",
       "      <td>0.243485</td>\n",
       "    </tr>\n",
       "    <tr>\n",
       "      <th>12</th>\n",
       "      <td>97</td>\n",
       "      <td>2.507853</td>\n",
       "      <td>How a Chatbot Helped This Vinyl Records Startu...</td>\n",
       "      <td>Chatbots already have a little bit of a bad na...</td>\n",
       "      <td>0.213305</td>\n",
       "    </tr>\n",
       "  </tbody>\n",
       "</table>\n",
       "</div>"
      ],
      "text/plain": [
       "    item_index      score                                              title  \\\n",
       "0         1095  11.757130                                       Aggregations   \n",
       "1          405   6.026547          \"We only hire the best\" - Signal v. Noise   \n",
       "2          846   5.788066           The 24 best restaurants in New York City   \n",
       "3         1452   4.190029  This is the scientific reason we're addicted t...   \n",
       "6          393   2.938265  Five questions boards should ask about IT in a...   \n",
       "7         1714   2.892826  Meet Parsey's Cousins: Syntax for 40 languages...   \n",
       "8         1886   2.880690                 Creating Compound Views on Android   \n",
       "10        2132   2.866764  IBM Watson is Working to Bring AI to the Block...   \n",
       "11         625   2.862685  Acquia's Dev Desktop - a Drupal server for beg...   \n",
       "12          97   2.507853  How a Chatbot Helped This Vinyl Records Startu...   \n",
       "\n",
       "                                     text_description  normalized_score  \n",
       "0   Aggregations grew out of the facets module and...          1.000000  \n",
       "1   \"We only hire the best\" How many times have yo...          0.512587  \n",
       "2   Yelp/Daniel With so many restaurants to choose...          0.492303  \n",
       "3   Whether you're working in your office, walking...          0.356382  \n",
       "6   CIOs, business executives, and board directors...          0.249913  \n",
       "7   Just in time for ACL 2016 , we are pleased to ...          0.246049  \n",
       "8   When building complex applications, you'll oft...          0.245016  \n",
       "10  IBM is currently attempting to merge artificia...          0.243832  \n",
       "11  Web development can be complicated. When it co...          0.243485  \n",
       "12  Chatbots already have a little bit of a bad na...          0.213305  "
      ]
     },
     "execution_count": 136,
     "metadata": {},
     "output_type": "execute_result"
    }
   ],
   "source": [
    "merged_user_based.head(10)"
   ]
  },
  {
   "cell_type": "markdown",
   "metadata": {
    "id": "LXOgrAylo13i"
   },
   "source": [
    "### Performance Evaluation on User based Collabortive Filtering:\n",
    "-  MAE\n",
    "- RMSE"
   ]
  },
  {
   "cell_type": "code",
   "execution_count": 137,
   "metadata": {
    "id": "xNEM7M2-o13j"
   },
   "outputs": [],
   "source": [
    "from sklearn.metrics import mean_squared_error,mean_absolute_error,accuracy_score\n",
    "from math import sqrt"
   ]
  },
  {
   "cell_type": "markdown",
   "metadata": {
    "id": "gHAFRGMZo13j"
   },
   "source": [
    "- __if we need to compare all ratings data for evaluation:\n",
    "then the evaluation metrics should be RMSE or MAE.__\n",
    "- __else in case of Top N rankings data:\n",
    "we need  Precision@K, MAP@K etc for evaluation.__"
   ]
  },
  {
   "cell_type": "markdown",
   "metadata": {
    "id": "bIMDNWgso13k"
   },
   "source": [
    "### Mean Absolute Error(MAE):"
   ]
  },
  {
   "cell_type": "code",
   "execution_count": 138,
   "metadata": {
    "id": "xuD1YAUto13l"
   },
   "outputs": [],
   "source": [
    "# MAE is the absolute difference between the actual and predicted values\n",
    "# divided by the total number of observations.\n",
    "\n",
    "# define an function mae which takes the predicted data and actual data(groundtruth)\n",
    "def mae(prediction,ground_truth):\n",
    "    prediction = prediction[ground_truth.nonzero()]\n",
    "    ground_truth = ground_truth[ground_truth.nonzero()]\n",
    "    return mean_absolute_error(prediction,ground_truth)"
   ]
  },
  {
   "cell_type": "code",
   "execution_count": 139,
   "metadata": {
    "colab": {
     "base_uri": "https://localhost:8080/"
    },
    "id": "rJE9oAIyo13l",
    "outputId": "afb42d91-16ce-4167-9bf6-b0b262148949"
   },
   "outputs": [
    {
     "data": {
      "text/plain": [
       "1.2301490167425138"
      ]
     },
     "execution_count": 139,
     "metadata": {},
     "output_type": "execute_result"
    }
   ],
   "source": [
    "# call the function mae\n",
    "mae(item_prediction,data_matrix_test)"
   ]
  },
  {
   "cell_type": "markdown",
   "metadata": {
    "id": "JvdT9dVPo13m"
   },
   "source": [
    "### Root mean squared error(RMSE)"
   ]
  },
  {
   "cell_type": "code",
   "execution_count": 140,
   "metadata": {
    "id": "H8D-O8Apo13n"
   },
   "outputs": [],
   "source": [
    "# output (a predicted scalar value) is compared with the true scalar value output for a given data point\n",
    "\n",
    "#define rmse function which takes the predicted data and actual data(groundtruth)\n",
    "def rmse(prediction,ground_truth):\n",
    "    prediction = prediction[ground_truth.nonzero()]\n",
    "    ground_truth = ground_truth[ground_truth.nonzero()]\n",
    "    return sqrt(mean_squared_error(prediction,ground_truth))"
   ]
  },
  {
   "cell_type": "code",
   "execution_count": 141,
   "metadata": {
    "colab": {
     "base_uri": "https://localhost:8080/"
    },
    "id": "VynhR6cWo13n",
    "outputId": "488cd6cb-12f2-42f1-8e75-41ef223d3a78",
    "scrolled": true
   },
   "outputs": [
    {
     "data": {
      "text/plain": [
       "1.9074554632780087"
      ]
     },
     "execution_count": 141,
     "metadata": {},
     "output_type": "execute_result"
    }
   ],
   "source": [
    "rmse(item_prediction,data_matrix_test)"
   ]
  },
  {
   "cell_type": "markdown",
   "metadata": {
    "id": "M-wpcTl9o13p"
   },
   "source": [
    "- __we can not always rely on offline evaluation like above.__\n",
    "- __We have to check online evaluation aswell like human level performance on the recommendation eveluation.__"
   ]
  },
  {
   "cell_type": "markdown",
   "metadata": {
    "id": "-AQTI8FRo13q"
   },
   "source": [
    "##  Model-Based CF\n",
    "\n",
    "- Model-based collaborative filtering algorithms provide item recommendations by first developing a model of user ratings.  - The recommendations can be made using the deterministic algorithms like ALS.\n",
    "- ALS is Alternating Least Squares\n"
   ]
  },
  {
   "cell_type": "markdown",
   "metadata": {
    "id": "RtBz4i95o13s"
   },
   "source": [
    "## Alternating Least Squares(ALS)\n",
    "Create Compressed Sparse user-item and item-user matrices. \n",
    "Train the ALS model and generate recommendations for a user. Try experimenting with the hyperparameters."
   ]
  },
  {
   "cell_type": "markdown",
   "metadata": {
    "id": "JF4rn-7Ro13t"
   },
   "source": [
    "### Create Sparse User-Item Matrix\n",
    "- __will create a compressed sparse row matrix for user-item and item-user combinations.__ \n",
    "- __This helps in extracting only the non-zero user-items combinations interacted by the user.__"
   ]
  },
  {
   "cell_type": "code",
   "execution_count": 142,
   "metadata": {
    "id": "JuYjtg6mo13t"
   },
   "outputs": [],
   "source": [
    "from scipy.sparse import csr_matrix"
   ]
  },
  {
   "cell_type": "code",
   "execution_count": 143,
   "metadata": {
    "id": "h4V1zzzio13t"
   },
   "outputs": [],
   "source": [
    "alpha=40 # assign an random value \n"
   ]
  },
  {
   "cell_type": "code",
   "execution_count": 144,
   "metadata": {
    "colab": {
     "base_uri": "https://localhost:8080/",
     "height": 206
    },
    "id": "BR3nAAIRo13u",
    "outputId": "bb3c9268-e360-4e8a-9d5d-e7e0fa45aadd"
   },
   "outputs": [
    {
     "data": {
      "text/html": [
       "<div>\n",
       "<style scoped>\n",
       "    .dataframe tbody tr th:only-of-type {\n",
       "        vertical-align: middle;\n",
       "    }\n",
       "\n",
       "    .dataframe tbody tr th {\n",
       "        vertical-align: top;\n",
       "    }\n",
       "\n",
       "    .dataframe thead th {\n",
       "        text-align: right;\n",
       "    }\n",
       "</style>\n",
       "<table border=\"1\" class=\"dataframe\">\n",
       "  <thead>\n",
       "    <tr style=\"text-align: right;\">\n",
       "      <th></th>\n",
       "      <th>consumer_index</th>\n",
       "      <th>item_index</th>\n",
       "      <th>ratings</th>\n",
       "    </tr>\n",
       "  </thead>\n",
       "  <tbody>\n",
       "    <tr>\n",
       "      <th>0</th>\n",
       "      <td>33</td>\n",
       "      <td>933</td>\n",
       "      <td>1</td>\n",
       "    </tr>\n",
       "    <tr>\n",
       "      <th>1</th>\n",
       "      <td>831</td>\n",
       "      <td>2933</td>\n",
       "      <td>1</td>\n",
       "    </tr>\n",
       "    <tr>\n",
       "      <th>2</th>\n",
       "      <td>826</td>\n",
       "      <td>1537</td>\n",
       "      <td>1</td>\n",
       "    </tr>\n",
       "    <tr>\n",
       "      <th>3</th>\n",
       "      <td>974</td>\n",
       "      <td>1537</td>\n",
       "      <td>5</td>\n",
       "    </tr>\n",
       "    <tr>\n",
       "      <th>4</th>\n",
       "      <td>887</td>\n",
       "      <td>246</td>\n",
       "      <td>1</td>\n",
       "    </tr>\n",
       "  </tbody>\n",
       "</table>\n",
       "</div>"
      ],
      "text/plain": [
       "   consumer_index  item_index  ratings\n",
       "0              33         933        1\n",
       "1             831        2933        1\n",
       "2             826        1537        1\n",
       "3             974        1537        5\n",
       "4             887         246        1"
      ]
     },
     "execution_count": 144,
     "metadata": {},
     "output_type": "execute_result"
    }
   ],
   "source": [
    "clean_consumer.head()"
   ]
  },
  {
   "cell_type": "code",
   "execution_count": 145,
   "metadata": {
    "colab": {
     "base_uri": "https://localhost:8080/"
    },
    "id": "htFUMclko13u",
    "outputId": "7748d483-daad-4bf6-e22a-cea85e1b6a2c"
   },
   "outputs": [
    {
     "data": {
      "text/plain": [
       "72312"
      ]
     },
     "execution_count": 145,
     "metadata": {},
     "output_type": "execute_result"
    }
   ],
   "source": [
    "clean_consumer.shape[0]"
   ]
  },
  {
   "cell_type": "code",
   "execution_count": 146,
   "metadata": {
    "colab": {
     "base_uri": "https://localhost:8080/"
    },
    "id": "tlTxnE3ho13v",
    "outputId": "ac8c3f44-4de9-47ed-8b62-02b70e415af5"
   },
   "outputs": [
    {
     "data": {
      "text/plain": [
       "(72312, 3)"
      ]
     },
     "execution_count": 146,
     "metadata": {},
     "output_type": "execute_result"
    }
   ],
   "source": [
    "clean_consumer.shape"
   ]
  },
  {
   "cell_type": "code",
   "execution_count": 147,
   "metadata": {
    "colab": {
     "base_uri": "https://localhost:8080/",
     "height": 300
    },
    "id": "ioQDSOyAo13v",
    "outputId": "532782e4-3817-4c99-8ba3-a5cfa8b4f195",
    "scrolled": true
   },
   "outputs": [
    {
     "data": {
      "text/html": [
       "<div>\n",
       "<style scoped>\n",
       "    .dataframe tbody tr th:only-of-type {\n",
       "        vertical-align: middle;\n",
       "    }\n",
       "\n",
       "    .dataframe tbody tr th {\n",
       "        vertical-align: top;\n",
       "    }\n",
       "\n",
       "    .dataframe thead th {\n",
       "        text-align: right;\n",
       "    }\n",
       "</style>\n",
       "<table border=\"1\" class=\"dataframe\">\n",
       "  <thead>\n",
       "    <tr style=\"text-align: right;\">\n",
       "      <th></th>\n",
       "      <th>consumer_index</th>\n",
       "      <th>item_index</th>\n",
       "      <th>ratings</th>\n",
       "    </tr>\n",
       "  </thead>\n",
       "  <tbody>\n",
       "    <tr>\n",
       "      <th>count</th>\n",
       "      <td>72312.000000</td>\n",
       "      <td>72312.000000</td>\n",
       "      <td>72312.000000</td>\n",
       "    </tr>\n",
       "    <tr>\n",
       "      <th>mean</th>\n",
       "      <td>945.367491</td>\n",
       "      <td>1485.004508</td>\n",
       "      <td>1.292234</td>\n",
       "    </tr>\n",
       "    <tr>\n",
       "      <th>std</th>\n",
       "      <td>514.935478</td>\n",
       "      <td>856.146451</td>\n",
       "      <td>0.801325</td>\n",
       "    </tr>\n",
       "    <tr>\n",
       "      <th>min</th>\n",
       "      <td>0.000000</td>\n",
       "      <td>0.000000</td>\n",
       "      <td>1.000000</td>\n",
       "    </tr>\n",
       "    <tr>\n",
       "      <th>25%</th>\n",
       "      <td>588.000000</td>\n",
       "      <td>740.000000</td>\n",
       "      <td>1.000000</td>\n",
       "    </tr>\n",
       "    <tr>\n",
       "      <th>50%</th>\n",
       "      <td>926.000000</td>\n",
       "      <td>1491.000000</td>\n",
       "      <td>1.000000</td>\n",
       "    </tr>\n",
       "    <tr>\n",
       "      <th>75%</th>\n",
       "      <td>1338.250000</td>\n",
       "      <td>2194.000000</td>\n",
       "      <td>1.000000</td>\n",
       "    </tr>\n",
       "    <tr>\n",
       "      <th>max</th>\n",
       "      <td>1894.000000</td>\n",
       "      <td>2986.000000</td>\n",
       "      <td>5.000000</td>\n",
       "    </tr>\n",
       "  </tbody>\n",
       "</table>\n",
       "</div>"
      ],
      "text/plain": [
       "       consumer_index    item_index       ratings\n",
       "count    72312.000000  72312.000000  72312.000000\n",
       "mean       945.367491   1485.004508      1.292234\n",
       "std        514.935478    856.146451      0.801325\n",
       "min          0.000000      0.000000      1.000000\n",
       "25%        588.000000    740.000000      1.000000\n",
       "50%        926.000000   1491.000000      1.000000\n",
       "75%       1338.250000   2194.000000      1.000000\n",
       "max       1894.000000   2986.000000      5.000000"
      ]
     },
     "execution_count": 147,
     "metadata": {},
     "output_type": "execute_result"
    }
   ],
   "source": [
    "clean_consumer.describe()\n"
   ]
  },
  {
   "cell_type": "markdown",
   "metadata": {
    "id": "BP2OmylCo13w"
   },
   "source": [
    "#### create a compressed sparse row matrix for user-item"
   ]
  },
  {
   "cell_type": "code",
   "execution_count": 148,
   "metadata": {
    "id": "Mav3Zq3Po13w"
   },
   "outputs": [],
   "source": [
    "sparse_user_item = csr_matrix( ([alpha]*clean_consumer.shape[0], (clean_consumer['consumer_index'], clean_consumer['item_index']) ))"
   ]
  },
  {
   "cell_type": "code",
   "execution_count": 149,
   "metadata": {
    "colab": {
     "base_uri": "https://localhost:8080/"
    },
    "id": "2XDprIBmo13w",
    "outputId": "094bb942-0a70-40bc-a22b-01880c468a40"
   },
   "outputs": [
    {
     "data": {
      "text/plain": [
       "<1895x2987 sparse matrix of type '<class 'numpy.intc'>'\n",
       "\twith 40710 stored elements in Compressed Sparse Row format>"
      ]
     },
     "execution_count": 149,
     "metadata": {},
     "output_type": "execute_result"
    }
   ],
   "source": [
    "sparse_user_item # display"
   ]
  },
  {
   "cell_type": "code",
   "execution_count": 150,
   "metadata": {
    "colab": {
     "base_uri": "https://localhost:8080/"
    },
    "id": "LXq4V30do13x",
    "outputId": "b6195f25-052d-43a5-be63-2521bee8b12f"
   },
   "outputs": [
    {
     "data": {
      "text/plain": [
       "(1895, 2987)"
      ]
     },
     "execution_count": 150,
     "metadata": {},
     "output_type": "execute_result"
    }
   ],
   "source": [
    "sparse_user_item.shape # Check the shape (Users,items)"
   ]
  },
  {
   "cell_type": "code",
   "execution_count": 151,
   "metadata": {
    "id": "E1qLwhzuo13x"
   },
   "outputs": [],
   "source": [
    "csr_user_array = sparse_user_item.toarray() # convert to numpy array"
   ]
  },
  {
   "cell_type": "code",
   "execution_count": 152,
   "metadata": {
    "colab": {
     "base_uri": "https://localhost:8080/"
    },
    "id": "6TR86SYWo13x",
    "outputId": "6ec8b82b-cdca-4368-e3a4-7f605d99cc39",
    "scrolled": true
   },
   "outputs": [
    {
     "data": {
      "text/plain": [
       "array([[ 0,  0,  0, ...,  0,  0,  0],\n",
       "       [ 0,  0,  0, ...,  0,  0,  0],\n",
       "       [ 0, 80,  0, ...,  0,  0,  0],\n",
       "       ...,\n",
       "       [ 0,  0,  0, ...,  0,  0,  0],\n",
       "       [ 0,  0,  0, ...,  0,  0,  0],\n",
       "       [ 0,  0,  0, ...,  0,  0,  0]], dtype=int32)"
      ]
     },
     "execution_count": 152,
     "metadata": {},
     "output_type": "execute_result"
    }
   ],
   "source": [
    "csr_user_array"
   ]
  },
  {
   "cell_type": "code",
   "execution_count": 153,
   "metadata": {
    "colab": {
     "base_uri": "https://localhost:8080/"
    },
    "id": "h7bT7FI8o13x",
    "outputId": "e3349f35-5918-4e77-9662-4c8c3cf0f73e",
    "scrolled": true
   },
   "outputs": [
    {
     "data": {
      "text/plain": [
       "(1895, 2987)"
      ]
     },
     "execution_count": 153,
     "metadata": {},
     "output_type": "execute_result"
    }
   ],
   "source": [
    "csr_user_array.shape"
   ]
  },
  {
   "cell_type": "code",
   "execution_count": 154,
   "metadata": {
    "colab": {
     "base_uri": "https://localhost:8080/"
    },
    "id": "Yz-pgb9No13y",
    "outputId": "2eea7150-45a4-4239-ff10-5f01777635de",
    "scrolled": false
   },
   "outputs": [
    {
     "name": "stdout",
     "output_type": "stream",
     "text": [
      "  (0, 65)\t40\n",
      "  (0, 160)\t40\n",
      "  (0, 188)\t40\n",
      "  (0, 196)\t40\n",
      "  (0, 314)\t320\n",
      "  (0, 328)\t40\n",
      "  (0, 386)\t40\n",
      "  (0, 417)\t40\n",
      "  (0, 443)\t40\n",
      "  (0, 451)\t80\n",
      "  (0, 453)\t80\n",
      "  (0, 465)\t40\n",
      "  (0, 570)\t40\n",
      "  (0, 702)\t80\n",
      "  (0, 769)\t40\n",
      "  (0, 813)\t40\n",
      "  (0, 819)\t80\n",
      "  (0, 864)\t40\n",
      "  (0, 890)\t40\n",
      "  (0, 1087)\t80\n",
      "  (0, 1358)\t40\n",
      "  (0, 1390)\t80\n",
      "  (0, 1411)\t120\n",
      "  (0, 1618)\t40\n",
      "  (0, 1632)\t40\n",
      "  :\t:\n",
      "  (1894, 1977)\t160\n",
      "  (1894, 2023)\t40\n",
      "  (1894, 2027)\t40\n",
      "  (1894, 2071)\t640\n",
      "  (1894, 2080)\t80\n",
      "  (1894, 2190)\t40\n",
      "  (1894, 2253)\t80\n",
      "  (1894, 2334)\t40\n",
      "  (1894, 2349)\t40\n",
      "  (1894, 2451)\t40\n",
      "  (1894, 2470)\t40\n",
      "  (1894, 2538)\t80\n",
      "  (1894, 2608)\t40\n",
      "  (1894, 2676)\t80\n",
      "  (1894, 2696)\t120\n",
      "  (1894, 2719)\t40\n",
      "  (1894, 2772)\t80\n",
      "  (1894, 2809)\t40\n",
      "  (1894, 2814)\t80\n",
      "  (1894, 2845)\t40\n",
      "  (1894, 2861)\t160\n",
      "  (1894, 2867)\t40\n",
      "  (1894, 2922)\t40\n",
      "  (1894, 2925)\t40\n",
      "  (1894, 2981)\t40\n"
     ]
    }
   ],
   "source": [
    "print(sparse_user_item)"
   ]
  },
  {
   "cell_type": "markdown",
   "metadata": {
    "id": "iZhgd9qPo13y"
   },
   "source": [
    "### Create Item User Sparse Matrix"
   ]
  },
  {
   "cell_type": "code",
   "execution_count": 155,
   "metadata": {
    "id": "aIOfha0Ao13y"
   },
   "outputs": [],
   "source": [
    "sparse_item_user = sparse_user_item.T.tocsr() # take a traspose to convert user_item to item_user"
   ]
  },
  {
   "cell_type": "code",
   "execution_count": 156,
   "metadata": {
    "colab": {
     "base_uri": "https://localhost:8080/"
    },
    "id": "VyjALkw8o13y",
    "outputId": "20689279-26e3-4224-e7f3-371a328ca786",
    "scrolled": true
   },
   "outputs": [
    {
     "data": {
      "text/plain": [
       "<2987x1895 sparse matrix of type '<class 'numpy.intc'>'\n",
       "\twith 40710 stored elements in Compressed Sparse Row format>"
      ]
     },
     "execution_count": 156,
     "metadata": {},
     "output_type": "execute_result"
    }
   ],
   "source": [
    "sparse_item_user"
   ]
  },
  {
   "cell_type": "code",
   "execution_count": 157,
   "metadata": {
    "colab": {
     "base_uri": "https://localhost:8080/"
    },
    "id": "f1RX_GF7o13z",
    "outputId": "f6f496d1-c854-4d82-d9fb-7956c1ba99da"
   },
   "outputs": [
    {
     "data": {
      "text/plain": [
       "(2987, 1895)"
      ]
     },
     "execution_count": 157,
     "metadata": {},
     "output_type": "execute_result"
    }
   ],
   "source": [
    "csr_item_array = sparse_item_user.toarray()\n",
    "csr_item_array.shape"
   ]
  },
  {
   "cell_type": "code",
   "execution_count": 158,
   "metadata": {
    "colab": {
     "base_uri": "https://localhost:8080/"
    },
    "id": "kiVozI2io13z",
    "outputId": "f30a6ea9-4010-4841-d346-2eed5eb4d120"
   },
   "outputs": [
    {
     "name": "stdout",
     "output_type": "stream",
     "text": [
      "Requirement already satisfied: implicit in c:\\users\\harsh\\anaconda3\\envs\\tf-gpu\\lib\\site-packages (0.6.1)\n",
      "Requirement already satisfied: scipy>=0.16 in c:\\users\\harsh\\anaconda3\\envs\\tf-gpu\\lib\\site-packages (from implicit) (1.7.3)\n",
      "Requirement already satisfied: numpy in c:\\users\\harsh\\anaconda3\\envs\\tf-gpu\\lib\\site-packages (from implicit) (1.22.3)\n",
      "Requirement already satisfied: tqdm>=4.27 in c:\\users\\harsh\\anaconda3\\envs\\tf-gpu\\lib\\site-packages (from implicit) (4.64.0)\n",
      "Requirement already satisfied: colorama in c:\\users\\harsh\\anaconda3\\envs\\tf-gpu\\lib\\site-packages (from tqdm>=4.27->implicit) (0.4.5)\n"
     ]
    }
   ],
   "source": [
    "!pip install implicit  "
   ]
  },
  {
   "cell_type": "code",
   "execution_count": 159,
   "metadata": {
    "id": "y6-B7Tqgo13z"
   },
   "outputs": [],
   "source": [
    "import implicit\n",
    "from implicit.evaluation import train_test_split"
   ]
  },
  {
   "cell_type": "markdown",
   "metadata": {
    "id": "QjBEcOLxo130"
   },
   "source": [
    "### Train Test split of sparse_item_user matrix"
   ]
  },
  {
   "cell_type": "code",
   "execution_count": 160,
   "metadata": {
    "id": "-BMCdAa0o130"
   },
   "outputs": [],
   "source": [
    "# divided the dataset using the train-test split\n",
    "train_als, test_als = train_test_split(sparse_item_user, train_percentage=0.8)"
   ]
  },
  {
   "cell_type": "code",
   "execution_count": 161,
   "metadata": {
    "colab": {
     "base_uri": "https://localhost:8080/"
    },
    "id": "EJIxRY5Ao131",
    "outputId": "41bb5687-c428-4601-8b66-8db9ee031240",
    "scrolled": true
   },
   "outputs": [
    {
     "data": {
      "text/plain": [
       "<2987x1895 sparse matrix of type '<class 'numpy.intc'>'\n",
       "\twith 32460 stored elements in Compressed Sparse Row format>"
      ]
     },
     "execution_count": 161,
     "metadata": {},
     "output_type": "execute_result"
    }
   ],
   "source": [
    "train_als"
   ]
  },
  {
   "cell_type": "code",
   "execution_count": 162,
   "metadata": {
    "colab": {
     "base_uri": "https://localhost:8080/"
    },
    "id": "U1oX-56Xo133",
    "outputId": "bc0283dc-73e7-4c22-ff0b-4ee408cdd8e4",
    "scrolled": true
   },
   "outputs": [
    {
     "data": {
      "text/plain": [
       "<2987x1895 sparse matrix of type '<class 'numpy.intc'>'\n",
       "\twith 8250 stored elements in Compressed Sparse Row format>"
      ]
     },
     "execution_count": 162,
     "metadata": {},
     "output_type": "execute_result"
    }
   ],
   "source": [
    "test_als"
   ]
  },
  {
   "cell_type": "markdown",
   "metadata": {
    "id": "-AbqrkV1o133"
   },
   "source": [
    "### Building ALS Model\n",
    "\n",
    "#### Hyperparameters:\n",
    "- __Factors - Length of feature factor.__\n",
    "- __Regularization Parameter -  to control overfitting.__\n",
    "- __iterations -  No of iterations to build  a final model.__\n",
    "- __calculate_training_loss -  Calculate training loss for each itertions.__"
   ]
  },
  {
   "cell_type": "code",
   "execution_count": 163,
   "metadata": {
    "id": "xqfnWnmgo134"
   },
   "outputs": [],
   "source": [
    "# Build the ALS Model\n",
    "model = implicit.als.AlternatingLeastSquares(factors=100, regularization=0.1, iterations=20,calculate_training_loss=False)\n"
   ]
  },
  {
   "cell_type": "code",
   "execution_count": 164,
   "metadata": {
    "colab": {
     "base_uri": "https://localhost:8080/"
    },
    "id": "jULRF3PUo135",
    "outputId": "8081d638-0368-45e1-e93b-3000afe6a02a"
   },
   "outputs": [
    {
     "data": {
      "text/plain": [
       "<implicit.cpu.als.AlternatingLeastSquares at 0x25d80d42190>"
      ]
     },
     "execution_count": 164,
     "metadata": {},
     "output_type": "execute_result"
    }
   ],
   "source": [
    "model"
   ]
  },
  {
   "cell_type": "code",
   "execution_count": 165,
   "metadata": {
    "colab": {
     "base_uri": "https://localhost:8080/",
     "height": 49,
     "referenced_widgets": [
      "7d3ba7d50a554ab8b7270140afadb71c",
      "9e0fc49f820f4d5ca937b615df8a5a68",
      "332e9da17d4048f89c50b020737ebe05",
      "1dcc6181bd964e5fbaee10dbf6c0cbc3",
      "368244212d0743c981ed67f6d395bca1",
      "60da65eae3bd4e3c9d4d15781385c1c3",
      "cbe16255482447a3a5034df879c09505",
      "6a1c54c69f4345d4adf7563097c59fdc",
      "22d649970ff4408f8540934873ac2eda",
      "173c4b6949b3400b824203389976bef5",
      "6599c38b779e4fa1a6d461931c53b75b"
     ]
    },
    "id": "T06uJ2_po135",
    "outputId": "b36ad89e-f612-4021-91cc-7b610f24603a",
    "scrolled": true
   },
   "outputs": [
    {
     "data": {
      "application/vnd.jupyter.widget-view+json": {
       "model_id": "68dab69c9fda40589411ee4f0577c9a3",
       "version_major": 2,
       "version_minor": 0
      },
      "text/plain": [
       "  0%|          | 0/20 [00:00<?, ?it/s]"
      ]
     },
     "metadata": {},
     "output_type": "display_data"
    }
   ],
   "source": [
    "# Train the model with training data\n",
    "model.fit(train_als)"
   ]
  },
  {
   "cell_type": "code",
   "execution_count": 166,
   "metadata": {
    "id": "GhbY9abho136"
   },
   "outputs": [],
   "source": [
    "# Get an random Consumer Index \n",
    "user_id = 630\n",
    "\n"
   ]
  },
  {
   "cell_type": "code",
   "execution_count": 167,
   "metadata": {
    "colab": {
     "base_uri": "https://localhost:8080/"
    },
    "id": "GSxWrM1ao136",
    "outputId": "2159fa2b-f6d1-446e-a8f0-c9df6236ad3e",
    "scrolled": true
   },
   "outputs": [
    {
     "data": {
      "text/plain": [
       "(array([ 885,  844, 1295,  382,   29,  348, 1387,  730,  581, 1184]),\n",
       " array([0.39911172, 0.29527727, 0.29090562, 0.29008827, 0.26716623,\n",
       "        0.26278278, 0.26167995, 0.25039345, 0.23990296, 0.23182742],\n",
       "       dtype=float32))"
      ]
     },
     "execution_count": 167,
     "metadata": {},
     "output_type": "execute_result"
    }
   ],
   "source": [
    "# Recommend the News Items for Consumer Index\n",
    "# Default it gives 10 recomendation\n",
    "#sparse_user_item.shape\n",
    "\n",
    "model.recommend(user_id,sparse_item_user[user_id])"
   ]
  },
  {
   "cell_type": "code",
   "execution_count": 168,
   "metadata": {
    "colab": {
     "base_uri": "https://localhost:8080/"
    },
    "id": "xWxgZ-H8o137",
    "outputId": "6f68a583-714b-4acc-9f01-bc66a79089cb",
    "scrolled": true
   },
   "outputs": [
    {
     "data": {
      "text/plain": [
       "(array([ 885,  844, 1295,  382,   29,  348, 1387,  730,  581, 1184, 1001,\n",
       "        1793, 1206,  247, 1774,  881, 1475,  180, 1349,   59, 1215,  263,\n",
       "         473,  968,  926, 1689, 1662,  236,  518, 1789]),\n",
       " array([0.39911172, 0.29527727, 0.29090562, 0.29008827, 0.26716623,\n",
       "        0.26278278, 0.26167995, 0.25039345, 0.23990296, 0.23182742,\n",
       "        0.22984849, 0.22743493, 0.21260665, 0.20796175, 0.20676424,\n",
       "        0.19807296, 0.19426027, 0.19137597, 0.18446805, 0.18369833,\n",
       "        0.17772783, 0.17709915, 0.17304024, 0.17136095, 0.17056902,\n",
       "        0.17042005, 0.16445658, 0.16432576, 0.15964559, 0.1595379 ],\n",
       "       dtype=float32))"
      ]
     },
     "execution_count": 168,
     "metadata": {},
     "output_type": "execute_result"
    }
   ],
   "source": [
    " # N is the no of recommendation we want\n",
    "    \n",
    "model.recommend(user_id,sparse_item_user[user_id],N=30)"
   ]
  },
  {
   "cell_type": "code",
   "execution_count": 169,
   "metadata": {
    "colab": {
     "base_uri": "https://localhost:8080/"
    },
    "id": "hXmI0g8vo137",
    "outputId": "c0027c60-99e3-4785-cfaf-51795c548f9a"
   },
   "outputs": [
    {
     "data": {
      "text/plain": [
       "(array([ 826, 1795,  885,  844, 1295,  382,   29,  348, 1387,  730]),\n",
       " array([0.9933069 , 0.96658736, 0.39911172, 0.29527727, 0.29090562,\n",
       "        0.29008827, 0.26716623, 0.26278278, 0.26167995, 0.25039345],\n",
       "       dtype=float32))"
      ]
     },
     "execution_count": 169,
     "metadata": {},
     "output_type": "execute_result"
    }
   ],
   "source": [
    "# predict the items  with als score \n",
    "ids1,output_als = model.recommend(user_id,sparse_item_user[user_id], N=10, filter_already_liked_items=False)\n",
    "ids1,output_als"
   ]
  },
  {
   "cell_type": "code",
   "execution_count": 170,
   "metadata": {
    "id": "sZrZbW1Io138"
   },
   "outputs": [],
   "source": [
    "# Create a DataFrame of output_als\n",
    "output_df = pd.DataFrame({ \"item_index\": ids1,\"als_score\": output_als})"
   ]
  },
  {
   "cell_type": "code",
   "execution_count": 171,
   "metadata": {
    "colab": {
     "base_uri": "https://localhost:8080/",
     "height": 363
    },
    "id": "U91Mgwgho138",
    "outputId": "5feca344-e25f-4d5d-b072-c57262e2736e",
    "scrolled": true
   },
   "outputs": [
    {
     "data": {
      "text/html": [
       "<div>\n",
       "<style scoped>\n",
       "    .dataframe tbody tr th:only-of-type {\n",
       "        vertical-align: middle;\n",
       "    }\n",
       "\n",
       "    .dataframe tbody tr th {\n",
       "        vertical-align: top;\n",
       "    }\n",
       "\n",
       "    .dataframe thead th {\n",
       "        text-align: right;\n",
       "    }\n",
       "</style>\n",
       "<table border=\"1\" class=\"dataframe\">\n",
       "  <thead>\n",
       "    <tr style=\"text-align: right;\">\n",
       "      <th></th>\n",
       "      <th>item_index</th>\n",
       "      <th>als_score</th>\n",
       "    </tr>\n",
       "  </thead>\n",
       "  <tbody>\n",
       "    <tr>\n",
       "      <th>0</th>\n",
       "      <td>826</td>\n",
       "      <td>0.993307</td>\n",
       "    </tr>\n",
       "    <tr>\n",
       "      <th>1</th>\n",
       "      <td>1795</td>\n",
       "      <td>0.966587</td>\n",
       "    </tr>\n",
       "    <tr>\n",
       "      <th>2</th>\n",
       "      <td>885</td>\n",
       "      <td>0.399112</td>\n",
       "    </tr>\n",
       "    <tr>\n",
       "      <th>3</th>\n",
       "      <td>844</td>\n",
       "      <td>0.295277</td>\n",
       "    </tr>\n",
       "    <tr>\n",
       "      <th>4</th>\n",
       "      <td>1295</td>\n",
       "      <td>0.290906</td>\n",
       "    </tr>\n",
       "    <tr>\n",
       "      <th>5</th>\n",
       "      <td>382</td>\n",
       "      <td>0.290088</td>\n",
       "    </tr>\n",
       "    <tr>\n",
       "      <th>6</th>\n",
       "      <td>29</td>\n",
       "      <td>0.267166</td>\n",
       "    </tr>\n",
       "    <tr>\n",
       "      <th>7</th>\n",
       "      <td>348</td>\n",
       "      <td>0.262783</td>\n",
       "    </tr>\n",
       "    <tr>\n",
       "      <th>8</th>\n",
       "      <td>1387</td>\n",
       "      <td>0.261680</td>\n",
       "    </tr>\n",
       "    <tr>\n",
       "      <th>9</th>\n",
       "      <td>730</td>\n",
       "      <td>0.250393</td>\n",
       "    </tr>\n",
       "  </tbody>\n",
       "</table>\n",
       "</div>"
      ],
      "text/plain": [
       "   item_index  als_score\n",
       "0         826   0.993307\n",
       "1        1795   0.966587\n",
       "2         885   0.399112\n",
       "3         844   0.295277\n",
       "4        1295   0.290906\n",
       "5         382   0.290088\n",
       "6          29   0.267166\n",
       "7         348   0.262783\n",
       "8        1387   0.261680\n",
       "9         730   0.250393"
      ]
     },
     "execution_count": 171,
     "metadata": {},
     "output_type": "execute_result"
    }
   ],
   "source": [
    "output_df # check the dataframe"
   ]
  },
  {
   "cell_type": "markdown",
   "metadata": {
    "id": "_s7vkdVyo138"
   },
   "source": [
    "### Get the \"title\" of predicted item index from content table for ease of understanding "
   ]
  },
  {
   "cell_type": "code",
   "execution_count": 172,
   "metadata": {
    "colab": {
     "base_uri": "https://localhost:8080/",
     "height": 363
    },
    "id": "7vK3EYAIo139",
    "outputId": "df96e72f-168e-4b0d-e8ba-8f015ab6a28b",
    "scrolled": false
   },
   "outputs": [
    {
     "data": {
      "text/html": [
       "<div>\n",
       "<style scoped>\n",
       "    .dataframe tbody tr th:only-of-type {\n",
       "        vertical-align: middle;\n",
       "    }\n",
       "\n",
       "    .dataframe tbody tr th {\n",
       "        vertical-align: top;\n",
       "    }\n",
       "\n",
       "    .dataframe thead th {\n",
       "        text-align: right;\n",
       "    }\n",
       "</style>\n",
       "<table border=\"1\" class=\"dataframe\">\n",
       "  <thead>\n",
       "    <tr style=\"text-align: right;\">\n",
       "      <th></th>\n",
       "      <th>item_index</th>\n",
       "      <th>als_score</th>\n",
       "      <th>title</th>\n",
       "    </tr>\n",
       "  </thead>\n",
       "  <tbody>\n",
       "    <tr>\n",
       "      <th>0</th>\n",
       "      <td>826</td>\n",
       "      <td>0.993307</td>\n",
       "      <td>Announcing the Acquia Engage Awards</td>\n",
       "    </tr>\n",
       "    <tr>\n",
       "      <th>1</th>\n",
       "      <td>1795</td>\n",
       "      <td>0.966587</td>\n",
       "      <td>The 7 Habits of a Highly Effective Product Owner</td>\n",
       "    </tr>\n",
       "    <tr>\n",
       "      <th>2</th>\n",
       "      <td>885</td>\n",
       "      <td>0.399112</td>\n",
       "      <td>Practical End-to-End Testing with Protractor</td>\n",
       "    </tr>\n",
       "    <tr>\n",
       "      <th>3</th>\n",
       "      <td>844</td>\n",
       "      <td>0.295277</td>\n",
       "      <td>Managing Machines at Spotify</td>\n",
       "    </tr>\n",
       "    <tr>\n",
       "      <th>4</th>\n",
       "      <td>1295</td>\n",
       "      <td>0.290906</td>\n",
       "      <td>What Apple's differential privacy means for yo...</td>\n",
       "    </tr>\n",
       "    <tr>\n",
       "      <th>5</th>\n",
       "      <td>382</td>\n",
       "      <td>0.290088</td>\n",
       "      <td>The Fountain (2006)</td>\n",
       "    </tr>\n",
       "    <tr>\n",
       "      <th>6</th>\n",
       "      <td>29</td>\n",
       "      <td>0.267166</td>\n",
       "      <td>Software Architecture Patterns</td>\n",
       "    </tr>\n",
       "    <tr>\n",
       "      <th>7</th>\n",
       "      <td>348</td>\n",
       "      <td>0.262783</td>\n",
       "      <td>Top 10 Insurtech Trends for 2017 - Insurance T...</td>\n",
       "    </tr>\n",
       "    <tr>\n",
       "      <th>8</th>\n",
       "      <td>1387</td>\n",
       "      <td>0.261680</td>\n",
       "      <td>Creative Applications of Deep Learning with Te...</td>\n",
       "    </tr>\n",
       "    <tr>\n",
       "      <th>9</th>\n",
       "      <td>730</td>\n",
       "      <td>0.250393</td>\n",
       "      <td>20 Awesome PHP Libraries For Early 2017</td>\n",
       "    </tr>\n",
       "  </tbody>\n",
       "</table>\n",
       "</div>"
      ],
      "text/plain": [
       "   item_index  als_score                                              title\n",
       "0         826   0.993307                Announcing the Acquia Engage Awards\n",
       "1        1795   0.966587   The 7 Habits of a Highly Effective Product Owner\n",
       "2         885   0.399112       Practical End-to-End Testing with Protractor\n",
       "3         844   0.295277                       Managing Machines at Spotify\n",
       "4        1295   0.290906  What Apple's differential privacy means for yo...\n",
       "5         382   0.290088                                The Fountain (2006)\n",
       "6          29   0.267166                     Software Architecture Patterns\n",
       "7         348   0.262783  Top 10 Insurtech Trends for 2017 - Insurance T...\n",
       "8        1387   0.261680  Creative Applications of Deep Learning with Te...\n",
       "9         730   0.250393            20 Awesome PHP Libraries For Early 2017"
      ]
     },
     "execution_count": 172,
     "metadata": {},
     "output_type": "execute_result"
    }
   ],
   "source": [
    "# get the filtered item index\n",
    "merged_als = pd.merge(output_df,english_content,on=\"item_index\",how=\"left\")\n",
    "merged_als = merged_als[[\"item_index\",\"als_score\",\"title\"]].dropna().reset_index(drop=True)\n",
    "merged_als\n"
   ]
  },
  {
   "cell_type": "markdown",
   "metadata": {
    "id": "JXngt5sIo139"
   },
   "source": [
    "### Normalized the ALS Score"
   ]
  },
  {
   "cell_type": "code",
   "execution_count": 173,
   "metadata": {
    "id": "zp9jdCpro13-"
   },
   "outputs": [],
   "source": [
    "# min max normalization \n",
    "merged_als[\"normalized_als_score\"] =  (merged_als[\"als_score\"] - merged_als[\"als_score\"].min())/(merged_als[\"als_score\"].max()- merged_als[\"als_score\"].min())"
   ]
  },
  {
   "cell_type": "markdown",
   "metadata": {
    "id": "ZVATpjywo13-"
   },
   "source": [
    "### Top 10 Prediction for Consumer ID 630 via ALS based Recommendation"
   ]
  },
  {
   "cell_type": "code",
   "execution_count": 174,
   "metadata": {
    "colab": {
     "base_uri": "https://localhost:8080/",
     "height": 363
    },
    "id": "wHt-iei8o13_",
    "outputId": "29eb19e0-5d57-4adc-9873-cb887339ce17",
    "scrolled": true
   },
   "outputs": [
    {
     "data": {
      "text/html": [
       "<div>\n",
       "<style scoped>\n",
       "    .dataframe tbody tr th:only-of-type {\n",
       "        vertical-align: middle;\n",
       "    }\n",
       "\n",
       "    .dataframe tbody tr th {\n",
       "        vertical-align: top;\n",
       "    }\n",
       "\n",
       "    .dataframe thead th {\n",
       "        text-align: right;\n",
       "    }\n",
       "</style>\n",
       "<table border=\"1\" class=\"dataframe\">\n",
       "  <thead>\n",
       "    <tr style=\"text-align: right;\">\n",
       "      <th></th>\n",
       "      <th>item_index</th>\n",
       "      <th>als_score</th>\n",
       "      <th>title</th>\n",
       "      <th>normalized_als_score</th>\n",
       "    </tr>\n",
       "  </thead>\n",
       "  <tbody>\n",
       "    <tr>\n",
       "      <th>0</th>\n",
       "      <td>826</td>\n",
       "      <td>0.993307</td>\n",
       "      <td>Announcing the Acquia Engage Awards</td>\n",
       "      <td>1.000000</td>\n",
       "    </tr>\n",
       "    <tr>\n",
       "      <th>1</th>\n",
       "      <td>1795</td>\n",
       "      <td>0.966587</td>\n",
       "      <td>The 7 Habits of a Highly Effective Product Owner</td>\n",
       "      <td>0.964034</td>\n",
       "    </tr>\n",
       "    <tr>\n",
       "      <th>2</th>\n",
       "      <td>885</td>\n",
       "      <td>0.399112</td>\n",
       "      <td>Practical End-to-End Testing with Protractor</td>\n",
       "      <td>0.200182</td>\n",
       "    </tr>\n",
       "    <tr>\n",
       "      <th>3</th>\n",
       "      <td>844</td>\n",
       "      <td>0.295277</td>\n",
       "      <td>Managing Machines at Spotify</td>\n",
       "      <td>0.060416</td>\n",
       "    </tr>\n",
       "    <tr>\n",
       "      <th>4</th>\n",
       "      <td>1295</td>\n",
       "      <td>0.290906</td>\n",
       "      <td>What Apple's differential privacy means for yo...</td>\n",
       "      <td>0.054531</td>\n",
       "    </tr>\n",
       "    <tr>\n",
       "      <th>5</th>\n",
       "      <td>382</td>\n",
       "      <td>0.290088</td>\n",
       "      <td>The Fountain (2006)</td>\n",
       "      <td>0.053431</td>\n",
       "    </tr>\n",
       "    <tr>\n",
       "      <th>6</th>\n",
       "      <td>29</td>\n",
       "      <td>0.267166</td>\n",
       "      <td>Software Architecture Patterns</td>\n",
       "      <td>0.022577</td>\n",
       "    </tr>\n",
       "    <tr>\n",
       "      <th>7</th>\n",
       "      <td>348</td>\n",
       "      <td>0.262783</td>\n",
       "      <td>Top 10 Insurtech Trends for 2017 - Insurance T...</td>\n",
       "      <td>0.016677</td>\n",
       "    </tr>\n",
       "    <tr>\n",
       "      <th>8</th>\n",
       "      <td>1387</td>\n",
       "      <td>0.261680</td>\n",
       "      <td>Creative Applications of Deep Learning with Te...</td>\n",
       "      <td>0.015192</td>\n",
       "    </tr>\n",
       "    <tr>\n",
       "      <th>9</th>\n",
       "      <td>730</td>\n",
       "      <td>0.250393</td>\n",
       "      <td>20 Awesome PHP Libraries For Early 2017</td>\n",
       "      <td>0.000000</td>\n",
       "    </tr>\n",
       "  </tbody>\n",
       "</table>\n",
       "</div>"
      ],
      "text/plain": [
       "   item_index  als_score                                              title  \\\n",
       "0         826   0.993307                Announcing the Acquia Engage Awards   \n",
       "1        1795   0.966587   The 7 Habits of a Highly Effective Product Owner   \n",
       "2         885   0.399112       Practical End-to-End Testing with Protractor   \n",
       "3         844   0.295277                       Managing Machines at Spotify   \n",
       "4        1295   0.290906  What Apple's differential privacy means for yo...   \n",
       "5         382   0.290088                                The Fountain (2006)   \n",
       "6          29   0.267166                     Software Architecture Patterns   \n",
       "7         348   0.262783  Top 10 Insurtech Trends for 2017 - Insurance T...   \n",
       "8        1387   0.261680  Creative Applications of Deep Learning with Te...   \n",
       "9         730   0.250393            20 Awesome PHP Libraries For Early 2017   \n",
       "\n",
       "   normalized_als_score  \n",
       "0              1.000000  \n",
       "1              0.964034  \n",
       "2              0.200182  \n",
       "3              0.060416  \n",
       "4              0.054531  \n",
       "5              0.053431  \n",
       "6              0.022577  \n",
       "7              0.016677  \n",
       "8              0.015192  \n",
       "9              0.000000  "
      ]
     },
     "execution_count": 174,
     "metadata": {},
     "output_type": "execute_result"
    }
   ],
   "source": [
    "merged_als.head(10)"
   ]
  },
  {
   "cell_type": "markdown",
   "metadata": {
    "id": "ebQ7j_Kro13_"
   },
   "source": [
    "### Top 10 Similar Users like Consumer ID 630"
   ]
  },
  {
   "cell_type": "code",
   "execution_count": 175,
   "metadata": {
    "colab": {
     "base_uri": "https://localhost:8080/"
    },
    "id": "NuFltU6no13_",
    "outputId": "1e1fa179-38d4-43b6-ceae-a4984d0ded15",
    "scrolled": true
   },
   "outputs": [
    {
     "data": {
      "text/plain": [
       "(array([1.0000001 , 0.9994419 , 0.9991357 , 0.8998217 , 0.78176004,\n",
       "        0.75937116, 0.75937074, 0.6955738 , 0.63145196, 0.60343134],\n",
       "       dtype=float32),)"
      ]
     },
     "execution_count": 175,
     "metadata": {},
     "output_type": "execute_result"
    }
   ],
   "source": [
    "# Check the similar users like user index 630\n",
    "model.similar_users(630)[1:11]"
   ]
  },
  {
   "cell_type": "code",
   "execution_count": 176,
   "metadata": {
    "colab": {
     "base_uri": "https://localhost:8080/"
    },
    "id": "xL8d6xXAo14A",
    "outputId": "2a883bc2-3ac7-4519-8572-69b9f4abf566"
   },
   "outputs": [
    {
     "data": {
      "text/plain": [
       "(array([1892,  270,  905, 1234,  806,  394, 1692,  211,  129, 1800]),\n",
       " array([1.0000001 , 0.6214421 , 0.5724464 , 0.5138927 , 0.5060653 ,\n",
       "        0.50491357, 0.49066567, 0.45771134, 0.44625747, 0.4448077 ],\n",
       "       dtype=float32))"
      ]
     },
     "execution_count": 176,
     "metadata": {},
     "output_type": "execute_result"
    }
   ],
   "source": [
    "## Find the similar items for item id 1892\n",
    "\n",
    "ids2,similar_items_als = model.similar_items(1892)\n",
    "\n",
    "ids2,similar_items_als"
   ]
  },
  {
   "cell_type": "code",
   "execution_count": 177,
   "metadata": {
    "colab": {
     "base_uri": "https://localhost:8080/",
     "height": 363
    },
    "id": "_Kb8c2hgo14A",
    "outputId": "0f620068-19f1-491c-944c-284b2f7d5ca0",
    "scrolled": true
   },
   "outputs": [
    {
     "data": {
      "text/html": [
       "<div>\n",
       "<style scoped>\n",
       "    .dataframe tbody tr th:only-of-type {\n",
       "        vertical-align: middle;\n",
       "    }\n",
       "\n",
       "    .dataframe tbody tr th {\n",
       "        vertical-align: top;\n",
       "    }\n",
       "\n",
       "    .dataframe thead th {\n",
       "        text-align: right;\n",
       "    }\n",
       "</style>\n",
       "<table border=\"1\" class=\"dataframe\">\n",
       "  <thead>\n",
       "    <tr style=\"text-align: right;\">\n",
       "      <th></th>\n",
       "      <th>item_index</th>\n",
       "      <th>score</th>\n",
       "    </tr>\n",
       "  </thead>\n",
       "  <tbody>\n",
       "    <tr>\n",
       "      <th>0</th>\n",
       "      <td>1892</td>\n",
       "      <td>1.000000</td>\n",
       "    </tr>\n",
       "    <tr>\n",
       "      <th>1</th>\n",
       "      <td>270</td>\n",
       "      <td>0.621442</td>\n",
       "    </tr>\n",
       "    <tr>\n",
       "      <th>2</th>\n",
       "      <td>905</td>\n",
       "      <td>0.572446</td>\n",
       "    </tr>\n",
       "    <tr>\n",
       "      <th>3</th>\n",
       "      <td>1234</td>\n",
       "      <td>0.513893</td>\n",
       "    </tr>\n",
       "    <tr>\n",
       "      <th>4</th>\n",
       "      <td>806</td>\n",
       "      <td>0.506065</td>\n",
       "    </tr>\n",
       "    <tr>\n",
       "      <th>5</th>\n",
       "      <td>394</td>\n",
       "      <td>0.504914</td>\n",
       "    </tr>\n",
       "    <tr>\n",
       "      <th>6</th>\n",
       "      <td>1692</td>\n",
       "      <td>0.490666</td>\n",
       "    </tr>\n",
       "    <tr>\n",
       "      <th>7</th>\n",
       "      <td>211</td>\n",
       "      <td>0.457711</td>\n",
       "    </tr>\n",
       "    <tr>\n",
       "      <th>8</th>\n",
       "      <td>129</td>\n",
       "      <td>0.446257</td>\n",
       "    </tr>\n",
       "    <tr>\n",
       "      <th>9</th>\n",
       "      <td>1800</td>\n",
       "      <td>0.444808</td>\n",
       "    </tr>\n",
       "  </tbody>\n",
       "</table>\n",
       "</div>"
      ],
      "text/plain": [
       "   item_index     score\n",
       "0        1892  1.000000\n",
       "1         270  0.621442\n",
       "2         905  0.572446\n",
       "3        1234  0.513893\n",
       "4         806  0.506065\n",
       "5         394  0.504914\n",
       "6        1692  0.490666\n",
       "7         211  0.457711\n",
       "8         129  0.446257\n",
       "9        1800  0.444808"
      ]
     },
     "execution_count": 177,
     "metadata": {},
     "output_type": "execute_result"
    }
   ],
   "source": [
    "# create the dataframe from the similar items\n",
    "\n",
    "similar_items_als_df = pd.DataFrame({ \"item_index\": ids2,\"score\": similar_items_als})\n",
    "\n",
    "similar_items_als_df"
   ]
  },
  {
   "cell_type": "markdown",
   "metadata": {
    "id": "cSH4iGdvo14B"
   },
   "source": [
    "### Merge with content data to get news title:"
   ]
  },
  {
   "cell_type": "code",
   "execution_count": 178,
   "metadata": {
    "colab": {
     "base_uri": "https://localhost:8080/",
     "height": 363
    },
    "id": "cgPDGuGSo14B",
    "outputId": "02b459c2-16e9-425c-eb75-3c996d5f9ba4",
    "scrolled": true
   },
   "outputs": [
    {
     "data": {
      "text/html": [
       "<div>\n",
       "<style scoped>\n",
       "    .dataframe tbody tr th:only-of-type {\n",
       "        vertical-align: middle;\n",
       "    }\n",
       "\n",
       "    .dataframe tbody tr th {\n",
       "        vertical-align: top;\n",
       "    }\n",
       "\n",
       "    .dataframe thead th {\n",
       "        text-align: right;\n",
       "    }\n",
       "</style>\n",
       "<table border=\"1\" class=\"dataframe\">\n",
       "  <thead>\n",
       "    <tr style=\"text-align: right;\">\n",
       "      <th></th>\n",
       "      <th>item_index</th>\n",
       "      <th>score</th>\n",
       "      <th>title</th>\n",
       "      <th>text_description</th>\n",
       "    </tr>\n",
       "  </thead>\n",
       "  <tbody>\n",
       "    <tr>\n",
       "      <th>0</th>\n",
       "      <td>1892</td>\n",
       "      <td>1.000000</td>\n",
       "      <td>Former NASA chief unveils $100 million neural ...</td>\n",
       "      <td>It's not all that easy to call KnuEdge a start...</td>\n",
       "    </tr>\n",
       "    <tr>\n",
       "      <th>1</th>\n",
       "      <td>270</td>\n",
       "      <td>0.621442</td>\n",
       "      <td>The new 64-bit Orange Pi is a quad-core comput...</td>\n",
       "      <td>Need a teeny tiny computer that can run Androi...</td>\n",
       "    </tr>\n",
       "    <tr>\n",
       "      <th>2</th>\n",
       "      <td>905</td>\n",
       "      <td>0.572446</td>\n",
       "      <td>Machine Learning, AI, and the Emperor's Vest</td>\n",
       "      <td>Machine Learning, AI, and the Emperor's Vest T...</td>\n",
       "    </tr>\n",
       "    <tr>\n",
       "      <th>3</th>\n",
       "      <td>1234</td>\n",
       "      <td>0.513893</td>\n",
       "      <td>Eclipse Foundation Releases Neon</td>\n",
       "      <td>Today, the Eclipse Foundation announced the re...</td>\n",
       "    </tr>\n",
       "    <tr>\n",
       "      <th>4</th>\n",
       "      <td>806</td>\n",
       "      <td>0.506065</td>\n",
       "      <td>Machine Intelligence - Research at Google</td>\n",
       "      <td>Research at Google is at the forefront of inno...</td>\n",
       "    </tr>\n",
       "    <tr>\n",
       "      <th>5</th>\n",
       "      <td>394</td>\n",
       "      <td>0.504914</td>\n",
       "      <td>Developing the Opportunity for Corporate Entre...</td>\n",
       "      <td>About this course: For an increasing number of...</td>\n",
       "    </tr>\n",
       "    <tr>\n",
       "      <th>6</th>\n",
       "      <td>1692</td>\n",
       "      <td>0.490666</td>\n",
       "      <td>AWS Certified Solutions Architect Professional...</td>\n",
       "      <td>4.1 Demonstrate ability to design and implemen...</td>\n",
       "    </tr>\n",
       "    <tr>\n",
       "      <th>7</th>\n",
       "      <td>211</td>\n",
       "      <td>0.457711</td>\n",
       "      <td>These Are The 10 Most Purchased Brands in the ...</td>\n",
       "      <td>Many American consumers are still having a Cok...</td>\n",
       "    </tr>\n",
       "    <tr>\n",
       "      <th>8</th>\n",
       "      <td>129</td>\n",
       "      <td>0.446257</td>\n",
       "      <td>Vision API - Image Content Analysis</td>\n",
       "      <td>Derive insight from images with our powerful C...</td>\n",
       "    </tr>\n",
       "    <tr>\n",
       "      <th>9</th>\n",
       "      <td>1800</td>\n",
       "      <td>0.444808</td>\n",
       "      <td>Google is quietly recording everything you say...</td>\n",
       "      <td>Google could have a record of everything you h...</td>\n",
       "    </tr>\n",
       "  </tbody>\n",
       "</table>\n",
       "</div>"
      ],
      "text/plain": [
       "   item_index     score                                              title  \\\n",
       "0        1892  1.000000  Former NASA chief unveils $100 million neural ...   \n",
       "1         270  0.621442  The new 64-bit Orange Pi is a quad-core comput...   \n",
       "2         905  0.572446       Machine Learning, AI, and the Emperor's Vest   \n",
       "3        1234  0.513893                   Eclipse Foundation Releases Neon   \n",
       "4         806  0.506065          Machine Intelligence - Research at Google   \n",
       "5         394  0.504914  Developing the Opportunity for Corporate Entre...   \n",
       "6        1692  0.490666  AWS Certified Solutions Architect Professional...   \n",
       "7         211  0.457711  These Are The 10 Most Purchased Brands in the ...   \n",
       "8         129  0.446257                Vision API - Image Content Analysis   \n",
       "9        1800  0.444808  Google is quietly recording everything you say...   \n",
       "\n",
       "                                    text_description  \n",
       "0  It's not all that easy to call KnuEdge a start...  \n",
       "1  Need a teeny tiny computer that can run Androi...  \n",
       "2  Machine Learning, AI, and the Emperor's Vest T...  \n",
       "3  Today, the Eclipse Foundation announced the re...  \n",
       "4  Research at Google is at the forefront of inno...  \n",
       "5  About this course: For an increasing number of...  \n",
       "6  4.1 Demonstrate ability to design and implemen...  \n",
       "7  Many American consumers are still having a Cok...  \n",
       "8  Derive insight from images with our powerful C...  \n",
       "9  Google could have a record of everything you h...  "
      ]
     },
     "execution_count": 178,
     "metadata": {},
     "output_type": "execute_result"
    }
   ],
   "source": [
    "# merged the similar items and content \n",
    "merged_similar_items_als = pd.merge(similar_items_als_df, clean_english_content, how='left', on='item_index')\n",
    "merged_similar_items_als"
   ]
  },
  {
   "cell_type": "markdown",
   "metadata": {
    "id": "DXrwLM_2o14C"
   },
   "source": [
    "### TOP 10 similar items for News Index 1892 via ALS"
   ]
  },
  {
   "cell_type": "code",
   "execution_count": 179,
   "metadata": {
    "colab": {
     "base_uri": "https://localhost:8080/",
     "height": 363
    },
    "id": "qcOyPsGqo14C",
    "outputId": "0fb83b85-c920-4216-f13d-31bb60d2b5fd",
    "scrolled": true
   },
   "outputs": [
    {
     "data": {
      "text/html": [
       "<div>\n",
       "<style scoped>\n",
       "    .dataframe tbody tr th:only-of-type {\n",
       "        vertical-align: middle;\n",
       "    }\n",
       "\n",
       "    .dataframe tbody tr th {\n",
       "        vertical-align: top;\n",
       "    }\n",
       "\n",
       "    .dataframe thead th {\n",
       "        text-align: right;\n",
       "    }\n",
       "</style>\n",
       "<table border=\"1\" class=\"dataframe\">\n",
       "  <thead>\n",
       "    <tr style=\"text-align: right;\">\n",
       "      <th></th>\n",
       "      <th>item_index</th>\n",
       "      <th>score</th>\n",
       "      <th>title</th>\n",
       "      <th>text_description</th>\n",
       "    </tr>\n",
       "  </thead>\n",
       "  <tbody>\n",
       "    <tr>\n",
       "      <th>0</th>\n",
       "      <td>1892</td>\n",
       "      <td>1.000000</td>\n",
       "      <td>Former NASA chief unveils $100 million neural ...</td>\n",
       "      <td>It's not all that easy to call KnuEdge a start...</td>\n",
       "    </tr>\n",
       "    <tr>\n",
       "      <th>1</th>\n",
       "      <td>270</td>\n",
       "      <td>0.621442</td>\n",
       "      <td>The new 64-bit Orange Pi is a quad-core comput...</td>\n",
       "      <td>Need a teeny tiny computer that can run Androi...</td>\n",
       "    </tr>\n",
       "    <tr>\n",
       "      <th>2</th>\n",
       "      <td>905</td>\n",
       "      <td>0.572446</td>\n",
       "      <td>Machine Learning, AI, and the Emperor's Vest</td>\n",
       "      <td>Machine Learning, AI, and the Emperor's Vest T...</td>\n",
       "    </tr>\n",
       "    <tr>\n",
       "      <th>3</th>\n",
       "      <td>1234</td>\n",
       "      <td>0.513893</td>\n",
       "      <td>Eclipse Foundation Releases Neon</td>\n",
       "      <td>Today, the Eclipse Foundation announced the re...</td>\n",
       "    </tr>\n",
       "    <tr>\n",
       "      <th>4</th>\n",
       "      <td>806</td>\n",
       "      <td>0.506065</td>\n",
       "      <td>Machine Intelligence - Research at Google</td>\n",
       "      <td>Research at Google is at the forefront of inno...</td>\n",
       "    </tr>\n",
       "    <tr>\n",
       "      <th>5</th>\n",
       "      <td>394</td>\n",
       "      <td>0.504914</td>\n",
       "      <td>Developing the Opportunity for Corporate Entre...</td>\n",
       "      <td>About this course: For an increasing number of...</td>\n",
       "    </tr>\n",
       "    <tr>\n",
       "      <th>6</th>\n",
       "      <td>1692</td>\n",
       "      <td>0.490666</td>\n",
       "      <td>AWS Certified Solutions Architect Professional...</td>\n",
       "      <td>4.1 Demonstrate ability to design and implemen...</td>\n",
       "    </tr>\n",
       "    <tr>\n",
       "      <th>7</th>\n",
       "      <td>211</td>\n",
       "      <td>0.457711</td>\n",
       "      <td>These Are The 10 Most Purchased Brands in the ...</td>\n",
       "      <td>Many American consumers are still having a Cok...</td>\n",
       "    </tr>\n",
       "    <tr>\n",
       "      <th>8</th>\n",
       "      <td>129</td>\n",
       "      <td>0.446257</td>\n",
       "      <td>Vision API - Image Content Analysis</td>\n",
       "      <td>Derive insight from images with our powerful C...</td>\n",
       "    </tr>\n",
       "    <tr>\n",
       "      <th>9</th>\n",
       "      <td>1800</td>\n",
       "      <td>0.444808</td>\n",
       "      <td>Google is quietly recording everything you say...</td>\n",
       "      <td>Google could have a record of everything you h...</td>\n",
       "    </tr>\n",
       "  </tbody>\n",
       "</table>\n",
       "</div>"
      ],
      "text/plain": [
       "   item_index     score                                              title  \\\n",
       "0        1892  1.000000  Former NASA chief unveils $100 million neural ...   \n",
       "1         270  0.621442  The new 64-bit Orange Pi is a quad-core comput...   \n",
       "2         905  0.572446       Machine Learning, AI, and the Emperor's Vest   \n",
       "3        1234  0.513893                   Eclipse Foundation Releases Neon   \n",
       "4         806  0.506065          Machine Intelligence - Research at Google   \n",
       "5         394  0.504914  Developing the Opportunity for Corporate Entre...   \n",
       "6        1692  0.490666  AWS Certified Solutions Architect Professional...   \n",
       "7         211  0.457711  These Are The 10 Most Purchased Brands in the ...   \n",
       "8         129  0.446257                Vision API - Image Content Analysis   \n",
       "9        1800  0.444808  Google is quietly recording everything you say...   \n",
       "\n",
       "                                    text_description  \n",
       "0  It's not all that easy to call KnuEdge a start...  \n",
       "1  Need a teeny tiny computer that can run Androi...  \n",
       "2  Machine Learning, AI, and the Emperor's Vest T...  \n",
       "3  Today, the Eclipse Foundation announced the re...  \n",
       "4  Research at Google is at the forefront of inno...  \n",
       "5  About this course: For an increasing number of...  \n",
       "6  4.1 Demonstrate ability to design and implemen...  \n",
       "7  Many American consumers are still having a Cok...  \n",
       "8  Derive insight from images with our powerful C...  \n",
       "9  Google could have a record of everything you h...  "
      ]
     },
     "execution_count": 179,
     "metadata": {},
     "output_type": "execute_result"
    }
   ],
   "source": [
    "merged_similar_items_als.head(10) # check the dataframe"
   ]
  },
  {
   "cell_type": "code",
   "execution_count": 180,
   "metadata": {
    "id": "MsL22bneo14D"
   },
   "outputs": [],
   "source": [
    "## NaN appeares because the Consumer Data has item index which is not available in Content Dataset.\n",
    "## Hence Title and Text description has  NaN "
   ]
  },
  {
   "cell_type": "code",
   "execution_count": 181,
   "metadata": {
    "id": "z_p1NeO6o14D"
   },
   "outputs": [
    {
     "data": {
      "application/vnd.jupyter.widget-view+json": {
       "model_id": "fe053e6f3e2046728a98fb0847058421",
       "version_major": 2,
       "version_minor": 0
      },
      "text/plain": [
       "  0%|          | 0/2298 [00:00<?, ?it/s]"
      ]
     },
     "metadata": {},
     "output_type": "display_data"
    },
    {
     "name": "stdout",
     "output_type": "stream",
     "text": [
      "0.13978494623655913\n"
     ]
    }
   ],
   "source": [
    "from implicit.evaluation import precision_at_k\n",
    "p = precision_at_k(model,train_als, test_als)\n",
    "print(p)"
   ]
  },
  {
   "cell_type": "code",
   "execution_count": 182,
   "metadata": {
    "colab": {
     "base_uri": "https://localhost:8080/"
    },
    "id": "yK2XgX4Fo14E",
    "outputId": "11797b97-2269-4718-b15a-791f8997c42d"
   },
   "outputs": [
    {
     "data": {
      "text/plain": [
       "(array([1892,  270,  905, ...,    0,    0,    0]),\n",
       " array([1.0000001, 0.6214421, 0.5724464, ..., 0.       , 0.       ,\n",
       "        0.       ], dtype=float32))"
      ]
     },
     "execution_count": 182,
     "metadata": {},
     "output_type": "execute_result"
    }
   ],
   "source": [
    "# check the all similar items like by passing item index 1892\n",
    "model.similar_items(1892,2987)"
   ]
  },
  {
   "cell_type": "code",
   "execution_count": null,
   "metadata": {},
   "outputs": [],
   "source": []
  },
  {
   "cell_type": "markdown",
   "metadata": {
    "id": "wr7lMzU5o14E"
   },
   "source": [
    "## Hybrid Recommendation \n",
    "\n",
    "- A hybrid recommender system is a combination of different recommendation models.\n",
    "- hybrid recommendation systems are a combination of both content and collaborative models. \n",
    "- The features of both models are combined to enhance the quality of recommendations made to a user."
   ]
  },
  {
   "cell_type": "code",
   "execution_count": 183,
   "metadata": {
    "colab": {
     "base_uri": "https://localhost:8080/"
    },
    "id": "xzSYLraLo14F",
    "outputId": "a13606db-d0d7-4200-89d7-b347b26ec0df"
   },
   "outputs": [
    {
     "data": {
      "text/plain": [
       "(72312, 3)"
      ]
     },
     "execution_count": 183,
     "metadata": {},
     "output_type": "execute_result"
    }
   ],
   "source": [
    "clean_consumer.shape"
   ]
  },
  {
   "cell_type": "code",
   "execution_count": 184,
   "metadata": {
    "colab": {
     "base_uri": "https://localhost:8080/",
     "height": 206
    },
    "id": "cBss5wDgo14H",
    "outputId": "c3525016-bb43-4f4d-f2be-47f3948f4a31",
    "scrolled": true
   },
   "outputs": [
    {
     "data": {
      "text/html": [
       "<div>\n",
       "<style scoped>\n",
       "    .dataframe tbody tr th:only-of-type {\n",
       "        vertical-align: middle;\n",
       "    }\n",
       "\n",
       "    .dataframe tbody tr th {\n",
       "        vertical-align: top;\n",
       "    }\n",
       "\n",
       "    .dataframe thead th {\n",
       "        text-align: right;\n",
       "    }\n",
       "</style>\n",
       "<table border=\"1\" class=\"dataframe\">\n",
       "  <thead>\n",
       "    <tr style=\"text-align: right;\">\n",
       "      <th></th>\n",
       "      <th>consumer_index</th>\n",
       "      <th>item_index</th>\n",
       "      <th>ratings</th>\n",
       "    </tr>\n",
       "  </thead>\n",
       "  <tbody>\n",
       "    <tr>\n",
       "      <th>0</th>\n",
       "      <td>33</td>\n",
       "      <td>933</td>\n",
       "      <td>1</td>\n",
       "    </tr>\n",
       "    <tr>\n",
       "      <th>1</th>\n",
       "      <td>831</td>\n",
       "      <td>2933</td>\n",
       "      <td>1</td>\n",
       "    </tr>\n",
       "    <tr>\n",
       "      <th>2</th>\n",
       "      <td>826</td>\n",
       "      <td>1537</td>\n",
       "      <td>1</td>\n",
       "    </tr>\n",
       "    <tr>\n",
       "      <th>3</th>\n",
       "      <td>974</td>\n",
       "      <td>1537</td>\n",
       "      <td>5</td>\n",
       "    </tr>\n",
       "    <tr>\n",
       "      <th>4</th>\n",
       "      <td>887</td>\n",
       "      <td>246</td>\n",
       "      <td>1</td>\n",
       "    </tr>\n",
       "  </tbody>\n",
       "</table>\n",
       "</div>"
      ],
      "text/plain": [
       "   consumer_index  item_index  ratings\n",
       "0              33         933        1\n",
       "1             831        2933        1\n",
       "2             826        1537        1\n",
       "3             974        1537        5\n",
       "4             887         246        1"
      ]
     },
     "execution_count": 184,
     "metadata": {},
     "output_type": "execute_result"
    }
   ],
   "source": [
    "clean_consumer.head()"
   ]
  },
  {
   "cell_type": "markdown",
   "metadata": {
    "id": "VeyXLC7zo14I"
   },
   "source": [
    "### Item based CF:"
   ]
  },
  {
   "cell_type": "code",
   "execution_count": 185,
   "metadata": {
    "id": "CIVp2Ck3o14I"
   },
   "outputs": [],
   "source": [
    "# Create a pivot matirx from consumer data\n",
    "\n",
    "data_matrix_hybrid = pd.pivot_table(clean_consumer,\n",
    "                                    index=\"consumer_index\",\n",
    "                                    columns=\"item_index\",\n",
    "                                    values=\"ratings\").fillna(0)"
   ]
  },
  {
   "cell_type": "code",
   "execution_count": 186,
   "metadata": {
    "colab": {
     "base_uri": "https://localhost:8080/",
     "height": 331
    },
    "id": "URoL6dowo14J",
    "outputId": "5fb9b738-6f11-4105-9c96-59717dba9bda"
   },
   "outputs": [
    {
     "data": {
      "text/html": [
       "<div>\n",
       "<style scoped>\n",
       "    .dataframe tbody tr th:only-of-type {\n",
       "        vertical-align: middle;\n",
       "    }\n",
       "\n",
       "    .dataframe tbody tr th {\n",
       "        vertical-align: top;\n",
       "    }\n",
       "\n",
       "    .dataframe thead th {\n",
       "        text-align: right;\n",
       "    }\n",
       "</style>\n",
       "<table border=\"1\" class=\"dataframe\">\n",
       "  <thead>\n",
       "    <tr style=\"text-align: right;\">\n",
       "      <th>item_index</th>\n",
       "      <th>0</th>\n",
       "      <th>1</th>\n",
       "      <th>2</th>\n",
       "      <th>3</th>\n",
       "      <th>4</th>\n",
       "      <th>5</th>\n",
       "      <th>6</th>\n",
       "      <th>7</th>\n",
       "      <th>8</th>\n",
       "      <th>9</th>\n",
       "      <th>...</th>\n",
       "      <th>2977</th>\n",
       "      <th>2978</th>\n",
       "      <th>2979</th>\n",
       "      <th>2980</th>\n",
       "      <th>2981</th>\n",
       "      <th>2982</th>\n",
       "      <th>2983</th>\n",
       "      <th>2984</th>\n",
       "      <th>2985</th>\n",
       "      <th>2986</th>\n",
       "    </tr>\n",
       "    <tr>\n",
       "      <th>consumer_index</th>\n",
       "      <th></th>\n",
       "      <th></th>\n",
       "      <th></th>\n",
       "      <th></th>\n",
       "      <th></th>\n",
       "      <th></th>\n",
       "      <th></th>\n",
       "      <th></th>\n",
       "      <th></th>\n",
       "      <th></th>\n",
       "      <th></th>\n",
       "      <th></th>\n",
       "      <th></th>\n",
       "      <th></th>\n",
       "      <th></th>\n",
       "      <th></th>\n",
       "      <th></th>\n",
       "      <th></th>\n",
       "      <th></th>\n",
       "      <th></th>\n",
       "      <th></th>\n",
       "    </tr>\n",
       "  </thead>\n",
       "  <tbody>\n",
       "    <tr>\n",
       "      <th>0</th>\n",
       "      <td>0.0</td>\n",
       "      <td>0.0</td>\n",
       "      <td>0.0</td>\n",
       "      <td>0.0</td>\n",
       "      <td>0.0</td>\n",
       "      <td>0.0</td>\n",
       "      <td>0.0</td>\n",
       "      <td>0.0</td>\n",
       "      <td>0.0</td>\n",
       "      <td>0.0</td>\n",
       "      <td>...</td>\n",
       "      <td>0.0</td>\n",
       "      <td>0.0</td>\n",
       "      <td>0.0</td>\n",
       "      <td>0.0</td>\n",
       "      <td>0.0</td>\n",
       "      <td>0.0</td>\n",
       "      <td>0.0</td>\n",
       "      <td>0.0</td>\n",
       "      <td>0.0</td>\n",
       "      <td>0.0</td>\n",
       "    </tr>\n",
       "    <tr>\n",
       "      <th>1</th>\n",
       "      <td>0.0</td>\n",
       "      <td>0.0</td>\n",
       "      <td>0.0</td>\n",
       "      <td>0.0</td>\n",
       "      <td>0.0</td>\n",
       "      <td>0.0</td>\n",
       "      <td>0.0</td>\n",
       "      <td>0.0</td>\n",
       "      <td>0.0</td>\n",
       "      <td>0.0</td>\n",
       "      <td>...</td>\n",
       "      <td>0.0</td>\n",
       "      <td>0.0</td>\n",
       "      <td>0.0</td>\n",
       "      <td>0.0</td>\n",
       "      <td>0.0</td>\n",
       "      <td>0.0</td>\n",
       "      <td>0.0</td>\n",
       "      <td>0.0</td>\n",
       "      <td>0.0</td>\n",
       "      <td>0.0</td>\n",
       "    </tr>\n",
       "    <tr>\n",
       "      <th>2</th>\n",
       "      <td>0.0</td>\n",
       "      <td>1.5</td>\n",
       "      <td>0.0</td>\n",
       "      <td>0.0</td>\n",
       "      <td>0.0</td>\n",
       "      <td>0.0</td>\n",
       "      <td>0.0</td>\n",
       "      <td>0.0</td>\n",
       "      <td>0.0</td>\n",
       "      <td>0.0</td>\n",
       "      <td>...</td>\n",
       "      <td>0.0</td>\n",
       "      <td>0.0</td>\n",
       "      <td>0.0</td>\n",
       "      <td>0.0</td>\n",
       "      <td>0.0</td>\n",
       "      <td>0.0</td>\n",
       "      <td>0.0</td>\n",
       "      <td>0.0</td>\n",
       "      <td>0.0</td>\n",
       "      <td>0.0</td>\n",
       "    </tr>\n",
       "    <tr>\n",
       "      <th>3</th>\n",
       "      <td>0.0</td>\n",
       "      <td>0.0</td>\n",
       "      <td>0.0</td>\n",
       "      <td>0.0</td>\n",
       "      <td>0.0</td>\n",
       "      <td>0.0</td>\n",
       "      <td>0.0</td>\n",
       "      <td>0.0</td>\n",
       "      <td>0.0</td>\n",
       "      <td>0.0</td>\n",
       "      <td>...</td>\n",
       "      <td>0.0</td>\n",
       "      <td>0.0</td>\n",
       "      <td>0.0</td>\n",
       "      <td>0.0</td>\n",
       "      <td>0.0</td>\n",
       "      <td>0.0</td>\n",
       "      <td>0.0</td>\n",
       "      <td>0.0</td>\n",
       "      <td>0.0</td>\n",
       "      <td>0.0</td>\n",
       "    </tr>\n",
       "    <tr>\n",
       "      <th>4</th>\n",
       "      <td>0.0</td>\n",
       "      <td>0.0</td>\n",
       "      <td>0.0</td>\n",
       "      <td>0.0</td>\n",
       "      <td>0.0</td>\n",
       "      <td>0.0</td>\n",
       "      <td>0.0</td>\n",
       "      <td>0.0</td>\n",
       "      <td>0.0</td>\n",
       "      <td>0.0</td>\n",
       "      <td>...</td>\n",
       "      <td>0.0</td>\n",
       "      <td>0.0</td>\n",
       "      <td>0.0</td>\n",
       "      <td>0.0</td>\n",
       "      <td>0.0</td>\n",
       "      <td>0.0</td>\n",
       "      <td>0.0</td>\n",
       "      <td>0.0</td>\n",
       "      <td>0.0</td>\n",
       "      <td>0.0</td>\n",
       "    </tr>\n",
       "  </tbody>\n",
       "</table>\n",
       "<p>5 rows × 2987 columns</p>\n",
       "</div>"
      ],
      "text/plain": [
       "item_index      0     1     2     3     4     5     6     7     8     9     \\\n",
       "consumer_index                                                               \n",
       "0                0.0   0.0   0.0   0.0   0.0   0.0   0.0   0.0   0.0   0.0   \n",
       "1                0.0   0.0   0.0   0.0   0.0   0.0   0.0   0.0   0.0   0.0   \n",
       "2                0.0   1.5   0.0   0.0   0.0   0.0   0.0   0.0   0.0   0.0   \n",
       "3                0.0   0.0   0.0   0.0   0.0   0.0   0.0   0.0   0.0   0.0   \n",
       "4                0.0   0.0   0.0   0.0   0.0   0.0   0.0   0.0   0.0   0.0   \n",
       "\n",
       "item_index      ...  2977  2978  2979  2980  2981  2982  2983  2984  2985  \\\n",
       "consumer_index  ...                                                         \n",
       "0               ...   0.0   0.0   0.0   0.0   0.0   0.0   0.0   0.0   0.0   \n",
       "1               ...   0.0   0.0   0.0   0.0   0.0   0.0   0.0   0.0   0.0   \n",
       "2               ...   0.0   0.0   0.0   0.0   0.0   0.0   0.0   0.0   0.0   \n",
       "3               ...   0.0   0.0   0.0   0.0   0.0   0.0   0.0   0.0   0.0   \n",
       "4               ...   0.0   0.0   0.0   0.0   0.0   0.0   0.0   0.0   0.0   \n",
       "\n",
       "item_index      2986  \n",
       "consumer_index        \n",
       "0                0.0  \n",
       "1                0.0  \n",
       "2                0.0  \n",
       "3                0.0  \n",
       "4                0.0  \n",
       "\n",
       "[5 rows x 2987 columns]"
      ]
     },
     "execution_count": 186,
     "metadata": {},
     "output_type": "execute_result"
    }
   ],
   "source": [
    "data_matrix_hybrid.head()"
   ]
  },
  {
   "cell_type": "code",
   "execution_count": 187,
   "metadata": {
    "colab": {
     "base_uri": "https://localhost:8080/"
    },
    "id": "RYXPJT7vo14J",
    "outputId": "b2aa166f-a98f-4849-8bb1-f16f9b8219bf"
   },
   "outputs": [
    {
     "data": {
      "text/plain": [
       "(1895, 2987)"
      ]
     },
     "execution_count": 187,
     "metadata": {},
     "output_type": "execute_result"
    }
   ],
   "source": [
    "data_matrix_hybrid.shape # Check the shape"
   ]
  },
  {
   "cell_type": "code",
   "execution_count": 188,
   "metadata": {
    "colab": {
     "base_uri": "https://localhost:8080/"
    },
    "id": "TyuRY5Cko14K",
    "outputId": "e2f1db12-9867-40e8-aedd-c300db34df9b"
   },
   "outputs": [
    {
     "data": {
      "text/plain": [
       "(2987, 1895)"
      ]
     },
     "execution_count": 188,
     "metadata": {},
     "output_type": "execute_result"
    }
   ],
   "source": [
    "data_matrix_hybrid.T.shape # Get the transpose of data matrix "
   ]
  },
  {
   "cell_type": "markdown",
   "metadata": {
    "id": "fE_1D2VCo14K"
   },
   "source": [
    "### Item Based Similarity"
   ]
  },
  {
   "cell_type": "code",
   "execution_count": 189,
   "metadata": {
    "id": "eah5tngLo14K"
   },
   "outputs": [],
   "source": [
    "from sklearn.metrics.pairwise import pairwise_distances "
   ]
  },
  {
   "cell_type": "code",
   "execution_count": 190,
   "metadata": {
    "id": "MuyMoHmVo14K"
   },
   "outputs": [],
   "source": [
    "# Calculate the item similarity by taking a transpose of user item matrix\n",
    "item_similarity = 1- pairwise_distances(data_matrix_hybrid.T, metric='cosine')"
   ]
  },
  {
   "cell_type": "code",
   "execution_count": 191,
   "metadata": {
    "colab": {
     "base_uri": "https://localhost:8080/"
    },
    "id": "X2eCe50Co14L",
    "outputId": "43b47d18-37e7-41da-a3cc-b669ff9674f8"
   },
   "outputs": [
    {
     "data": {
      "text/plain": [
       "array([[1.        , 0.        , 0.        , ..., 0.33068092, 0.        ,\n",
       "        0.        ],\n",
       "       [0.        , 1.        , 0.        , ..., 0.        , 0.        ,\n",
       "        0.        ],\n",
       "       [0.        , 0.        , 1.        , ..., 0.        , 0.06716158,\n",
       "        0.08061138],\n",
       "       ...,\n",
       "       [0.33068092, 0.        , 0.        , ..., 1.        , 0.06174613,\n",
       "        0.14822286],\n",
       "       [0.        , 0.        , 0.06716158, ..., 0.06174613, 1.        ,\n",
       "        0.08331525],\n",
       "       [0.        , 0.        , 0.08061138, ..., 0.14822286, 0.08331525,\n",
       "        1.        ]])"
      ]
     },
     "execution_count": 191,
     "metadata": {},
     "output_type": "execute_result"
    }
   ],
   "source": [
    "item_similarity"
   ]
  },
  {
   "cell_type": "code",
   "execution_count": 192,
   "metadata": {
    "colab": {
     "base_uri": "https://localhost:8080/"
    },
    "id": "YTZcjXZYo14L",
    "outputId": "7ab7a3b8-d89b-4aa9-d116-fd19cb885ca9"
   },
   "outputs": [
    {
     "data": {
      "text/plain": [
       "(2987, 2987)"
      ]
     },
     "execution_count": 192,
     "metadata": {},
     "output_type": "execute_result"
    }
   ],
   "source": [
    "item_similarity.shape # Check the shape"
   ]
  },
  {
   "cell_type": "markdown",
   "metadata": {
    "id": "st_ye4Cqo14L"
   },
   "source": [
    "### Get similar recommended news for a news ID"
   ]
  },
  {
   "cell_type": "code",
   "execution_count": 193,
   "metadata": {
    "id": "AlfYVkqdo14M"
   },
   "outputs": [],
   "source": [
    "news_index = 819"
   ]
  },
  {
   "cell_type": "code",
   "execution_count": 194,
   "metadata": {
    "id": "68CD8U47o14M"
   },
   "outputs": [],
   "source": [
    "#Create a data frame by tking item similarity matrix.\n",
    "news_prediction = pd.DataFrame(item_similarity)"
   ]
  },
  {
   "cell_type": "code",
   "execution_count": 195,
   "metadata": {
    "colab": {
     "base_uri": "https://localhost:8080/",
     "height": 488
    },
    "id": "vMcA-rPko14M",
    "outputId": "9b7fa289-995a-459b-b9ec-11466c4f1be4"
   },
   "outputs": [
    {
     "data": {
      "text/html": [
       "<div>\n",
       "<style scoped>\n",
       "    .dataframe tbody tr th:only-of-type {\n",
       "        vertical-align: middle;\n",
       "    }\n",
       "\n",
       "    .dataframe tbody tr th {\n",
       "        vertical-align: top;\n",
       "    }\n",
       "\n",
       "    .dataframe thead th {\n",
       "        text-align: right;\n",
       "    }\n",
       "</style>\n",
       "<table border=\"1\" class=\"dataframe\">\n",
       "  <thead>\n",
       "    <tr style=\"text-align: right;\">\n",
       "      <th></th>\n",
       "      <th>0</th>\n",
       "      <th>1</th>\n",
       "      <th>2</th>\n",
       "      <th>3</th>\n",
       "      <th>4</th>\n",
       "      <th>5</th>\n",
       "      <th>6</th>\n",
       "      <th>7</th>\n",
       "      <th>8</th>\n",
       "      <th>9</th>\n",
       "      <th>...</th>\n",
       "      <th>2977</th>\n",
       "      <th>2978</th>\n",
       "      <th>2979</th>\n",
       "      <th>2980</th>\n",
       "      <th>2981</th>\n",
       "      <th>2982</th>\n",
       "      <th>2983</th>\n",
       "      <th>2984</th>\n",
       "      <th>2985</th>\n",
       "      <th>2986</th>\n",
       "    </tr>\n",
       "  </thead>\n",
       "  <tbody>\n",
       "    <tr>\n",
       "      <th>0</th>\n",
       "      <td>1.000000</td>\n",
       "      <td>0.0</td>\n",
       "      <td>0.000000</td>\n",
       "      <td>0.117469</td>\n",
       "      <td>0.168773</td>\n",
       "      <td>0.000000</td>\n",
       "      <td>0.0</td>\n",
       "      <td>0.286817</td>\n",
       "      <td>0.000000</td>\n",
       "      <td>0.000000</td>\n",
       "      <td>...</td>\n",
       "      <td>0.331998</td>\n",
       "      <td>0.237357</td>\n",
       "      <td>0.000000</td>\n",
       "      <td>0.629921</td>\n",
       "      <td>0.000000</td>\n",
       "      <td>0.000000</td>\n",
       "      <td>0.000000</td>\n",
       "      <td>0.330681</td>\n",
       "      <td>0.000000</td>\n",
       "      <td>0.000000</td>\n",
       "    </tr>\n",
       "    <tr>\n",
       "      <th>1</th>\n",
       "      <td>0.000000</td>\n",
       "      <td>1.0</td>\n",
       "      <td>0.000000</td>\n",
       "      <td>0.000000</td>\n",
       "      <td>0.000000</td>\n",
       "      <td>0.040093</td>\n",
       "      <td>0.0</td>\n",
       "      <td>0.000000</td>\n",
       "      <td>0.000000</td>\n",
       "      <td>0.000000</td>\n",
       "      <td>...</td>\n",
       "      <td>0.000000</td>\n",
       "      <td>0.000000</td>\n",
       "      <td>0.000000</td>\n",
       "      <td>0.000000</td>\n",
       "      <td>0.000000</td>\n",
       "      <td>0.000000</td>\n",
       "      <td>0.000000</td>\n",
       "      <td>0.000000</td>\n",
       "      <td>0.000000</td>\n",
       "      <td>0.000000</td>\n",
       "    </tr>\n",
       "    <tr>\n",
       "      <th>2</th>\n",
       "      <td>0.000000</td>\n",
       "      <td>0.0</td>\n",
       "      <td>1.000000</td>\n",
       "      <td>0.123798</td>\n",
       "      <td>0.000000</td>\n",
       "      <td>0.097025</td>\n",
       "      <td>0.0</td>\n",
       "      <td>0.000000</td>\n",
       "      <td>0.000000</td>\n",
       "      <td>0.000000</td>\n",
       "      <td>...</td>\n",
       "      <td>0.000000</td>\n",
       "      <td>0.000000</td>\n",
       "      <td>0.000000</td>\n",
       "      <td>0.000000</td>\n",
       "      <td>0.127458</td>\n",
       "      <td>0.342005</td>\n",
       "      <td>0.083122</td>\n",
       "      <td>0.000000</td>\n",
       "      <td>0.067162</td>\n",
       "      <td>0.080611</td>\n",
       "    </tr>\n",
       "    <tr>\n",
       "      <th>3</th>\n",
       "      <td>0.117469</td>\n",
       "      <td>0.0</td>\n",
       "      <td>0.123798</td>\n",
       "      <td>1.000000</td>\n",
       "      <td>0.000000</td>\n",
       "      <td>0.098583</td>\n",
       "      <td>0.0</td>\n",
       "      <td>0.107369</td>\n",
       "      <td>0.137361</td>\n",
       "      <td>0.118958</td>\n",
       "      <td>...</td>\n",
       "      <td>0.000000</td>\n",
       "      <td>0.194954</td>\n",
       "      <td>0.097129</td>\n",
       "      <td>0.092144</td>\n",
       "      <td>0.259010</td>\n",
       "      <td>0.086874</td>\n",
       "      <td>0.063343</td>\n",
       "      <td>0.165033</td>\n",
       "      <td>0.179131</td>\n",
       "      <td>0.000000</td>\n",
       "    </tr>\n",
       "    <tr>\n",
       "      <th>4</th>\n",
       "      <td>0.168773</td>\n",
       "      <td>0.0</td>\n",
       "      <td>0.000000</td>\n",
       "      <td>0.000000</td>\n",
       "      <td>1.000000</td>\n",
       "      <td>0.000000</td>\n",
       "      <td>0.0</td>\n",
       "      <td>0.000000</td>\n",
       "      <td>0.000000</td>\n",
       "      <td>0.000000</td>\n",
       "      <td>...</td>\n",
       "      <td>0.000000</td>\n",
       "      <td>0.161608</td>\n",
       "      <td>0.000000</td>\n",
       "      <td>0.204598</td>\n",
       "      <td>0.000000</td>\n",
       "      <td>0.000000</td>\n",
       "      <td>0.000000</td>\n",
       "      <td>0.000000</td>\n",
       "      <td>0.000000</td>\n",
       "      <td>0.000000</td>\n",
       "    </tr>\n",
       "    <tr>\n",
       "      <th>...</th>\n",
       "      <td>...</td>\n",
       "      <td>...</td>\n",
       "      <td>...</td>\n",
       "      <td>...</td>\n",
       "      <td>...</td>\n",
       "      <td>...</td>\n",
       "      <td>...</td>\n",
       "      <td>...</td>\n",
       "      <td>...</td>\n",
       "      <td>...</td>\n",
       "      <td>...</td>\n",
       "      <td>...</td>\n",
       "      <td>...</td>\n",
       "      <td>...</td>\n",
       "      <td>...</td>\n",
       "      <td>...</td>\n",
       "      <td>...</td>\n",
       "      <td>...</td>\n",
       "      <td>...</td>\n",
       "      <td>...</td>\n",
       "      <td>...</td>\n",
       "    </tr>\n",
       "    <tr>\n",
       "      <th>2982</th>\n",
       "      <td>0.000000</td>\n",
       "      <td>0.0</td>\n",
       "      <td>0.342005</td>\n",
       "      <td>0.086874</td>\n",
       "      <td>0.000000</td>\n",
       "      <td>0.113478</td>\n",
       "      <td>0.0</td>\n",
       "      <td>0.058161</td>\n",
       "      <td>0.000000</td>\n",
       "      <td>0.000000</td>\n",
       "      <td>...</td>\n",
       "      <td>0.000000</td>\n",
       "      <td>0.000000</td>\n",
       "      <td>0.000000</td>\n",
       "      <td>0.000000</td>\n",
       "      <td>0.074536</td>\n",
       "      <td>1.000000</td>\n",
       "      <td>0.072913</td>\n",
       "      <td>0.000000</td>\n",
       "      <td>0.058913</td>\n",
       "      <td>0.000000</td>\n",
       "    </tr>\n",
       "    <tr>\n",
       "      <th>2983</th>\n",
       "      <td>0.000000</td>\n",
       "      <td>0.0</td>\n",
       "      <td>0.083122</td>\n",
       "      <td>0.063343</td>\n",
       "      <td>0.000000</td>\n",
       "      <td>0.227536</td>\n",
       "      <td>0.0</td>\n",
       "      <td>0.212034</td>\n",
       "      <td>0.000000</td>\n",
       "      <td>0.199681</td>\n",
       "      <td>...</td>\n",
       "      <td>0.000000</td>\n",
       "      <td>0.335973</td>\n",
       "      <td>0.415749</td>\n",
       "      <td>0.000000</td>\n",
       "      <td>0.054346</td>\n",
       "      <td>0.072913</td>\n",
       "      <td>1.000000</td>\n",
       "      <td>0.251094</td>\n",
       "      <td>0.085910</td>\n",
       "      <td>0.103115</td>\n",
       "    </tr>\n",
       "    <tr>\n",
       "      <th>2984</th>\n",
       "      <td>0.330681</td>\n",
       "      <td>0.0</td>\n",
       "      <td>0.000000</td>\n",
       "      <td>0.165033</td>\n",
       "      <td>0.000000</td>\n",
       "      <td>0.000000</td>\n",
       "      <td>0.0</td>\n",
       "      <td>0.220972</td>\n",
       "      <td>0.000000</td>\n",
       "      <td>0.000000</td>\n",
       "      <td>...</td>\n",
       "      <td>0.000000</td>\n",
       "      <td>0.329281</td>\n",
       "      <td>0.284581</td>\n",
       "      <td>0.407613</td>\n",
       "      <td>0.000000</td>\n",
       "      <td>0.000000</td>\n",
       "      <td>0.251094</td>\n",
       "      <td>1.000000</td>\n",
       "      <td>0.061746</td>\n",
       "      <td>0.148223</td>\n",
       "    </tr>\n",
       "    <tr>\n",
       "      <th>2985</th>\n",
       "      <td>0.000000</td>\n",
       "      <td>0.0</td>\n",
       "      <td>0.067162</td>\n",
       "      <td>0.179131</td>\n",
       "      <td>0.000000</td>\n",
       "      <td>0.033427</td>\n",
       "      <td>0.0</td>\n",
       "      <td>0.034264</td>\n",
       "      <td>0.000000</td>\n",
       "      <td>0.000000</td>\n",
       "      <td>...</td>\n",
       "      <td>0.000000</td>\n",
       "      <td>0.049357</td>\n",
       "      <td>0.131733</td>\n",
       "      <td>0.000000</td>\n",
       "      <td>0.131733</td>\n",
       "      <td>0.058913</td>\n",
       "      <td>0.085910</td>\n",
       "      <td>0.061746</td>\n",
       "      <td>1.000000</td>\n",
       "      <td>0.083315</td>\n",
       "    </tr>\n",
       "    <tr>\n",
       "      <th>2986</th>\n",
       "      <td>0.000000</td>\n",
       "      <td>0.0</td>\n",
       "      <td>0.080611</td>\n",
       "      <td>0.000000</td>\n",
       "      <td>0.000000</td>\n",
       "      <td>0.000000</td>\n",
       "      <td>0.0</td>\n",
       "      <td>0.082252</td>\n",
       "      <td>0.000000</td>\n",
       "      <td>0.000000</td>\n",
       "      <td>...</td>\n",
       "      <td>0.000000</td>\n",
       "      <td>0.118482</td>\n",
       "      <td>0.158114</td>\n",
       "      <td>0.000000</td>\n",
       "      <td>0.000000</td>\n",
       "      <td>0.000000</td>\n",
       "      <td>0.103115</td>\n",
       "      <td>0.148223</td>\n",
       "      <td>0.083315</td>\n",
       "      <td>1.000000</td>\n",
       "    </tr>\n",
       "  </tbody>\n",
       "</table>\n",
       "<p>2987 rows × 2987 columns</p>\n",
       "</div>"
      ],
      "text/plain": [
       "          0     1         2         3         4         5     6         7     \\\n",
       "0     1.000000   0.0  0.000000  0.117469  0.168773  0.000000   0.0  0.286817   \n",
       "1     0.000000   1.0  0.000000  0.000000  0.000000  0.040093   0.0  0.000000   \n",
       "2     0.000000   0.0  1.000000  0.123798  0.000000  0.097025   0.0  0.000000   \n",
       "3     0.117469   0.0  0.123798  1.000000  0.000000  0.098583   0.0  0.107369   \n",
       "4     0.168773   0.0  0.000000  0.000000  1.000000  0.000000   0.0  0.000000   \n",
       "...        ...   ...       ...       ...       ...       ...   ...       ...   \n",
       "2982  0.000000   0.0  0.342005  0.086874  0.000000  0.113478   0.0  0.058161   \n",
       "2983  0.000000   0.0  0.083122  0.063343  0.000000  0.227536   0.0  0.212034   \n",
       "2984  0.330681   0.0  0.000000  0.165033  0.000000  0.000000   0.0  0.220972   \n",
       "2985  0.000000   0.0  0.067162  0.179131  0.000000  0.033427   0.0  0.034264   \n",
       "2986  0.000000   0.0  0.080611  0.000000  0.000000  0.000000   0.0  0.082252   \n",
       "\n",
       "          8         9     ...      2977      2978      2979      2980  \\\n",
       "0     0.000000  0.000000  ...  0.331998  0.237357  0.000000  0.629921   \n",
       "1     0.000000  0.000000  ...  0.000000  0.000000  0.000000  0.000000   \n",
       "2     0.000000  0.000000  ...  0.000000  0.000000  0.000000  0.000000   \n",
       "3     0.137361  0.118958  ...  0.000000  0.194954  0.097129  0.092144   \n",
       "4     0.000000  0.000000  ...  0.000000  0.161608  0.000000  0.204598   \n",
       "...        ...       ...  ...       ...       ...       ...       ...   \n",
       "2982  0.000000  0.000000  ...  0.000000  0.000000  0.000000  0.000000   \n",
       "2983  0.000000  0.199681  ...  0.000000  0.335973  0.415749  0.000000   \n",
       "2984  0.000000  0.000000  ...  0.000000  0.329281  0.284581  0.407613   \n",
       "2985  0.000000  0.000000  ...  0.000000  0.049357  0.131733  0.000000   \n",
       "2986  0.000000  0.000000  ...  0.000000  0.118482  0.158114  0.000000   \n",
       "\n",
       "          2981      2982      2983      2984      2985      2986  \n",
       "0     0.000000  0.000000  0.000000  0.330681  0.000000  0.000000  \n",
       "1     0.000000  0.000000  0.000000  0.000000  0.000000  0.000000  \n",
       "2     0.127458  0.342005  0.083122  0.000000  0.067162  0.080611  \n",
       "3     0.259010  0.086874  0.063343  0.165033  0.179131  0.000000  \n",
       "4     0.000000  0.000000  0.000000  0.000000  0.000000  0.000000  \n",
       "...        ...       ...       ...       ...       ...       ...  \n",
       "2982  0.074536  1.000000  0.072913  0.000000  0.058913  0.000000  \n",
       "2983  0.054346  0.072913  1.000000  0.251094  0.085910  0.103115  \n",
       "2984  0.000000  0.000000  0.251094  1.000000  0.061746  0.148223  \n",
       "2985  0.131733  0.058913  0.085910  0.061746  1.000000  0.083315  \n",
       "2986  0.000000  0.000000  0.103115  0.148223  0.083315  1.000000  \n",
       "\n",
       "[2987 rows x 2987 columns]"
      ]
     },
     "execution_count": 195,
     "metadata": {},
     "output_type": "execute_result"
    }
   ],
   "source": [
    "news_prediction"
   ]
  },
  {
   "cell_type": "code",
   "execution_count": 196,
   "metadata": {
    "colab": {
     "base_uri": "https://localhost:8080/",
     "height": 456
    },
    "id": "qEJb5N0Wo14M",
    "outputId": "87a2bb98-7796-4a3f-d541-ea806d3a4d71"
   },
   "outputs": [
    {
     "data": {
      "text/html": [
       "<div>\n",
       "<style scoped>\n",
       "    .dataframe tbody tr th:only-of-type {\n",
       "        vertical-align: middle;\n",
       "    }\n",
       "\n",
       "    .dataframe tbody tr th {\n",
       "        vertical-align: top;\n",
       "    }\n",
       "\n",
       "    .dataframe thead th {\n",
       "        text-align: right;\n",
       "    }\n",
       "</style>\n",
       "<table border=\"1\" class=\"dataframe\">\n",
       "  <thead>\n",
       "    <tr style=\"text-align: right;\">\n",
       "      <th></th>\n",
       "      <th>0</th>\n",
       "      <th>1</th>\n",
       "      <th>2</th>\n",
       "      <th>3</th>\n",
       "      <th>4</th>\n",
       "      <th>5</th>\n",
       "      <th>6</th>\n",
       "      <th>7</th>\n",
       "      <th>8</th>\n",
       "      <th>9</th>\n",
       "      <th>...</th>\n",
       "      <th>2977</th>\n",
       "      <th>2978</th>\n",
       "      <th>2979</th>\n",
       "      <th>2980</th>\n",
       "      <th>2981</th>\n",
       "      <th>2982</th>\n",
       "      <th>2983</th>\n",
       "      <th>2984</th>\n",
       "      <th>2985</th>\n",
       "      <th>2986</th>\n",
       "    </tr>\n",
       "  </thead>\n",
       "  <tbody>\n",
       "    <tr>\n",
       "      <th>0</th>\n",
       "      <td>1.000000</td>\n",
       "      <td>0.000000</td>\n",
       "      <td>0.000000</td>\n",
       "      <td>0.117469</td>\n",
       "      <td>0.168773</td>\n",
       "      <td>0.000000</td>\n",
       "      <td>0.0</td>\n",
       "      <td>0.286817</td>\n",
       "      <td>0.000000</td>\n",
       "      <td>0.000000</td>\n",
       "      <td>...</td>\n",
       "      <td>0.331998</td>\n",
       "      <td>0.237357</td>\n",
       "      <td>0.000000</td>\n",
       "      <td>0.629921</td>\n",
       "      <td>0.000000</td>\n",
       "      <td>0.000000</td>\n",
       "      <td>0.000000</td>\n",
       "      <td>0.330681</td>\n",
       "      <td>0.000000</td>\n",
       "      <td>0.000000</td>\n",
       "    </tr>\n",
       "    <tr>\n",
       "      <th>1</th>\n",
       "      <td>0.000000</td>\n",
       "      <td>1.000000</td>\n",
       "      <td>0.000000</td>\n",
       "      <td>0.000000</td>\n",
       "      <td>0.000000</td>\n",
       "      <td>0.040093</td>\n",
       "      <td>0.0</td>\n",
       "      <td>0.000000</td>\n",
       "      <td>0.000000</td>\n",
       "      <td>0.000000</td>\n",
       "      <td>...</td>\n",
       "      <td>0.000000</td>\n",
       "      <td>0.000000</td>\n",
       "      <td>0.000000</td>\n",
       "      <td>0.000000</td>\n",
       "      <td>0.000000</td>\n",
       "      <td>0.000000</td>\n",
       "      <td>0.000000</td>\n",
       "      <td>0.000000</td>\n",
       "      <td>0.000000</td>\n",
       "      <td>0.000000</td>\n",
       "    </tr>\n",
       "    <tr>\n",
       "      <th>2</th>\n",
       "      <td>0.000000</td>\n",
       "      <td>0.000000</td>\n",
       "      <td>1.000000</td>\n",
       "      <td>0.123798</td>\n",
       "      <td>0.000000</td>\n",
       "      <td>0.097025</td>\n",
       "      <td>0.0</td>\n",
       "      <td>0.000000</td>\n",
       "      <td>0.000000</td>\n",
       "      <td>0.000000</td>\n",
       "      <td>...</td>\n",
       "      <td>0.000000</td>\n",
       "      <td>0.000000</td>\n",
       "      <td>0.000000</td>\n",
       "      <td>0.000000</td>\n",
       "      <td>0.127458</td>\n",
       "      <td>0.342005</td>\n",
       "      <td>0.083122</td>\n",
       "      <td>0.000000</td>\n",
       "      <td>0.067162</td>\n",
       "      <td>0.080611</td>\n",
       "    </tr>\n",
       "    <tr>\n",
       "      <th>3</th>\n",
       "      <td>0.117469</td>\n",
       "      <td>0.000000</td>\n",
       "      <td>0.123798</td>\n",
       "      <td>1.000000</td>\n",
       "      <td>0.000000</td>\n",
       "      <td>0.098583</td>\n",
       "      <td>0.0</td>\n",
       "      <td>0.107369</td>\n",
       "      <td>0.137361</td>\n",
       "      <td>0.118958</td>\n",
       "      <td>...</td>\n",
       "      <td>0.000000</td>\n",
       "      <td>0.194954</td>\n",
       "      <td>0.097129</td>\n",
       "      <td>0.092144</td>\n",
       "      <td>0.259010</td>\n",
       "      <td>0.086874</td>\n",
       "      <td>0.063343</td>\n",
       "      <td>0.165033</td>\n",
       "      <td>0.179131</td>\n",
       "      <td>0.000000</td>\n",
       "    </tr>\n",
       "    <tr>\n",
       "      <th>4</th>\n",
       "      <td>0.168773</td>\n",
       "      <td>0.000000</td>\n",
       "      <td>0.000000</td>\n",
       "      <td>0.000000</td>\n",
       "      <td>1.000000</td>\n",
       "      <td>0.000000</td>\n",
       "      <td>0.0</td>\n",
       "      <td>0.000000</td>\n",
       "      <td>0.000000</td>\n",
       "      <td>0.000000</td>\n",
       "      <td>...</td>\n",
       "      <td>0.000000</td>\n",
       "      <td>0.161608</td>\n",
       "      <td>0.000000</td>\n",
       "      <td>0.204598</td>\n",
       "      <td>0.000000</td>\n",
       "      <td>0.000000</td>\n",
       "      <td>0.000000</td>\n",
       "      <td>0.000000</td>\n",
       "      <td>0.000000</td>\n",
       "      <td>0.000000</td>\n",
       "    </tr>\n",
       "    <tr>\n",
       "      <th>5</th>\n",
       "      <td>0.000000</td>\n",
       "      <td>0.040093</td>\n",
       "      <td>0.097025</td>\n",
       "      <td>0.098583</td>\n",
       "      <td>0.000000</td>\n",
       "      <td>1.000000</td>\n",
       "      <td>0.0</td>\n",
       "      <td>0.098999</td>\n",
       "      <td>0.000000</td>\n",
       "      <td>0.000000</td>\n",
       "      <td>...</td>\n",
       "      <td>0.000000</td>\n",
       "      <td>0.047535</td>\n",
       "      <td>0.063436</td>\n",
       "      <td>0.000000</td>\n",
       "      <td>0.169163</td>\n",
       "      <td>0.113478</td>\n",
       "      <td>0.227536</td>\n",
       "      <td>0.000000</td>\n",
       "      <td>0.033427</td>\n",
       "      <td>0.000000</td>\n",
       "    </tr>\n",
       "    <tr>\n",
       "      <th>6</th>\n",
       "      <td>0.000000</td>\n",
       "      <td>0.000000</td>\n",
       "      <td>0.000000</td>\n",
       "      <td>0.000000</td>\n",
       "      <td>0.000000</td>\n",
       "      <td>0.000000</td>\n",
       "      <td>1.0</td>\n",
       "      <td>0.000000</td>\n",
       "      <td>0.000000</td>\n",
       "      <td>0.000000</td>\n",
       "      <td>...</td>\n",
       "      <td>0.000000</td>\n",
       "      <td>0.000000</td>\n",
       "      <td>0.000000</td>\n",
       "      <td>0.000000</td>\n",
       "      <td>0.000000</td>\n",
       "      <td>0.000000</td>\n",
       "      <td>0.000000</td>\n",
       "      <td>0.000000</td>\n",
       "      <td>0.000000</td>\n",
       "      <td>0.000000</td>\n",
       "    </tr>\n",
       "    <tr>\n",
       "      <th>7</th>\n",
       "      <td>0.286817</td>\n",
       "      <td>0.000000</td>\n",
       "      <td>0.000000</td>\n",
       "      <td>0.107369</td>\n",
       "      <td>0.000000</td>\n",
       "      <td>0.098999</td>\n",
       "      <td>0.0</td>\n",
       "      <td>1.000000</td>\n",
       "      <td>0.000000</td>\n",
       "      <td>0.000000</td>\n",
       "      <td>...</td>\n",
       "      <td>0.078031</td>\n",
       "      <td>0.309761</td>\n",
       "      <td>0.195077</td>\n",
       "      <td>0.123377</td>\n",
       "      <td>0.000000</td>\n",
       "      <td>0.058161</td>\n",
       "      <td>0.212034</td>\n",
       "      <td>0.220972</td>\n",
       "      <td>0.034264</td>\n",
       "      <td>0.082252</td>\n",
       "    </tr>\n",
       "    <tr>\n",
       "      <th>8</th>\n",
       "      <td>0.000000</td>\n",
       "      <td>0.000000</td>\n",
       "      <td>0.000000</td>\n",
       "      <td>0.137361</td>\n",
       "      <td>0.000000</td>\n",
       "      <td>0.000000</td>\n",
       "      <td>0.0</td>\n",
       "      <td>0.000000</td>\n",
       "      <td>1.000000</td>\n",
       "      <td>0.000000</td>\n",
       "      <td>...</td>\n",
       "      <td>0.000000</td>\n",
       "      <td>0.000000</td>\n",
       "      <td>0.000000</td>\n",
       "      <td>0.000000</td>\n",
       "      <td>0.235702</td>\n",
       "      <td>0.000000</td>\n",
       "      <td>0.000000</td>\n",
       "      <td>0.000000</td>\n",
       "      <td>0.000000</td>\n",
       "      <td>0.000000</td>\n",
       "    </tr>\n",
       "    <tr>\n",
       "      <th>9</th>\n",
       "      <td>0.000000</td>\n",
       "      <td>0.000000</td>\n",
       "      <td>0.000000</td>\n",
       "      <td>0.118958</td>\n",
       "      <td>0.000000</td>\n",
       "      <td>0.000000</td>\n",
       "      <td>0.0</td>\n",
       "      <td>0.000000</td>\n",
       "      <td>0.000000</td>\n",
       "      <td>1.000000</td>\n",
       "      <td>...</td>\n",
       "      <td>0.000000</td>\n",
       "      <td>0.229439</td>\n",
       "      <td>0.102062</td>\n",
       "      <td>0.000000</td>\n",
       "      <td>0.000000</td>\n",
       "      <td>0.000000</td>\n",
       "      <td>0.199681</td>\n",
       "      <td>0.000000</td>\n",
       "      <td>0.000000</td>\n",
       "      <td>0.000000</td>\n",
       "    </tr>\n",
       "  </tbody>\n",
       "</table>\n",
       "<p>10 rows × 2987 columns</p>\n",
       "</div>"
      ],
      "text/plain": [
       "       0         1         2         3         4         5     6         7     \\\n",
       "0  1.000000  0.000000  0.000000  0.117469  0.168773  0.000000   0.0  0.286817   \n",
       "1  0.000000  1.000000  0.000000  0.000000  0.000000  0.040093   0.0  0.000000   \n",
       "2  0.000000  0.000000  1.000000  0.123798  0.000000  0.097025   0.0  0.000000   \n",
       "3  0.117469  0.000000  0.123798  1.000000  0.000000  0.098583   0.0  0.107369   \n",
       "4  0.168773  0.000000  0.000000  0.000000  1.000000  0.000000   0.0  0.000000   \n",
       "5  0.000000  0.040093  0.097025  0.098583  0.000000  1.000000   0.0  0.098999   \n",
       "6  0.000000  0.000000  0.000000  0.000000  0.000000  0.000000   1.0  0.000000   \n",
       "7  0.286817  0.000000  0.000000  0.107369  0.000000  0.098999   0.0  1.000000   \n",
       "8  0.000000  0.000000  0.000000  0.137361  0.000000  0.000000   0.0  0.000000   \n",
       "9  0.000000  0.000000  0.000000  0.118958  0.000000  0.000000   0.0  0.000000   \n",
       "\n",
       "       8         9     ...      2977      2978      2979      2980      2981  \\\n",
       "0  0.000000  0.000000  ...  0.331998  0.237357  0.000000  0.629921  0.000000   \n",
       "1  0.000000  0.000000  ...  0.000000  0.000000  0.000000  0.000000  0.000000   \n",
       "2  0.000000  0.000000  ...  0.000000  0.000000  0.000000  0.000000  0.127458   \n",
       "3  0.137361  0.118958  ...  0.000000  0.194954  0.097129  0.092144  0.259010   \n",
       "4  0.000000  0.000000  ...  0.000000  0.161608  0.000000  0.204598  0.000000   \n",
       "5  0.000000  0.000000  ...  0.000000  0.047535  0.063436  0.000000  0.169163   \n",
       "6  0.000000  0.000000  ...  0.000000  0.000000  0.000000  0.000000  0.000000   \n",
       "7  0.000000  0.000000  ...  0.078031  0.309761  0.195077  0.123377  0.000000   \n",
       "8  1.000000  0.000000  ...  0.000000  0.000000  0.000000  0.000000  0.235702   \n",
       "9  0.000000  1.000000  ...  0.000000  0.229439  0.102062  0.000000  0.000000   \n",
       "\n",
       "       2982      2983      2984      2985      2986  \n",
       "0  0.000000  0.000000  0.330681  0.000000  0.000000  \n",
       "1  0.000000  0.000000  0.000000  0.000000  0.000000  \n",
       "2  0.342005  0.083122  0.000000  0.067162  0.080611  \n",
       "3  0.086874  0.063343  0.165033  0.179131  0.000000  \n",
       "4  0.000000  0.000000  0.000000  0.000000  0.000000  \n",
       "5  0.113478  0.227536  0.000000  0.033427  0.000000  \n",
       "6  0.000000  0.000000  0.000000  0.000000  0.000000  \n",
       "7  0.058161  0.212034  0.220972  0.034264  0.082252  \n",
       "8  0.000000  0.000000  0.000000  0.000000  0.000000  \n",
       "9  0.000000  0.199681  0.000000  0.000000  0.000000  \n",
       "\n",
       "[10 rows x 2987 columns]"
      ]
     },
     "execution_count": 196,
     "metadata": {},
     "output_type": "execute_result"
    }
   ],
   "source": [
    "news_prediction.head(10)"
   ]
  },
  {
   "cell_type": "code",
   "execution_count": 197,
   "metadata": {
    "id": "tEfiKGv3o14N"
   },
   "outputs": [],
   "source": [
    "# create an dataframe of predicted data\n",
    "item_recommendation = pd.DataFrame(news_prediction.iloc[news_index].sort_values(ascending=False))"
   ]
  },
  {
   "cell_type": "code",
   "execution_count": 198,
   "metadata": {
    "colab": {
     "base_uri": "https://localhost:8080/",
     "height": 424
    },
    "id": "95y0zpgro14N",
    "outputId": "e9d0187f-0ad6-4b8c-a718-9a778496740a"
   },
   "outputs": [
    {
     "data": {
      "text/html": [
       "<div>\n",
       "<style scoped>\n",
       "    .dataframe tbody tr th:only-of-type {\n",
       "        vertical-align: middle;\n",
       "    }\n",
       "\n",
       "    .dataframe tbody tr th {\n",
       "        vertical-align: top;\n",
       "    }\n",
       "\n",
       "    .dataframe thead th {\n",
       "        text-align: right;\n",
       "    }\n",
       "</style>\n",
       "<table border=\"1\" class=\"dataframe\">\n",
       "  <thead>\n",
       "    <tr style=\"text-align: right;\">\n",
       "      <th></th>\n",
       "      <th>819</th>\n",
       "    </tr>\n",
       "  </thead>\n",
       "  <tbody>\n",
       "    <tr>\n",
       "      <th>819</th>\n",
       "      <td>1.000000</td>\n",
       "    </tr>\n",
       "    <tr>\n",
       "      <th>620</th>\n",
       "      <td>0.524865</td>\n",
       "    </tr>\n",
       "    <tr>\n",
       "      <th>1500</th>\n",
       "      <td>0.522644</td>\n",
       "    </tr>\n",
       "    <tr>\n",
       "      <th>2537</th>\n",
       "      <td>0.492920</td>\n",
       "    </tr>\n",
       "    <tr>\n",
       "      <th>209</th>\n",
       "      <td>0.491697</td>\n",
       "    </tr>\n",
       "    <tr>\n",
       "      <th>...</th>\n",
       "      <td>...</td>\n",
       "    </tr>\n",
       "    <tr>\n",
       "      <th>808</th>\n",
       "      <td>0.000000</td>\n",
       "    </tr>\n",
       "    <tr>\n",
       "      <th>2059</th>\n",
       "      <td>0.000000</td>\n",
       "    </tr>\n",
       "    <tr>\n",
       "      <th>810</th>\n",
       "      <td>0.000000</td>\n",
       "    </tr>\n",
       "    <tr>\n",
       "      <th>2056</th>\n",
       "      <td>0.000000</td>\n",
       "    </tr>\n",
       "    <tr>\n",
       "      <th>2191</th>\n",
       "      <td>0.000000</td>\n",
       "    </tr>\n",
       "  </tbody>\n",
       "</table>\n",
       "<p>2987 rows × 1 columns</p>\n",
       "</div>"
      ],
      "text/plain": [
       "           819\n",
       "819   1.000000\n",
       "620   0.524865\n",
       "1500  0.522644\n",
       "2537  0.492920\n",
       "209   0.491697\n",
       "...        ...\n",
       "808   0.000000\n",
       "2059  0.000000\n",
       "810   0.000000\n",
       "2056  0.000000\n",
       "2191  0.000000\n",
       "\n",
       "[2987 rows x 1 columns]"
      ]
     },
     "execution_count": 198,
     "metadata": {},
     "output_type": "execute_result"
    }
   ],
   "source": [
    "item_recommendation"
   ]
  },
  {
   "cell_type": "code",
   "execution_count": 199,
   "metadata": {
    "colab": {
     "base_uri": "https://localhost:8080/",
     "height": 206
    },
    "id": "mIsP_GSxo14N",
    "outputId": "0b2f8fd9-7209-40b3-ae46-fad48ab0ada7"
   },
   "outputs": [
    {
     "data": {
      "text/html": [
       "<div>\n",
       "<style scoped>\n",
       "    .dataframe tbody tr th:only-of-type {\n",
       "        vertical-align: middle;\n",
       "    }\n",
       "\n",
       "    .dataframe tbody tr th {\n",
       "        vertical-align: top;\n",
       "    }\n",
       "\n",
       "    .dataframe thead th {\n",
       "        text-align: right;\n",
       "    }\n",
       "</style>\n",
       "<table border=\"1\" class=\"dataframe\">\n",
       "  <thead>\n",
       "    <tr style=\"text-align: right;\">\n",
       "      <th></th>\n",
       "      <th>819</th>\n",
       "    </tr>\n",
       "  </thead>\n",
       "  <tbody>\n",
       "    <tr>\n",
       "      <th>819</th>\n",
       "      <td>1.000000</td>\n",
       "    </tr>\n",
       "    <tr>\n",
       "      <th>620</th>\n",
       "      <td>0.524865</td>\n",
       "    </tr>\n",
       "    <tr>\n",
       "      <th>1500</th>\n",
       "      <td>0.522644</td>\n",
       "    </tr>\n",
       "    <tr>\n",
       "      <th>2537</th>\n",
       "      <td>0.492920</td>\n",
       "    </tr>\n",
       "    <tr>\n",
       "      <th>209</th>\n",
       "      <td>0.491697</td>\n",
       "    </tr>\n",
       "  </tbody>\n",
       "</table>\n",
       "</div>"
      ],
      "text/plain": [
       "           819\n",
       "819   1.000000\n",
       "620   0.524865\n",
       "1500  0.522644\n",
       "2537  0.492920\n",
       "209   0.491697"
      ]
     },
     "execution_count": 199,
     "metadata": {},
     "output_type": "execute_result"
    }
   ],
   "source": [
    "item_recommendation.head()"
   ]
  },
  {
   "cell_type": "code",
   "execution_count": 200,
   "metadata": {
    "id": "uQ5wQaGWo14N"
   },
   "outputs": [],
   "source": [
    "# reset the index so that the index will be continuous\n",
    "item_recommendation.reset_index(inplace=True)"
   ]
  },
  {
   "cell_type": "code",
   "execution_count": 201,
   "metadata": {
    "colab": {
     "base_uri": "https://localhost:8080/",
     "height": 206
    },
    "id": "mX5Z06rIo14O",
    "outputId": "530b4503-84bd-405f-c179-f5bff97cbd33"
   },
   "outputs": [
    {
     "data": {
      "text/html": [
       "<div>\n",
       "<style scoped>\n",
       "    .dataframe tbody tr th:only-of-type {\n",
       "        vertical-align: middle;\n",
       "    }\n",
       "\n",
       "    .dataframe tbody tr th {\n",
       "        vertical-align: top;\n",
       "    }\n",
       "\n",
       "    .dataframe thead th {\n",
       "        text-align: right;\n",
       "    }\n",
       "</style>\n",
       "<table border=\"1\" class=\"dataframe\">\n",
       "  <thead>\n",
       "    <tr style=\"text-align: right;\">\n",
       "      <th></th>\n",
       "      <th>index</th>\n",
       "      <th>819</th>\n",
       "    </tr>\n",
       "  </thead>\n",
       "  <tbody>\n",
       "    <tr>\n",
       "      <th>0</th>\n",
       "      <td>819</td>\n",
       "      <td>1.000000</td>\n",
       "    </tr>\n",
       "    <tr>\n",
       "      <th>1</th>\n",
       "      <td>620</td>\n",
       "      <td>0.524865</td>\n",
       "    </tr>\n",
       "    <tr>\n",
       "      <th>2</th>\n",
       "      <td>1500</td>\n",
       "      <td>0.522644</td>\n",
       "    </tr>\n",
       "    <tr>\n",
       "      <th>3</th>\n",
       "      <td>2537</td>\n",
       "      <td>0.492920</td>\n",
       "    </tr>\n",
       "    <tr>\n",
       "      <th>4</th>\n",
       "      <td>209</td>\n",
       "      <td>0.491697</td>\n",
       "    </tr>\n",
       "  </tbody>\n",
       "</table>\n",
       "</div>"
      ],
      "text/plain": [
       "   index       819\n",
       "0    819  1.000000\n",
       "1    620  0.524865\n",
       "2   1500  0.522644\n",
       "3   2537  0.492920\n",
       "4    209  0.491697"
      ]
     },
     "execution_count": 201,
     "metadata": {},
     "output_type": "execute_result"
    }
   ],
   "source": [
    "item_recommendation.head()"
   ]
  },
  {
   "cell_type": "code",
   "execution_count": 202,
   "metadata": {
    "id": "SZe1bUuko14O"
   },
   "outputs": [],
   "source": [
    "item_recommendation.columns = ['item_index', 'score'] # assign columns names to DataFrame"
   ]
  },
  {
   "cell_type": "code",
   "execution_count": 203,
   "metadata": {
    "colab": {
     "base_uri": "https://localhost:8080/",
     "height": 206
    },
    "id": "v40wUzrUo14O",
    "outputId": "d22e06f7-3ddf-4279-8db8-20e0560f4e00"
   },
   "outputs": [
    {
     "data": {
      "text/html": [
       "<div>\n",
       "<style scoped>\n",
       "    .dataframe tbody tr th:only-of-type {\n",
       "        vertical-align: middle;\n",
       "    }\n",
       "\n",
       "    .dataframe tbody tr th {\n",
       "        vertical-align: top;\n",
       "    }\n",
       "\n",
       "    .dataframe thead th {\n",
       "        text-align: right;\n",
       "    }\n",
       "</style>\n",
       "<table border=\"1\" class=\"dataframe\">\n",
       "  <thead>\n",
       "    <tr style=\"text-align: right;\">\n",
       "      <th></th>\n",
       "      <th>item_index</th>\n",
       "      <th>score</th>\n",
       "    </tr>\n",
       "  </thead>\n",
       "  <tbody>\n",
       "    <tr>\n",
       "      <th>0</th>\n",
       "      <td>819</td>\n",
       "      <td>1.000000</td>\n",
       "    </tr>\n",
       "    <tr>\n",
       "      <th>1</th>\n",
       "      <td>620</td>\n",
       "      <td>0.524865</td>\n",
       "    </tr>\n",
       "    <tr>\n",
       "      <th>2</th>\n",
       "      <td>1500</td>\n",
       "      <td>0.522644</td>\n",
       "    </tr>\n",
       "    <tr>\n",
       "      <th>3</th>\n",
       "      <td>2537</td>\n",
       "      <td>0.492920</td>\n",
       "    </tr>\n",
       "    <tr>\n",
       "      <th>4</th>\n",
       "      <td>209</td>\n",
       "      <td>0.491697</td>\n",
       "    </tr>\n",
       "  </tbody>\n",
       "</table>\n",
       "</div>"
      ],
      "text/plain": [
       "   item_index     score\n",
       "0         819  1.000000\n",
       "1         620  0.524865\n",
       "2        1500  0.522644\n",
       "3        2537  0.492920\n",
       "4         209  0.491697"
      ]
     },
     "execution_count": 203,
     "metadata": {},
     "output_type": "execute_result"
    }
   ],
   "source": [
    "item_recommendation.head()"
   ]
  },
  {
   "cell_type": "markdown",
   "metadata": {
    "id": "HQZ8h2Mlo14P"
   },
   "source": [
    "### Merge news item id  with news title"
   ]
  },
  {
   "cell_type": "code",
   "execution_count": 204,
   "metadata": {
    "colab": {
     "base_uri": "https://localhost:8080/"
    },
    "id": "eIas4KqPo14P",
    "outputId": "7cf32536-e8fb-4841-eea6-07f9717770fc"
   },
   "outputs": [
    {
     "name": "stdout",
     "output_type": "stream",
     "text": [
      "(2987, 2)\n",
      "(2264, 3)\n"
     ]
    }
   ],
   "source": [
    "# Check the shape of dataframe whih are to be merged\n",
    "print(item_recommendation.shape)\n",
    "print(clean_english_content.shape)"
   ]
  },
  {
   "cell_type": "code",
   "execution_count": 205,
   "metadata": {
    "id": "9IGKjq7Fo14P"
   },
   "outputs": [],
   "source": [
    "# Merge data frame  to get the Title and Title description\n",
    "# take item index as key relation \n",
    "merged_item_based = pd.merge(item_recommendation, clean_english_content, on='item_index', how='inner')"
   ]
  },
  {
   "cell_type": "code",
   "execution_count": 206,
   "metadata": {
    "colab": {
     "base_uri": "https://localhost:8080/"
    },
    "id": "RCV6crkio14P",
    "outputId": "c5d563b0-29f6-4ed8-c6c0-5c9606ee6835"
   },
   "outputs": [
    {
     "data": {
      "text/plain": [
       "(2264, 4)"
      ]
     },
     "execution_count": 206,
     "metadata": {},
     "output_type": "execute_result"
    }
   ],
   "source": [
    "merged_item_based.shape"
   ]
  },
  {
   "cell_type": "code",
   "execution_count": 207,
   "metadata": {
    "colab": {
     "base_uri": "https://localhost:8080/",
     "height": 206
    },
    "id": "JqTQNlN1o14Q",
    "outputId": "66c0e595-d502-43d8-be00-f03613b6c293"
   },
   "outputs": [
    {
     "data": {
      "text/html": [
       "<div>\n",
       "<style scoped>\n",
       "    .dataframe tbody tr th:only-of-type {\n",
       "        vertical-align: middle;\n",
       "    }\n",
       "\n",
       "    .dataframe tbody tr th {\n",
       "        vertical-align: top;\n",
       "    }\n",
       "\n",
       "    .dataframe thead th {\n",
       "        text-align: right;\n",
       "    }\n",
       "</style>\n",
       "<table border=\"1\" class=\"dataframe\">\n",
       "  <thead>\n",
       "    <tr style=\"text-align: right;\">\n",
       "      <th></th>\n",
       "      <th>item_index</th>\n",
       "      <th>score</th>\n",
       "      <th>title</th>\n",
       "      <th>text_description</th>\n",
       "    </tr>\n",
       "  </thead>\n",
       "  <tbody>\n",
       "    <tr>\n",
       "      <th>0</th>\n",
       "      <td>819</td>\n",
       "      <td>1.000000</td>\n",
       "      <td>Building A Better Workforce: 5 Talent Trends W...</td>\n",
       "      <td>As we take a look forward at what's new and wh...</td>\n",
       "    </tr>\n",
       "    <tr>\n",
       "      <th>1</th>\n",
       "      <td>620</td>\n",
       "      <td>0.524865</td>\n",
       "      <td>Game of Loans</td>\n",
       "      <td>As Queen-Mother Cersei undertook her walk of s...</td>\n",
       "    </tr>\n",
       "    <tr>\n",
       "      <th>2</th>\n",
       "      <td>1500</td>\n",
       "      <td>0.522644</td>\n",
       "      <td>\"It's time for self-directed 'smart' investing...</td>\n",
       "      <td>I recently had the chance to speak to Swanest ...</td>\n",
       "    </tr>\n",
       "    <tr>\n",
       "      <th>3</th>\n",
       "      <td>209</td>\n",
       "      <td>0.491697</td>\n",
       "      <td>Building on Slack Saved Our Startup</td>\n",
       "      <td>From the start, we did everything right with T...</td>\n",
       "    </tr>\n",
       "    <tr>\n",
       "      <th>4</th>\n",
       "      <td>1728</td>\n",
       "      <td>0.489476</td>\n",
       "      <td>Google employees are adding 'Lady' to their jo...</td>\n",
       "      <td>More than 800 members of Google's staff are st...</td>\n",
       "    </tr>\n",
       "  </tbody>\n",
       "</table>\n",
       "</div>"
      ],
      "text/plain": [
       "   item_index     score                                              title  \\\n",
       "0         819  1.000000  Building A Better Workforce: 5 Talent Trends W...   \n",
       "1         620  0.524865                                      Game of Loans   \n",
       "2        1500  0.522644  \"It's time for self-directed 'smart' investing...   \n",
       "3         209  0.491697                Building on Slack Saved Our Startup   \n",
       "4        1728  0.489476  Google employees are adding 'Lady' to their jo...   \n",
       "\n",
       "                                    text_description  \n",
       "0  As we take a look forward at what's new and wh...  \n",
       "1  As Queen-Mother Cersei undertook her walk of s...  \n",
       "2  I recently had the chance to speak to Swanest ...  \n",
       "3  From the start, we did everything right with T...  \n",
       "4  More than 800 members of Google's staff are st...  "
      ]
     },
     "execution_count": 207,
     "metadata": {},
     "output_type": "execute_result"
    }
   ],
   "source": [
    "merged_item_based.head() # Check  the data"
   ]
  },
  {
   "cell_type": "code",
   "execution_count": 208,
   "metadata": {
    "colab": {
     "base_uri": "https://localhost:8080/",
     "height": 206
    },
    "id": "DZSxkoAMo14Q",
    "outputId": "28182a08-11e9-47bb-e494-03987f4923fd"
   },
   "outputs": [
    {
     "data": {
      "text/html": [
       "<div>\n",
       "<style scoped>\n",
       "    .dataframe tbody tr th:only-of-type {\n",
       "        vertical-align: middle;\n",
       "    }\n",
       "\n",
       "    .dataframe tbody tr th {\n",
       "        vertical-align: top;\n",
       "    }\n",
       "\n",
       "    .dataframe thead th {\n",
       "        text-align: right;\n",
       "    }\n",
       "</style>\n",
       "<table border=\"1\" class=\"dataframe\">\n",
       "  <thead>\n",
       "    <tr style=\"text-align: right;\">\n",
       "      <th></th>\n",
       "      <th>item_index</th>\n",
       "      <th>score</th>\n",
       "      <th>title</th>\n",
       "    </tr>\n",
       "  </thead>\n",
       "  <tbody>\n",
       "    <tr>\n",
       "      <th>0</th>\n",
       "      <td>819</td>\n",
       "      <td>1.000000</td>\n",
       "      <td>Building A Better Workforce: 5 Talent Trends W...</td>\n",
       "    </tr>\n",
       "    <tr>\n",
       "      <th>1</th>\n",
       "      <td>620</td>\n",
       "      <td>0.524865</td>\n",
       "      <td>Game of Loans</td>\n",
       "    </tr>\n",
       "    <tr>\n",
       "      <th>2</th>\n",
       "      <td>1500</td>\n",
       "      <td>0.522644</td>\n",
       "      <td>\"It's time for self-directed 'smart' investing...</td>\n",
       "    </tr>\n",
       "    <tr>\n",
       "      <th>3</th>\n",
       "      <td>209</td>\n",
       "      <td>0.491697</td>\n",
       "      <td>Building on Slack Saved Our Startup</td>\n",
       "    </tr>\n",
       "    <tr>\n",
       "      <th>4</th>\n",
       "      <td>1728</td>\n",
       "      <td>0.489476</td>\n",
       "      <td>Google employees are adding 'Lady' to their jo...</td>\n",
       "    </tr>\n",
       "  </tbody>\n",
       "</table>\n",
       "</div>"
      ],
      "text/plain": [
       "   item_index     score                                              title\n",
       "0         819  1.000000  Building A Better Workforce: 5 Talent Trends W...\n",
       "1         620  0.524865                                      Game of Loans\n",
       "2        1500  0.522644  \"It's time for self-directed 'smart' investing...\n",
       "3         209  0.491697                Building on Slack Saved Our Startup\n",
       "4        1728  0.489476  Google employees are adding 'Lady' to their jo..."
      ]
     },
     "execution_count": 208,
     "metadata": {},
     "output_type": "execute_result"
    }
   ],
   "source": [
    "# display only required columns\n",
    "merged_item_based[[\"item_index\",\"score\",\"title\"]].head()"
   ]
  },
  {
   "cell_type": "code",
   "execution_count": 209,
   "metadata": {
    "id": "I8TD_omDo14Q"
   },
   "outputs": [],
   "source": [
    "# If incase any NaN values are there. just remove them\n",
    "collab_output = merged_item_based[merged_item_based['title'].notna()] "
   ]
  },
  {
   "cell_type": "code",
   "execution_count": 210,
   "metadata": {
    "colab": {
     "base_uri": "https://localhost:8080/",
     "height": 206
    },
    "id": "XTWiJ-O9o14R",
    "outputId": "3d806c4e-e292-4f7d-cf11-d63638bbbfec",
    "scrolled": true
   },
   "outputs": [
    {
     "data": {
      "text/html": [
       "<div>\n",
       "<style scoped>\n",
       "    .dataframe tbody tr th:only-of-type {\n",
       "        vertical-align: middle;\n",
       "    }\n",
       "\n",
       "    .dataframe tbody tr th {\n",
       "        vertical-align: top;\n",
       "    }\n",
       "\n",
       "    .dataframe thead th {\n",
       "        text-align: right;\n",
       "    }\n",
       "</style>\n",
       "<table border=\"1\" class=\"dataframe\">\n",
       "  <thead>\n",
       "    <tr style=\"text-align: right;\">\n",
       "      <th></th>\n",
       "      <th>item_index</th>\n",
       "      <th>score</th>\n",
       "      <th>title</th>\n",
       "    </tr>\n",
       "  </thead>\n",
       "  <tbody>\n",
       "    <tr>\n",
       "      <th>0</th>\n",
       "      <td>819</td>\n",
       "      <td>1.000000</td>\n",
       "      <td>Building A Better Workforce: 5 Talent Trends W...</td>\n",
       "    </tr>\n",
       "    <tr>\n",
       "      <th>1</th>\n",
       "      <td>620</td>\n",
       "      <td>0.524865</td>\n",
       "      <td>Game of Loans</td>\n",
       "    </tr>\n",
       "    <tr>\n",
       "      <th>2</th>\n",
       "      <td>1500</td>\n",
       "      <td>0.522644</td>\n",
       "      <td>\"It's time for self-directed 'smart' investing...</td>\n",
       "    </tr>\n",
       "    <tr>\n",
       "      <th>3</th>\n",
       "      <td>209</td>\n",
       "      <td>0.491697</td>\n",
       "      <td>Building on Slack Saved Our Startup</td>\n",
       "    </tr>\n",
       "    <tr>\n",
       "      <th>4</th>\n",
       "      <td>1728</td>\n",
       "      <td>0.489476</td>\n",
       "      <td>Google employees are adding 'Lady' to their jo...</td>\n",
       "    </tr>\n",
       "  </tbody>\n",
       "</table>\n",
       "</div>"
      ],
      "text/plain": [
       "   item_index     score                                              title\n",
       "0         819  1.000000  Building A Better Workforce: 5 Talent Trends W...\n",
       "1         620  0.524865                                      Game of Loans\n",
       "2        1500  0.522644  \"It's time for self-directed 'smart' investing...\n",
       "3         209  0.491697                Building on Slack Saved Our Startup\n",
       "4        1728  0.489476  Google employees are adding 'Lady' to their jo..."
      ]
     },
     "execution_count": 210,
     "metadata": {},
     "output_type": "execute_result"
    }
   ],
   "source": [
    "collab_output[[\"item_index\",\"score\",\"title\"]].head() # check the head"
   ]
  },
  {
   "cell_type": "markdown",
   "metadata": {
    "id": "KFP1zyfro14R"
   },
   "source": [
    "### Normalize the score, so that comparision will be easier"
   ]
  },
  {
   "cell_type": "code",
   "execution_count": 211,
   "metadata": {
    "id": "U8pSdGkMo14R"
   },
   "outputs": [],
   "source": [
    "# min max normalization\n",
    "collab_output['collaborative_score_normalized'] = (collab_output['score']-min(collab_output['score']))/(max(collab_output['score'])-min(collab_output['score']))"
   ]
  },
  {
   "cell_type": "markdown",
   "metadata": {
    "id": "mnu9dnkuo14S"
   },
   "source": [
    "### Top 10 Recommendation for Item Bases Collaborative Filtering"
   ]
  },
  {
   "cell_type": "code",
   "execution_count": 212,
   "metadata": {
    "colab": {
     "base_uri": "https://localhost:8080/",
     "height": 363
    },
    "id": "gN-9hfyDo14S",
    "outputId": "19454a1b-3f28-4464-d06a-8eaa436a8be9",
    "scrolled": true
   },
   "outputs": [
    {
     "data": {
      "text/html": [
       "<div>\n",
       "<style scoped>\n",
       "    .dataframe tbody tr th:only-of-type {\n",
       "        vertical-align: middle;\n",
       "    }\n",
       "\n",
       "    .dataframe tbody tr th {\n",
       "        vertical-align: top;\n",
       "    }\n",
       "\n",
       "    .dataframe thead th {\n",
       "        text-align: right;\n",
       "    }\n",
       "</style>\n",
       "<table border=\"1\" class=\"dataframe\">\n",
       "  <thead>\n",
       "    <tr style=\"text-align: right;\">\n",
       "      <th></th>\n",
       "      <th>item_index</th>\n",
       "      <th>score</th>\n",
       "      <th>title</th>\n",
       "      <th>collaborative_score_normalized</th>\n",
       "    </tr>\n",
       "  </thead>\n",
       "  <tbody>\n",
       "    <tr>\n",
       "      <th>0</th>\n",
       "      <td>819</td>\n",
       "      <td>1.000000</td>\n",
       "      <td>Building A Better Workforce: 5 Talent Trends W...</td>\n",
       "      <td>1.000000</td>\n",
       "    </tr>\n",
       "    <tr>\n",
       "      <th>1</th>\n",
       "      <td>620</td>\n",
       "      <td>0.524865</td>\n",
       "      <td>Game of Loans</td>\n",
       "      <td>0.524865</td>\n",
       "    </tr>\n",
       "    <tr>\n",
       "      <th>2</th>\n",
       "      <td>1500</td>\n",
       "      <td>0.522644</td>\n",
       "      <td>\"It's time for self-directed 'smart' investing...</td>\n",
       "      <td>0.522644</td>\n",
       "    </tr>\n",
       "    <tr>\n",
       "      <th>3</th>\n",
       "      <td>209</td>\n",
       "      <td>0.491697</td>\n",
       "      <td>Building on Slack Saved Our Startup</td>\n",
       "      <td>0.491697</td>\n",
       "    </tr>\n",
       "    <tr>\n",
       "      <th>4</th>\n",
       "      <td>1728</td>\n",
       "      <td>0.489476</td>\n",
       "      <td>Google employees are adding 'Lady' to their jo...</td>\n",
       "      <td>0.489476</td>\n",
       "    </tr>\n",
       "    <tr>\n",
       "      <th>5</th>\n",
       "      <td>1589</td>\n",
       "      <td>0.480041</td>\n",
       "      <td>Do Crows Hold Funerals for Their Dead?</td>\n",
       "      <td>0.480041</td>\n",
       "    </tr>\n",
       "    <tr>\n",
       "      <th>6</th>\n",
       "      <td>468</td>\n",
       "      <td>0.470536</td>\n",
       "      <td>Coder | Drupal.org</td>\n",
       "      <td>0.470536</td>\n",
       "    </tr>\n",
       "    <tr>\n",
       "      <th>7</th>\n",
       "      <td>383</td>\n",
       "      <td>0.456016</td>\n",
       "      <td>Cloud Shell now GA, and still free</td>\n",
       "      <td>0.456016</td>\n",
       "    </tr>\n",
       "    <tr>\n",
       "      <th>8</th>\n",
       "      <td>360</td>\n",
       "      <td>0.444244</td>\n",
       "      <td>8 Books Stanford MBAs Recommend You Read This ...</td>\n",
       "      <td>0.444244</td>\n",
       "    </tr>\n",
       "    <tr>\n",
       "      <th>9</th>\n",
       "      <td>1997</td>\n",
       "      <td>0.433920</td>\n",
       "      <td>This motorized wheel adds electric power to yo...</td>\n",
       "      <td>0.433920</td>\n",
       "    </tr>\n",
       "  </tbody>\n",
       "</table>\n",
       "</div>"
      ],
      "text/plain": [
       "   item_index     score                                              title  \\\n",
       "0         819  1.000000  Building A Better Workforce: 5 Talent Trends W...   \n",
       "1         620  0.524865                                      Game of Loans   \n",
       "2        1500  0.522644  \"It's time for self-directed 'smart' investing...   \n",
       "3         209  0.491697                Building on Slack Saved Our Startup   \n",
       "4        1728  0.489476  Google employees are adding 'Lady' to their jo...   \n",
       "5        1589  0.480041             Do Crows Hold Funerals for Their Dead?   \n",
       "6         468  0.470536                                 Coder | Drupal.org   \n",
       "7         383  0.456016                 Cloud Shell now GA, and still free   \n",
       "8         360  0.444244  8 Books Stanford MBAs Recommend You Read This ...   \n",
       "9        1997  0.433920  This motorized wheel adds electric power to yo...   \n",
       "\n",
       "   collaborative_score_normalized  \n",
       "0                        1.000000  \n",
       "1                        0.524865  \n",
       "2                        0.522644  \n",
       "3                        0.491697  \n",
       "4                        0.489476  \n",
       "5                        0.480041  \n",
       "6                        0.470536  \n",
       "7                        0.456016  \n",
       "8                        0.444244  \n",
       "9                        0.433920  "
      ]
     },
     "execution_count": 212,
     "metadata": {},
     "output_type": "execute_result"
    }
   ],
   "source": [
    "# Select only required columns\n",
    "collab_output[[\"item_index\",\"score\",\"title\",\"collaborative_score_normalized\"]].head(10)"
   ]
  },
  {
   "cell_type": "markdown",
   "metadata": {
    "id": "xAdnYaTpo14T"
   },
   "source": [
    "### Precision@K\n",
    "- precision is the measure of the actual number of items that a user likes out of all the recommendations"
   ]
  },
  {
   "cell_type": "code",
   "execution_count": 213,
   "metadata": {
    "colab": {
     "base_uri": "https://localhost:8080/"
    },
    "id": "3UpJ69pSo14T",
    "outputId": "03212207-ad36-4350-9e00-ff3f3f22d4e7"
   },
   "outputs": [
    {
     "data": {
      "text/plain": [
       "array([ 819,  620, 1500,  209, 1728, 1589,  468,  383,  360, 1997],\n",
       "      dtype=int64)"
      ]
     },
     "execution_count": 213,
     "metadata": {},
     "output_type": "execute_result"
    }
   ],
   "source": [
    "# get 10 predicted items\n",
    "pred_set = merged_item_based[\"item_index\"].values[:10]\n",
    "pred_set"
   ]
  },
  {
   "cell_type": "code",
   "execution_count": 214,
   "metadata": {
    "id": "RNePpYZjo14U",
    "scrolled": false
   },
   "outputs": [],
   "source": [
    "# clean_consumer[clean_consumer[\"item_index\"]==2394]"
   ]
  },
  {
   "cell_type": "markdown",
   "metadata": {
    "id": "jf5ijS2Zo14U"
   },
   "source": [
    "### Check precision of a Consumer Index:"
   ]
  },
  {
   "cell_type": "code",
   "execution_count": 215,
   "metadata": {
    "id": "WrLzhUiOo14U"
   },
   "outputs": [],
   "source": [
    "consumer_index = 804"
   ]
  },
  {
   "cell_type": "code",
   "execution_count": 217,
   "metadata": {
    "id": "RgTCrg17o14V"
   },
   "outputs": [],
   "source": [
    "# Filter the items where the consumer has rated 3 or more than 3 to news items\n",
    "ratings_filtered = clean_consumer[(clean_consumer[\"ratings\"]>3) & (clean_consumer[\"consumer_index\"]==consumer_index)]"
   ]
  },
  {
   "cell_type": "code",
   "execution_count": 218,
   "metadata": {
    "colab": {
     "base_uri": "https://localhost:8080/",
     "height": 269
    },
    "id": "84ahiXQ0o14V",
    "outputId": "f2304579-1276-4d7a-f856-5307ac4bca23"
   },
   "outputs": [
    {
     "data": {
      "text/html": [
       "<div>\n",
       "<style scoped>\n",
       "    .dataframe tbody tr th:only-of-type {\n",
       "        vertical-align: middle;\n",
       "    }\n",
       "\n",
       "    .dataframe tbody tr th {\n",
       "        vertical-align: top;\n",
       "    }\n",
       "\n",
       "    .dataframe thead th {\n",
       "        text-align: right;\n",
       "    }\n",
       "</style>\n",
       "<table border=\"1\" class=\"dataframe\">\n",
       "  <thead>\n",
       "    <tr style=\"text-align: right;\">\n",
       "      <th></th>\n",
       "      <th>consumer_index</th>\n",
       "      <th>item_index</th>\n",
       "      <th>ratings</th>\n",
       "    </tr>\n",
       "  </thead>\n",
       "  <tbody>\n",
       "    <tr>\n",
       "      <th>61</th>\n",
       "      <td>804</td>\n",
       "      <td>819</td>\n",
       "      <td>4</td>\n",
       "    </tr>\n",
       "    <tr>\n",
       "      <th>62</th>\n",
       "      <td>804</td>\n",
       "      <td>819</td>\n",
       "      <td>4</td>\n",
       "    </tr>\n",
       "    <tr>\n",
       "      <th>69</th>\n",
       "      <td>804</td>\n",
       "      <td>819</td>\n",
       "      <td>5</td>\n",
       "    </tr>\n",
       "    <tr>\n",
       "      <th>8465</th>\n",
       "      <td>804</td>\n",
       "      <td>620</td>\n",
       "      <td>4</td>\n",
       "    </tr>\n",
       "    <tr>\n",
       "      <th>27906</th>\n",
       "      <td>804</td>\n",
       "      <td>2539</td>\n",
       "      <td>4</td>\n",
       "    </tr>\n",
       "    <tr>\n",
       "      <th>34668</th>\n",
       "      <td>804</td>\n",
       "      <td>1686</td>\n",
       "      <td>5</td>\n",
       "    </tr>\n",
       "    <tr>\n",
       "      <th>34688</th>\n",
       "      <td>804</td>\n",
       "      <td>1686</td>\n",
       "      <td>4</td>\n",
       "    </tr>\n",
       "  </tbody>\n",
       "</table>\n",
       "</div>"
      ],
      "text/plain": [
       "       consumer_index  item_index  ratings\n",
       "61                804         819        4\n",
       "62                804         819        4\n",
       "69                804         819        5\n",
       "8465              804         620        4\n",
       "27906             804        2539        4\n",
       "34668             804        1686        5\n",
       "34688             804        1686        4"
      ]
     },
     "execution_count": 218,
     "metadata": {},
     "output_type": "execute_result"
    }
   ],
   "source": [
    "ratings_filtered"
   ]
  },
  {
   "cell_type": "code",
   "execution_count": 219,
   "metadata": {
    "colab": {
     "base_uri": "https://localhost:8080/"
    },
    "id": "Do4iRiESo14W",
    "outputId": "0a148f01-898f-4a36-c9ea-de18bfa147e4"
   },
   "outputs": [
    {
     "data": {
      "text/plain": [
       "array([ 819,  819,  819,  620, 2539, 1686, 1686], dtype=int64)"
      ]
     },
     "execution_count": 219,
     "metadata": {},
     "output_type": "execute_result"
    }
   ],
   "source": [
    "relevant_set = ratings_filtered.item_index.values\n",
    "relevant_set\n"
   ]
  },
  {
   "cell_type": "code",
   "execution_count": 220,
   "metadata": {
    "colab": {
     "base_uri": "https://localhost:8080/"
    },
    "id": "a8PjedHto14W",
    "outputId": "16b78f14-60ad-4221-99ab-61e9944c048c"
   },
   "outputs": [
    {
     "data": {
      "text/plain": [
       "[819, 620]"
      ]
     },
     "execution_count": 220,
     "metadata": {},
     "output_type": "execute_result"
    }
   ],
   "source": [
    "list(set(relevant_set) & set(pred_set))"
   ]
  },
  {
   "cell_type": "code",
   "execution_count": 221,
   "metadata": {
    "id": "tb0WuE-Zo14W"
   },
   "outputs": [],
   "source": [
    "precision_at_10 = len(list(set(relevant_set) & set(pred_set)))/10"
   ]
  },
  {
   "cell_type": "code",
   "execution_count": 222,
   "metadata": {
    "colab": {
     "base_uri": "https://localhost:8080/"
    },
    "id": "BLmPUbBOo14W",
    "outputId": "81d673ec-f93a-4be4-edcc-e59b12ce3f25"
   },
   "outputs": [
    {
     "data": {
      "text/plain": [
       "0.2"
      ]
     },
     "execution_count": 222,
     "metadata": {},
     "output_type": "execute_result"
    }
   ],
   "source": [
    "precision_at_10"
   ]
  },
  {
   "cell_type": "markdown",
   "metadata": {
    "id": "5Uvl5XWJo14X"
   },
   "source": [
    "- __For consumer_index = 804, the precision comes as 0.2, as the consumer has rated the item 819.__\n",
    "- __if the consumer has not rated the item, then precision can be zero.__"
   ]
  },
  {
   "cell_type": "markdown",
   "metadata": {
    "id": "kz1Wn8Tho14X"
   },
   "source": [
    "### Global Average Precision @K\n",
    "\n",
    "-  __Mean Average Precision at k (MAP@k): MAP@k is the average of precision at value from 1 to k where k is the number of recommendations.__\n",
    "\n",
    "\n",
    "- __Global precision@k value which gives an overall idea of how the model is performing considering all the users with the predicted list containing relevant items for each of them.__"
   ]
  },
  {
   "cell_type": "code",
   "execution_count": 223,
   "metadata": {
    "colab": {
     "base_uri": "https://localhost:8080/"
    },
    "id": "ctgii5Wlo14X",
    "outputId": "04dbe207-4e5d-4984-80bd-cd9a3219b29a"
   },
   "outputs": [
    {
     "data": {
      "text/plain": [
       "1895"
      ]
     },
     "execution_count": 223,
     "metadata": {},
     "output_type": "execute_result"
    }
   ],
   "source": [
    "clean_consumer.consumer_index.nunique()"
   ]
  },
  {
   "cell_type": "code",
   "execution_count": 224,
   "metadata": {
    "colab": {
     "base_uri": "https://localhost:8080/"
    },
    "id": "NIKnzmESo14Y",
    "outputId": "9e58baca-ccb7-49c9-a076-82d7dff0495f",
    "scrolled": true
   },
   "outputs": [
    {
     "name": "stdout",
     "output_type": "stream",
     "text": [
      "509 ---> 0.2\n",
      "831 ---> 0.2\n",
      "1114 ---> 0.1\n",
      "1286 ---> 0.1\n",
      "1379 ---> 0.1\n",
      "1650 ---> 0.1\n",
      "1884 ---> 0.1\n"
     ]
    }
   ],
   "source": [
    "# Calculate the global precision\n",
    "global_precision = 0\n",
    "for user_index in range(0,1895):\n",
    "    user_relevant_set = clean_consumer[(clean_consumer[\"ratings\"]>=3) & \n",
    "                                       (clean_consumer[\"consumer_index\"]==user_index)].\\\n",
    "                                        sort_values(by=\"ratings\",ascending=False)[\"item_index\"].tolist()\n",
    "    \n",
    "    user_predicted_set = news_prediction.iloc[user_index].sort_values(ascending=False)[:10].index.tolist()\n",
    "    \n",
    "    precision_at_10 = (len(list(set(user_relevant_set) & set(user_predicted_set))))/10\n",
    "    \n",
    "    if precision_at_10 !=0:  # filter where precision is zero \n",
    "        print(user_index,\"--->\", precision_at_10)\n",
    "    global_precision = global_precision + precision_at_10"
   ]
  },
  {
   "cell_type": "code",
   "execution_count": 225,
   "metadata": {
    "colab": {
     "base_uri": "https://localhost:8080/"
    },
    "id": "HiW1POL0o14Y",
    "outputId": "250f6aa4-461b-4bcf-99a5-fe8cefa3e90b"
   },
   "outputs": [
    {
     "data": {
      "text/plain": [
       "0.8999999999999999"
      ]
     },
     "execution_count": 225,
     "metadata": {},
     "output_type": "execute_result"
    }
   ],
   "source": [
    "global_precision"
   ]
  },
  {
   "cell_type": "code",
   "execution_count": 226,
   "metadata": {
    "colab": {
     "base_uri": "https://localhost:8080/"
    },
    "id": "Rx_Mkj-Qo14Y",
    "outputId": "743db6cb-1648-43a8-d624-db0c15df9392"
   },
   "outputs": [
    {
     "data": {
      "text/plain": [
       "0.00047493403693931396"
      ]
     },
     "execution_count": 226,
     "metadata": {},
     "output_type": "execute_result"
    }
   ],
   "source": [
    "# Calculate the Global Average Precision \n",
    "global_average_precision = global_precision/clean_consumer[\"consumer_index\"].nunique()\n",
    "global_average_precision"
   ]
  },
  {
   "cell_type": "code",
   "execution_count": 227,
   "metadata": {
    "colab": {
     "base_uri": "https://localhost:8080/",
     "height": 206
    },
    "id": "-zN-5s5ro14Z",
    "outputId": "424896ff-99f7-404c-b7d8-1698507254d5",
    "scrolled": true
   },
   "outputs": [
    {
     "data": {
      "text/html": [
       "<div>\n",
       "<style scoped>\n",
       "    .dataframe tbody tr th:only-of-type {\n",
       "        vertical-align: middle;\n",
       "    }\n",
       "\n",
       "    .dataframe tbody tr th {\n",
       "        vertical-align: top;\n",
       "    }\n",
       "\n",
       "    .dataframe thead th {\n",
       "        text-align: right;\n",
       "    }\n",
       "</style>\n",
       "<table border=\"1\" class=\"dataframe\">\n",
       "  <thead>\n",
       "    <tr style=\"text-align: right;\">\n",
       "      <th></th>\n",
       "      <th>consumer_index</th>\n",
       "      <th>item_index</th>\n",
       "      <th>ratings</th>\n",
       "    </tr>\n",
       "  </thead>\n",
       "  <tbody>\n",
       "    <tr>\n",
       "      <th>0</th>\n",
       "      <td>33</td>\n",
       "      <td>933</td>\n",
       "      <td>1</td>\n",
       "    </tr>\n",
       "    <tr>\n",
       "      <th>1</th>\n",
       "      <td>831</td>\n",
       "      <td>2933</td>\n",
       "      <td>1</td>\n",
       "    </tr>\n",
       "    <tr>\n",
       "      <th>2</th>\n",
       "      <td>826</td>\n",
       "      <td>1537</td>\n",
       "      <td>1</td>\n",
       "    </tr>\n",
       "    <tr>\n",
       "      <th>3</th>\n",
       "      <td>974</td>\n",
       "      <td>1537</td>\n",
       "      <td>5</td>\n",
       "    </tr>\n",
       "    <tr>\n",
       "      <th>4</th>\n",
       "      <td>887</td>\n",
       "      <td>246</td>\n",
       "      <td>1</td>\n",
       "    </tr>\n",
       "  </tbody>\n",
       "</table>\n",
       "</div>"
      ],
      "text/plain": [
       "   consumer_index  item_index  ratings\n",
       "0              33         933        1\n",
       "1             831        2933        1\n",
       "2             826        1537        1\n",
       "3             974        1537        5\n",
       "4             887         246        1"
      ]
     },
     "execution_count": 227,
     "metadata": {},
     "output_type": "execute_result"
    }
   ],
   "source": [
    "clean_consumer.head()"
   ]
  },
  {
   "cell_type": "markdown",
   "metadata": {
    "id": "qGl3obAfo14Z"
   },
   "source": [
    "### Continue with the Content Recommendation prediction :\n",
    "- This will be used in Hybrid recommendation model"
   ]
  },
  {
   "cell_type": "code",
   "execution_count": 228,
   "metadata": {
    "colab": {
     "base_uri": "https://localhost:8080/"
    },
    "id": "vbng8ksdo14Z",
    "outputId": "e1228d2b-cbc1-42f0-eb50-bbc1dc4b2473"
   },
   "outputs": [
    {
     "data": {
      "text/plain": [
       "pandas.core.series.Series"
      ]
     },
     "execution_count": 228,
     "metadata": {},
     "output_type": "execute_result"
    }
   ],
   "source": [
    "type(content_output_news)"
   ]
  },
  {
   "cell_type": "code",
   "execution_count": 229,
   "metadata": {
    "id": "wxriNSxIo14a"
   },
   "outputs": [],
   "source": [
    "# create a dataframe from content based model output\n",
    "content_df = pd.DataFrame(content_output_news)"
   ]
  },
  {
   "cell_type": "code",
   "execution_count": 230,
   "metadata": {
    "colab": {
     "base_uri": "https://localhost:8080/",
     "height": 206
    },
    "id": "oh11Ho31o14a",
    "outputId": "82aa1382-2ad0-4a85-85a4-378a6a10987a"
   },
   "outputs": [
    {
     "data": {
      "text/html": [
       "<div>\n",
       "<style scoped>\n",
       "    .dataframe tbody tr th:only-of-type {\n",
       "        vertical-align: middle;\n",
       "    }\n",
       "\n",
       "    .dataframe tbody tr th {\n",
       "        vertical-align: top;\n",
       "    }\n",
       "\n",
       "    .dataframe thead th {\n",
       "        text-align: right;\n",
       "    }\n",
       "</style>\n",
       "<table border=\"1\" class=\"dataframe\">\n",
       "  <thead>\n",
       "    <tr style=\"text-align: right;\">\n",
       "      <th></th>\n",
       "      <th>0</th>\n",
       "    </tr>\n",
       "  </thead>\n",
       "  <tbody>\n",
       "    <tr>\n",
       "      <th>1892</th>\n",
       "      <td>1.000000</td>\n",
       "    </tr>\n",
       "    <tr>\n",
       "      <th>2155</th>\n",
       "      <td>0.070225</td>\n",
       "    </tr>\n",
       "    <tr>\n",
       "      <th>250</th>\n",
       "      <td>0.069551</td>\n",
       "    </tr>\n",
       "    <tr>\n",
       "      <th>1717</th>\n",
       "      <td>0.068327</td>\n",
       "    </tr>\n",
       "    <tr>\n",
       "      <th>593</th>\n",
       "      <td>0.062894</td>\n",
       "    </tr>\n",
       "  </tbody>\n",
       "</table>\n",
       "</div>"
      ],
      "text/plain": [
       "             0\n",
       "1892  1.000000\n",
       "2155  0.070225\n",
       "250   0.069551\n",
       "1717  0.068327\n",
       "593   0.062894"
      ]
     },
     "execution_count": 230,
     "metadata": {},
     "output_type": "execute_result"
    }
   ],
   "source": [
    "content_df.head()"
   ]
  },
  {
   "cell_type": "code",
   "execution_count": 231,
   "metadata": {
    "id": "DqVESCgko14a"
   },
   "outputs": [],
   "source": [
    "# reset the index to make the index continuous\n",
    "content_df.reset_index(inplace=True)"
   ]
  },
  {
   "cell_type": "code",
   "execution_count": 232,
   "metadata": {
    "colab": {
     "base_uri": "https://localhost:8080/",
     "height": 206
    },
    "id": "_8EgMlSOo14b",
    "outputId": "ea869a11-44a8-400f-ad8f-7341c7ee24df"
   },
   "outputs": [
    {
     "data": {
      "text/html": [
       "<div>\n",
       "<style scoped>\n",
       "    .dataframe tbody tr th:only-of-type {\n",
       "        vertical-align: middle;\n",
       "    }\n",
       "\n",
       "    .dataframe tbody tr th {\n",
       "        vertical-align: top;\n",
       "    }\n",
       "\n",
       "    .dataframe thead th {\n",
       "        text-align: right;\n",
       "    }\n",
       "</style>\n",
       "<table border=\"1\" class=\"dataframe\">\n",
       "  <thead>\n",
       "    <tr style=\"text-align: right;\">\n",
       "      <th></th>\n",
       "      <th>index</th>\n",
       "      <th>0</th>\n",
       "    </tr>\n",
       "  </thead>\n",
       "  <tbody>\n",
       "    <tr>\n",
       "      <th>0</th>\n",
       "      <td>1892</td>\n",
       "      <td>1.000000</td>\n",
       "    </tr>\n",
       "    <tr>\n",
       "      <th>1</th>\n",
       "      <td>2155</td>\n",
       "      <td>0.070225</td>\n",
       "    </tr>\n",
       "    <tr>\n",
       "      <th>2</th>\n",
       "      <td>250</td>\n",
       "      <td>0.069551</td>\n",
       "    </tr>\n",
       "    <tr>\n",
       "      <th>3</th>\n",
       "      <td>1717</td>\n",
       "      <td>0.068327</td>\n",
       "    </tr>\n",
       "    <tr>\n",
       "      <th>4</th>\n",
       "      <td>593</td>\n",
       "      <td>0.062894</td>\n",
       "    </tr>\n",
       "  </tbody>\n",
       "</table>\n",
       "</div>"
      ],
      "text/plain": [
       "   index         0\n",
       "0   1892  1.000000\n",
       "1   2155  0.070225\n",
       "2    250  0.069551\n",
       "3   1717  0.068327\n",
       "4    593  0.062894"
      ]
     },
     "execution_count": 232,
     "metadata": {},
     "output_type": "execute_result"
    }
   ],
   "source": [
    "content_df.head()"
   ]
  },
  {
   "cell_type": "code",
   "execution_count": 233,
   "metadata": {
    "id": "afqh7yr2o14b"
   },
   "outputs": [],
   "source": [
    "# assign the column names to content prediction data\n",
    "content_df.columns = ['item_index', 'score']"
   ]
  },
  {
   "cell_type": "code",
   "execution_count": 234,
   "metadata": {
    "colab": {
     "base_uri": "https://localhost:8080/",
     "height": 206
    },
    "id": "kUOqtwp-o14c",
    "outputId": "531f1e35-00a2-4982-f558-9c4189ced369"
   },
   "outputs": [
    {
     "data": {
      "text/html": [
       "<div>\n",
       "<style scoped>\n",
       "    .dataframe tbody tr th:only-of-type {\n",
       "        vertical-align: middle;\n",
       "    }\n",
       "\n",
       "    .dataframe tbody tr th {\n",
       "        vertical-align: top;\n",
       "    }\n",
       "\n",
       "    .dataframe thead th {\n",
       "        text-align: right;\n",
       "    }\n",
       "</style>\n",
       "<table border=\"1\" class=\"dataframe\">\n",
       "  <thead>\n",
       "    <tr style=\"text-align: right;\">\n",
       "      <th></th>\n",
       "      <th>item_index</th>\n",
       "      <th>score</th>\n",
       "    </tr>\n",
       "  </thead>\n",
       "  <tbody>\n",
       "    <tr>\n",
       "      <th>0</th>\n",
       "      <td>1892</td>\n",
       "      <td>1.000000</td>\n",
       "    </tr>\n",
       "    <tr>\n",
       "      <th>1</th>\n",
       "      <td>2155</td>\n",
       "      <td>0.070225</td>\n",
       "    </tr>\n",
       "    <tr>\n",
       "      <th>2</th>\n",
       "      <td>250</td>\n",
       "      <td>0.069551</td>\n",
       "    </tr>\n",
       "    <tr>\n",
       "      <th>3</th>\n",
       "      <td>1717</td>\n",
       "      <td>0.068327</td>\n",
       "    </tr>\n",
       "    <tr>\n",
       "      <th>4</th>\n",
       "      <td>593</td>\n",
       "      <td>0.062894</td>\n",
       "    </tr>\n",
       "  </tbody>\n",
       "</table>\n",
       "</div>"
      ],
      "text/plain": [
       "   item_index     score\n",
       "0        1892  1.000000\n",
       "1        2155  0.070225\n",
       "2         250  0.069551\n",
       "3        1717  0.068327\n",
       "4         593  0.062894"
      ]
     },
     "execution_count": 234,
     "metadata": {},
     "output_type": "execute_result"
    }
   ],
   "source": [
    "content_df.head()"
   ]
  },
  {
   "cell_type": "markdown",
   "metadata": {
    "id": "biAgLxiso14c"
   },
   "source": [
    "### Normalize score\n",
    "- Min Max normalization"
   ]
  },
  {
   "cell_type": "code",
   "execution_count": 235,
   "metadata": {
    "id": "7PbluUmlo14c"
   },
   "outputs": [],
   "source": [
    "content_df['content_score_normalized'] = (content_df['score']-min(content_df['score'])) / (max(content_df['score']) - min(content_df['score']))"
   ]
  },
  {
   "cell_type": "code",
   "execution_count": 236,
   "metadata": {
    "colab": {
     "base_uri": "https://localhost:8080/",
     "height": 206
    },
    "id": "F1bNjFtWo14d",
    "outputId": "c4470335-4094-43f9-e07c-6b2a8131cd8f"
   },
   "outputs": [
    {
     "data": {
      "text/html": [
       "<div>\n",
       "<style scoped>\n",
       "    .dataframe tbody tr th:only-of-type {\n",
       "        vertical-align: middle;\n",
       "    }\n",
       "\n",
       "    .dataframe tbody tr th {\n",
       "        vertical-align: top;\n",
       "    }\n",
       "\n",
       "    .dataframe thead th {\n",
       "        text-align: right;\n",
       "    }\n",
       "</style>\n",
       "<table border=\"1\" class=\"dataframe\">\n",
       "  <thead>\n",
       "    <tr style=\"text-align: right;\">\n",
       "      <th></th>\n",
       "      <th>item_index</th>\n",
       "      <th>score</th>\n",
       "      <th>content_score_normalized</th>\n",
       "    </tr>\n",
       "  </thead>\n",
       "  <tbody>\n",
       "    <tr>\n",
       "      <th>0</th>\n",
       "      <td>1892</td>\n",
       "      <td>1.000000</td>\n",
       "      <td>1.000000</td>\n",
       "    </tr>\n",
       "    <tr>\n",
       "      <th>1</th>\n",
       "      <td>2155</td>\n",
       "      <td>0.070225</td>\n",
       "      <td>0.070035</td>\n",
       "    </tr>\n",
       "    <tr>\n",
       "      <th>2</th>\n",
       "      <td>250</td>\n",
       "      <td>0.069551</td>\n",
       "      <td>0.069361</td>\n",
       "    </tr>\n",
       "    <tr>\n",
       "      <th>3</th>\n",
       "      <td>1717</td>\n",
       "      <td>0.068327</td>\n",
       "      <td>0.068137</td>\n",
       "    </tr>\n",
       "    <tr>\n",
       "      <th>4</th>\n",
       "      <td>593</td>\n",
       "      <td>0.062894</td>\n",
       "      <td>0.062703</td>\n",
       "    </tr>\n",
       "  </tbody>\n",
       "</table>\n",
       "</div>"
      ],
      "text/plain": [
       "   item_index     score  content_score_normalized\n",
       "0        1892  1.000000                  1.000000\n",
       "1        2155  0.070225                  0.070035\n",
       "2         250  0.069551                  0.069361\n",
       "3        1717  0.068327                  0.068137\n",
       "4         593  0.062894                  0.062703"
      ]
     },
     "execution_count": 236,
     "metadata": {},
     "output_type": "execute_result"
    }
   ],
   "source": [
    "content_df.head()"
   ]
  },
  {
   "cell_type": "code",
   "execution_count": 237,
   "metadata": {
    "colab": {
     "base_uri": "https://localhost:8080/"
    },
    "id": "43vj_yGao14d",
    "outputId": "efcf3aa3-8bcc-48e9-e4ab-05beedbca5e1"
   },
   "outputs": [
    {
     "data": {
      "text/plain": [
       "(2264, 3)"
      ]
     },
     "execution_count": 237,
     "metadata": {},
     "output_type": "execute_result"
    }
   ],
   "source": [
    "# check the shape of dataframe content output\n",
    "content_df.shape"
   ]
  },
  {
   "cell_type": "code",
   "execution_count": 238,
   "metadata": {
    "colab": {
     "base_uri": "https://localhost:8080/"
    },
    "id": "P9TpQVPlo14d",
    "outputId": "6c699340-3f7b-4c40-a6da-03b41ca5fde0"
   },
   "outputs": [
    {
     "data": {
      "text/plain": [
       "(2264, 5)"
      ]
     },
     "execution_count": 238,
     "metadata": {},
     "output_type": "execute_result"
    }
   ],
   "source": [
    "# check the shape of dataframe collaborative output\n",
    "collab_output.shape"
   ]
  },
  {
   "cell_type": "markdown",
   "metadata": {
    "id": "WooqR9hAo14d"
   },
   "source": [
    "### Hybrid: Combine two Models: Collaborative Item based output and Content based output"
   ]
  },
  {
   "cell_type": "code",
   "execution_count": 239,
   "metadata": {
    "id": "w4ILjhUeo14e"
   },
   "outputs": [],
   "source": [
    "# merge with content data to get the title information and description \n",
    "hybrid_output = pd.merge(collab_output,content_df, how='left', on='item_index')"
   ]
  },
  {
   "cell_type": "code",
   "execution_count": 240,
   "metadata": {
    "colab": {
     "base_uri": "https://localhost:8080/",
     "height": 206
    },
    "id": "AP52aFUzo14e",
    "outputId": "83fa7bce-8bca-4551-be77-3a2217804c3f"
   },
   "outputs": [
    {
     "data": {
      "text/html": [
       "<div>\n",
       "<style scoped>\n",
       "    .dataframe tbody tr th:only-of-type {\n",
       "        vertical-align: middle;\n",
       "    }\n",
       "\n",
       "    .dataframe tbody tr th {\n",
       "        vertical-align: top;\n",
       "    }\n",
       "\n",
       "    .dataframe thead th {\n",
       "        text-align: right;\n",
       "    }\n",
       "</style>\n",
       "<table border=\"1\" class=\"dataframe\">\n",
       "  <thead>\n",
       "    <tr style=\"text-align: right;\">\n",
       "      <th></th>\n",
       "      <th>item_index</th>\n",
       "      <th>score_x</th>\n",
       "      <th>title</th>\n",
       "      <th>text_description</th>\n",
       "      <th>collaborative_score_normalized</th>\n",
       "      <th>score_y</th>\n",
       "      <th>content_score_normalized</th>\n",
       "    </tr>\n",
       "  </thead>\n",
       "  <tbody>\n",
       "    <tr>\n",
       "      <th>0</th>\n",
       "      <td>819</td>\n",
       "      <td>1.000000</td>\n",
       "      <td>Building A Better Workforce: 5 Talent Trends W...</td>\n",
       "      <td>As we take a look forward at what's new and wh...</td>\n",
       "      <td>1.000000</td>\n",
       "      <td>0.021786</td>\n",
       "      <td>0.021587</td>\n",
       "    </tr>\n",
       "    <tr>\n",
       "      <th>1</th>\n",
       "      <td>620</td>\n",
       "      <td>0.524865</td>\n",
       "      <td>Game of Loans</td>\n",
       "      <td>As Queen-Mother Cersei undertook her walk of s...</td>\n",
       "      <td>0.524865</td>\n",
       "      <td>0.007584</td>\n",
       "      <td>0.007382</td>\n",
       "    </tr>\n",
       "    <tr>\n",
       "      <th>2</th>\n",
       "      <td>1500</td>\n",
       "      <td>0.522644</td>\n",
       "      <td>\"It's time for self-directed 'smart' investing...</td>\n",
       "      <td>I recently had the chance to speak to Swanest ...</td>\n",
       "      <td>0.522644</td>\n",
       "      <td>0.010305</td>\n",
       "      <td>0.010104</td>\n",
       "    </tr>\n",
       "    <tr>\n",
       "      <th>3</th>\n",
       "      <td>209</td>\n",
       "      <td>0.491697</td>\n",
       "      <td>Building on Slack Saved Our Startup</td>\n",
       "      <td>From the start, we did everything right with T...</td>\n",
       "      <td>0.491697</td>\n",
       "      <td>0.027596</td>\n",
       "      <td>0.027398</td>\n",
       "    </tr>\n",
       "    <tr>\n",
       "      <th>4</th>\n",
       "      <td>1728</td>\n",
       "      <td>0.489476</td>\n",
       "      <td>Google employees are adding 'Lady' to their jo...</td>\n",
       "      <td>More than 800 members of Google's staff are st...</td>\n",
       "      <td>0.489476</td>\n",
       "      <td>0.012614</td>\n",
       "      <td>0.012413</td>\n",
       "    </tr>\n",
       "  </tbody>\n",
       "</table>\n",
       "</div>"
      ],
      "text/plain": [
       "   item_index   score_x                                              title  \\\n",
       "0         819  1.000000  Building A Better Workforce: 5 Talent Trends W...   \n",
       "1         620  0.524865                                      Game of Loans   \n",
       "2        1500  0.522644  \"It's time for self-directed 'smart' investing...   \n",
       "3         209  0.491697                Building on Slack Saved Our Startup   \n",
       "4        1728  0.489476  Google employees are adding 'Lady' to their jo...   \n",
       "\n",
       "                                    text_description  \\\n",
       "0  As we take a look forward at what's new and wh...   \n",
       "1  As Queen-Mother Cersei undertook her walk of s...   \n",
       "2  I recently had the chance to speak to Swanest ...   \n",
       "3  From the start, we did everything right with T...   \n",
       "4  More than 800 members of Google's staff are st...   \n",
       "\n",
       "   collaborative_score_normalized   score_y  content_score_normalized  \n",
       "0                        1.000000  0.021786                  0.021587  \n",
       "1                        0.524865  0.007584                  0.007382  \n",
       "2                        0.522644  0.010305                  0.010104  \n",
       "3                        0.491697  0.027596                  0.027398  \n",
       "4                        0.489476  0.012614                  0.012413  "
      ]
     },
     "execution_count": 240,
     "metadata": {},
     "output_type": "execute_result"
    }
   ],
   "source": [
    "hybrid_output.head()"
   ]
  },
  {
   "cell_type": "code",
   "execution_count": 241,
   "metadata": {
    "colab": {
     "base_uri": "https://localhost:8080/",
     "height": 206
    },
    "id": "Yn1fyQX6o14e",
    "outputId": "4636f99d-450a-4d49-f7a4-b287dfeda6f5",
    "scrolled": false
   },
   "outputs": [
    {
     "data": {
      "text/html": [
       "<div>\n",
       "<style scoped>\n",
       "    .dataframe tbody tr th:only-of-type {\n",
       "        vertical-align: middle;\n",
       "    }\n",
       "\n",
       "    .dataframe tbody tr th {\n",
       "        vertical-align: top;\n",
       "    }\n",
       "\n",
       "    .dataframe thead th {\n",
       "        text-align: right;\n",
       "    }\n",
       "</style>\n",
       "<table border=\"1\" class=\"dataframe\">\n",
       "  <thead>\n",
       "    <tr style=\"text-align: right;\">\n",
       "      <th></th>\n",
       "      <th>score_x</th>\n",
       "      <th>collaborative_score_normalized</th>\n",
       "      <th>score_y</th>\n",
       "      <th>content_score_normalized</th>\n",
       "    </tr>\n",
       "  </thead>\n",
       "  <tbody>\n",
       "    <tr>\n",
       "      <th>0</th>\n",
       "      <td>1.000000</td>\n",
       "      <td>1.000000</td>\n",
       "      <td>0.021786</td>\n",
       "      <td>0.021587</td>\n",
       "    </tr>\n",
       "    <tr>\n",
       "      <th>1</th>\n",
       "      <td>0.524865</td>\n",
       "      <td>0.524865</td>\n",
       "      <td>0.007584</td>\n",
       "      <td>0.007382</td>\n",
       "    </tr>\n",
       "    <tr>\n",
       "      <th>2</th>\n",
       "      <td>0.522644</td>\n",
       "      <td>0.522644</td>\n",
       "      <td>0.010305</td>\n",
       "      <td>0.010104</td>\n",
       "    </tr>\n",
       "    <tr>\n",
       "      <th>3</th>\n",
       "      <td>0.491697</td>\n",
       "      <td>0.491697</td>\n",
       "      <td>0.027596</td>\n",
       "      <td>0.027398</td>\n",
       "    </tr>\n",
       "    <tr>\n",
       "      <th>4</th>\n",
       "      <td>0.489476</td>\n",
       "      <td>0.489476</td>\n",
       "      <td>0.012614</td>\n",
       "      <td>0.012413</td>\n",
       "    </tr>\n",
       "  </tbody>\n",
       "</table>\n",
       "</div>"
      ],
      "text/plain": [
       "    score_x  collaborative_score_normalized   score_y  \\\n",
       "0  1.000000                        1.000000  0.021786   \n",
       "1  0.524865                        0.524865  0.007584   \n",
       "2  0.522644                        0.522644  0.010305   \n",
       "3  0.491697                        0.491697  0.027596   \n",
       "4  0.489476                        0.489476  0.012614   \n",
       "\n",
       "   content_score_normalized  \n",
       "0                  0.021587  \n",
       "1                  0.007382  \n",
       "2                  0.010104  \n",
       "3                  0.027398  \n",
       "4                  0.012413  "
      ]
     },
     "execution_count": 241,
     "metadata": {},
     "output_type": "execute_result"
    }
   ],
   "source": [
    "# show only the required columns\n",
    "hybrid_output[[\"score_x\",\"collaborative_score_normalized\", \"score_y\", \"content_score_normalized\"]].head()"
   ]
  },
  {
   "cell_type": "code",
   "execution_count": null,
   "metadata": {
    "id": "8q3IOTHCo14f"
   },
   "outputs": [],
   "source": []
  },
  {
   "cell_type": "markdown",
   "metadata": {
    "id": "6tMkicLto14f"
   },
   "source": [
    "### Calculated the weighted average of two models:\n",
    "- Here equal weight is given to both the models, hence became simple average."
   ]
  },
  {
   "cell_type": "code",
   "execution_count": 242,
   "metadata": {
    "id": "cW8eBbPvo14f"
   },
   "outputs": [],
   "source": [
    "# take average or mean value two columns\n",
    "hybrid_output['final_score'] = (hybrid_output['collaborative_score_normalized'] + hybrid_output['content_score_normalized'])/2"
   ]
  },
  {
   "cell_type": "code",
   "execution_count": 243,
   "metadata": {
    "colab": {
     "base_uri": "https://localhost:8080/",
     "height": 424
    },
    "id": "6lvDT85Uo14f",
    "outputId": "ea592579-b001-4ef9-d38e-c2fbd1d67d29",
    "scrolled": false
   },
   "outputs": [
    {
     "data": {
      "text/html": [
       "<div>\n",
       "<style scoped>\n",
       "    .dataframe tbody tr th:only-of-type {\n",
       "        vertical-align: middle;\n",
       "    }\n",
       "\n",
       "    .dataframe tbody tr th {\n",
       "        vertical-align: top;\n",
       "    }\n",
       "\n",
       "    .dataframe thead th {\n",
       "        text-align: right;\n",
       "    }\n",
       "</style>\n",
       "<table border=\"1\" class=\"dataframe\">\n",
       "  <thead>\n",
       "    <tr style=\"text-align: right;\">\n",
       "      <th></th>\n",
       "      <th>item_index</th>\n",
       "      <th>score_x</th>\n",
       "      <th>collaborative_score_normalized</th>\n",
       "      <th>score_y</th>\n",
       "      <th>content_score_normalized</th>\n",
       "      <th>final_score</th>\n",
       "    </tr>\n",
       "  </thead>\n",
       "  <tbody>\n",
       "    <tr>\n",
       "      <th>0</th>\n",
       "      <td>819</td>\n",
       "      <td>1.000000</td>\n",
       "      <td>1.000000</td>\n",
       "      <td>0.021786</td>\n",
       "      <td>0.021587</td>\n",
       "      <td>0.510793</td>\n",
       "    </tr>\n",
       "    <tr>\n",
       "      <th>1</th>\n",
       "      <td>620</td>\n",
       "      <td>0.524865</td>\n",
       "      <td>0.524865</td>\n",
       "      <td>0.007584</td>\n",
       "      <td>0.007382</td>\n",
       "      <td>0.266123</td>\n",
       "    </tr>\n",
       "    <tr>\n",
       "      <th>2</th>\n",
       "      <td>1500</td>\n",
       "      <td>0.522644</td>\n",
       "      <td>0.522644</td>\n",
       "      <td>0.010305</td>\n",
       "      <td>0.010104</td>\n",
       "      <td>0.266374</td>\n",
       "    </tr>\n",
       "    <tr>\n",
       "      <th>3</th>\n",
       "      <td>209</td>\n",
       "      <td>0.491697</td>\n",
       "      <td>0.491697</td>\n",
       "      <td>0.027596</td>\n",
       "      <td>0.027398</td>\n",
       "      <td>0.259547</td>\n",
       "    </tr>\n",
       "    <tr>\n",
       "      <th>4</th>\n",
       "      <td>1728</td>\n",
       "      <td>0.489476</td>\n",
       "      <td>0.489476</td>\n",
       "      <td>0.012614</td>\n",
       "      <td>0.012413</td>\n",
       "      <td>0.250945</td>\n",
       "    </tr>\n",
       "    <tr>\n",
       "      <th>...</th>\n",
       "      <td>...</td>\n",
       "      <td>...</td>\n",
       "      <td>...</td>\n",
       "      <td>...</td>\n",
       "      <td>...</td>\n",
       "      <td>...</td>\n",
       "    </tr>\n",
       "    <tr>\n",
       "      <th>2353</th>\n",
       "      <td>808</td>\n",
       "      <td>0.000000</td>\n",
       "      <td>0.000000</td>\n",
       "      <td>0.003016</td>\n",
       "      <td>0.002813</td>\n",
       "      <td>0.001406</td>\n",
       "    </tr>\n",
       "    <tr>\n",
       "      <th>2354</th>\n",
       "      <td>2059</td>\n",
       "      <td>0.000000</td>\n",
       "      <td>0.000000</td>\n",
       "      <td>0.012739</td>\n",
       "      <td>0.012538</td>\n",
       "      <td>0.006269</td>\n",
       "    </tr>\n",
       "    <tr>\n",
       "      <th>2355</th>\n",
       "      <td>810</td>\n",
       "      <td>0.000000</td>\n",
       "      <td>0.000000</td>\n",
       "      <td>0.022393</td>\n",
       "      <td>0.022194</td>\n",
       "      <td>0.011097</td>\n",
       "    </tr>\n",
       "    <tr>\n",
       "      <th>2356</th>\n",
       "      <td>2056</td>\n",
       "      <td>0.000000</td>\n",
       "      <td>0.000000</td>\n",
       "      <td>0.003073</td>\n",
       "      <td>0.002870</td>\n",
       "      <td>0.001435</td>\n",
       "    </tr>\n",
       "    <tr>\n",
       "      <th>2357</th>\n",
       "      <td>2191</td>\n",
       "      <td>0.000000</td>\n",
       "      <td>0.000000</td>\n",
       "      <td>0.004249</td>\n",
       "      <td>0.004046</td>\n",
       "      <td>0.002023</td>\n",
       "    </tr>\n",
       "  </tbody>\n",
       "</table>\n",
       "<p>2358 rows × 6 columns</p>\n",
       "</div>"
      ],
      "text/plain": [
       "      item_index   score_x  collaborative_score_normalized   score_y  \\\n",
       "0            819  1.000000                        1.000000  0.021786   \n",
       "1            620  0.524865                        0.524865  0.007584   \n",
       "2           1500  0.522644                        0.522644  0.010305   \n",
       "3            209  0.491697                        0.491697  0.027596   \n",
       "4           1728  0.489476                        0.489476  0.012614   \n",
       "...          ...       ...                             ...       ...   \n",
       "2353         808  0.000000                        0.000000  0.003016   \n",
       "2354        2059  0.000000                        0.000000  0.012739   \n",
       "2355         810  0.000000                        0.000000  0.022393   \n",
       "2356        2056  0.000000                        0.000000  0.003073   \n",
       "2357        2191  0.000000                        0.000000  0.004249   \n",
       "\n",
       "      content_score_normalized  final_score  \n",
       "0                     0.021587     0.510793  \n",
       "1                     0.007382     0.266123  \n",
       "2                     0.010104     0.266374  \n",
       "3                     0.027398     0.259547  \n",
       "4                     0.012413     0.250945  \n",
       "...                        ...          ...  \n",
       "2353                  0.002813     0.001406  \n",
       "2354                  0.012538     0.006269  \n",
       "2355                  0.022194     0.011097  \n",
       "2356                  0.002870     0.001435  \n",
       "2357                  0.004046     0.002023  \n",
       "\n",
       "[2358 rows x 6 columns]"
      ]
     },
     "execution_count": 243,
     "metadata": {},
     "output_type": "execute_result"
    }
   ],
   "source": [
    "# show only the required columns\n",
    "hybrid_output[[\"item_index\",\"score_x\",\"collaborative_score_normalized\", \"score_y\", \"content_score_normalized\",\"final_score\"]]"
   ]
  },
  {
   "cell_type": "markdown",
   "metadata": {
    "id": "BFnA80Nyo14g"
   },
   "source": [
    "## Hybrid Model 2\n",
    "### ALS User based + User based collaborative filtering:"
   ]
  },
  {
   "cell_type": "code",
   "execution_count": 244,
   "metadata": {
    "id": "T3gemysKo14g"
   },
   "outputs": [],
   "source": [
    "## User Based Collaborative Filtering with User Index 630\n",
    "## Create a dataframe from predicted data\n",
    "## assign column names \n",
    "## combine with conent dataframe to get the title for easy interpretation\n",
    "## perform the min max normalization\n",
    "\n",
    "recommended_news_df1 = pd.DataFrame(prediction_df.iloc[630].sort_values(ascending=False))\n",
    "recommended_news_df1.reset_index(inplace=True)\n",
    "# recommended_news_df1.head()\n",
    "recommended_news_df1.columns = [\"item_index\",\"score\"]\n",
    "merged_user_based1 = pd.merge(recommended_news_df1,clean_english_content,on=\"item_index\",how=\"left\")\n",
    "merged_user_based1.dropna(inplace=True)\n",
    "merged_user_based1\n",
    "merged_user_based1[\"normalized_score\"] = (merged_user_based1[\"score\"] - merged_user_based1[\"score\"].min())/(merged_user_based1[\"score\"].max()- merged_user_based1[\"score\"].min())"
   ]
  },
  {
   "cell_type": "code",
   "execution_count": 245,
   "metadata": {
    "colab": {
     "base_uri": "https://localhost:8080/",
     "height": 206
    },
    "id": "ISHbs5bGo14g",
    "outputId": "4aabd80f-8739-4163-b254-6ac3ead13134",
    "scrolled": false
   },
   "outputs": [
    {
     "data": {
      "text/html": [
       "<div>\n",
       "<style scoped>\n",
       "    .dataframe tbody tr th:only-of-type {\n",
       "        vertical-align: middle;\n",
       "    }\n",
       "\n",
       "    .dataframe tbody tr th {\n",
       "        vertical-align: top;\n",
       "    }\n",
       "\n",
       "    .dataframe thead th {\n",
       "        text-align: right;\n",
       "    }\n",
       "</style>\n",
       "<table border=\"1\" class=\"dataframe\">\n",
       "  <thead>\n",
       "    <tr style=\"text-align: right;\">\n",
       "      <th></th>\n",
       "      <th>item_index</th>\n",
       "      <th>score</th>\n",
       "      <th>title</th>\n",
       "      <th>text_description</th>\n",
       "      <th>normalized_score</th>\n",
       "    </tr>\n",
       "  </thead>\n",
       "  <tbody>\n",
       "    <tr>\n",
       "      <th>0</th>\n",
       "      <td>1199</td>\n",
       "      <td>1.716700</td>\n",
       "      <td>Lists are the new search</td>\n",
       "      <td>Hence, I always thought the most appealing par...</td>\n",
       "      <td>1.000000</td>\n",
       "    </tr>\n",
       "    <tr>\n",
       "      <th>2</th>\n",
       "      <td>2132</td>\n",
       "      <td>1.288675</td>\n",
       "      <td>IBM Watson is Working to Bring AI to the Block...</td>\n",
       "      <td>IBM is currently attempting to merge artificia...</td>\n",
       "      <td>0.750670</td>\n",
       "    </tr>\n",
       "    <tr>\n",
       "      <th>3</th>\n",
       "      <td>706</td>\n",
       "      <td>1.149782</td>\n",
       "      <td>Support your Gmail users more easily with reva...</td>\n",
       "      <td>If you've ever had to troubleshoot your Gmail ...</td>\n",
       "      <td>0.669763</td>\n",
       "    </tr>\n",
       "    <tr>\n",
       "      <th>5</th>\n",
       "      <td>1144</td>\n",
       "      <td>1.000000</td>\n",
       "      <td>Leaf - Machine Learning for Hackers</td>\n",
       "      <td>Our life is frittered away by detail. Simplify...</td>\n",
       "      <td>0.582513</td>\n",
       "    </tr>\n",
       "    <tr>\n",
       "      <th>6</th>\n",
       "      <td>644</td>\n",
       "      <td>0.980581</td>\n",
       "      <td>Google Cloud Goes to the Farm</td>\n",
       "      <td>The use of big data techniques to aggregate an...</td>\n",
       "      <td>0.571201</td>\n",
       "    </tr>\n",
       "  </tbody>\n",
       "</table>\n",
       "</div>"
      ],
      "text/plain": [
       "   item_index     score                                              title  \\\n",
       "0        1199  1.716700                           Lists are the new search   \n",
       "2        2132  1.288675  IBM Watson is Working to Bring AI to the Block...   \n",
       "3         706  1.149782  Support your Gmail users more easily with reva...   \n",
       "5        1144  1.000000                Leaf - Machine Learning for Hackers   \n",
       "6         644  0.980581                      Google Cloud Goes to the Farm   \n",
       "\n",
       "                                    text_description  normalized_score  \n",
       "0  Hence, I always thought the most appealing par...          1.000000  \n",
       "2  IBM is currently attempting to merge artificia...          0.750670  \n",
       "3  If you've ever had to troubleshoot your Gmail ...          0.669763  \n",
       "5  Our life is frittered away by detail. Simplify...          0.582513  \n",
       "6  The use of big data techniques to aggregate an...          0.571201  "
      ]
     },
     "execution_count": 245,
     "metadata": {},
     "output_type": "execute_result"
    }
   ],
   "source": [
    "merged_user_based1.head()"
   ]
  },
  {
   "cell_type": "markdown",
   "metadata": {
    "id": "qg-j-5Tuo14g"
   },
   "source": [
    "#### Merge 2 dataframe:  User based CF and  ALS User Based:"
   ]
  },
  {
   "cell_type": "code",
   "execution_count": 246,
   "metadata": {
    "id": "1FgDuAfDo14h"
   },
   "outputs": [],
   "source": [
    "# merge User based CF output and ALS usr based output\n",
    "hybrid_output_als_user = pd.merge(merged_user_based1,merged_als, how='left', on='item_index').fillna(0)"
   ]
  },
  {
   "cell_type": "code",
   "execution_count": 247,
   "metadata": {
    "id": "Y9ibhMuKo14h"
   },
   "outputs": [],
   "source": [
    "# create the final score by taking mean of both the normalized score.\n",
    "hybrid_output_als_user[\"final_score\"] = (hybrid_output_als_user[\"normalized_score\"]+hybrid_output_als_user[\"normalized_als_score\"])/2"
   ]
  },
  {
   "cell_type": "code",
   "execution_count": 248,
   "metadata": {
    "colab": {
     "base_uri": "https://localhost:8080/",
     "height": 175
    },
    "id": "zj16OXzPo14h",
    "outputId": "ad3307e2-3a9d-4d09-eca1-e78a883dff70",
    "scrolled": true
   },
   "outputs": [
    {
     "data": {
      "text/html": [
       "<div>\n",
       "<style scoped>\n",
       "    .dataframe tbody tr th:only-of-type {\n",
       "        vertical-align: middle;\n",
       "    }\n",
       "\n",
       "    .dataframe tbody tr th {\n",
       "        vertical-align: top;\n",
       "    }\n",
       "\n",
       "    .dataframe thead th {\n",
       "        text-align: right;\n",
       "    }\n",
       "</style>\n",
       "<table border=\"1\" class=\"dataframe\">\n",
       "  <thead>\n",
       "    <tr style=\"text-align: right;\">\n",
       "      <th></th>\n",
       "      <th>item_index</th>\n",
       "      <th>title_x</th>\n",
       "      <th>final_score</th>\n",
       "    </tr>\n",
       "  </thead>\n",
       "  <tbody>\n",
       "    <tr>\n",
       "      <th>0</th>\n",
       "      <td>1199</td>\n",
       "      <td>Lists are the new search</td>\n",
       "      <td>0.500000</td>\n",
       "    </tr>\n",
       "    <tr>\n",
       "      <th>1144</th>\n",
       "      <td>826</td>\n",
       "      <td>Announcing the Acquia Engage Awards</td>\n",
       "      <td>0.500000</td>\n",
       "    </tr>\n",
       "    <tr>\n",
       "      <th>459</th>\n",
       "      <td>1795</td>\n",
       "      <td>The 7 Habits of a Highly Effective Product Owner</td>\n",
       "      <td>0.492360</td>\n",
       "    </tr>\n",
       "    <tr>\n",
       "      <th>1</th>\n",
       "      <td>2132</td>\n",
       "      <td>IBM Watson is Working to Bring AI to the Block...</td>\n",
       "      <td>0.375335</td>\n",
       "    </tr>\n",
       "  </tbody>\n",
       "</table>\n",
       "</div>"
      ],
      "text/plain": [
       "      item_index                                            title_x  \\\n",
       "0           1199                           Lists are the new search   \n",
       "1144         826                Announcing the Acquia Engage Awards   \n",
       "459         1795   The 7 Habits of a Highly Effective Product Owner   \n",
       "1           2132  IBM Watson is Working to Bring AI to the Block...   \n",
       "\n",
       "      final_score  \n",
       "0        0.500000  \n",
       "1144     0.500000  \n",
       "459      0.492360  \n",
       "1        0.375335  "
      ]
     },
     "execution_count": 248,
     "metadata": {},
     "output_type": "execute_result"
    }
   ],
   "source": [
    "# sort the final score and show the result of hybrid model\n",
    "hybrid_output_als_user.sort_values(by=\"final_score\",ascending=False)[[\"item_index\",\"title_x\",\"final_score\"]].head(4)"
   ]
  },
  {
   "cell_type": "markdown",
   "metadata": {
    "id": "QJJK2MXoo14i"
   },
   "source": [
    "## Hybrid Model 3 : ALS item based + Content Based"
   ]
  },
  {
   "cell_type": "code",
   "execution_count": 249,
   "metadata": {
    "colab": {
     "base_uri": "https://localhost:8080/",
     "height": 424
    },
    "id": "A9eXMSIDo14i",
    "outputId": "f8b1525f-eb4c-4039-a687-d335209c2c09",
    "scrolled": false
   },
   "outputs": [
    {
     "data": {
      "text/html": [
       "<div>\n",
       "<style scoped>\n",
       "    .dataframe tbody tr th:only-of-type {\n",
       "        vertical-align: middle;\n",
       "    }\n",
       "\n",
       "    .dataframe tbody tr th {\n",
       "        vertical-align: top;\n",
       "    }\n",
       "\n",
       "    .dataframe thead th {\n",
       "        text-align: right;\n",
       "    }\n",
       "</style>\n",
       "<table border=\"1\" class=\"dataframe\">\n",
       "  <thead>\n",
       "    <tr style=\"text-align: right;\">\n",
       "      <th></th>\n",
       "      <th>item_index</th>\n",
       "      <th>score</th>\n",
       "    </tr>\n",
       "  </thead>\n",
       "  <tbody>\n",
       "    <tr>\n",
       "      <th>0</th>\n",
       "      <td>1892</td>\n",
       "      <td>1.000000</td>\n",
       "    </tr>\n",
       "    <tr>\n",
       "      <th>1</th>\n",
       "      <td>270</td>\n",
       "      <td>0.621442</td>\n",
       "    </tr>\n",
       "    <tr>\n",
       "      <th>2</th>\n",
       "      <td>905</td>\n",
       "      <td>0.572446</td>\n",
       "    </tr>\n",
       "    <tr>\n",
       "      <th>3</th>\n",
       "      <td>1234</td>\n",
       "      <td>0.513893</td>\n",
       "    </tr>\n",
       "    <tr>\n",
       "      <th>4</th>\n",
       "      <td>806</td>\n",
       "      <td>0.506065</td>\n",
       "    </tr>\n",
       "    <tr>\n",
       "      <th>...</th>\n",
       "      <td>...</td>\n",
       "      <td>...</td>\n",
       "    </tr>\n",
       "    <tr>\n",
       "      <th>2982</th>\n",
       "      <td>0</td>\n",
       "      <td>0.000000</td>\n",
       "    </tr>\n",
       "    <tr>\n",
       "      <th>2983</th>\n",
       "      <td>0</td>\n",
       "      <td>0.000000</td>\n",
       "    </tr>\n",
       "    <tr>\n",
       "      <th>2984</th>\n",
       "      <td>0</td>\n",
       "      <td>0.000000</td>\n",
       "    </tr>\n",
       "    <tr>\n",
       "      <th>2985</th>\n",
       "      <td>0</td>\n",
       "      <td>0.000000</td>\n",
       "    </tr>\n",
       "    <tr>\n",
       "      <th>2986</th>\n",
       "      <td>0</td>\n",
       "      <td>0.000000</td>\n",
       "    </tr>\n",
       "  </tbody>\n",
       "</table>\n",
       "<p>2987 rows × 2 columns</p>\n",
       "</div>"
      ],
      "text/plain": [
       "      item_index     score\n",
       "0           1892  1.000000\n",
       "1            270  0.621442\n",
       "2            905  0.572446\n",
       "3           1234  0.513893\n",
       "4            806  0.506065\n",
       "...          ...       ...\n",
       "2982           0  0.000000\n",
       "2983           0  0.000000\n",
       "2984           0  0.000000\n",
       "2985           0  0.000000\n",
       "2986           0  0.000000\n",
       "\n",
       "[2987 rows x 2 columns]"
      ]
     },
     "execution_count": 249,
     "metadata": {},
     "output_type": "execute_result"
    }
   ],
   "source": [
    "#Item Index = 1892\n",
    "\n",
    "## create the dataframe from predicted data n ALS\n",
    "## assign the columns names\n",
    "\n",
    "n_recommend = 2987\n",
    "ids3,similar_items_als_1892 = model.similar_items(1892,n_recommend)\n",
    "similar_items_als_1892_df = pd.DataFrame({ \"item_index\": ids3,\"score\": similar_items_als_1892})\n",
    "\n",
    "\n",
    "#similar_items_als_1892_df = pd.DataFrame(similar_items_als_1892, columns=['item_index', 'score'])\n",
    "similar_items_als_1892_df"
   ]
  },
  {
   "cell_type": "code",
   "execution_count": 250,
   "metadata": {
    "colab": {
     "base_uri": "https://localhost:8080/",
     "height": 424
    },
    "id": "4nXn-xxZo14i",
    "outputId": "22937b23-ce5f-41b3-9ed1-b7f37c651e17",
    "scrolled": false
   },
   "outputs": [
    {
     "data": {
      "text/html": [
       "<div>\n",
       "<style scoped>\n",
       "    .dataframe tbody tr th:only-of-type {\n",
       "        vertical-align: middle;\n",
       "    }\n",
       "\n",
       "    .dataframe tbody tr th {\n",
       "        vertical-align: top;\n",
       "    }\n",
       "\n",
       "    .dataframe thead th {\n",
       "        text-align: right;\n",
       "    }\n",
       "</style>\n",
       "<table border=\"1\" class=\"dataframe\">\n",
       "  <thead>\n",
       "    <tr style=\"text-align: right;\">\n",
       "      <th></th>\n",
       "      <th>item_index</th>\n",
       "      <th>score</th>\n",
       "    </tr>\n",
       "  </thead>\n",
       "  <tbody>\n",
       "    <tr>\n",
       "      <th>0</th>\n",
       "      <td>1892</td>\n",
       "      <td>1.000000</td>\n",
       "    </tr>\n",
       "    <tr>\n",
       "      <th>1</th>\n",
       "      <td>2155</td>\n",
       "      <td>0.070225</td>\n",
       "    </tr>\n",
       "    <tr>\n",
       "      <th>2</th>\n",
       "      <td>250</td>\n",
       "      <td>0.069551</td>\n",
       "    </tr>\n",
       "    <tr>\n",
       "      <th>3</th>\n",
       "      <td>1717</td>\n",
       "      <td>0.068327</td>\n",
       "    </tr>\n",
       "    <tr>\n",
       "      <th>4</th>\n",
       "      <td>593</td>\n",
       "      <td>0.062894</td>\n",
       "    </tr>\n",
       "    <tr>\n",
       "      <th>...</th>\n",
       "      <td>...</td>\n",
       "      <td>...</td>\n",
       "    </tr>\n",
       "    <tr>\n",
       "      <th>2259</th>\n",
       "      <td>1845</td>\n",
       "      <td>0.000615</td>\n",
       "    </tr>\n",
       "    <tr>\n",
       "      <th>2260</th>\n",
       "      <td>506</td>\n",
       "      <td>0.000515</td>\n",
       "    </tr>\n",
       "    <tr>\n",
       "      <th>2261</th>\n",
       "      <td>637</td>\n",
       "      <td>0.000442</td>\n",
       "    </tr>\n",
       "    <tr>\n",
       "      <th>2262</th>\n",
       "      <td>1449</td>\n",
       "      <td>0.000298</td>\n",
       "    </tr>\n",
       "    <tr>\n",
       "      <th>2263</th>\n",
       "      <td>331</td>\n",
       "      <td>0.000204</td>\n",
       "    </tr>\n",
       "  </tbody>\n",
       "</table>\n",
       "<p>2264 rows × 2 columns</p>\n",
       "</div>"
      ],
      "text/plain": [
       "      item_index     score\n",
       "0           1892  1.000000\n",
       "1           2155  0.070225\n",
       "2            250  0.069551\n",
       "3           1717  0.068327\n",
       "4            593  0.062894\n",
       "...          ...       ...\n",
       "2259        1845  0.000615\n",
       "2260         506  0.000515\n",
       "2261         637  0.000442\n",
       "2262        1449  0.000298\n",
       "2263         331  0.000204\n",
       "\n",
       "[2264 rows x 2 columns]"
      ]
     },
     "execution_count": 250,
     "metadata": {},
     "output_type": "execute_result"
    }
   ],
   "source": [
    "## use the content based model to predict the output of item index 1892\n",
    "## create the dataframe from predicted output\n",
    "## assign the appropriate column names\n",
    "\n",
    "item1 = 1892\n",
    "content_output_1892 = news_recommendation(item1)\n",
    "news_content_1892 = pd.DataFrame(content_output_1892).reset_index()\n",
    "news_content_1892.columns= [\"item_index\",\"score\"]\n",
    "news_content_1892"
   ]
  },
  {
   "cell_type": "code",
   "execution_count": 251,
   "metadata": {
    "id": "Wil90fiJo14i"
   },
   "outputs": [],
   "source": [
    "# perform an left join and combine the both model output.\n",
    "## fill the NaN value with zero too\n",
    "\n",
    "als_content_hybrid_merge = pd.merge(similar_items_als_1892_df,news_content_1892,on=\"item_index\",how = \"left\").fillna(0)"
   ]
  },
  {
   "cell_type": "code",
   "execution_count": 252,
   "metadata": {
    "id": "-aYJG6TRo14j"
   },
   "outputs": [],
   "source": [
    "# assign the appropriate column names\n",
    "als_content_hybrid_merge.columns = [\"item_index\",\"score_als\",\"score_content\"]"
   ]
  },
  {
   "cell_type": "code",
   "execution_count": 253,
   "metadata": {
    "id": "5yjAjn6Co14j"
   },
   "outputs": [],
   "source": [
    "# perform the min max normalization of als score\n",
    "als_content_hybrid_merge[\"normalized_score_als\"] = (als_content_hybrid_merge[\"score_als\"] - als_content_hybrid_merge[\"score_als\"].min()) /(als_content_hybrid_merge[\"score_als\"].max() - als_content_hybrid_merge[\"score_als\"].min())                                    "
   ]
  },
  {
   "cell_type": "code",
   "execution_count": 254,
   "metadata": {
    "id": "JrtFxl7do14j"
   },
   "outputs": [],
   "source": [
    "# perform the min max normalization of content model score\n",
    "\n",
    "als_content_hybrid_merge[\"normalized_score_content\"] = (als_content_hybrid_merge[\"score_content\"] - als_content_hybrid_merge[\"score_content\"].min()) /(als_content_hybrid_merge[\"score_content\"].max() - als_content_hybrid_merge[\"score_content\"].min())                                    "
   ]
  },
  {
   "cell_type": "code",
   "execution_count": 255,
   "metadata": {
    "colab": {
     "base_uri": "https://localhost:8080/",
     "height": 206
    },
    "id": "A9v6Q16fo14k",
    "outputId": "a62ff1cb-56e1-46d1-b622-f0e85c65410b",
    "scrolled": false
   },
   "outputs": [
    {
     "data": {
      "text/html": [
       "<div>\n",
       "<style scoped>\n",
       "    .dataframe tbody tr th:only-of-type {\n",
       "        vertical-align: middle;\n",
       "    }\n",
       "\n",
       "    .dataframe tbody tr th {\n",
       "        vertical-align: top;\n",
       "    }\n",
       "\n",
       "    .dataframe thead th {\n",
       "        text-align: right;\n",
       "    }\n",
       "</style>\n",
       "<table border=\"1\" class=\"dataframe\">\n",
       "  <thead>\n",
       "    <tr style=\"text-align: right;\">\n",
       "      <th></th>\n",
       "      <th>item_index</th>\n",
       "      <th>score_als</th>\n",
       "      <th>score_content</th>\n",
       "      <th>normalized_score_als</th>\n",
       "      <th>normalized_score_content</th>\n",
       "    </tr>\n",
       "  </thead>\n",
       "  <tbody>\n",
       "    <tr>\n",
       "      <th>0</th>\n",
       "      <td>1892</td>\n",
       "      <td>1.000000</td>\n",
       "      <td>1.000000</td>\n",
       "      <td>1.000000</td>\n",
       "      <td>1.000000</td>\n",
       "    </tr>\n",
       "    <tr>\n",
       "      <th>1</th>\n",
       "      <td>270</td>\n",
       "      <td>0.621442</td>\n",
       "      <td>0.013332</td>\n",
       "      <td>0.715712</td>\n",
       "      <td>0.013131</td>\n",
       "    </tr>\n",
       "    <tr>\n",
       "      <th>2</th>\n",
       "      <td>905</td>\n",
       "      <td>0.572446</td>\n",
       "      <td>0.023888</td>\n",
       "      <td>0.678917</td>\n",
       "      <td>0.023689</td>\n",
       "    </tr>\n",
       "    <tr>\n",
       "      <th>3</th>\n",
       "      <td>1234</td>\n",
       "      <td>0.513893</td>\n",
       "      <td>0.007661</td>\n",
       "      <td>0.634945</td>\n",
       "      <td>0.007459</td>\n",
       "    </tr>\n",
       "    <tr>\n",
       "      <th>4</th>\n",
       "      <td>806</td>\n",
       "      <td>0.506065</td>\n",
       "      <td>0.017797</td>\n",
       "      <td>0.629066</td>\n",
       "      <td>0.017597</td>\n",
       "    </tr>\n",
       "  </tbody>\n",
       "</table>\n",
       "</div>"
      ],
      "text/plain": [
       "   item_index  score_als  score_content  normalized_score_als  \\\n",
       "0        1892   1.000000       1.000000              1.000000   \n",
       "1         270   0.621442       0.013332              0.715712   \n",
       "2         905   0.572446       0.023888              0.678917   \n",
       "3        1234   0.513893       0.007661              0.634945   \n",
       "4         806   0.506065       0.017797              0.629066   \n",
       "\n",
       "   normalized_score_content  \n",
       "0                  1.000000  \n",
       "1                  0.013131  \n",
       "2                  0.023689  \n",
       "3                  0.007459  \n",
       "4                  0.017597  "
      ]
     },
     "execution_count": 255,
     "metadata": {},
     "output_type": "execute_result"
    }
   ],
   "source": [
    "als_content_hybrid_merge.head()"
   ]
  },
  {
   "cell_type": "code",
   "execution_count": 256,
   "metadata": {
    "id": "lWLQm1H-o14k"
   },
   "outputs": [],
   "source": [
    "## Calculate the final score by taking average of both model score.\n",
    "\n",
    "als_content_hybrid_merge[\"final_score\"] = (als_content_hybrid_merge[\"normalized_score_als\"] + als_content_hybrid_merge[\"normalized_score_content\"])/2"
   ]
  },
  {
   "cell_type": "code",
   "execution_count": 257,
   "metadata": {
    "colab": {
     "base_uri": "https://localhost:8080/",
     "height": 206
    },
    "id": "y110XvxEo14k",
    "outputId": "5754eaff-d881-4f3e-c2d1-9211dd3e4485"
   },
   "outputs": [
    {
     "data": {
      "text/html": [
       "<div>\n",
       "<style scoped>\n",
       "    .dataframe tbody tr th:only-of-type {\n",
       "        vertical-align: middle;\n",
       "    }\n",
       "\n",
       "    .dataframe tbody tr th {\n",
       "        vertical-align: top;\n",
       "    }\n",
       "\n",
       "    .dataframe thead th {\n",
       "        text-align: right;\n",
       "    }\n",
       "</style>\n",
       "<table border=\"1\" class=\"dataframe\">\n",
       "  <thead>\n",
       "    <tr style=\"text-align: right;\">\n",
       "      <th></th>\n",
       "      <th>item_index</th>\n",
       "      <th>score_als</th>\n",
       "      <th>score_content</th>\n",
       "      <th>normalized_score_als</th>\n",
       "      <th>normalized_score_content</th>\n",
       "      <th>final_score</th>\n",
       "    </tr>\n",
       "  </thead>\n",
       "  <tbody>\n",
       "    <tr>\n",
       "      <th>0</th>\n",
       "      <td>1892</td>\n",
       "      <td>1.000000</td>\n",
       "      <td>1.000000</td>\n",
       "      <td>1.000000</td>\n",
       "      <td>1.000000</td>\n",
       "      <td>1.000000</td>\n",
       "    </tr>\n",
       "    <tr>\n",
       "      <th>1</th>\n",
       "      <td>270</td>\n",
       "      <td>0.621442</td>\n",
       "      <td>0.013332</td>\n",
       "      <td>0.715712</td>\n",
       "      <td>0.013131</td>\n",
       "      <td>0.364421</td>\n",
       "    </tr>\n",
       "    <tr>\n",
       "      <th>2</th>\n",
       "      <td>905</td>\n",
       "      <td>0.572446</td>\n",
       "      <td>0.023888</td>\n",
       "      <td>0.678917</td>\n",
       "      <td>0.023689</td>\n",
       "      <td>0.351303</td>\n",
       "    </tr>\n",
       "    <tr>\n",
       "      <th>3</th>\n",
       "      <td>1234</td>\n",
       "      <td>0.513893</td>\n",
       "      <td>0.007661</td>\n",
       "      <td>0.634945</td>\n",
       "      <td>0.007459</td>\n",
       "      <td>0.321202</td>\n",
       "    </tr>\n",
       "    <tr>\n",
       "      <th>4</th>\n",
       "      <td>806</td>\n",
       "      <td>0.506065</td>\n",
       "      <td>0.017797</td>\n",
       "      <td>0.629066</td>\n",
       "      <td>0.017597</td>\n",
       "      <td>0.323332</td>\n",
       "    </tr>\n",
       "  </tbody>\n",
       "</table>\n",
       "</div>"
      ],
      "text/plain": [
       "   item_index  score_als  score_content  normalized_score_als  \\\n",
       "0        1892   1.000000       1.000000              1.000000   \n",
       "1         270   0.621442       0.013332              0.715712   \n",
       "2         905   0.572446       0.023888              0.678917   \n",
       "3        1234   0.513893       0.007661              0.634945   \n",
       "4         806   0.506065       0.017797              0.629066   \n",
       "\n",
       "   normalized_score_content  final_score  \n",
       "0                  1.000000     1.000000  \n",
       "1                  0.013131     0.364421  \n",
       "2                  0.023689     0.351303  \n",
       "3                  0.007459     0.321202  \n",
       "4                  0.017597     0.323332  "
      ]
     },
     "execution_count": 257,
     "metadata": {},
     "output_type": "execute_result"
    }
   ],
   "source": [
    "als_content_hybrid_merge.head() # show the final output"
   ]
  },
  {
   "cell_type": "markdown",
   "metadata": {
    "id": "V2dAtYj2o14l"
   },
   "source": [
    "## Remove items in prediction which are already rated by User"
   ]
  },
  {
   "cell_type": "code",
   "execution_count": 258,
   "metadata": {
    "colab": {
     "base_uri": "https://localhost:8080/",
     "height": 206
    },
    "id": "0dgB72Ono14l",
    "outputId": "1cb4c1ea-e545-46dc-92b4-2402f5f46bdf",
    "scrolled": false
   },
   "outputs": [
    {
     "data": {
      "text/html": [
       "<div>\n",
       "<style scoped>\n",
       "    .dataframe tbody tr th:only-of-type {\n",
       "        vertical-align: middle;\n",
       "    }\n",
       "\n",
       "    .dataframe tbody tr th {\n",
       "        vertical-align: top;\n",
       "    }\n",
       "\n",
       "    .dataframe thead th {\n",
       "        text-align: right;\n",
       "    }\n",
       "</style>\n",
       "<table border=\"1\" class=\"dataframe\">\n",
       "  <thead>\n",
       "    <tr style=\"text-align: right;\">\n",
       "      <th></th>\n",
       "      <th>item_index</th>\n",
       "      <th>score</th>\n",
       "      <th>title</th>\n",
       "      <th>text_description</th>\n",
       "      <th>normalized_score</th>\n",
       "    </tr>\n",
       "  </thead>\n",
       "  <tbody>\n",
       "    <tr>\n",
       "      <th>0</th>\n",
       "      <td>1095</td>\n",
       "      <td>11.757130</td>\n",
       "      <td>Aggregations</td>\n",
       "      <td>Aggregations grew out of the facets module and...</td>\n",
       "      <td>1.000000</td>\n",
       "    </tr>\n",
       "    <tr>\n",
       "      <th>1</th>\n",
       "      <td>405</td>\n",
       "      <td>6.026547</td>\n",
       "      <td>\"We only hire the best\" - Signal v. Noise</td>\n",
       "      <td>\"We only hire the best\" How many times have yo...</td>\n",
       "      <td>0.512587</td>\n",
       "    </tr>\n",
       "    <tr>\n",
       "      <th>2</th>\n",
       "      <td>846</td>\n",
       "      <td>5.788066</td>\n",
       "      <td>The 24 best restaurants in New York City</td>\n",
       "      <td>Yelp/Daniel With so many restaurants to choose...</td>\n",
       "      <td>0.492303</td>\n",
       "    </tr>\n",
       "    <tr>\n",
       "      <th>3</th>\n",
       "      <td>1452</td>\n",
       "      <td>4.190029</td>\n",
       "      <td>This is the scientific reason we're addicted t...</td>\n",
       "      <td>Whether you're working in your office, walking...</td>\n",
       "      <td>0.356382</td>\n",
       "    </tr>\n",
       "    <tr>\n",
       "      <th>6</th>\n",
       "      <td>393</td>\n",
       "      <td>2.938265</td>\n",
       "      <td>Five questions boards should ask about IT in a...</td>\n",
       "      <td>CIOs, business executives, and board directors...</td>\n",
       "      <td>0.249913</td>\n",
       "    </tr>\n",
       "  </tbody>\n",
       "</table>\n",
       "</div>"
      ],
      "text/plain": [
       "   item_index      score                                              title  \\\n",
       "0        1095  11.757130                                       Aggregations   \n",
       "1         405   6.026547          \"We only hire the best\" - Signal v. Noise   \n",
       "2         846   5.788066           The 24 best restaurants in New York City   \n",
       "3        1452   4.190029  This is the scientific reason we're addicted t...   \n",
       "6         393   2.938265  Five questions boards should ask about IT in a...   \n",
       "\n",
       "                                    text_description  normalized_score  \n",
       "0  Aggregations grew out of the facets module and...          1.000000  \n",
       "1  \"We only hire the best\" How many times have yo...          0.512587  \n",
       "2  Yelp/Daniel With so many restaurants to choose...          0.492303  \n",
       "3  Whether you're working in your office, walking...          0.356382  \n",
       "6  CIOs, business executives, and board directors...          0.249913  "
      ]
     },
     "execution_count": 258,
     "metadata": {},
     "output_type": "execute_result"
    }
   ],
   "source": [
    "merged_user_based.head()"
   ]
  },
  {
   "cell_type": "markdown",
   "metadata": {
    "id": "VCrWDZ6yo14l"
   },
   "source": [
    "### Remove News items which the User has already Rated,We do not have to predict them.\n",
    "- __Once we have evaluated your model, we need to ensure that the final list of recommended items to a user does not contain any items that they have already seen.__\n",
    "\n",
    "-  __Here we can use the User based Collaborative filtering output.__"
   ]
  },
  {
   "cell_type": "code",
   "execution_count": 259,
   "metadata": {
    "id": "1g5ApbLPo14m"
   },
   "outputs": [],
   "source": [
    "# filter the data and create the dataframe of actual output\n",
    "df_user = pd.DataFrame(data_matrix_full[1891],columns=[\"ratings\"])"
   ]
  },
  {
   "cell_type": "code",
   "execution_count": 260,
   "metadata": {
    "colab": {
     "base_uri": "https://localhost:8080/"
    },
    "id": "3Ym7_ME8o14n",
    "outputId": "840c2c46-7932-4392-a6cf-111327389a9c"
   },
   "outputs": [
    {
     "data": {
      "text/plain": [
       "0.0    2975\n",
       "1.0       9\n",
       "2.0       2\n",
       "5.0       1\n",
       "Name: ratings, dtype: int64"
      ]
     },
     "execution_count": 260,
     "metadata": {},
     "output_type": "execute_result"
    }
   ],
   "source": [
    "# check how many items user has already rated in the dataset\n",
    "df_user[\"ratings\"].value_counts()"
   ]
  },
  {
   "cell_type": "code",
   "execution_count": 261,
   "metadata": {
    "colab": {
     "base_uri": "https://localhost:8080/"
    },
    "id": "RYhy-2r9o14n",
    "outputId": "08a35aba-bd82-4cff-d9d0-a2bdfe25bf23"
   },
   "outputs": [
    {
     "data": {
      "text/plain": [
       "(2987, 1)"
      ]
     },
     "execution_count": 261,
     "metadata": {},
     "output_type": "execute_result"
    }
   ],
   "source": [
    "df_user.shape "
   ]
  },
  {
   "cell_type": "code",
   "execution_count": 262,
   "metadata": {
    "id": "JJUPd3Z9o14o",
    "scrolled": true
   },
   "outputs": [],
   "source": [
    "# reset the index for continuous index\n",
    "df_user = df_user.reset_index()"
   ]
  },
  {
   "cell_type": "code",
   "execution_count": 263,
   "metadata": {
    "id": "pkJ1PklNo14o"
   },
   "outputs": [],
   "source": [
    "# assign columns names to filtered data\n",
    "df_user.columns = [\"item_index\",\"ratings\"]"
   ]
  },
  {
   "cell_type": "code",
   "execution_count": 264,
   "metadata": {
    "colab": {
     "base_uri": "https://localhost:8080/",
     "height": 206
    },
    "id": "Hr8sy87_o14o",
    "outputId": "1b889ed2-73f6-493e-da15-b56f63438358",
    "scrolled": true
   },
   "outputs": [
    {
     "data": {
      "text/html": [
       "<div>\n",
       "<style scoped>\n",
       "    .dataframe tbody tr th:only-of-type {\n",
       "        vertical-align: middle;\n",
       "    }\n",
       "\n",
       "    .dataframe tbody tr th {\n",
       "        vertical-align: top;\n",
       "    }\n",
       "\n",
       "    .dataframe thead th {\n",
       "        text-align: right;\n",
       "    }\n",
       "</style>\n",
       "<table border=\"1\" class=\"dataframe\">\n",
       "  <thead>\n",
       "    <tr style=\"text-align: right;\">\n",
       "      <th></th>\n",
       "      <th>item_index</th>\n",
       "      <th>ratings</th>\n",
       "    </tr>\n",
       "  </thead>\n",
       "  <tbody>\n",
       "    <tr>\n",
       "      <th>0</th>\n",
       "      <td>0</td>\n",
       "      <td>0.0</td>\n",
       "    </tr>\n",
       "    <tr>\n",
       "      <th>1</th>\n",
       "      <td>1</td>\n",
       "      <td>0.0</td>\n",
       "    </tr>\n",
       "    <tr>\n",
       "      <th>2</th>\n",
       "      <td>2</td>\n",
       "      <td>0.0</td>\n",
       "    </tr>\n",
       "    <tr>\n",
       "      <th>3</th>\n",
       "      <td>3</td>\n",
       "      <td>0.0</td>\n",
       "    </tr>\n",
       "    <tr>\n",
       "      <th>4</th>\n",
       "      <td>4</td>\n",
       "      <td>0.0</td>\n",
       "    </tr>\n",
       "  </tbody>\n",
       "</table>\n",
       "</div>"
      ],
      "text/plain": [
       "   item_index  ratings\n",
       "0           0      0.0\n",
       "1           1      0.0\n",
       "2           2      0.0\n",
       "3           3      0.0\n",
       "4           4      0.0"
      ]
     },
     "execution_count": 264,
     "metadata": {},
     "output_type": "execute_result"
    }
   ],
   "source": [
    "df_user.head()"
   ]
  },
  {
   "cell_type": "code",
   "execution_count": 265,
   "metadata": {
    "colab": {
     "base_uri": "https://localhost:8080/"
    },
    "id": "Sb6sLApRo14p",
    "outputId": "7738791b-0f91-46d5-db2f-cb0d1053bd7e"
   },
   "outputs": [
    {
     "data": {
      "text/plain": [
       "0.0    2975\n",
       "1.0       9\n",
       "2.0       2\n",
       "5.0       1\n",
       "Name: ratings, dtype: int64"
      ]
     },
     "execution_count": 265,
     "metadata": {},
     "output_type": "execute_result"
    }
   ],
   "source": [
    "df_user[\"ratings\"].value_counts()"
   ]
  },
  {
   "cell_type": "markdown",
   "metadata": {
    "id": "Cy42vQGOo14p"
   },
   "source": [
    "####  Consumer 819 has given rating for 63(55+4+3+1) movies out of 2987 news item.\n",
    "#### Hence we need to remove all these movies from predicted set."
   ]
  },
  {
   "cell_type": "code",
   "execution_count": 266,
   "metadata": {
    "id": "5m7gHF9To14q"
   },
   "outputs": [],
   "source": [
    "#Filter already watched movie predicted output\n",
    "merged_collab = pd.merge(merged_user_based,df_user,on=\"item_index\",how=\"left\")"
   ]
  },
  {
   "cell_type": "code",
   "execution_count": 267,
   "metadata": {
    "colab": {
     "base_uri": "https://localhost:8080/",
     "height": 206
    },
    "id": "lc5mr8Eso14q",
    "outputId": "c1c9ecab-5fee-43af-d628-7ab44ca6c196"
   },
   "outputs": [
    {
     "data": {
      "text/html": [
       "<div>\n",
       "<style scoped>\n",
       "    .dataframe tbody tr th:only-of-type {\n",
       "        vertical-align: middle;\n",
       "    }\n",
       "\n",
       "    .dataframe tbody tr th {\n",
       "        vertical-align: top;\n",
       "    }\n",
       "\n",
       "    .dataframe thead th {\n",
       "        text-align: right;\n",
       "    }\n",
       "</style>\n",
       "<table border=\"1\" class=\"dataframe\">\n",
       "  <thead>\n",
       "    <tr style=\"text-align: right;\">\n",
       "      <th></th>\n",
       "      <th>item_index</th>\n",
       "      <th>score</th>\n",
       "      <th>title</th>\n",
       "      <th>text_description</th>\n",
       "      <th>normalized_score</th>\n",
       "      <th>ratings</th>\n",
       "    </tr>\n",
       "  </thead>\n",
       "  <tbody>\n",
       "    <tr>\n",
       "      <th>0</th>\n",
       "      <td>1095</td>\n",
       "      <td>11.757130</td>\n",
       "      <td>Aggregations</td>\n",
       "      <td>Aggregations grew out of the facets module and...</td>\n",
       "      <td>1.000000</td>\n",
       "      <td>5.0</td>\n",
       "    </tr>\n",
       "    <tr>\n",
       "      <th>1</th>\n",
       "      <td>405</td>\n",
       "      <td>6.026547</td>\n",
       "      <td>\"We only hire the best\" - Signal v. Noise</td>\n",
       "      <td>\"We only hire the best\" How many times have yo...</td>\n",
       "      <td>0.512587</td>\n",
       "      <td>0.0</td>\n",
       "    </tr>\n",
       "    <tr>\n",
       "      <th>2</th>\n",
       "      <td>846</td>\n",
       "      <td>5.788066</td>\n",
       "      <td>The 24 best restaurants in New York City</td>\n",
       "      <td>Yelp/Daniel With so many restaurants to choose...</td>\n",
       "      <td>0.492303</td>\n",
       "      <td>2.0</td>\n",
       "    </tr>\n",
       "    <tr>\n",
       "      <th>3</th>\n",
       "      <td>1452</td>\n",
       "      <td>4.190029</td>\n",
       "      <td>This is the scientific reason we're addicted t...</td>\n",
       "      <td>Whether you're working in your office, walking...</td>\n",
       "      <td>0.356382</td>\n",
       "      <td>0.0</td>\n",
       "    </tr>\n",
       "    <tr>\n",
       "      <th>4</th>\n",
       "      <td>393</td>\n",
       "      <td>2.938265</td>\n",
       "      <td>Five questions boards should ask about IT in a...</td>\n",
       "      <td>CIOs, business executives, and board directors...</td>\n",
       "      <td>0.249913</td>\n",
       "      <td>0.0</td>\n",
       "    </tr>\n",
       "  </tbody>\n",
       "</table>\n",
       "</div>"
      ],
      "text/plain": [
       "   item_index      score                                              title  \\\n",
       "0        1095  11.757130                                       Aggregations   \n",
       "1         405   6.026547          \"We only hire the best\" - Signal v. Noise   \n",
       "2         846   5.788066           The 24 best restaurants in New York City   \n",
       "3        1452   4.190029  This is the scientific reason we're addicted t...   \n",
       "4         393   2.938265  Five questions boards should ask about IT in a...   \n",
       "\n",
       "                                    text_description  normalized_score  \\\n",
       "0  Aggregations grew out of the facets module and...          1.000000   \n",
       "1  \"We only hire the best\" How many times have yo...          0.512587   \n",
       "2  Yelp/Daniel With so many restaurants to choose...          0.492303   \n",
       "3  Whether you're working in your office, walking...          0.356382   \n",
       "4  CIOs, business executives, and board directors...          0.249913   \n",
       "\n",
       "   ratings  \n",
       "0      5.0  \n",
       "1      0.0  \n",
       "2      2.0  \n",
       "3      0.0  \n",
       "4      0.0  "
      ]
     },
     "execution_count": 267,
     "metadata": {},
     "output_type": "execute_result"
    }
   ],
   "source": [
    "merged_collab.head()"
   ]
  },
  {
   "cell_type": "code",
   "execution_count": 268,
   "metadata": {
    "colab": {
     "base_uri": "https://localhost:8080/"
    },
    "id": "MdpB3H3to14r",
    "outputId": "4249e7eb-1bbf-4868-e395-10745741e6cf"
   },
   "outputs": [
    {
     "data": {
      "text/plain": [
       "(2264, 6)"
      ]
     },
     "execution_count": 268,
     "metadata": {},
     "output_type": "execute_result"
    }
   ],
   "source": [
    "merged_collab.shape"
   ]
  },
  {
   "cell_type": "code",
   "execution_count": 269,
   "metadata": {
    "id": "YXChgPGKo14r"
   },
   "outputs": [],
   "source": [
    "# Drop the news items where consumer has already rated\n",
    "\n",
    "merged_collab = merged_collab.drop(merged_collab[merged_collab[\"ratings\"]>0].index)"
   ]
  },
  {
   "cell_type": "code",
   "execution_count": 270,
   "metadata": {
    "colab": {
     "base_uri": "https://localhost:8080/"
    },
    "id": "Iw67xhkho14s",
    "outputId": "480b0ba9-5bab-4e71-97fb-8170bfecb50e",
    "scrolled": true
   },
   "outputs": [
    {
     "data": {
      "text/plain": [
       "(2254, 6)"
      ]
     },
     "execution_count": 270,
     "metadata": {},
     "output_type": "execute_result"
    }
   ],
   "source": [
    "# After removing the movie the shape becomes 2219 , Few NaN values we have removed already userbased CF as \n",
    "# there was no item information in the Content Dataset.\n",
    "\n",
    "merged_collab.shape"
   ]
  },
  {
   "cell_type": "code",
   "execution_count": 271,
   "metadata": {
    "colab": {
     "base_uri": "https://localhost:8080/",
     "height": 206
    },
    "id": "b0G38XQ1o14s",
    "outputId": "791df19f-7305-4ff9-9f13-7b325121fcca",
    "scrolled": true
   },
   "outputs": [
    {
     "data": {
      "text/html": [
       "<div>\n",
       "<style scoped>\n",
       "    .dataframe tbody tr th:only-of-type {\n",
       "        vertical-align: middle;\n",
       "    }\n",
       "\n",
       "    .dataframe tbody tr th {\n",
       "        vertical-align: top;\n",
       "    }\n",
       "\n",
       "    .dataframe thead th {\n",
       "        text-align: right;\n",
       "    }\n",
       "</style>\n",
       "<table border=\"1\" class=\"dataframe\">\n",
       "  <thead>\n",
       "    <tr style=\"text-align: right;\">\n",
       "      <th></th>\n",
       "      <th>item_index</th>\n",
       "      <th>score</th>\n",
       "      <th>title</th>\n",
       "      <th>text_description</th>\n",
       "      <th>normalized_score</th>\n",
       "      <th>ratings</th>\n",
       "    </tr>\n",
       "  </thead>\n",
       "  <tbody>\n",
       "    <tr>\n",
       "      <th>1</th>\n",
       "      <td>405</td>\n",
       "      <td>6.026547</td>\n",
       "      <td>\"We only hire the best\" - Signal v. Noise</td>\n",
       "      <td>\"We only hire the best\" How many times have yo...</td>\n",
       "      <td>0.512587</td>\n",
       "      <td>0.0</td>\n",
       "    </tr>\n",
       "    <tr>\n",
       "      <th>3</th>\n",
       "      <td>1452</td>\n",
       "      <td>4.190029</td>\n",
       "      <td>This is the scientific reason we're addicted t...</td>\n",
       "      <td>Whether you're working in your office, walking...</td>\n",
       "      <td>0.356382</td>\n",
       "      <td>0.0</td>\n",
       "    </tr>\n",
       "    <tr>\n",
       "      <th>4</th>\n",
       "      <td>393</td>\n",
       "      <td>2.938265</td>\n",
       "      <td>Five questions boards should ask about IT in a...</td>\n",
       "      <td>CIOs, business executives, and board directors...</td>\n",
       "      <td>0.249913</td>\n",
       "      <td>0.0</td>\n",
       "    </tr>\n",
       "    <tr>\n",
       "      <th>5</th>\n",
       "      <td>1714</td>\n",
       "      <td>2.892826</td>\n",
       "      <td>Meet Parsey's Cousins: Syntax for 40 languages...</td>\n",
       "      <td>Just in time for ACL 2016 , we are pleased to ...</td>\n",
       "      <td>0.246049</td>\n",
       "      <td>0.0</td>\n",
       "    </tr>\n",
       "    <tr>\n",
       "      <th>6</th>\n",
       "      <td>1886</td>\n",
       "      <td>2.880690</td>\n",
       "      <td>Creating Compound Views on Android</td>\n",
       "      <td>When building complex applications, you'll oft...</td>\n",
       "      <td>0.245016</td>\n",
       "      <td>0.0</td>\n",
       "    </tr>\n",
       "  </tbody>\n",
       "</table>\n",
       "</div>"
      ],
      "text/plain": [
       "   item_index     score                                              title  \\\n",
       "1         405  6.026547          \"We only hire the best\" - Signal v. Noise   \n",
       "3        1452  4.190029  This is the scientific reason we're addicted t...   \n",
       "4         393  2.938265  Five questions boards should ask about IT in a...   \n",
       "5        1714  2.892826  Meet Parsey's Cousins: Syntax for 40 languages...   \n",
       "6        1886  2.880690                 Creating Compound Views on Android   \n",
       "\n",
       "                                    text_description  normalized_score  \\\n",
       "1  \"We only hire the best\" How many times have yo...          0.512587   \n",
       "3  Whether you're working in your office, walking...          0.356382   \n",
       "4  CIOs, business executives, and board directors...          0.249913   \n",
       "5  Just in time for ACL 2016 , we are pleased to ...          0.246049   \n",
       "6  When building complex applications, you'll oft...          0.245016   \n",
       "\n",
       "   ratings  \n",
       "1      0.0  \n",
       "3      0.0  \n",
       "4      0.0  \n",
       "5      0.0  \n",
       "6      0.0  "
      ]
     },
     "execution_count": 271,
     "metadata": {},
     "output_type": "execute_result"
    }
   ],
   "source": [
    "\n",
    "merged_collab.head()"
   ]
  },
  {
   "cell_type": "code",
   "execution_count": 272,
   "metadata": {
    "colab": {
     "base_uri": "https://localhost:8080/"
    },
    "id": "vtsuIykRo14t",
    "outputId": "910f11eb-f923-4b94-85ca-409b27ff5f03"
   },
   "outputs": [
    {
     "data": {
      "text/plain": [
       "1             \"We only hire the best\" - Signal v. Noise\n",
       "3     This is the scientific reason we're addicted t...\n",
       "4     Five questions boards should ask about IT in a...\n",
       "5     Meet Parsey's Cousins: Syntax for 40 languages...\n",
       "6                    Creating Compound Views on Android\n",
       "7     IBM Watson is Working to Bring AI to the Block...\n",
       "8     Acquia's Dev Desktop - a Drupal server for beg...\n",
       "10    Globant Recognized as a Worldwide Leader of Di...\n",
       "13       Analyzing 50k fonts using deep neural networks\n",
       "14    Nvidia announces a supercomputer aimed at deep...\n",
       "Name: title, dtype: object"
      ]
     },
     "execution_count": 272,
     "metadata": {},
     "output_type": "execute_result"
    }
   ],
   "source": [
    "##  TOP 10 recommendation after removing the entries:\n",
    "merged_collab[\"title\"][:10]"
   ]
  },
  {
   "cell_type": "markdown",
   "metadata": {
    "id": "s4DTuSR8o14t"
   },
   "source": [
    "## Conclusion :"
   ]
  },
  {
   "cell_type": "markdown",
   "metadata": {
    "id": "R8u0S6jco14u"
   },
   "source": [
    "- Content based filtering and used item index 1892 to predict top 10 news items.\n",
    "- Memory based Collaborative filtering with User Based and Item based Recommendation system\n",
    "- User Index 1891 to recommend the top 10 news items for User base\n",
    "- Next ALS model was used to predict the recommendation system with User Index 630.\n",
    "- Hybird recommendation system was experimented with combination of Uer based,item based & content based filtering.\n",
    "- Offline Evaluation techniques like MAE,RMSE,Precision@k,Global Precision@k was used to evaluate the model.\n",
    "- Along with Offline evaluation, online evaluation with human level performance can be used to evaluate the model."
   ]
  }
 ],
 "metadata": {
  "colab": {
   "collapsed_sections": [
    "-AQTI8FRo13q"
   ],
   "name": "News_Recommender_System_Avinash_kumar (3).ipynb",
   "provenance": []
  },
  "kernelspec": {
   "display_name": "Python 3 (ipykernel)",
   "language": "python",
   "name": "python3"
  },
  "language_info": {
   "codemirror_mode": {
    "name": "ipython",
    "version": 3
   },
   "file_extension": ".py",
   "mimetype": "text/x-python",
   "name": "python",
   "nbconvert_exporter": "python",
   "pygments_lexer": "ipython3",
   "version": "3.9.12"
  },
  "widgets": {
   "application/vnd.jupyter.widget-state+json": {
    "173c4b6949b3400b824203389976bef5": {
     "model_module": "@jupyter-widgets/controls",
     "model_module_version": "1.5.0",
     "model_name": "DescriptionStyleModel",
     "state": {
      "_model_module": "@jupyter-widgets/controls",
      "_model_module_version": "1.5.0",
      "_model_name": "DescriptionStyleModel",
      "_view_count": null,
      "_view_module": "@jupyter-widgets/base",
      "_view_module_version": "1.2.0",
      "_view_name": "StyleView",
      "description_width": ""
     }
    },
    "1dcc6181bd964e5fbaee10dbf6c0cbc3": {
     "model_module": "@jupyter-widgets/controls",
     "model_module_version": "1.5.0",
     "model_name": "FloatProgressModel",
     "state": {
      "_dom_classes": [],
      "_model_module": "@jupyter-widgets/controls",
      "_model_module_version": "1.5.0",
      "_model_name": "FloatProgressModel",
      "_view_count": null,
      "_view_module": "@jupyter-widgets/controls",
      "_view_module_version": "1.5.0",
      "_view_name": "ProgressView",
      "bar_style": "success",
      "description": "",
      "description_tooltip": null,
      "layout": "IPY_MODEL_22d649970ff4408f8540934873ac2eda",
      "max": 20,
      "min": 0,
      "orientation": "horizontal",
      "style": "IPY_MODEL_6a1c54c69f4345d4adf7563097c59fdc",
      "value": 20
     }
    },
    "22d649970ff4408f8540934873ac2eda": {
     "model_module": "@jupyter-widgets/base",
     "model_module_version": "1.2.0",
     "model_name": "LayoutModel",
     "state": {
      "_model_module": "@jupyter-widgets/base",
      "_model_module_version": "1.2.0",
      "_model_name": "LayoutModel",
      "_view_count": null,
      "_view_module": "@jupyter-widgets/base",
      "_view_module_version": "1.2.0",
      "_view_name": "LayoutView",
      "align_content": null,
      "align_items": null,
      "align_self": null,
      "border": null,
      "bottom": null,
      "display": null,
      "flex": null,
      "flex_flow": null,
      "grid_area": null,
      "grid_auto_columns": null,
      "grid_auto_flow": null,
      "grid_auto_rows": null,
      "grid_column": null,
      "grid_gap": null,
      "grid_row": null,
      "grid_template_areas": null,
      "grid_template_columns": null,
      "grid_template_rows": null,
      "height": null,
      "justify_content": null,
      "justify_items": null,
      "left": null,
      "margin": null,
      "max_height": null,
      "max_width": null,
      "min_height": null,
      "min_width": null,
      "object_fit": null,
      "object_position": null,
      "order": null,
      "overflow": null,
      "overflow_x": null,
      "overflow_y": null,
      "padding": null,
      "right": null,
      "top": null,
      "visibility": null,
      "width": null
     }
    },
    "332e9da17d4048f89c50b020737ebe05": {
     "model_module": "@jupyter-widgets/controls",
     "model_module_version": "1.5.0",
     "model_name": "HTMLModel",
     "state": {
      "_dom_classes": [],
      "_model_module": "@jupyter-widgets/controls",
      "_model_module_version": "1.5.0",
      "_model_name": "HTMLModel",
      "_view_count": null,
      "_view_module": "@jupyter-widgets/controls",
      "_view_module_version": "1.5.0",
      "_view_name": "HTMLView",
      "description": "",
      "description_tooltip": null,
      "layout": "IPY_MODEL_cbe16255482447a3a5034df879c09505",
      "placeholder": "​",
      "style": "IPY_MODEL_60da65eae3bd4e3c9d4d15781385c1c3",
      "value": "100%"
     }
    },
    "368244212d0743c981ed67f6d395bca1": {
     "model_module": "@jupyter-widgets/controls",
     "model_module_version": "1.5.0",
     "model_name": "HTMLModel",
     "state": {
      "_dom_classes": [],
      "_model_module": "@jupyter-widgets/controls",
      "_model_module_version": "1.5.0",
      "_model_name": "HTMLModel",
      "_view_count": null,
      "_view_module": "@jupyter-widgets/controls",
      "_view_module_version": "1.5.0",
      "_view_name": "HTMLView",
      "description": "",
      "description_tooltip": null,
      "layout": "IPY_MODEL_6599c38b779e4fa1a6d461931c53b75b",
      "placeholder": "​",
      "style": "IPY_MODEL_173c4b6949b3400b824203389976bef5",
      "value": " 20/20 [00:07&lt;00:00,  2.71it/s]"
     }
    },
    "60da65eae3bd4e3c9d4d15781385c1c3": {
     "model_module": "@jupyter-widgets/controls",
     "model_module_version": "1.5.0",
     "model_name": "DescriptionStyleModel",
     "state": {
      "_model_module": "@jupyter-widgets/controls",
      "_model_module_version": "1.5.0",
      "_model_name": "DescriptionStyleModel",
      "_view_count": null,
      "_view_module": "@jupyter-widgets/base",
      "_view_module_version": "1.2.0",
      "_view_name": "StyleView",
      "description_width": ""
     }
    },
    "6599c38b779e4fa1a6d461931c53b75b": {
     "model_module": "@jupyter-widgets/base",
     "model_module_version": "1.2.0",
     "model_name": "LayoutModel",
     "state": {
      "_model_module": "@jupyter-widgets/base",
      "_model_module_version": "1.2.0",
      "_model_name": "LayoutModel",
      "_view_count": null,
      "_view_module": "@jupyter-widgets/base",
      "_view_module_version": "1.2.0",
      "_view_name": "LayoutView",
      "align_content": null,
      "align_items": null,
      "align_self": null,
      "border": null,
      "bottom": null,
      "display": null,
      "flex": null,
      "flex_flow": null,
      "grid_area": null,
      "grid_auto_columns": null,
      "grid_auto_flow": null,
      "grid_auto_rows": null,
      "grid_column": null,
      "grid_gap": null,
      "grid_row": null,
      "grid_template_areas": null,
      "grid_template_columns": null,
      "grid_template_rows": null,
      "height": null,
      "justify_content": null,
      "justify_items": null,
      "left": null,
      "margin": null,
      "max_height": null,
      "max_width": null,
      "min_height": null,
      "min_width": null,
      "object_fit": null,
      "object_position": null,
      "order": null,
      "overflow": null,
      "overflow_x": null,
      "overflow_y": null,
      "padding": null,
      "right": null,
      "top": null,
      "visibility": null,
      "width": null
     }
    },
    "6a1c54c69f4345d4adf7563097c59fdc": {
     "model_module": "@jupyter-widgets/controls",
     "model_module_version": "1.5.0",
     "model_name": "ProgressStyleModel",
     "state": {
      "_model_module": "@jupyter-widgets/controls",
      "_model_module_version": "1.5.0",
      "_model_name": "ProgressStyleModel",
      "_view_count": null,
      "_view_module": "@jupyter-widgets/base",
      "_view_module_version": "1.2.0",
      "_view_name": "StyleView",
      "bar_color": null,
      "description_width": ""
     }
    },
    "7d3ba7d50a554ab8b7270140afadb71c": {
     "model_module": "@jupyter-widgets/controls",
     "model_module_version": "1.5.0",
     "model_name": "HBoxModel",
     "state": {
      "_dom_classes": [],
      "_model_module": "@jupyter-widgets/controls",
      "_model_module_version": "1.5.0",
      "_model_name": "HBoxModel",
      "_view_count": null,
      "_view_module": "@jupyter-widgets/controls",
      "_view_module_version": "1.5.0",
      "_view_name": "HBoxView",
      "box_style": "",
      "children": [
       "IPY_MODEL_332e9da17d4048f89c50b020737ebe05",
       "IPY_MODEL_1dcc6181bd964e5fbaee10dbf6c0cbc3",
       "IPY_MODEL_368244212d0743c981ed67f6d395bca1"
      ],
      "layout": "IPY_MODEL_9e0fc49f820f4d5ca937b615df8a5a68"
     }
    },
    "9e0fc49f820f4d5ca937b615df8a5a68": {
     "model_module": "@jupyter-widgets/base",
     "model_module_version": "1.2.0",
     "model_name": "LayoutModel",
     "state": {
      "_model_module": "@jupyter-widgets/base",
      "_model_module_version": "1.2.0",
      "_model_name": "LayoutModel",
      "_view_count": null,
      "_view_module": "@jupyter-widgets/base",
      "_view_module_version": "1.2.0",
      "_view_name": "LayoutView",
      "align_content": null,
      "align_items": null,
      "align_self": null,
      "border": null,
      "bottom": null,
      "display": null,
      "flex": null,
      "flex_flow": null,
      "grid_area": null,
      "grid_auto_columns": null,
      "grid_auto_flow": null,
      "grid_auto_rows": null,
      "grid_column": null,
      "grid_gap": null,
      "grid_row": null,
      "grid_template_areas": null,
      "grid_template_columns": null,
      "grid_template_rows": null,
      "height": null,
      "justify_content": null,
      "justify_items": null,
      "left": null,
      "margin": null,
      "max_height": null,
      "max_width": null,
      "min_height": null,
      "min_width": null,
      "object_fit": null,
      "object_position": null,
      "order": null,
      "overflow": null,
      "overflow_x": null,
      "overflow_y": null,
      "padding": null,
      "right": null,
      "top": null,
      "visibility": null,
      "width": null
     }
    },
    "cbe16255482447a3a5034df879c09505": {
     "model_module": "@jupyter-widgets/base",
     "model_module_version": "1.2.0",
     "model_name": "LayoutModel",
     "state": {
      "_model_module": "@jupyter-widgets/base",
      "_model_module_version": "1.2.0",
      "_model_name": "LayoutModel",
      "_view_count": null,
      "_view_module": "@jupyter-widgets/base",
      "_view_module_version": "1.2.0",
      "_view_name": "LayoutView",
      "align_content": null,
      "align_items": null,
      "align_self": null,
      "border": null,
      "bottom": null,
      "display": null,
      "flex": null,
      "flex_flow": null,
      "grid_area": null,
      "grid_auto_columns": null,
      "grid_auto_flow": null,
      "grid_auto_rows": null,
      "grid_column": null,
      "grid_gap": null,
      "grid_row": null,
      "grid_template_areas": null,
      "grid_template_columns": null,
      "grid_template_rows": null,
      "height": null,
      "justify_content": null,
      "justify_items": null,
      "left": null,
      "margin": null,
      "max_height": null,
      "max_width": null,
      "min_height": null,
      "min_width": null,
      "object_fit": null,
      "object_position": null,
      "order": null,
      "overflow": null,
      "overflow_x": null,
      "overflow_y": null,
      "padding": null,
      "right": null,
      "top": null,
      "visibility": null,
      "width": null
     }
    }
   }
  }
 },
 "nbformat": 4,
 "nbformat_minor": 1
}
